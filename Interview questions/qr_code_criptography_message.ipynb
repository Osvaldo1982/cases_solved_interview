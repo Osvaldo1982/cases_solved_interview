{
 "cells": [
  {
   "cell_type": "markdown",
   "metadata": {},
   "source": [
    "* https://medium.com/@luca1812/como-parsear-e-relacionar-uma-matriz-com-um-dicion%C3%A1rio-em-python-c2173ead6fe"
   ]
  },
  {
   "cell_type": "code",
   "execution_count": 5,
   "metadata": {},
   "outputs": [],
   "source": [
    "import pandas as pd\n",
    "import numpy as np"
   ]
  },
  {
   "cell_type": "code",
   "execution_count": 1,
   "metadata": {},
   "outputs": [],
   "source": [
    "qr = np.array([[1,1,1,1,1,1,0,0,0,1,1,0,0,0,0,0,0,0,1,0,0,1,0,0,0,0,0,0,0,1],\n",
    "               [1,0,0,0,0,1,0,1,0,1,0,1,1,1,0,0,1,1,0,1,0,0,0,1,1,1,0,1,0,0],\n",
    "               [1,0,1,1,0,1,0,0,0,0,0,0,0,1,0,0,1,0,0,0,1,1,0,0,0,0,0,0,0,1],\n",
    "               [1,0,1,1,0,1,0,0,0,0,1,0,1,0,0,0,0,1,1,0,0,0,0,0,0,0,0,1,0,0],\n",
    "               [1,0,0,0,0,1,0,1,1,0,1,0,0,1,0,1,0,1,0,1,0,1,1,1,0,1,0,0,0,1],\n",
    "               [1,1,1,1,1,1,0,0,0,0,1,1,0,0,0,0,0,0,0,0,0,0,0,1,0,1,0,1,0,0],\n",
    "               [0,0,0,1,0,0,0,1,0,0,0,0,1,0,0,0,0,0,0,1,1,0,0,0,0,0,0,0,0,0],\n",
    "               [1,1,0,0,0,0,0,0,0,1,1,0,0,1,1,1,0,1,0,1,0,1,1,1,0,1,0,0,1,1],\n",
    "               [0,1,1,1,0,0,0,1,0,0,0,0,0,0,0,0,0,0,0,0,0,0,0,0,0,0,1,1,1,0],\n",
    "               [1,0,1,0,0,0,0,0,0,1,0,0,0,0,0,1,0,0,0,1,0,0,0,0,1,0,0,1,0,1],\n",
    "               [1,0,0,1,1,1,0,1,0,0,1,1,1,0,0,0,1,0,0,0,0,1,1,0,0,1,0,0,0,1],\n",
    "               [1,1,0,0,1,1,0,0,0,1,0,0,0,0,1,1,0,0,0,1,0,0,0,0,0,0,0,0,0,0],\n",
    "               [0,0,1,0,0,0,0,0,0,0,1,0,0,0,0,0,0,1,0,1,0,0,1,0,0,0,0,1,0,1],\n",
    "               [0,1,0,1,0,1,1,0,0,1,0,1,1,1,0,0,0,0,0,0,0,1,0,1,0,0,0,0,0,0],\n",
    "               [0,0,0,0,0,0,1,1,0,0,0,0,1,1,0,0,1,0,1,0,0,0,0,0,0,0,1,1,0,1],\n",
    "               [0,0,0,1,0,0,0,1,1,0,0,0,0,0,1,0,0,0,0,0,0,0,1,0,1,0,0,0,0,0],\n",
    "               [0,0,0,1,0,1,0,0,0,1,0,0,0,1,0,1,1,1,1,0,1,1,1,0,0,1,1,1,1,1],\n",
    "               [0,0,0,1,0,0,1,0,0,0,1,1,0,0,0,0,0,0,0,0,0,0,1,1,0,0,1,1,1,0],\n",
    "               [0,1,1,0,0,0,0,0,0,0,0,0,1,0,0,0,1,0,0,0,0,0,0,0,0,0,1,0,0,0],\n",
    "               [0,0,0,1,1,1,1,1,0,0,0,1,0,1,1,1,0,1,1,1,0,1,0,0,1,1,0,1,1,1],\n",
    "               [0,1,0,0,1,0,0,1,1,1,0,0,0,0,1,0,0,0,0,0,0,0,1,1,1,0,0,0,1,1],\n",
    "               [0,0,0,1,0,1,0,0,0,1,1,1,1,0,0,0,0,0,0,0,1,0,0,0,0,0,0,1,0,0],\n",
    "               [0,0,0,0,0,0,1,1,0,1,0,0,0,1,1,1,0,0,1,1,0,1,0,1,0,0,0,1,0,1],\n",
    "               [0,0,1,0,1,0,1,0,0,0,0,1,0,0,0,1,0,0,1,0,0,0,1,1,0,0,0,1,0,0],\n",
    "               [0,1,0,0,1,0,0,0,0,0,0,0,0,1,1,0,0,0,0,0,0,0,0,0,1,0,1,0,0,1],\n",
    "               [0,0,0,0,0,1,1,1,0,0,1,0,0,0,0,1,1,1,0,0,0,0,0,0,1,0,0,1,0,0],\n",
    "               [0,1,0,0,0,0,0,0,0,0,0,0,1,0,0,0,0,1,0,0,1,1,0,0,1,1,0,0,1,0],\n",
    "               [0,0,1,0,0,0,0,1,1,0,0,1,0,0,0,1,0,1,0,0,0,1,0,0,0,0,1,0,0,0],\n",
    "               [1,1,0,1,0,1,0,1,0,1,0,0,0,1,0,0,0,0,0,0,0,0,0,1,1,0,1,0,0,0],\n",
    "               [1,0,0,0,0,0,0,0,0,0,0,1,0,0,1,0,1,1,0,0,0,1,0,0,0,0,1,1,0,0]])"
   ]
  },
  {
   "cell_type": "code",
   "execution_count": 3,
   "metadata": {},
   "outputs": [],
   "source": [
    "c2m = {'a': [[0, 0], [0, 0], [0, 0]], 'b': [[0, 0], [0, 0], [0, 1]], 'c': [[0, 0], [0, 0], [1, 0]],\n",
    "       'd': [[0, 0], [0, 0], [1, 1]], 'e': [[0, 0], [0, 1], [0, 0]], 'f': [[0, 0], [0, 1], [0, 1]],\n",
    "       'g': [[0, 0], [0, 1], [1, 0]], 'h': [[0, 0], [0, 1], [1, 1]], 'i': [[0, 0], [1, 0], [0, 0]],\n",
    "       'j': [[0, 0], [1, 0], [0, 1]], 'k': [[0, 0], [1, 0], [1, 0]], 'l': [[0, 0], [1, 0], [1, 1]],\n",
    "       'm': [[0, 0], [1, 1], [0, 0]], 'n': [[0, 0], [1, 1], [0, 1]], 'o': [[0, 0], [1, 1], [1, 0]],\n",
    "       'p': [[0, 0], [1, 1], [1, 1]], 'q': [[0, 1], [0, 0], [0, 0]], 'r': [[0, 1], [0, 0], [0, 1]],\n",
    "       's': [[0, 1], [0, 0], [1, 0]], 't': [[0, 1], [0, 0], [1, 1]], 'u': [[0, 1], [0, 1], [0, 0]],\n",
    "       'v': [[0, 1], [0, 1], [0, 1]], 'w': [[0, 1], [0, 1], [1, 0]], 'x': [[0, 1], [0, 1], [1, 1]],\n",
    "       'y': [[0, 1], [1, 0], [0, 0]], 'z': [[0, 1], [1, 0], [0, 1]], '0': [[0, 1], [1, 0], [1, 0]],\n",
    "       '1': [[0, 1], [1, 0], [1, 1]], '2': [[0, 1], [1, 1], [0, 0]], '3': [[0, 1], [1, 1], [0, 1]],\n",
    "       '4': [[0, 1], [1, 1], [1, 0]], '5': [[0, 1], [1, 1], [1, 1]], '6': [[1, 0], [0, 0], [0, 0]],\n",
    "       '7': [[1, 0], [0, 0], [0, 1]], '8': [[1, 0], [0, 0], [1, 0]], '9': [[1, 0], [0, 0], [1, 1]],\n",
    "       ' ': [[1, 0], [0, 1], [0, 0]], '@': [[1, 0], [0, 1], [0, 1]], '/': [[1, 0], [0, 1], [1, 0]],\n",
    "       ':': [[1, 1], [0, 0], [1, 1]], '+': [[1, 0], [1, 0], [0, 0]], '-': [[1, 0], [1, 0], [0, 1]],\n",
    "       '*': [[1, 0], [1, 0], [1, 0]], '.': [[1, 0], [1, 0], [1, 1]], '%': [[1, 0], [1, 1], [0, 0]],\n",
    "       '&': [[1, 0], [1, 1], [0, 1]], '#': [[1, 0], [1, 1], [1, 0]], '!': [[1, 0], [1, 1], [1, 1]],\n",
    "       '?': [[1, 1], [0, 0], [0, 0]], ',': [[1, 1], [0, 0], [0, 1]], ';': [[1, 1], [0, 0], [1, 0]],\n",
    "       '=': [[1, 1], [0, 1], [0, 0]], '[': [[1, 1], [0, 1], [0, 1]], ']': [[1, 1], [0, 1], [1, 0]],\n",
    "       '{': [[1, 1], [0, 1], [1, 1]], '}': [[1, 1], [1, 0], [0, 0]], '(': [[1, 1], [1, 0], [0, 1]],\n",
    "       ')': [[1, 1], [1, 0], [1, 0]], '$': [[1, 1], [1, 0], [1, 1]], '\\\\': [[1, 1], [1, 1], [0, 0]],\n",
    "       '|': [[1, 1], [1, 1], [0, 1]], '<': [[1, 1], [1, 1], [1, 0]], '>': [[1, 1], [1, 1], [1, 1]]}\n"
   ]
  },
  {
   "cell_type": "code",
   "execution_count": 23,
   "metadata": {},
   "outputs": [],
   "source": [
    "def decodifica_qr_code():\n",
    "\n",
    "    mensagem = \"\"\n",
    "    for l in range(0,30, 3): #da primeira linha até a última, com incrementos de 3.\n",
    "      for c in range(0,30, 2): #da primeira coluna até a última, com incrementos de 2.\n",
    "        if l < 6 and c < 6: #ignorando a matrix 6x6\n",
    "          ignorar = \"ignorar\"\n",
    "        else:                                     #\n",
    "          par_ordenado_1 = [ qr[l][c], qr[l][c+1]]\n",
    "          par_ordenado_2 = [ qr[l+1][c], qr[l+1][c+1]]\n",
    "          par_ordenado_3 = [ qr[l+2][c], qr[l+2][c+1]]  \n",
    "          matriz_3x2 = [ par_ordenado_1, par_ordenado_2, par_ordenado_3]\n",
    "\n",
    "\n",
    "          for chave, valor in c2m.items():\n",
    "            if matriz_3x2 == valor:\n",
    "              mensagem = mensagem + chave\n",
    "    print(mensagem)"
   ]
  },
  {
   "cell_type": "code",
   "execution_count": 24,
   "metadata": {},
   "outputs": [
    {
     "name": "stdout",
     "output_type": "stream",
     "text": [
      "eu nao temerei. eu enfrentarei meu medo. permitirei que ele passe atraves de mim. por onde o medo passou, nao havera mais nada. so eu restarei.a\n"
     ]
    }
   ],
   "source": [
    "decodifica_qr_code()"
   ]
  },
  {
   "cell_type": "code",
   "execution_count": null,
   "metadata": {},
   "outputs": [],
   "source": []
  }
 ],
 "metadata": {
  "kernelspec": {
   "display_name": "Python 3",
   "language": "python",
   "name": "python3"
  },
  "language_info": {
   "codemirror_mode": {
    "name": "ipython",
    "version": 3
   },
   "file_extension": ".py",
   "mimetype": "text/x-python",
   "name": "python",
   "nbconvert_exporter": "python",
   "pygments_lexer": "ipython3",
   "version": "3.8.3"
  },
  "latex_envs": {
   "LaTeX_envs_menu_present": true,
   "autoclose": false,
   "autocomplete": true,
   "bibliofile": "biblio.bib",
   "cite_by": "apalike",
   "current_citInitial": 1,
   "eqLabelWithNumbers": true,
   "eqNumInitial": 1,
   "hotkeys": {
    "equation": "Ctrl-E",
    "itemize": "Ctrl-I"
   },
   "labels_anchors": false,
   "latex_user_defs": false,
   "report_style_numbering": false,
   "user_envs_cfg": false
  },
  "toc": {
   "base_numbering": 1,
   "nav_menu": {},
   "number_sections": true,
   "sideBar": true,
   "skip_h1_title": false,
   "title_cell": "Table of Contents",
   "title_sidebar": "Contents",
   "toc_cell": false,
   "toc_position": {},
   "toc_section_display": true,
   "toc_window_display": false
  },
  "varInspector": {
   "cols": {
    "lenName": 16,
    "lenType": 16,
    "lenVar": 40
   },
   "kernels_config": {
    "python": {
     "delete_cmd_postfix": "",
     "delete_cmd_prefix": "del ",
     "library": "var_list.py",
     "varRefreshCmd": "print(var_dic_list())"
    },
    "r": {
     "delete_cmd_postfix": ") ",
     "delete_cmd_prefix": "rm(",
     "library": "var_list.r",
     "varRefreshCmd": "cat(var_dic_list()) "
    }
   },
   "types_to_exclude": [
    "module",
    "function",
    "builtin_function_or_method",
    "instance",
    "_Feature"
   ],
   "window_display": false
  }
 },
 "nbformat": 4,
 "nbformat_minor": 4
}
