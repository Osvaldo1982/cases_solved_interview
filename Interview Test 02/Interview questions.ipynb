{
 "cells": [
  {
   "cell_type": "markdown",
   "metadata": {},
   "source": [
    "# Interview questions"
   ]
  },
  {
   "cell_type": "markdown",
   "metadata": {},
   "source": [
    "### 1 - Given the following function \n",
    "$$ f(x,t) = e^{-\\omega t^{2}} cos( \\frac{n \\pi x}{L} ) $$\n",
    "### Find the following partial derivatives \n",
    "### a) $\\frac{\\partial f}{\\partial x}$\n",
    "Answer: \n",
    "To find the partial derivative above, we assume that t is a real constant and f just depends on x, then we derivate the expression like in univariate calculus. Using the chain rule we obtain\n",
    "$$ \\frac{\\partial f}{\\partial x} = -e^{-\\omega t^{2}} sin( \\frac{n \\pi x}{L} ) \\frac{n \\pi}{L} $$\n",
    "\n",
    "### b) $\\frac{\\partial f}{\\partial t}$\n",
    "Answer:\n",
    "Analogously to the previous item, we obtain\n",
    "$$\\frac{\\partial f}{\\partial t} = - 2 \\omega t e^{-\\omega t^{2}} cos( \\frac{n \\pi x}{L} ) $$\n",
    "\n"
   ]
  },
  {
   "cell_type": "markdown",
   "metadata": {},
   "source": [
    "### 2 - Give an example of a linear vector space (with a basis)\n",
    "Answer: \n",
    "One of the best examples of a linear vector space is the Euclidian Space. More precisely, the Euclidian space is the set of a $x_i \\in \\mathbb{R}$ where $ 1 \\leq i \\leq n$ and $ x = (x_1, x_2, ... , x_n) \\in \\mathbb{R}^{n}$. A basis is a set of values in $\\mathbb{R}^{n}$ with n elements, that generates the entire Euclidian Space and are linear independent. A basis of a linear vector space is not unique in general. For this example, a basis is a set S:\n",
    "$e_i \\in \\mathbb{R}^{n}$, where $ 1 \\leq i \\leq n, S = \\left\\{e_1, e_2, ... , e_n \\right\\}$ and, $e_1 = (1, 0,0, ..., 0), e_2 = (0, 1, 0, 0, ..., 0), ... , e_n = (0, 0, 0, ..., 0, 1)$, i.e, $e_i = (0,0, ...,0,1,0,...,0)$ be the n-tuple with all components equal to 0, except the ith, which is 1. "
   ]
  },
  {
   "cell_type": "markdown",
   "metadata": {},
   "source": [
    "### 3 - Find the inverse for the matrix A = $ \\begin{pmatrix}\n",
    "    a & b \\\\\n",
    "    c & d \n",
    "    \\end{pmatrix}$\n",
    "    \n",
    "Answer: \n",
    "To find the inverse for the matrix A. We look for scalars x, y, z, w such that\n",
    "$$ \\begin{pmatrix}\n",
    "    a & b \\\\\n",
    "    c & d \n",
    "    \\end{pmatrix} \\begin{pmatrix}\n",
    "    x & y \\\\\n",
    "    z & w \n",
    "    \\end{pmatrix} = \\begin{pmatrix}\n",
    "    1 & 0 \\\\\n",
    "    0 & 1 \n",
    "    \\end{pmatrix} \\Longleftrightarrow\t\n",
    "\\begin{pmatrix}\n",
    "    ax + bz & ay + bw \\\\\n",
    "    cx + dz & cy + dw \n",
    "    \\end{pmatrix} = \\begin{pmatrix}\n",
    "    1 & 0 \\\\\n",
    "    0 & 1 \n",
    "    \\end{pmatrix}$$\n",
    "What it means we have two linear systems to solve, \n",
    "$$ \\begin{array} aax + bz = 1 \\\\ cx + dz = 0 \\end{array} $$  and $$ \\begin{array} aay + bw = 0 \\\\ cy + dw = 1 \\end{array} $$\n",
    "we have cx = -dz and ay = - bw (1), so \n",
    "$$ ax + bz = 1 \\Longleftrightarrow a(\\frac{-dz}{c}) + bz = 1 \\Longleftrightarrow -adz + cbz = c \\Longleftrightarrow z = \\frac{-c}{ad - cb} $$\n",
    "and, \n",
    "    $$ cy + dw = 1 \\Longleftrightarrow c(\\frac{-bw}{a}) + dw = 1 \\Longleftrightarrow -cbw + adw = a \\Longleftrightarrow w = \\frac{a}{ad - cb}$$\n",
    "these equations make sense if, and only if, $det(A) = ad - bc \\neq 0 $. Replacing z and w in (1), we get \n",
    "$$ x = \\frac{d}{ad - bc}$$ and $$ y = \\frac{-b}{ad - bc }$$\n",
    "\n",
    "Lastly,\n",
    "$$ A^{-1} = \\frac{1}{det(A)} \\begin{pmatrix}\n",
    "                                d & -b \\\\\n",
    "                                -c & a\n",
    "                                \\end{pmatrix}$$"
   ]
  },
  {
   "cell_type": "markdown",
   "metadata": {},
   "source": [
    "### 4 - Give a definition and an example of a supervised learning algorithm\n",
    "\n",
    "Supervised learning (SL) is the machine learning task of learning a function that maps an input to an output based on example input-output pairs. \n",
    "\n",
    "Linear regression attempts to model the relationship between two variables by fitting a linear equation to observed data. One variable is considered to be an explanatory variable, and the other is considered to be a dependent variable. Note that, our model is $y = ax + b$, where x is a vector with n coordinates that are the number of parameters and y is the predict. $a,b$ are modeled by the method of lest-squares. This method calculates the best-fitting line for the observed data by minimizing the sum of the squares of the vertical deviations from each data point to the line (if a point lies on the fitted line exactly, then its vertical deviation is 0). Because the deviations are first squared, then summed, there are no cancellations between positive and negative values.\n",
    "\n",
    "Bellow we see an example using sklearn.\n"
   ]
  },
  {
   "cell_type": "code",
   "execution_count": 1,
   "metadata": {
    "scrolled": false
   },
   "outputs": [
    {
     "data": {
      "text/plain": [
       "<matplotlib.collections.PathCollection at 0x20d42d85280>"
      ]
     },
     "execution_count": 1,
     "metadata": {},
     "output_type": "execute_result"
    },
    {
     "data": {
      "image/png": "[encoded data removed]",
      "text/plain": [
       "<Figure size 432x288 with 1 Axes>"
      ]
     },
     "metadata": {
      "needs_background": "light"
     },
     "output_type": "display_data"
    }
   ],
   "source": [
    "import numpy as np\n",
    "import matplotlib.pyplot as plt\n",
    "\n",
    "\n",
    "#Generate linear data, whith gaussian noise \n",
    "x = 2*np.random.rand(100,1)\n",
    "y = 4 + 3*x + np.random.randn(100,1)\n",
    "plt.scatter(x,y)"
   ]
  },
  {
   "cell_type": "code",
   "execution_count": 2,
   "metadata": {
    "scrolled": false
   },
   "outputs": [
    {
     "name": "stdout",
     "output_type": "stream",
     "text": [
      "The linear regression equation is y = 3.009389256265985 * x + 3.9551501578486787\n"
     ]
    },
    {
     "data": {
      "image/png": "[encoded data removed]",
      "text/plain": [
       "<Figure size 432x288 with 1 Axes>"
      ]
     },
     "metadata": {
      "needs_background": "light"
     },
     "output_type": "display_data"
    }
   ],
   "source": [
    "#import the library, call the function and fit the data. \n",
    "from sklearn.linear_model import LinearRegression\n",
    "lin_reg = LinearRegression()\n",
    "lin_reg.fit(x,y)\n",
    "#method to get the coefficients a and b. \n",
    "angular = lin_reg.coef_[0]\n",
    "linear = lin_reg.intercept_\n",
    "#Plot the graph \n",
    "reta = angular*x + linear\n",
    "plt.scatter(x,y);\n",
    "plt.plot(x, reta,'r--', label='y(x)', color='red');\n",
    "plt.axis([0,2,0,15]);\n",
    "plt.xlabel('X');\n",
    "plt.ylabel('Y');\n",
    "plt.legend();\n",
    "\n",
    "print(f'The linear regression equation is y = {float(angular)} * x + {float(linear)}')"
   ]
  },
  {
   "cell_type": "markdown",
   "metadata": {},
   "source": [
    "### 5 - Give a definition and an example of a unsupervised learning algorithm\n",
    "Unsupervised learning (UL) is a type of algorithm that learns patterns from untagged data. It's just the opposite from the class of supervised models. Here we don't now the output and with these models we expected find implicit relationships between variables. \n",
    "\n",
    "To illustrate, we will use the sklearn library to quantize colors using the algorithm k-means clustering wich is a method of vector quantization, originally from signal processing, that aims to partition n observations into k clusters in which each observation belongs to the cluster with the nearest mean (cluster centers or cluster centroid), serving as a prototype of the cluster."
   ]
  },
  {
   "cell_type": "code",
   "execution_count": 13,
   "metadata": {},
   "outputs": [
    {
     "data": {
      "text/plain": [
       "-1"
      ]
     },
     "execution_count": 13,
     "metadata": {},
     "output_type": "execute_result"
    }
   ],
   "source": [
    "from sklearn.cluster import KMeans\n",
    "from sklearn.utils import shuffle\n",
    "import cv2 as cv\n",
    "\n",
    "#Reading the image and setting the amount of colors after quantization using the k-means algorithm;\n",
    "image = cv.imread('bird_1.jpg')\n",
    "colors = 16\n",
    "cv.imshow('img',image)\n",
    "cv.waitKey()\n",
    "\n",
    "#Image normalization;\n",
    "img_normal = np.reshape(image, (-1, 3))\n",
    "img_normal = img_normal / 255\n",
    "\n",
    "#Model adjustment and training;\n",
    "img_train = shuffle(img_normal, random_state=0)\n",
    "kmeans = KMeans(n_clusters=colors, random_state=0).fit(img_train)\n",
    "labels = kmeans.predict(img_normal)\n",
    "centers = kmeans.cluster_centers_\n",
    "\n",
    "#Results obtained and reset to default 'uint8';\n",
    "img_clusters = np.reshape(centers[labels], image.shape)\n",
    "img_clusters = np.uint8(img_clusters*255)\n",
    "cv.imshow('img_clusters',img_clusters)\n",
    "cv.waitKey()\n",
    "# cv.imwrite('img_clusters.jpg', img_clusters)"
   ]
  },
  {
   "cell_type": "markdown",
   "metadata": {},
   "source": [
    "### 6 - Name 3 types of metrics, and their formulas, used in K-Means clustering algorithm\n",
    "\n",
    "Let's present 3 types of metrics: \n",
    "\n",
    "#### Manhattan Distance:  Manhattan distance is calculated as the sum of the absolute differences between the two vectors.\n",
    "\n",
    "\n",
    "$$ dist_{x,y} := \\sum_{i=0}^{n} |x_i - y_i| $$\n",
    "\n",
    "#### Chebychev Distance: Chebychev Distance is also known as maximum value distance and is computed as the absolute magnitude of the differences between coordinate of a pair of objects\n",
    "\n",
    "$$ dist_{x,y} := max (|x_i - y_i|) $$\n",
    "\n",
    "#### Minkowski Distance: Minkowski Distance is the generalized metric distance. Note that when p=2, the distance becomes the Euclidean distance.\n",
    "\n",
    "$$ dist_{x,y} =  (\\sum_{i=1}^{n} |x_i - y_1|^p)^{\\frac{1}{p}} $$"
   ]
  },
  {
   "cell_type": "markdown",
   "metadata": {},
   "source": [
    "### 7. Name and describe any algorithm to inverte a Matrix"
   ]
  },
  {
   "cell_type": "markdown",
   "metadata": {},
   "source": [
    "A variant of Gaussian elimination called Gauss-Jordan elimination can be used for finding the inverse of a matrix. If A is $n \\times n$ then one can use row reduction to compute its inverse matrix. \n",
    "\n",
    "First, the $n \\times n$ is augmented to the right of A, forming an $n \\times 2n$ matrix with two blocks A and $I_{n \\times n}$. If A can be reduced to the identity matrix I, in this case the right block is a inverse of A.\n",
    "\n",
    "For example, consider \n",
    "\n",
    "$$ A = \\begin{pmatrix} \n",
    "        2 & -1 & 0\\\\\n",
    "        -1 & 2 & -1\\\\\n",
    "        0 & -1 & 2 \n",
    "        \\end{pmatrix}$$\n",
    "To find the inverse of this matrix, one takes the following matrix augmented by the identity and row-reduces it as a $3 \\times 6$ matrix.\n",
    "\n",
    "$$ A|I = \\begin{pmatrix} \n",
    "        2 & -1 & 0 & 1 & 0 & 0\\\\\n",
    "        -1 & 2 & -1 & 0 & 1 & 0\\\\\n",
    "        0 & -1 & 2  & 0 & 0 & 1\n",
    "        \\end{pmatrix}\n",
    "        $$\n",
    "\n",
    "By performing row operations, when the initial matrix becomes the identity matrix then the identity matrix will be called the inverse of the initial matrix.\n",
    "\n",
    "$$ I|B = \\begin{pmatrix} \n",
    "        1 & 0 & 0 & \\frac{3}{4} & \\frac{1}{2} & \\frac{1}{4}\\\\\n",
    "        0 & 1 & 0 & \\frac{1}{2} & 1 & \\frac{1}{2}\\\\\n",
    "        0 & 0 & 1  & \\frac{1}{4} & \\frac{1}{2} & \\frac{3}{4}\n",
    "        \\end{pmatrix} $$\n",
    "        \n",
    "B is the inverse of matrix A, can be denoted by B = $A^{-1}$.\n",
    "\n",
    "$$ B = \\begin{pmatrix} \n",
    "        \\frac{3}{4} & \\frac{1}{2} & \\frac{1}{4}\\\\\n",
    "        \\frac{1}{2} & 1 & \\frac{1}{2}\\\\\n",
    "        \\frac{1}{4} & \\frac{1}{2} & \\frac{3}{4}\n",
    "        \\end{pmatrix} $$\n"
   ]
  },
  {
   "cell_type": "markdown",
   "metadata": {},
   "source": [
    "### 8. Explain what is a logistic regression and give an example of application (describe it as best as you can)."
   ]
  },
  {
   "cell_type": "markdown",
   "metadata": {},
   "source": [
    "Logistic regression is a statistical technique that allows predicting binary values as a function of a sequence of independent random variables. \n",
    "\n",
    "It is commonly used to estimate the probability that an instance belongs to a certain class. Therefore, logistic regression can be seen as a binary classifier.\n",
    "\n",
    "Estimated probability logistic regression model\n",
    "\n",
    "$$ p = h_{\\theta}(x) := \\sigma(\\theta^t \\dot x)$$\n",
    "\n",
    "$$ \\sigma(t) := \\frac{1}{1+e^t} $$\n",
    "\n",
    "Logistic regression model prediction y = 0 , if p < 0,5 and y = 1 if p $\\geq$ 0,5. \n",
    "\n",
    "p is the probability of x belongs to a class \n",
    "\n",
    "y is the indicator function\n",
    "\n",
    "$\\theta_i$ are the model parameters\n",
    "\n",
    "$x_i$ is the i-th feature\n",
    "\n",
    "\n",
    "The cost function of a training instance can be defined by$ c(\\theta) =  -log(p)$, if y = 1 and,  $ c(\\theta) =  -log(1 - p)$, if y = 0.\n",
    "\n",
    "The cost function in relation to the training set is simply the average cost in relation to all training instances.\n",
    "\n",
    "$$ J(\\theta) = -\\frac{1}{m} \\sum_{i=1}^{m} [ y_i log(p_i) + (1 - y_i)log(1 - p_i)]$$\n",
    "\n",
    "Where m is the shape of x and $\\theta$.\n",
    "\n",
    "The training objective is to define the vector of parameters $\\theta$ so that the model estimates high probabilities for positive instances (y = 1) and low probabilities for negative instances (y=0).\n"
   ]
  },
  {
   "cell_type": "markdown",
   "metadata": {},
   "source": [
    "Here we will apply a logistic regression to the iris dataset. Let's predict when the flower type is iris-virginica based on petal width."
   ]
  },
  {
   "cell_type": "markdown",
   "metadata": {},
   "source": [
    "First, we import the libraries and get a vector x containing petal width and the target of this value, y. "
   ]
  },
  {
   "cell_type": "code",
   "execution_count": 4,
   "metadata": {},
   "outputs": [],
   "source": [
    "from sklearn import datasets\n",
    "import numpy as np\n",
    "import matplotlib.pyplot as plt\n",
    "import pandas as pd\n",
    "from sklearn.model_selection import train_test_split\n",
    "from sklearn.linear_model import LogisticRegression\n",
    "\n",
    "iris = datasets.load_iris()\n",
    "x = iris['data'][:, 3:]\n",
    "y = (iris['target']==2).astype(int)"
   ]
  },
  {
   "cell_type": "markdown",
   "metadata": {},
   "source": [
    "Now we split x and y into training and testing sets. We apply functions to define model parameters."
   ]
  },
  {
   "cell_type": "code",
   "execution_count": 5,
   "metadata": {},
   "outputs": [
    {
     "data": {
      "text/plain": [
       "LogisticRegression(max_iter=120)"
      ]
     },
     "execution_count": 5,
     "metadata": {},
     "output_type": "execute_result"
    }
   ],
   "source": [
    "X_train, X_test, y_train, y_test = train_test_split(x ,y, test_size=0.25)\n",
    "mymodel = LogisticRegression(max_iter=120)\n",
    "mymodel.fit(X_train,y_train)"
   ]
  },
  {
   "cell_type": "code",
   "execution_count": 6,
   "metadata": {},
   "outputs": [
    {
     "data": {
      "text/plain": [
       "0.9210526315789473"
      ]
     },
     "execution_count": 6,
     "metadata": {},
     "output_type": "execute_result"
    }
   ],
   "source": [
    "mymodel.predict(X_test)\n",
    "mymodel.score(X_test, y_test)"
   ]
  },
  {
   "cell_type": "markdown",
   "metadata": {},
   "source": [
    "mymodel.score says that the accuracy of our model when applied to test data is approximately 94%"
   ]
  },
  {
   "cell_type": "markdown",
   "metadata": {},
   "source": [
    "### 9. Describe in steps how would you perform preliminary analysis on a dataset"
   ]
  },
  {
   "cell_type": "markdown",
   "metadata": {},
   "source": [
    "In an exploratory data analysis, we have two things to do. \n",
    "\n",
    "Checking the data types is the first step, here we need to format numeric data, date data, etc. which may be in the wrong format and put it as the object it actually is."
   ]
  },
  {
   "cell_type": "markdown",
   "metadata": {},
   "source": [
    "After this step, we proceed in order to obtain dataset information. Group values ​​with certain characteristics, apply formulas to generate other columns, plot graphs for easy viewing"
   ]
  },
  {
   "cell_type": "markdown",
   "metadata": {},
   "source": [
    "For an example, in portuguese, follow the link for an exploratory dataset analysis of the FIFA 21 game data: https://github.com/felpcoder/EDA-Fifa21/blob/main/ead_fifa21.ipynb"
   ]
  },
  {
   "cell_type": "markdown",
   "metadata": {},
   "source": [
    "### 10. Given the two tables A and B, give the result for the query below\n",
    "\n",
    "SELECT A.ID, A.Name, A.Born_in, B.Instrument, B.Football_Club\n",
    "\n",
    "From A\n",
    "\n",
    "LEFT JOIN B\n",
    "\n",
    "ON A.ID = B.ID;"
   ]
  },
  {
   "cell_type": "code",
   "execution_count": 7,
   "metadata": {},
   "outputs": [],
   "source": [
    "import pandas as pd\n",
    "A = { 'ID': ['9991', '9992', '9993', '9994'], 'Name':['John', 'Paul', 'Ringo', 'George'], 'Born_in': ['Liverpool', 'Liverpool', 'Liverpool','Liverpool']}\n",
    "B = { 'ID': ['9991', '9992', '9993', '9995', '9992'], 'Instrument':['Vocal', 'Base', 'Drums', 'Guitar', 'Piano'], 'Football_club':['Liverpool', 'Liverpool', 'Liverpool', 'Arsenal', 'Liverpool'] }"
   ]
  },
  {
   "cell_type": "code",
   "execution_count": 8,
   "metadata": {},
   "outputs": [],
   "source": [
    "table_a = pd.DataFrame.from_dict(A)\n",
    "table_b = pd.DataFrame.from_dict(B)"
   ]
  },
  {
   "cell_type": "code",
   "execution_count": 9,
   "metadata": {},
   "outputs": [
    {
     "data": {
      "text/html": [
       "<div>\n",
       "<style scoped>\n",
       "    .dataframe tbody tr th:only-of-type {\n",
       "        vertical-align: middle;\n",
       "    }\n",
       "\n",
       "    .dataframe tbody tr th {\n",
       "        vertical-align: top;\n",
       "    }\n",
       "\n",
       "    .dataframe thead th {\n",
       "        text-align: right;\n",
       "    }\n",
       "</style>\n",
       "<table border=\"1\" class=\"dataframe\">\n",
       "  <thead>\n",
       "    <tr style=\"text-align: right;\">\n",
       "      <th></th>\n",
       "      <th>ID</th>\n",
       "      <th>Name</th>\n",
       "      <th>Born_in</th>\n",
       "    </tr>\n",
       "  </thead>\n",
       "  <tbody>\n",
       "    <tr>\n",
       "      <th>0</th>\n",
       "      <td>9991</td>\n",
       "      <td>John</td>\n",
       "      <td>Liverpool</td>\n",
       "    </tr>\n",
       "    <tr>\n",
       "      <th>1</th>\n",
       "      <td>9992</td>\n",
       "      <td>Paul</td>\n",
       "      <td>Liverpool</td>\n",
       "    </tr>\n",
       "    <tr>\n",
       "      <th>2</th>\n",
       "      <td>9993</td>\n",
       "      <td>Ringo</td>\n",
       "      <td>Liverpool</td>\n",
       "    </tr>\n",
       "    <tr>\n",
       "      <th>3</th>\n",
       "      <td>9994</td>\n",
       "      <td>George</td>\n",
       "      <td>Liverpool</td>\n",
       "    </tr>\n",
       "  </tbody>\n",
       "</table>\n",
       "</div>"
      ],
      "text/plain": [
       "     ID    Name    Born_in\n",
       "0  9991    John  Liverpool\n",
       "1  9992    Paul  Liverpool\n",
       "2  9993   Ringo  Liverpool\n",
       "3  9994  George  Liverpool"
      ]
     },
     "execution_count": 9,
     "metadata": {},
     "output_type": "execute_result"
    }
   ],
   "source": [
    "table_a.head()"
   ]
  },
  {
   "cell_type": "code",
   "execution_count": 10,
   "metadata": {},
   "outputs": [
    {
     "data": {
      "text/html": [
       "<div>\n",
       "<style scoped>\n",
       "    .dataframe tbody tr th:only-of-type {\n",
       "        vertical-align: middle;\n",
       "    }\n",
       "\n",
       "    .dataframe tbody tr th {\n",
       "        vertical-align: top;\n",
       "    }\n",
       "\n",
       "    .dataframe thead th {\n",
       "        text-align: right;\n",
       "    }\n",
       "</style>\n",
       "<table border=\"1\" class=\"dataframe\">\n",
       "  <thead>\n",
       "    <tr style=\"text-align: right;\">\n",
       "      <th></th>\n",
       "      <th>ID</th>\n",
       "      <th>Instrument</th>\n",
       "      <th>Football_club</th>\n",
       "    </tr>\n",
       "  </thead>\n",
       "  <tbody>\n",
       "    <tr>\n",
       "      <th>0</th>\n",
       "      <td>9991</td>\n",
       "      <td>Vocal</td>\n",
       "      <td>Liverpool</td>\n",
       "    </tr>\n",
       "    <tr>\n",
       "      <th>1</th>\n",
       "      <td>9992</td>\n",
       "      <td>Base</td>\n",
       "      <td>Liverpool</td>\n",
       "    </tr>\n",
       "    <tr>\n",
       "      <th>2</th>\n",
       "      <td>9993</td>\n",
       "      <td>Drums</td>\n",
       "      <td>Liverpool</td>\n",
       "    </tr>\n",
       "    <tr>\n",
       "      <th>3</th>\n",
       "      <td>9995</td>\n",
       "      <td>Guitar</td>\n",
       "      <td>Arsenal</td>\n",
       "    </tr>\n",
       "    <tr>\n",
       "      <th>4</th>\n",
       "      <td>9992</td>\n",
       "      <td>Piano</td>\n",
       "      <td>Liverpool</td>\n",
       "    </tr>\n",
       "  </tbody>\n",
       "</table>\n",
       "</div>"
      ],
      "text/plain": [
       "     ID Instrument Football_club\n",
       "0  9991      Vocal     Liverpool\n",
       "1  9992       Base     Liverpool\n",
       "2  9993      Drums     Liverpool\n",
       "3  9995     Guitar       Arsenal\n",
       "4  9992      Piano     Liverpool"
      ]
     },
     "execution_count": 10,
     "metadata": {},
     "output_type": "execute_result"
    }
   ],
   "source": [
    "table_b.head()"
   ]
  },
  {
   "cell_type": "markdown",
   "metadata": {},
   "source": [
    "The result of query is "
   ]
  },
  {
   "cell_type": "code",
   "execution_count": 20,
   "metadata": {},
   "outputs": [],
   "source": [
    "result = {'ID': ['9991', '9992', '9993', '9994','9992'], 'Name':['John', 'Paul', 'Ringo', 'George', 'Paul'], 'Born_in': ['Liverpool', 'Liverpool', 'Liverpool','Liverpool', 'Liverpool'], 'Instrument': ['Vocal', 'Base', 'Drums', 'Nan', 'Piano'], 'Football_club': ['Liverpool', 'Liverpool', 'Liverpool', 'Nan', 'Liverpool']   }"
   ]
  },
  {
   "cell_type": "code",
   "execution_count": 21,
   "metadata": {},
   "outputs": [],
   "source": [
    "table_result = pd.DataFrame.from_dict(result)"
   ]
  },
  {
   "cell_type": "code",
   "execution_count": 22,
   "metadata": {},
   "outputs": [
    {
     "data": {
      "text/html": [
       "<div>\n",
       "<style scoped>\n",
       "    .dataframe tbody tr th:only-of-type {\n",
       "        vertical-align: middle;\n",
       "    }\n",
       "\n",
       "    .dataframe tbody tr th {\n",
       "        vertical-align: top;\n",
       "    }\n",
       "\n",
       "    .dataframe thead th {\n",
       "        text-align: right;\n",
       "    }\n",
       "</style>\n",
       "<table border=\"1\" class=\"dataframe\">\n",
       "  <thead>\n",
       "    <tr style=\"text-align: right;\">\n",
       "      <th></th>\n",
       "      <th>ID</th>\n",
       "      <th>Name</th>\n",
       "      <th>Born_in</th>\n",
       "      <th>Instrument</th>\n",
       "      <th>Football_club</th>\n",
       "    </tr>\n",
       "  </thead>\n",
       "  <tbody>\n",
       "    <tr>\n",
       "      <th>0</th>\n",
       "      <td>9991</td>\n",
       "      <td>John</td>\n",
       "      <td>Liverpool</td>\n",
       "      <td>Vocal</td>\n",
       "      <td>Liverpool</td>\n",
       "    </tr>\n",
       "    <tr>\n",
       "      <th>1</th>\n",
       "      <td>9992</td>\n",
       "      <td>Paul</td>\n",
       "      <td>Liverpool</td>\n",
       "      <td>Base</td>\n",
       "      <td>Liverpool</td>\n",
       "    </tr>\n",
       "    <tr>\n",
       "      <th>2</th>\n",
       "      <td>9993</td>\n",
       "      <td>Ringo</td>\n",
       "      <td>Liverpool</td>\n",
       "      <td>Drums</td>\n",
       "      <td>Liverpool</td>\n",
       "    </tr>\n",
       "    <tr>\n",
       "      <th>3</th>\n",
       "      <td>9994</td>\n",
       "      <td>George</td>\n",
       "      <td>Liverpool</td>\n",
       "      <td>Nan</td>\n",
       "      <td>Nan</td>\n",
       "    </tr>\n",
       "    <tr>\n",
       "      <th>4</th>\n",
       "      <td>9992</td>\n",
       "      <td>Paul</td>\n",
       "      <td>Liverpool</td>\n",
       "      <td>Piano</td>\n",
       "      <td>Liverpool</td>\n",
       "    </tr>\n",
       "  </tbody>\n",
       "</table>\n",
       "</div>"
      ],
      "text/plain": [
       "     ID    Name    Born_in Instrument Football_club\n",
       "0  9991    John  Liverpool      Vocal     Liverpool\n",
       "1  9992    Paul  Liverpool       Base     Liverpool\n",
       "2  9993   Ringo  Liverpool      Drums     Liverpool\n",
       "3  9994  George  Liverpool        Nan           Nan\n",
       "4  9992    Paul  Liverpool      Piano     Liverpool"
      ]
     },
     "execution_count": 22,
     "metadata": {},
     "output_type": "execute_result"
    }
   ],
   "source": [
    "table_result"
   ]
  }
 ],
 "metadata": {
  "kernelspec": {
   "display_name": "Python 3",
   "language": "python",
   "name": "python3"
  },
  "language_info": {
   "codemirror_mode": {
    "name": "ipython",
    "version": 3
   },
   "file_extension": ".py",
   "mimetype": "text/x-python",
   "name": "python",
   "nbconvert_exporter": "python",
   "pygments_lexer": "ipython3",
   "version": "3.8.3"
  },
  "latex_envs": {
   "LaTeX_envs_menu_present": true,
   "autoclose": false,
   "autocomplete": true,
   "bibliofile": "biblio.bib",
   "cite_by": "apalike",
   "current_citInitial": 1,
   "eqLabelWithNumbers": true,
   "eqNumInitial": 1,
   "hotkeys": {
    "equation": "Ctrl-E",
    "itemize": "Ctrl-I"
   },
   "labels_anchors": false,
   "latex_user_defs": false,
   "report_style_numbering": false,
   "user_envs_cfg": false
  },
  "toc": {
   "base_numbering": 1,
   "nav_menu": {},
   "number_sections": true,
   "sideBar": true,
   "skip_h1_title": false,
   "title_cell": "Table of Contents",
   "title_sidebar": "Contents",
   "toc_cell": false,
   "toc_position": {},
   "toc_section_display": true,
   "toc_window_display": false
  },
  "varInspector": {
   "cols": {
    "lenName": 16,
    "lenType": 16,
    "lenVar": 40
   },
   "kernels_config": {
    "python": {
     "delete_cmd_postfix": "",
     "delete_cmd_prefix": "del ",
     "library": "var_list.py",
     "varRefreshCmd": "print(var_dic_list())"
    },
    "r": {
     "delete_cmd_postfix": ") ",
     "delete_cmd_prefix": "rm(",
     "library": "var_list.r",
     "varRefreshCmd": "cat(var_dic_list()) "
    }
   },
   "types_to_exclude": [
    "module",
    "function",
    "builtin_function_or_method",
    "instance",
    "_Feature"
   ],
   "window_display": false
  }
 },
 "nbformat": 4,
 "nbformat_minor": 4
}
