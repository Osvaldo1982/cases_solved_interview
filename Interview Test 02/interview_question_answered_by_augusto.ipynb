{
 "cells": [
  {
   "cell_type": "markdown",
   "metadata": {},
   "source": [
    "1. Lattes: http://lattes.cnpq.br/3483790291547796\n",
    "2. Linkedin: https://www.linkedin.com/in/augustosbarreto/\n",
    "3. Github: https://github.com/augustobarreto\n",
    "4. Medium: https://medium.com/@asbarreto00"
   ]
  },
  {
   "cell_type": "code",
   "execution_count": 1,
   "metadata": {
    "ExecuteTime": {
     "end_time": "2021-06-06T11:43:38.934846Z",
     "start_time": "2021-06-06T11:43:38.919908Z"
    }
   },
   "outputs": [],
   "source": [
    "import numpy as np"
   ]
  },
  {
   "cell_type": "raw",
   "metadata": {
    "ExecuteTime": {
     "end_time": "2021-06-06T11:43:58.146034Z",
     "start_time": "2021-06-06T11:43:58.130089Z"
    }
   },
   "source": [
    "# Q1 \n",
    "\n",
    "# a) (exp(-w*t^2))* (-((n*pi)/(L))*sin((n*pi*x)/(L) ) \n",
    "# b) ((2*-w*t)* exp(-w*t^2))* cos ((n*pi*x)/ (L))"
   ]
  },
  {
   "cell_type": "code",
   "execution_count": 3,
   "metadata": {
    "ExecuteTime": {
     "end_time": "2021-06-06T11:44:25.369077Z",
     "start_time": "2021-06-06T11:44:25.361170Z"
    }
   },
   "outputs": [],
   "source": [
    "# Q2 Espaço Vetorial = R3; Base Vetorial s1,s2,s3\n",
    "\n",
    "s1 = np.array([0,0,1]);\n",
    "s2 = np.array([0,1,0]);\n",
    "s3 = np.array ([0,0,1]);"
   ]
  },
  {
   "cell_type": "code",
   "execution_count": 5,
   "metadata": {
    "ExecuteTime": {
     "end_time": "2021-06-06T11:44:57.872349Z",
     "start_time": "2021-06-06T11:44:57.855368Z"
    }
   },
   "outputs": [
    {
     "name": "stdout",
     "output_type": "stream",
     "text": [
      "[[-0.2   0.1 ]\n",
      " [ 0.15 -0.05]]\n"
     ]
    }
   ],
   "source": [
    "# Q3\n",
    "\n",
    "a = 10; b = 20; c = 30; d = 40;\n",
    "\n",
    "b = np.array([[a,b],[c,d]]);\n",
    "\n",
    "inv_b = np.linalg.inv(b);\n",
    "\n",
    "print(inv_b)"
   ]
  },
  {
   "cell_type": "raw",
   "metadata": {
    "ExecuteTime": {
     "end_time": "2021-06-06T11:45:18.960870Z",
     "start_time": "2021-06-06T11:45:17.697708Z"
    }
   },
   "source": [
    "Q4 Aprendizagem Supervisionada: Treinar o modelo com base em dados \n",
    "e classes já conhecidas para extrapolar o resultado em novos dados.\n",
    "\n",
    "from sklearn.naive_bayes import GaussianNB\n",
    "\n",
    "model = GaussianNB()"
   ]
  },
  {
   "cell_type": "raw",
   "metadata": {
    "ExecuteTime": {
     "end_time": "2021-06-06T11:45:36.395306Z",
     "start_time": "2021-06-06T11:45:36.378319Z"
    }
   },
   "source": [
    "Q4 Aprendizagem Supervisionada: Treinar o modelo com base em dados \n",
    "e classes já conhecidas para extrapolar o resultado em novos dados.\n",
    "\n",
    "from sklearn.naive_bayes import GaussianNB\n",
    "\n",
    "model = GaussianNB()"
   ]
  },
  {
   "cell_type": "raw",
   "metadata": {
    "ExecuteTime": {
     "end_time": "2021-06-06T11:45:48.910375Z",
     "start_time": "2021-06-06T11:45:48.897377Z"
    }
   },
   "source": [
    "Q6\n",
    "Distância Euclidiana d = sqrt (sum (ai - bi)^2)\n",
    "Quadrado da Distância Euclidiana d = (sum (ai - bi)^2)\n",
    "Distância de Manhatam d = sum (abs(ax - bx) + abs(ay-by))"
   ]
  },
  {
   "cell_type": "raw",
   "metadata": {
    "ExecuteTime": {
     "end_time": "2021-06-06T11:47:12.361418Z",
     "start_time": "2021-06-06T11:47:12.346450Z"
    }
   },
   "source": [
    "'''\n",
    "Q7\n",
    "Método de Gauss Jordan\n",
    "1. É criada uma matriz identidade(B) de mesma dimensão da matriz(A) que deseja-se inverter.\n",
    "2. Escalona-se a matriz (A) até obter a matriz identidade, aplicando as mesmas operações na matriz B.\n",
    "3. A matriz B será a inversa de A\n",
    "'''"
   ]
  },
  {
   "cell_type": "raw",
   "metadata": {},
   "source": [
    "'''\n",
    "Q8\n",
    "Na regressão logística, a variável resposta é qualitativa nomial. \n",
    "Isso significa que ela vai nos retornar um valor dentro das n categorias que estamos relacionar com o modelo.\n",
    "Ex: Prever entre 4 variáveis (Horas de Luminosidade,Dias da Semana,Temperatura, Velocidade do Vento) qual \n",
    "a que está mais relacionada com o uso de bicicletas como meio de transporte ( Supondo que temos um dataset \n",
    "com essas 5 variáveis ).\n",
    "'''"
   ]
  },
  {
   "cell_type": "raw",
   "metadata": {},
   "source": [
    "Q9\n",
    "1. Tratamento das descontinuidades, Nan, Valores Vazios \"Preprocessamento\".\n",
    "2. Tratar os dados relacionados e não relacionados (Join, Merge..)\n",
    "3. Identificar quais as variáveis importantes para o meu modelo (pairplot);"
   ]
  },
  {
   "cell_type": "code",
   "execution_count": 11,
   "metadata": {
    "ExecuteTime": {
     "end_time": "2021-06-06T11:49:23.820392Z",
     "start_time": "2021-06-06T11:49:22.935520Z"
    }
   },
   "outputs": [
    {
     "name": "stdout",
     "output_type": "stream",
     "text": [
      "     ID    name    Born_in Instrument Football_club\n",
      "0  9991    John  Liverpool      Vocal     Liverpool\n",
      "1  9992    Paul  Liverpool       Base     Liverpool\n",
      "2  9992    Paul  Liverpool      Piano     Liverpool\n",
      "3  9993   Ringo  Liverpool      Drums     Liverpool\n",
      "4  9994  George  Liverpool        NaN           NaN\n"
     ]
    }
   ],
   "source": [
    "# Q10 - Left Outer join on SQL\n",
    "import pandas as pd\n",
    "\n",
    "tA = pd.DataFrame({ 'ID': ['9991', '9992', '9993', '9994'],\n",
    "                    'name': ['John', 'Paul', 'Ringo', 'George'],\n",
    "                    'Born_in': ['Liverpool','Liverpool','Liverpool','Liverpool']});\n",
    "\n",
    "tB = pd.DataFrame({ 'ID': ['9991', '9992', '9993', '9995','9992'],\n",
    "                    'Instrument': ['Vocal', 'Base', 'Drums', 'Guitar','Piano'],\n",
    "                    'Football_club': ['Liverpool','Liverpool','Liverpool','Arsenal','Liverpool']});\n",
    "\n",
    "print(pd.merge(tA,tB,on='ID',how='left'))"
   ]
  }
 ],
 "metadata": {
  "kernelspec": {
   "display_name": "Python 3",
   "language": "python",
   "name": "python3"
  },
  "language_info": {
   "codemirror_mode": {
    "name": "ipython",
    "version": 3
   },
   "file_extension": ".py",
   "mimetype": "text/x-python",
   "name": "python",
   "nbconvert_exporter": "python",
   "pygments_lexer": "ipython3",
   "version": "3.8.3"
  },
  "latex_envs": {
   "LaTeX_envs_menu_present": true,
   "autoclose": false,
   "autocomplete": true,
   "bibliofile": "biblio.bib",
   "cite_by": "apalike",
   "current_citInitial": 1,
   "eqLabelWithNumbers": true,
   "eqNumInitial": 1,
   "hotkeys": {
    "equation": "Ctrl-E",
    "itemize": "Ctrl-I"
   },
   "labels_anchors": false,
   "latex_user_defs": false,
   "report_style_numbering": false,
   "user_envs_cfg": false
  },
  "toc": {
   "base_numbering": 1,
   "nav_menu": {},
   "number_sections": true,
   "sideBar": true,
   "skip_h1_title": false,
   "title_cell": "Table of Contents",
   "title_sidebar": "Contents",
   "toc_cell": false,
   "toc_position": {},
   "toc_section_display": true,
   "toc_window_display": false
  },
  "varInspector": {
   "cols": {
    "lenName": 16,
    "lenType": 16,
    "lenVar": 40
   },
   "kernels_config": {
    "python": {
     "delete_cmd_postfix": "",
     "delete_cmd_prefix": "del ",
     "library": "var_list.py",
     "varRefreshCmd": "print(var_dic_list())"
    },
    "r": {
     "delete_cmd_postfix": ") ",
     "delete_cmd_prefix": "rm(",
     "library": "var_list.r",
     "varRefreshCmd": "cat(var_dic_list()) "
    }
   },
   "types_to_exclude": [
    "module",
    "function",
    "builtin_function_or_method",
    "instance",
    "_Feature"
   ],
   "window_display": false
  }
 },
 "nbformat": 4,
 "nbformat_minor": 4
}
