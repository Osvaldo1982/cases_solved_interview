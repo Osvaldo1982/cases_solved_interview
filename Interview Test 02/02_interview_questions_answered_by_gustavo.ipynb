{
 "cells": [
  {
   "cell_type": "markdown",
   "metadata": {},
   "source": [
    "# Interview Question Answers\n",
    "Author: Gustavo Fardin Monti\n",
    "\n",
    "E-mail: gustavo_m@hotmail.co.uk\n",
    "\n",
    "Telephone/Whatsapp: 027 99701 1380"
   ]
  },
  {
   "cell_type": "markdown",
   "metadata": {},
   "source": [
    "## Question 1) Given the following function\n",
    "$$ f(x,t) = e^{-\\omega t^{2}} cos(\\frac{n \\pi x}{L}) $$ "
   ]
  },
  {
   "cell_type": "markdown",
   "metadata": {},
   "source": [
    "### Find the partial derivative\n",
    "$\\frac{\\partial f}{\\partial x} $\n",
    "\n",
    "In order to find this partial derivative, we consider the variable $t$ as a fixed constant and differentiate in fuction of $x$. We also consider all the other variables (such as $\\omega$, $n$ and $L$) as constants. So the partial derivative becomes:\n",
    "\n",
    "$\\frac{\\partial f}{\\partial x} =  e^{-\\omega t^{2}} \\frac{\\partial} {\\partial x}\\big( cos(\\frac{n \\pi x}{L}) \\big) $\n",
    "\n",
    "Where the constant can be moved out of the derivative (constant multiple rule). \n",
    "\n",
    "Notice that we can simplify this derivative using the chain rule where we use the substitution:\n",
    "$ u = \\frac{n \\pi x}{L}$\n",
    "\n",
    "By doing this we can rewriter our function as $f = e^{-\\omega t^{2}} cos(u)$\n",
    "\n",
    "Next we can find $ \\frac{\\partial u}{\\partial x} = \\frac{\\partial}{\\partial x} \\frac{n \\pi x}{L} = \\frac{n \\pi}{L} \\frac{\\partial x}{\\partial x} = \\frac{n \\pi}{L}$\n",
    "\n",
    "We can also find that $ e^{-\\omega t^{2}} \\frac{\\partial f}{\\partial u} = e^{-\\omega t^{2}} \\frac{\\partial }{\\partial u} cos (u) = (e^{-\\omega t^{2}})(- sin(u))$ \n",
    "\n",
    "By the chain rule we know that $\\frac{\\partial f}{\\partial x} = e^{-\\omega t^{2}} \\frac{\\partial f}{\\partial u} \\frac{\\partial u}{\\partial x} =  e^{-\\omega t^{2}} \\frac{n \\pi}{L}(- sin(u)) = - e^{-\\omega t^{2}} \\frac{n \\pi }{L} sin(\\frac{n \\pi x}{L})$"
   ]
  },
  {
   "cell_type": "markdown",
   "metadata": {},
   "source": [
    "### Find the partial derivative\n",
    "$\\frac{\\partial f}{\\partial t} $\n",
    "\n",
    "In order to find this partial derivative, we consider the variable $x$ as a fixed constant and differentiate in function of $t$, like in the last example. We also consider all the other variables (such as $\\omega$, $n$ and $L$) as constants. So the partial derivative becomes:\n",
    "\n",
    "$\\frac{\\partial f}{\\partial t} =  cos(\\frac{n \\pi x}{L})  \\frac{\\partial}{\\partial t} e^{-\\omega t^{2}} $\n",
    "\n",
    "Where the constant can be moved out of the derivative (constant multiple rule). \n",
    "\n",
    "Notice that we can simplify this derivative using the chain rule where we use the substitution: $ u = -\\omega t^{2} $\n",
    "\n",
    "By doing this we can rewriter our function as $f = cos(\\frac{n \\pi x}{L}) e^{u}$\n",
    "\n",
    "Next we can find $ \\frac{\\partial u}{\\partial t} = - \\frac{\\partial}{\\partial t}\\omega t^{2} = - 2 \\omega t $\n",
    "\n",
    "We can also find that $ cos(\\frac{n \\pi x}{L}) \\frac{\\partial f}{\\partial u} = cos(\\frac{n \\pi x}{L}) \\frac{\\partial }{\\partial u} e^{u} = cos(\\frac{n \\pi x}{L}) e^{u}$ \n",
    "\n",
    "By the chain rule we know that $\\frac{\\partial f}{\\partial t} = cos(\\frac{n \\pi x}{L}) \\frac{\\partial f}{\\partial u} \\frac{\\partial u}{\\partial t} =  cos(\\frac{n \\pi x}{L}) - (2 \\omega t) (e^{u}) = - cos(\\frac{n \\pi x}{L}) (2 \\omega t) (e^{-\\omega t^{2}})$"
   ]
  },
  {
   "cell_type": "markdown",
   "metadata": {},
   "source": [
    "## Question 2) Give an example of a linear vector space (with a basis).\n",
    "By definition, a vector space is a non-empty set $V$, with two operations: sum and multiplication by scalars. By definition, a vector space has to satisfy a set of properties (axioms). An example of a vector space is the set of vectors $V$ given by $R^2$ where $R^2$ is given by the set $(x_1 , x_2)$ where $x_i$ belongs to the set of real numbers. This is also known as the plane vector space since it can be used to represent any point (which is represented by a pair of real numbers) on a plane as a vector, which begins at the origin and ends at the point. "
   ]
  },
  {
   "cell_type": "code",
   "execution_count": 10,
   "metadata": {},
   "outputs": [
    {
     "data": {
      "image/png": "[encoded data removed]",
      "text/plain": [
       "<Figure size 432x288 with 1 Axes>"
      ]
     },
     "metadata": {
      "needs_background": "light"
     },
     "output_type": "display_data"
    }
   ],
   "source": [
    "import matplotlib.pyplot as plt\n",
    "\n",
    "ax = plt.axes()\n",
    "\n",
    "# Plot the arrow that represents a generic vector\n",
    "ax.arrow(0, 0, 0.55, 0.55, head_width=0.05, head_length=0.07, fc='k', ec='k')\n",
    "\n",
    "# Remove axis labels, leaving only x1 and x2 marked\n",
    "ax.set_yticklabels(['','','','x2'])\n",
    "ax.set_xticklabels(['','','','x1'])\n",
    "\n",
    "# Plot the vertical and horizontal line\n",
    "plt.axvline(0.6, color='#add8e6', linestyle='dashed')\n",
    "plt.axhline(0.6, color='#add8e6', linestyle='dashed')\n",
    "\n",
    "plt.show()"
   ]
  },
  {
   "cell_type": "markdown",
   "metadata": {},
   "source": [
    "A set of vectors is a basis of $V$ by definition if the set of vectors is linearly independent and it has all the necessary values to generate $V$. For our example, we can have the basis $ \\{e_1 , e_2\\} $ where $e_1 = (1,0)$ and $e_2 = (0,1)$, which is also known as the canonical basis of the $R^2$ vector space. We can easily generate any vector by multiplying the components of this basis by two real values and adding the two."
   ]
  },
  {
   "cell_type": "markdown",
   "metadata": {},
   "source": [
    "## Question 3) Find the inverse for the matrix\n",
    "$$ A = \\begin{bmatrix} a & b \\\\ c & d \\end{bmatrix}$$"
   ]
  },
  {
   "cell_type": "markdown",
   "metadata": {},
   "source": [
    "The inverse of a $A$ is a matrix $B$ where $A \\cdot B = I_n$ where $I_n$ is the identity matrix of order $n$. We can also call the inverse matrix of $A$ as $A^{-1}$. We can find the inverse matrix using Cramer's rule. \n",
    "\n",
    "We can begin by finding the cofactor matrix of $A$. \n",
    "\n",
    "$\\overline{A} = \\begin{bmatrix} \\Delta_{1 1} & \\Delta_{2 1}  \\\\  \\Delta_{1 2} & \\Delta_{2 2} \\end{bmatrix}$ where:\n",
    "\n",
    "$ \\Delta_{i j} = (-1)^{i+j} det \\; A_{ij} $ \n",
    "\n",
    "We know that the determinant for a 1x1 matrix is given by $det([k]) = k$.\n",
    "\n",
    "where $A_{ij}$ is a submatrix of $A$ obtained by removing the $i-th$ line and $j-th$ column of $A$.\n",
    "\n",
    "We know that the determinant of $A$ is given by $det(A) = ad - bc$.\n",
    "\n",
    "We can then calculate the cofactors of $A$:\n",
    "\n",
    "$ \\Delta_{1 1} = (-1)^{1+1} det \\; (d) = d $ \n",
    "\n",
    "$ \\Delta_{1 2} = (-1)^{1+2} det \\; (c) = -b $ \n",
    "\n",
    "$ \\Delta_{2 1} = (-1)^{2+1} det \\; (b) = -c $\n",
    "\n",
    "$ \\Delta_{1 1} = (-1)^{2+2} det \\; (a) = a $ \n",
    "\n",
    "$\\overline{A} = \\begin{bmatrix} d & -b  \\\\  -c & a \\end{bmatrix}$\n",
    "\n",
    "We can conclude that the inverse is given by:\n",
    "\n",
    "$ A^{-1} = \\frac{1}{det(A)} \\overline{A} = \\frac{1}{ad - bc} \\begin{bmatrix} d & -b  \\\\  -c & a \\end{bmatrix}$\n",
    "\n",
    "if $det(A) \\ne 0$. "
   ]
  },
  {
   "cell_type": "markdown",
   "metadata": {},
   "source": [
    "## Question 4) Give a definition and an example of a supervised learning algorithm.\n",
    "A supervised learning algorithm is an algorithm capable of using observations of input-output pairs (generally called labelled data, where the output is the label) to infer a function that maps an input to output. The learning algorithm produces a model which can then be used to determine the output based on the input, which may be right or wrong (depends on the accuracy of the trained model).  This is a very broad definition, and the concept is easier to grasp with examples. \n",
    "\n",
    "An example of a supervised learning algorithm is the ID3 algorithm, which is used to infer a decision tree model to classify observations. Decision tree models are models that split the data into different classes (or labels) based on the values of attributes. Many algorithms can infer decisions trees, and ID3 is one of them. The algorithm uses a top-down greedy search approach to form splits that maximize information gain for the categorical targets. \n",
    "\n",
    "In the example below, we infer a decision tree based on four observations of two attributes stored in the variable `X`. The labels are stored in the variable `Y`. Each position of the two lists corresponds to an input-output pair (observation). We then use the inferred model to predict the label for the pair of values $(2.8, 2.8$). In this example, we use simple points of data but these models can be used for more complex classification problems."
   ]
  },
  {
   "cell_type": "code",
   "execution_count": 25,
   "metadata": {},
   "outputs": [
    {
     "name": "stdout",
     "output_type": "stream",
     "text": [
      "The input data: \n",
      " [[0, 0], [1, 1], [2, 2], [3, 3]]\n",
      "The labels (outputs) for the input data: \n",
      " [0, 1, 2, 3]\n",
      "Predicted output for the input: 2.8, 2.8 \n",
      " [3]\n"
     ]
    }
   ],
   "source": [
    "from sklearn import tree\n",
    "\n",
    "# Define four observations. Each observation is a pair of inputs.\n",
    "X = [[0,0], [1,1], [2,2], [3,3]]\n",
    "# Define the outputs associated for each pair of inputs.\n",
    "Y = [0, 1, 2, 3]\n",
    "# Build a decision tree that predicts Y using the pair of inputs X\n",
    "tree_model = tree.DecisionTreeClassifier()\n",
    "tree_model = tree_model.fit(X, Y)\n",
    "# Output the result\n",
    "print(\"The input data: \\n\", X)\n",
    "print(\"The labels (outputs) for the input data: \\n\", Y)\n",
    "print(\"Predicted output for the input: 2.8, 2.8 \\n\", tree_model.predict([[2.8,2.8]]) )\n"
   ]
  },
  {
   "cell_type": "markdown",
   "metadata": {},
   "source": [
    "## Question 5) Give a definition and an example of an unsupervised learning algorithm."
   ]
  },
  {
   "cell_type": "markdown",
   "metadata": {},
   "source": [
    "An unsupervised learning algorithm infers a model based on several inputs, without any explicit feedback (labels) being specified in the data. The algorithm must make sense of the data on \"its own\". This type of learning algorithm is common since it's not easy to find labelled data for most problems. \n",
    "\n",
    "For example, clustering algorithms are a group of algorithms that cluster data observations into groups (or clusters) based on distance and similarity of observations. An example of a very simple clustering algorithm is the K-means algorithm which splits a group of $N$ observations into $K$ disjoint clusters. Each cluster has a mean value based on the centroid of the cluster (which is generally not an actual observation point in the data). \n",
    "\n",
    "Clusters can then be visualized to better understand why the observations were grouped. This has applications in market segmentation for example. In the example below, we define a set of data points and find the cluster centers for two clusters. We can notice that the observations with $X = 0$ form one cluster and the observations with $X = 5$ form another cluster."
   ]
  },
  {
   "cell_type": "code",
   "execution_count": 11,
   "metadata": {},
   "outputs": [
    {
     "name": "stdout",
     "output_type": "stream",
     "text": [
      "Centers: \n",
      " [[5. 2.]\n",
      " [0. 2.]]\n",
      "Input data: \n",
      " [[0 1]\n",
      " [0 2]\n",
      " [0 3]\n",
      " [5 1]\n",
      " [5 2]\n",
      " [5 3]]\n",
      "Prediction of clusters: \n",
      " [1 1 1 0 0 0]\n"
     ]
    }
   ],
   "source": [
    "from sklearn.cluster import KMeans\n",
    "import numpy as np\n",
    "\n",
    "# The inputs used. There are 6 observations of a pair of inputs.\n",
    "X = np.array([[0, 1], [0, 2], [0, 3],\n",
    "              [5, 1], [5, 2], [5, 3]])\n",
    "\n",
    "# Creating the KMeans moedl with 2 clusters based on the inputs\n",
    "kmeans = KMeans(n_clusters=2).fit(X)\n",
    "\n",
    "# Clustering the observations\n",
    "Y = kmeans.predict(X)\n",
    "\n",
    "print(\"Centers: \\n\", kmeans.cluster_centers_)\n",
    "print(\"Input data: \\n\", X)\n",
    "print(\"Prediction of clusters: \\n\", Y)"
   ]
  },
  {
   "cell_type": "markdown",
   "metadata": {},
   "source": [
    "## Question 6) Name 3 types of metrics and their formulas used in the K-Means clustering algorithm.\n",
    "The metrics stated here are used to evaluate how good the clusters that were produced are. "
   ]
  },
  {
   "cell_type": "markdown",
   "metadata": {},
   "source": [
    "- Within-cluster sum of squares (WCSS): also known as inertia. The centroids are chosen based on minimizing this value. It's a measure of how internally coherent the clusters are. Given a set of $x$ of $n$ observations in the cluster $C$ described by the mean $\\mu_{j}$, the WCSS is given by:\n",
    "$$ \\sum_{i=0}^{n} min_{\\mu_{j} \\in C} (|| x_{i} - \\mu_{j}||^{2})$$"
   ]
  },
  {
   "cell_type": "markdown",
   "metadata": {},
   "source": [
    "- Davies-Boulding Index: This metric validates how well the clustering has been done by using quantities and features inherent to the dataset. For k clusters, given the intercluster distance $\\delta$ between the two clusters $X_i$ $and X_j$, and given the intracluster distance $\\Delta$ of the cluster $Xk$, the Davies-Boulding index is given by: \n",
    "$$ \\frac{1}{k} \\sum_{i=1}^{k} max_{i \\ne j} \\Big( \\frac{\\Delta ( X_i ) + \\Delta ( X_j )}{\\delta(X_i , X_j)} \\Big) $$"
   ]
  },
  {
   "cell_type": "markdown",
   "metadata": {},
   "source": [
    "- Dunn Index: The aim of this metric is to identify sets of clusters that have small variance and are compact, well seperated, where the means of clusters are far apart, as compared to within cluster variance. The higher the value the better. Given the intercluster $\\delta$ distance between the cluster $X_i$ $and X_j$ and the intracluster distance $\\Delta$ within the cluster $Xk$, the Dunn Index is given by:\n",
    "\n",
    "$$ min_{1 \\le i \\le c} \\Big( min_{1 \\le j \\le c, j \\ne i} \\Big( \\frac{\\delta(X_i , X_j)}{max_{1 \\le k \\le c} (\\Delta (Xk))} \\Big) \\Big) $$"
   ]
  },
  {
   "cell_type": "markdown",
   "metadata": {},
   "source": [
    "## Question 7) Name and describe any algorithm to invert a matrix.\n",
    "Gauss-Jordan elimination is an algorithm that is typically used for solving systems of linear equations. Elementary row operations (permutation, multiplication and addition) are used iteratively to transform the matrix of coefficients into an identity matrix. If the determinant of the matrix is non-zero, an identity matrix can be obtained. For each row, a pivot is chosen. Operations are chosen for the rows below in a way so that the values under the pivot become zero. The row of the pivot can also be divided by the pivot to obtain the pivot as the value $1$. By the end, the result will be an upper triangular matrix with a main diagonal of ones.  Elementary row operations can then be done so that the values above the pivots (starting from the bottom row) also becomes zero. This operation is repeated until an identity matrix is obtained. We have just described the process of transforming a normal matrix into the identity matrix. \n",
    "\n",
    "The elementary row operations used to transform a matrix into an identity matrix can be applied in parallel to what is initially an identity matrix to obtain the inverse of the matrix. As an example, we have implemented a very simple (and naive) way to find the inverse of a matrix using this solution."
   ]
  },
  {
   "cell_type": "code",
   "execution_count": 27,
   "metadata": {},
   "outputs": [
    {
     "name": "stdout",
     "output_type": "stream",
     "text": [
      "Our implementation: \n",
      " [[ 4.  3. -1.]\n",
      " [-2. -2.  1.]\n",
      " [ 5.  4. -1.]]\n",
      "Actual inverse of matrix: \n",
      " [[ 4.  3. -1.]\n",
      " [-2. -2.  1.]\n",
      " [ 5.  4. -1.]]\n"
     ]
    }
   ],
   "source": [
    "import numpy as np\n",
    "\n",
    "# Our test matrix\n",
    "X = np.array([[2, 1, -1], [-3, -1, 2], [-2, 1, 2]], dtype = 'float')\n",
    "aux = np.array(X)\n",
    "\n",
    "def obtain_inverse(matrix_x):\n",
    "    # Identity matrix\n",
    "    identity_x = np.identity(len(matrix_x), dtype = matrix_x.dtype)\n",
    "    \n",
    "    # For the i-th pivot - Top-down\n",
    "    for i in range(len(matrix_x)):\n",
    "        # Normalize row\n",
    "        value = matrix_x[i][i]\n",
    "         # Update each column in row - First in the matrix\n",
    "        matrix_x[i] = matrix_x[i]/(value)\n",
    "        # Then apply the same elementary operation to the identity matrix\n",
    "        identity_x[i] = identity_x[i] / (value)\n",
    "        \n",
    "        # Update the lower rows\n",
    "        for j in range(i + 1, len(matrix_x)):\n",
    "            # Calculate multiplier so that the value under the pivot to becomes zero\n",
    "            value_2 = matrix_x[j][i] / matrix_x[i][i]\n",
    "            # Update each row in the original matrix\n",
    "            matrix_x[j] = matrix_x[j] - (matrix_x[i] * (value_2))\n",
    "            # Apply the same operation to the identity matrix\n",
    "            identity_x[j] = identity_x[j] - (identity_x[i] * (value_2))\n",
    "    \n",
    "    # For the i-th pivot - Bottom-up\n",
    "    for i in range(len(matrix_x) - 1, -1, -1):\n",
    "        \n",
    "        # Update the rows above the current row\n",
    "        for j in range(i - 1, -1, - 1):\n",
    "            # Calculate multiplier so that the value above the pivot to becomes zero\n",
    "            value_2 = matrix_x[j][i] / matrix_x[i][i]\n",
    "            # Update each row in the original matrix    \n",
    "            matrix_x[j] = matrix_x[j] - (matrix_x[i] * (value_2))\n",
    "            # Apply the same operation to the identity matrix\n",
    "            identity_x[j] = identity_x[j] - (identity_x[i] * (value_2))\n",
    "            \n",
    "        \n",
    "    return (matrix_x, identity_x)\n",
    "\n",
    "\n",
    "(x_aux,y) = obtain_inverse(X)\n",
    "print(\"Our implementation: \\n\", y)\n",
    "print(\"Actual inverse of matrix: \\n\", np.linalg.inv(aux))"
   ]
  },
  {
   "cell_type": "markdown",
   "metadata": {},
   "source": [
    "## Question 8) Explain what a logistic regression is and give an example of an application (describe it as best as you can).\n",
    "It is a statistical model used to determine if an independent variable affects a binary dependent variable and the probability of the binary outcome. This in turn means that it is used to model problems where there are only two potential outcomes once given an input. It can be used to find the probability of each outcome. In turn, this can be used to predict outcomes based on probability values between 0 and 1. The input of the logistic regression model may be either a discrete or continuous value. It has applications in traditional statistics but also machine learning.\n",
    "\n",
    "As an example, we use the digits data set which contains 1797 images of digits that are 8x8 pixels (and so have 64 features). Based on the inputs of the image (a value between 0 and 1 for each pixel) we create a logistic regression model capable of predicting the class of the digit (Digits between 0 and 9) with 95.33% accuracy."
   ]
  },
  {
   "cell_type": "code",
   "execution_count": 9,
   "metadata": {},
   "outputs": [
    {
     "data": {
      "text/plain": [
       "0.9533333333333334"
      ]
     },
     "execution_count": 9,
     "metadata": {},
     "output_type": "execute_result"
    }
   ],
   "source": [
    "from sklearn.datasets import load_digits\n",
    "from sklearn.model_selection import train_test_split\n",
    "from sklearn.linear_model import LogisticRegression\n",
    "\n",
    "# Structure data set and split into train test\n",
    "digits = load_digits()\n",
    "x_train, x_test, y_train, y_test = train_test_split(digits.data, digits.target, test_size=0.25, random_state=0)\n",
    "\n",
    "# Define a logistic regression model\n",
    "logisticRegr = LogisticRegression(max_iter=10000)\n",
    "logisticRegr.fit(x_train, y_train)\n",
    "\n",
    "logisticRegr.score(x_test, y_test)"
   ]
  },
  {
   "cell_type": "markdown",
   "metadata": {},
   "source": [
    "## Question 9) Describe in steps how you would perform preliminary analysis on a dataset.\n",
    "\n",
    "It depends on what type of dataset I have and what problem I'm trying to solve. Since I'm describing a general process, I assume that data collection has been correctly done and the data is stored in some type of tabular format. Generally, I use the following steps:\n",
    "\n",
    "1. Initial summary: I begin by importing the data into some tool like Python or R and use basic summary functions to identify the amount of missing data, number of dimensions, types of attributes, Amount of categories in discrete attributes, most repeated values, etc.\n",
    "2. Data Pre-processing: After identifying the general structure of the dataset, general problems like bad variable names, wrong data types, long strings for categories and noise appear. This is a very basic and important step of pre-processing. It can be solved with simple commands and will impact the process of analysing the dataset if left untreated. Treating data anomalies is also very important in this step:\n",
    "    1. Treating Missing data: Depending on the problem, missing data may simply be left as is, but for many problems, it's necessary to treat the missing data. This may involve using statistical techniques to find probable values for the missing data and complete the data.\n",
    "    2. Treating Noise: Techniques may be used to identify and treat noisy data. It generally depends on the model that will be constructed, as some models are more robust to noise than others, so for some cases, the amount of attention given to treating noise will vary. \n",
    "3. Data reduction and projection: The amount of data available has gone up exponentially in the last few years. Some problems have too many dimensions or too many instances and it may be necessary to reduce dimensionality (by performing principal component analysis for example) or by simply selecting a subset of the data.\n",
    "4. Data visualization and summarization: Generally after having selected the key attributes and the instances, a more complete analysis of the attributes can be done. Visualizing the distribution of data using packages like ggplot and matplotlib can help the analyst to really understand the data. This is a very good solution for categorical data. A more in-depth analysis can also be done via statistical analysis of the attributes. \n",
    "5. Propose analysis: Based on the identified characteristics of the data it may be important to re-evaluate the model that will be used to solve the problem, since in these steps, the data may turn out to be something completely different than what it initially seemed to be.  "
   ]
  },
  {
   "cell_type": "markdown",
   "metadata": {},
   "source": [
    "## Question 10) Given the two tables A and B, give the result for the query below.\n",
    "Table A:\n",
    "\n",
    "| ID | Name | Born_in |\n",
    "| ------ | ------ | ------ |\n",
    "| 9991 | John | Liverpool |\n",
    "| 9992 | Paul | Liverpool |\n",
    "| 9993 | Ringo | Liverpool |\n",
    "| 9994 | George | Liverpool |\n",
    "\n",
    "    \n",
    "Table B:\n",
    "\n",
    "| ID | Instrument | Football_club |\n",
    "| ------ | ------ | ------ |\n",
    "| 9991 | Vocal | Liverpool |\n",
    "| 9992 | Bass | Liverpool |\n",
    "| 9993 | Drums | Liverpool |\n",
    "| 9995 | Guitar | Arsenal |\n",
    "| 9992 | Piano | Liverpool |\n",
    "    \n",
    "Query:\n",
    "\n",
    "`SELECT A.ID, A.Name, A.Born_in, B.Instrument, B.Football_Club\n",
    "From A\n",
    "LEFT JOIN B\n",
    "ON A.ID = B.ID;`"
   ]
  },
  {
   "cell_type": "markdown",
   "metadata": {},
   "source": [
    "A left join is equivalent to performing a cartesian product (cross join) of all rows in both tables, which generates all possible combinations of the union of two rows (one in each) in the two tables, and keeping only two possible kinds of rows: Rows where the combination has the same ID values, or rows from A (since it is the left operator, hence - left join) even if they have no combination with rows from B with the same ID value (in this case, the columns from B are filled with NULL values). Note that rows from B with ID that is not present in A will not be shown in the final table. The result is the following:\n",
    "\n",
    "\n",
    "| ID | Name | Born_in | Instrument | Football_club |\n",
    "| ------ | ------ | ------ | ------ | ------ |\n",
    "| 9991 | John | Liverpool | Vocal | Liverpool |\n",
    "| 9992 | Paul | Liverpool | Bass | Liverpool |\n",
    "| 9993 | Ringo | Liverpool | Drums | Liverpool |\n",
    "| 9992 | Paul | Liverpool | Piano | Liverpool |\n",
    "| 9994 | George | Liverpool | NULL | NULL | \n",
    "\n",
    "The items with ID's that are not present in both A and B are displayed last.\n",
    "\n"
   ]
  },
  {
   "cell_type": "code",
   "execution_count": 28,
   "metadata": {},
   "outputs": [],
   "source": [
    "# To get this code working, see: https://www.w3schools.com/python/python_mysql_getstarted.asp\n",
    "import mysql.connector\n",
    "\n",
    "mydb = mysql.connector.connect(\n",
    "  host=\"localhost\",\n",
    "  user=\"root\",\n",
    "  password=\"\"\n",
    ")\n",
    "mycursor = mydb.cursor()\n",
    "mycursor.execute(\"CREATE DATABASE testDatabase\")\n",
    "\n",
    "mydb.close()\n",
    "\n",
    "mydb = mysql.connector.connect(\n",
    "  host=\"localhost\",\n",
    "  user=\"root\",\n",
    "  password=\"\",\n",
    "  database=\"testDatabase\"\n",
    ")\n",
    "mycursor = mydb.cursor()\n",
    "\n",
    "mycursor.execute(\"CREATE TABLE A (id_pk INT AUTO_INCREMENT PRIMARY KEY, id INT, name VARCHAR(255), born_in VARCHAR(255))\")\n",
    "mycursor.execute(\"CREATE TABLE B (id_pk INT AUTO_INCREMENT PRIMARY KEY, id INT, instrument VARCHAR(255), football_club VARCHAR(255))\")\n"
   ]
  },
  {
   "cell_type": "code",
   "execution_count": 29,
   "metadata": {},
   "outputs": [],
   "source": [
    "sql = (\"INSERT INTO A (id, name, born_in) VALUES (%s, %s, %s)\")\n",
    "val = [(int(9991), 'John', 'Liverpool'),\n",
    "       (int(9992), 'Paul', 'Liverpool'),\n",
    "       (int(9993), 'Ringo', 'Liverpool'),\n",
    "       (int(9994), 'George', 'Liverpool')]\n",
    "\n",
    "for x in val:\n",
    "    mycursor.execute(sql, x)"
   ]
  },
  {
   "cell_type": "code",
   "execution_count": 30,
   "metadata": {},
   "outputs": [],
   "source": [
    "    \n",
    "sql = ('INSERT INTO B (id, instrument, football_club) VALUES (%s, %s, %s)')\n",
    "val = [(int(9991), 'Vocal', 'Liverpool'),\n",
    "       (int(9992), 'Bass', 'Liverpool'),\n",
    "       (int(9993), 'Drums', 'Liverpool'),\n",
    "       (int(9995), 'Guitar', 'Arsenal'),\n",
    "       (int(9992), 'Piano', 'Liverpool')]\n",
    "\n",
    "for x in val:\n",
    "    mycursor.execute(sql, x)\n",
    "\n",
    "mydb.commit()"
   ]
  },
  {
   "cell_type": "code",
   "execution_count": 34,
   "metadata": {},
   "outputs": [
    {
     "data": {
      "text/html": [
       "<div>\n",
       "<style scoped>\n",
       "    .dataframe tbody tr th:only-of-type {\n",
       "        vertical-align: middle;\n",
       "    }\n",
       "\n",
       "    .dataframe tbody tr th {\n",
       "        vertical-align: top;\n",
       "    }\n",
       "\n",
       "    .dataframe thead th {\n",
       "        text-align: right;\n",
       "    }\n",
       "</style>\n",
       "<table border=\"1\" class=\"dataframe\">\n",
       "  <thead>\n",
       "    <tr style=\"text-align: right;\">\n",
       "      <th></th>\n",
       "      <th>0</th>\n",
       "      <th>1</th>\n",
       "      <th>2</th>\n",
       "      <th>3</th>\n",
       "      <th>4</th>\n",
       "    </tr>\n",
       "  </thead>\n",
       "  <tbody>\n",
       "    <tr>\n",
       "      <th>0</th>\n",
       "      <td>9991</td>\n",
       "      <td>John</td>\n",
       "      <td>Liverpool</td>\n",
       "      <td>Vocal</td>\n",
       "      <td>Liverpool</td>\n",
       "    </tr>\n",
       "    <tr>\n",
       "      <th>1</th>\n",
       "      <td>9992</td>\n",
       "      <td>Paul</td>\n",
       "      <td>Liverpool</td>\n",
       "      <td>Bass</td>\n",
       "      <td>Liverpool</td>\n",
       "    </tr>\n",
       "    <tr>\n",
       "      <th>2</th>\n",
       "      <td>9993</td>\n",
       "      <td>Ringo</td>\n",
       "      <td>Liverpool</td>\n",
       "      <td>Drums</td>\n",
       "      <td>Liverpool</td>\n",
       "    </tr>\n",
       "    <tr>\n",
       "      <th>3</th>\n",
       "      <td>9992</td>\n",
       "      <td>Paul</td>\n",
       "      <td>Liverpool</td>\n",
       "      <td>Piano</td>\n",
       "      <td>Liverpool</td>\n",
       "    </tr>\n",
       "    <tr>\n",
       "      <th>4</th>\n",
       "      <td>9994</td>\n",
       "      <td>George</td>\n",
       "      <td>Liverpool</td>\n",
       "      <td>None</td>\n",
       "      <td>None</td>\n",
       "    </tr>\n",
       "  </tbody>\n",
       "</table>\n",
       "</div>"
      ],
      "text/plain": [
       "      0       1          2      3          4\n",
       "0  9991    John  Liverpool  Vocal  Liverpool\n",
       "1  9992    Paul  Liverpool   Bass  Liverpool\n",
       "2  9993   Ringo  Liverpool  Drums  Liverpool\n",
       "3  9992    Paul  Liverpool  Piano  Liverpool\n",
       "4  9994  George  Liverpool   None       None"
      ]
     },
     "metadata": {},
     "output_type": "display_data"
    }
   ],
   "source": [
    "mycursor.execute(\"SELECT A.id, A.name, A.born_in, B.instrument, B.football_Club FROM A LEFT JOIN B ON A.ID = B.ID;\")\n",
    "       \n",
    "myresult = mycursor.fetchall()\n",
    "\n",
    "from IPython.display import display\n",
    "import pandas as pd\n",
    "display(pd.DataFrame(myresult))"
   ]
  },
  {
   "cell_type": "code",
   "execution_count": null,
   "metadata": {},
   "outputs": [],
   "source": [
    "mycursor.close()\n",
    "mydb.close()"
   ]
  }
 ],
 "metadata": {
  "kernelspec": {
   "display_name": "Python 3",
   "language": "python",
   "name": "python3"
  },
  "language_info": {
   "codemirror_mode": {
    "name": "ipython",
    "version": 3
   },
   "file_extension": ".py",
   "mimetype": "text/x-python",
   "name": "python",
   "nbconvert_exporter": "python",
   "pygments_lexer": "ipython3",
   "version": "3.8.3"
  },
  "latex_envs": {
   "LaTeX_envs_menu_present": true,
   "autoclose": false,
   "autocomplete": true,
   "bibliofile": "biblio.bib",
   "cite_by": "apalike",
   "current_citInitial": 1,
   "eqLabelWithNumbers": true,
   "eqNumInitial": 1,
   "hotkeys": {
    "equation": "Ctrl-E",
    "itemize": "Ctrl-I"
   },
   "labels_anchors": false,
   "latex_user_defs": false,
   "report_style_numbering": false,
   "user_envs_cfg": false
  },
  "toc": {
   "base_numbering": 1,
   "nav_menu": {},
   "number_sections": true,
   "sideBar": true,
   "skip_h1_title": false,
   "title_cell": "Table of Contents",
   "title_sidebar": "Contents",
   "toc_cell": false,
   "toc_position": {},
   "toc_section_display": true,
   "toc_window_display": false
  },
  "varInspector": {
   "cols": {
    "lenName": 16,
    "lenType": 16,
    "lenVar": 40
   },
   "kernels_config": {
    "python": {
     "delete_cmd_postfix": "",
     "delete_cmd_prefix": "del ",
     "library": "var_list.py",
     "varRefreshCmd": "print(var_dic_list())"
    },
    "r": {
     "delete_cmd_postfix": ") ",
     "delete_cmd_prefix": "rm(",
     "library": "var_list.r",
     "varRefreshCmd": "cat(var_dic_list()) "
    }
   },
   "types_to_exclude": [
    "module",
    "function",
    "builtin_function_or_method",
    "instance",
    "_Feature"
   ],
   "window_display": false
  }
 },
 "nbformat": 4,
 "nbformat_minor": 4
}
