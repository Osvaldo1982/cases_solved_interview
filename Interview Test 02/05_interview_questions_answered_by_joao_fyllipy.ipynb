{
 "cells": [
  {
   "cell_type": "markdown",
   "metadata": {},
   "source": [
    "# Test for Data Analist position\n",
    "## Name: João Fyllipy de Lima Nunes\n",
    "\n",
    "07/04/2022"
   ]
  },
  {
   "cell_type": "markdown",
   "metadata": {},
   "source": [
    "### 1- \n",
    "We can calculate these partial derivatives in python using sympy lib:\n"
   ]
  },
  {
   "cell_type": "code",
   "execution_count": 1,
   "metadata": {},
   "outputs": [
    {
     "name": "stdout",
     "output_type": "stream",
     "text": [
      "df/dx = \n"
     ]
    },
    {
     "data": {
      "image/png": "[encoded data removed]",
      "text/latex": [
       "$\\displaystyle - \\frac{n \\pi e^{- t^{2} w} \\sin{\\left(\\frac{n \\pi x}{L} \\right)}}{L}$"
      ],
      "text/plain": [
       "        2              \n",
       "      -t ⋅w    ⎛n⋅π⋅x⎞ \n",
       "-n⋅π⋅ℯ     ⋅sin⎜─────⎟ \n",
       "               ⎝  L  ⎠ \n",
       "───────────────────────\n",
       "           L           "
      ]
     },
     "execution_count": 1,
     "metadata": {},
     "output_type": "execute_result"
    }
   ],
   "source": [
    "import numpy as np\n",
    "import sympy as sy\n",
    "from sympy.interactive import init_printing\n",
    "init_printing(pretty_print=True)\n",
    "\n",
    "x, t, n, w, pi, L = sy.symbols('x t n w pi L')\n",
    "\n",
    "f = sy.exp(-w*t*t)*sy.cos((n*x*pi)/L)\n",
    "\n",
    "resultx = sy.diff(f, x)\n",
    "resultt = sy.diff(f, t)\n",
    "print ('df/dx = ')\n",
    "resultx"
   ]
  },
  {
   "cell_type": "code",
   "execution_count": 2,
   "metadata": {},
   "outputs": [
    {
     "name": "stdout",
     "output_type": "stream",
     "text": [
      "df/dt = \n"
     ]
    },
    {
     "data": {
      "image/png": "[encoded data removed]",
      "text/latex": [
       "$\\displaystyle - 2 t w e^{- t^{2} w} \\cos{\\left(\\frac{n \\pi x}{L} \\right)}$"
      ],
      "text/plain": [
       "          2             \n",
       "        -t ⋅w    ⎛n⋅π⋅x⎞\n",
       "-2⋅t⋅w⋅ℯ     ⋅cos⎜─────⎟\n",
       "                 ⎝  L  ⎠"
      ]
     },
     "execution_count": 2,
     "metadata": {},
     "output_type": "execute_result"
    }
   ],
   "source": [
    "print ('df/dt = ')\n",
    "resultt"
   ]
  },
  {
   "cell_type": "markdown",
   "metadata": {},
   "source": [
    "### 2 -\n",
    "Given the linear space $\\mathbb{R}^2$ with its standard basis as $\\begin{bmatrix}\n",
    "1 & 0 \\\\\n",
    "0 & 1\n",
    "\\end{bmatrix}$. We can write an example:"
   ]
  },
  {
   "cell_type": "code",
   "execution_count": 11,
   "metadata": {},
   "outputs": [
    {
     "name": "stdout",
     "output_type": "stream",
     "text": [
      "Matrix: \n",
      "[[-0.10896289  0.085188  ]\n",
      " [-1.59647676 -1.10430797]]\n",
      "A basis of a (orthogonal):\n"
     ]
    },
    {
     "data": {
      "image/png": "[encoded data removed]",
      "text/latex": [
       "$\\displaystyle \\left[\\begin{matrix}0.998697770957712 & -0.0510172743695443\\\\-0.0510172743695443 & -0.998697770957712\\end{matrix}\\right]$"
      ],
      "text/plain": [
       "⎡ 0.998697770957712   -0.0510172743695443⎤\n",
       "⎢                                        ⎥\n",
       "⎣-0.0510172743695443  -0.998697770957712 ⎦"
      ]
     },
     "execution_count": 11,
     "metadata": {},
     "output_type": "execute_result"
    }
   ],
   "source": [
    "from scipy.linalg import orth\n",
    "from sympy.matrices import Matrix\n",
    "\n",
    "sample = np.random.randn(2,2)\n",
    "print ('Matrix: ')\n",
    "print(sample)\n",
    "print ('A basis of a (orthogonal):')\n",
    "basis = orth(matrix)\n",
    "Matrix(basis)"
   ]
  },
  {
   "cell_type": "markdown",
   "metadata": {},
   "source": [
    "### 3-\n",
    "\n",
    "We can code it as:"
   ]
  },
  {
   "cell_type": "code",
   "execution_count": 4,
   "metadata": {},
   "outputs": [
    {
     "data": {
      "image/png": "[encoded data removed]",
      "text/latex": [
       "$\\displaystyle \\left[\\begin{matrix}\\frac{d}{a d - b c} & - \\frac{b}{a d - b c}\\\\- \\frac{c}{a d - b c} & \\frac{a}{a d - b c}\\end{matrix}\\right]$"
      ],
      "text/plain": [
       "⎡    d         -b    ⎤\n",
       "⎢─────────  ─────────⎥\n",
       "⎢a⋅d - b⋅c  a⋅d - b⋅c⎥\n",
       "⎢                    ⎥\n",
       "⎢   -c          a    ⎥\n",
       "⎢─────────  ─────────⎥\n",
       "⎣a⋅d - b⋅c  a⋅d - b⋅c⎦"
      ]
     },
     "execution_count": 4,
     "metadata": {},
     "output_type": "execute_result"
    }
   ],
   "source": [
    "a,b,c,d = sy.symbols('a b c d')\n",
    "A = Matrix([[a,b],[c,d]])\n",
    "A.inv()"
   ]
  },
  {
   "cell_type": "markdown",
   "metadata": {},
   "source": [
    "### 4-\n",
    "Supervised learning algorithms servers to model relationships between the goal output and the input data characteristics, in order to predict output values for new data based on the relationships learnt from the prior data sets. A good example is the nearest neighbor algorithm"
   ]
  },
  {
   "cell_type": "markdown",
   "metadata": {},
   "source": [
    "### 5-\n",
    "Unsupervised learning algotithms tries to find patterns in unlabeled data sets and are good choice to more complex tasks. A algorithm example is clustering"
   ]
  },
  {
   "cell_type": "markdown",
   "metadata": {},
   "source": [
    "### 6-\n",
    "We can talk about Euclidian distance that computes the root of square difference between co-ordinates of pair of objects.\n",
    "\n",
    "$ DIST_{xy} = \\sqrt{\\sum_{k=1}^{+\\infty} (X_{ik}-X_{jk})^2 \\\\} $\n",
    "\n",
    "Then there is Chebychev Distance is the absolute distance between a pair of objects.\n",
    "\n",
    "$ DIST_{xy} = max_{k}\\vert X_{ik}-X_{jk}\\vert $\n",
    "\n",
    "And last we have Minkowski Distance, wich is a generalization of the two methods above\n",
    "\n",
    "$ DIST_{xy} = (\\sum_{k=1}^{d} \\vert X_{ik}-X_{jk}\\vert^\\frac{1}{P})^P $"
   ]
  },
  {
   "cell_type": "markdown",
   "metadata": {},
   "source": [
    "### 7-\n",
    "Gauss-Jordan algorith. Along the given matrix, writes a identity matrix side by side. the identity matrix is in the form of, for the $\\mathbb{R}^3$ vector space $\\begin{bmatrix}\n",
    "1 & 0 & 0\\\\\n",
    "0 & 1 & 0\\\\\n",
    "0 & 0 & 1\n",
    "\\end{bmatrix}$ and using a series of elementaries operations transform the given matrix in the identy matrix and the identy matrix in the inverse matrix. In math form:\n",
    "$[A\\vert I] = [I\\vert A^{-1}]$\n",
    "\n",
    "These series of elementar operations could be described as subtraction from a line to the other, and division for an element $a_{ij}$ aiming transforming it either 1 or 0 in order to reduce to the identy matrix as described above."
   ]
  },
  {
   "cell_type": "markdown",
   "metadata": {},
   "source": [
    "### 8-\n",
    "The logistic regretion is a supervised ML algorithm that, unlike linear regresion, is a tool used for binary classification (either 0 or 1) it is calculated by the logistic function $Lf(x) = \\frac{1}{1+e^{-x}}$ wich give us a so called sigmoid curve, varing from 0 to 1. Based on this curve, anything bellow a given threshold value (usually 0.5) will be consider as 0 and any value above it will be 1. Its suitable to predict, for example, medical conditions. A collection of pacients data, made by independent variables about their health along with a know target outcome (dependant), can be fed into the algorithm to train it and predict unknow dependent outcome. This outcome could be if a certain pacient has diabeties being the 0 outcome a \"no\" and 1 \"yes\". It would not be possible to use the linear regretion for a categorized answer because it gives a range of value. You canot be 0.35 diabetic, for example, its either yes or no."
   ]
  },
  {
   "cell_type": "markdown",
   "metadata": {},
   "source": [
    "### 9-\n",
    "First, I would look the type of database I'm about to evaluate. Besides trivial, it will help me define the set of tools to deal with the data so we can easy the CPU workload. After importing the data (an API, online database, LAN database, CSV, JSON, etc) i will check the consistence of the data. First giving \"head\" and \"list\" commands (Pandas lib). Visualising the columns I then delete the variables that are irrelevant (if needed) and check the amount of data and its quality, making some histogram and analysing them. After I check if I could see any relationship between variables and store these in a new dataframe if needed for a deep analysis later. Last i check for \"NULL\" values to see if it could compromise the quality of my data, as it would indicate that the data is corrupted. So based on this I will define the best modelling strategy, wich algorith to use, what metrics I will extract, the tests and, more important, having in mind the elements for a ludical and compreensive presentation, wich may involve graphics, imagens, tables and so on."
   ]
  },
  {
   "cell_type": "markdown",
   "metadata": {},
   "source": [
    "### 10-\n",
    "\n",
    "It will result in the left set join. The same code writen in python to show the result:"
   ]
  },
  {
   "cell_type": "code",
   "execution_count": 21,
   "metadata": {},
   "outputs": [
    {
     "data": {
      "text/html": [
       "<div>\n",
       "<style scoped>\n",
       "    .dataframe tbody tr th:only-of-type {\n",
       "        vertical-align: middle;\n",
       "    }\n",
       "\n",
       "    .dataframe tbody tr th {\n",
       "        vertical-align: top;\n",
       "    }\n",
       "\n",
       "    .dataframe thead th {\n",
       "        text-align: right;\n",
       "    }\n",
       "</style>\n",
       "<table border=\"1\" class=\"dataframe\">\n",
       "  <thead>\n",
       "    <tr style=\"text-align: right;\">\n",
       "      <th></th>\n",
       "      <th>ID</th>\n",
       "      <th>Name</th>\n",
       "      <th>Born_in</th>\n",
       "      <th>Instrument</th>\n",
       "      <th>Football_club</th>\n",
       "    </tr>\n",
       "  </thead>\n",
       "  <tbody>\n",
       "    <tr>\n",
       "      <th>0</th>\n",
       "      <td>9991</td>\n",
       "      <td>John</td>\n",
       "      <td>Liverpool</td>\n",
       "      <td>Vocal</td>\n",
       "      <td>Liverpool</td>\n",
       "    </tr>\n",
       "    <tr>\n",
       "      <th>1</th>\n",
       "      <td>9992</td>\n",
       "      <td>Paul</td>\n",
       "      <td>Liverpool</td>\n",
       "      <td>Base</td>\n",
       "      <td>Liverpool</td>\n",
       "    </tr>\n",
       "    <tr>\n",
       "      <th>2</th>\n",
       "      <td>9992</td>\n",
       "      <td>Paul</td>\n",
       "      <td>Liverpool</td>\n",
       "      <td>Piano</td>\n",
       "      <td>Liverpool</td>\n",
       "    </tr>\n",
       "    <tr>\n",
       "      <th>3</th>\n",
       "      <td>9993</td>\n",
       "      <td>Ringo</td>\n",
       "      <td>Liverpool</td>\n",
       "      <td>Drums</td>\n",
       "      <td>Liverpool</td>\n",
       "    </tr>\n",
       "    <tr>\n",
       "      <th>4</th>\n",
       "      <td>9994</td>\n",
       "      <td>George</td>\n",
       "      <td>Liverpool</td>\n",
       "      <td>NaN</td>\n",
       "      <td>NaN</td>\n",
       "    </tr>\n",
       "  </tbody>\n",
       "</table>\n",
       "</div>"
      ],
      "text/plain": [
       "     ID    Name    Born_in Instrument Football_club\n",
       "0  9991    John  Liverpool      Vocal     Liverpool\n",
       "1  9992    Paul  Liverpool       Base     Liverpool\n",
       "2  9992    Paul  Liverpool      Piano     Liverpool\n",
       "3  9993   Ringo  Liverpool      Drums     Liverpool\n",
       "4  9994  George  Liverpool        NaN           NaN"
      ]
     },
     "execution_count": 21,
     "metadata": {},
     "output_type": "execute_result"
    }
   ],
   "source": [
    "import pandas as pd \n",
    "\n",
    "data1 = {\"ID\": [9991, 9992, 9993, 9994], \"Name\": [\"John\", \"Paul\", \"Ringo\", \"George\"], \"Born_in\": [\"Liverpool\", \"Liverpool\", \"Liverpool\",\"Liverpool\"]}\n",
    "data2 = {\"ID\": [9991, 9992, 9993, 9995, 9992], \"Instrument\": [\"Vocal\", \"Base\", \"Drums\", \"Guitar\", \"Piano\"], \"Football_club\": [\"Liverpool\", \"Liverpool\", \"Liverpool\", \"Arsenal\",\"Liverpool\"]}\n",
    "\n",
    "tableA = pd.DataFrame(data1)\n",
    "tableB = pd.DataFrame(data2)\n",
    "\n",
    "pd.merge(tableA, tableB, on=\"ID\", how=\"left\")"
   ]
  },
  {
   "cell_type": "code",
   "execution_count": null,
   "metadata": {},
   "outputs": [],
   "source": []
  }
 ],
 "metadata": {
  "hide_input": false,
  "kernelspec": {
   "display_name": "Python 3",
   "language": "python",
   "name": "python3"
  },
  "language_info": {
   "codemirror_mode": {
    "name": "ipython",
    "version": 3
   },
   "file_extension": ".py",
   "mimetype": "text/x-python",
   "name": "python",
   "nbconvert_exporter": "python",
   "pygments_lexer": "ipython3",
   "version": "3.8.3"
  },
  "latex_envs": {
   "LaTeX_envs_menu_present": true,
   "autoclose": false,
   "autocomplete": true,
   "bibliofile": "biblio.bib",
   "cite_by": "apalike",
   "current_citInitial": 1,
   "eqLabelWithNumbers": true,
   "eqNumInitial": 1,
   "hotkeys": {
    "equation": "Ctrl-E",
    "itemize": "Ctrl-I"
   },
   "labels_anchors": false,
   "latex_user_defs": false,
   "report_style_numbering": false,
   "user_envs_cfg": false
  },
  "toc": {
   "base_numbering": 1,
   "nav_menu": {},
   "number_sections": true,
   "sideBar": true,
   "skip_h1_title": false,
   "title_cell": "Table of Contents",
   "title_sidebar": "Contents",
   "toc_cell": false,
   "toc_position": {},
   "toc_section_display": true,
   "toc_window_display": false
  },
  "varInspector": {
   "cols": {
    "lenName": 16,
    "lenType": 16,
    "lenVar": 40
   },
   "kernels_config": {
    "python": {
     "delete_cmd_postfix": "",
     "delete_cmd_prefix": "del ",
     "library": "var_list.py",
     "varRefreshCmd": "print(var_dic_list())"
    },
    "r": {
     "delete_cmd_postfix": ") ",
     "delete_cmd_prefix": "rm(",
     "library": "var_list.r",
     "varRefreshCmd": "cat(var_dic_list()) "
    }
   },
   "types_to_exclude": [
    "module",
    "function",
    "builtin_function_or_method",
    "instance",
    "_Feature"
   ],
   "window_display": false
  }
 },
 "nbformat": 4,
 "nbformat_minor": 5
}
