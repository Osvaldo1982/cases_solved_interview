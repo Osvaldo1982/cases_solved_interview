{
 "cells": [
  {
   "cell_type": "code",
   "execution_count": 1,
   "metadata": {
    "id": "_e4RQHqODVde"
   },
   "outputs": [],
   "source": [
    "import warnings\n",
    "warnings.filterwarnings(\"ignore\")"
   ]
  },
  {
   "cell_type": "markdown",
   "metadata": {
    "id": "m_st2PPYYkUz"
   },
   "source": [
    "To answer the following questions I'll use some standard datasets to perform the examples and analysis. They were imported from Python libraries and Kaggle."
   ]
  },
  {
   "cell_type": "markdown",
   "metadata": {
    "id": "e2d41030"
   },
   "source": [
    "## 1. Given the following function f, find the following partial derivatives."
   ]
  },
  {
   "cell_type": "code",
   "execution_count": 2,
   "metadata": {
    "id": "2f7e77e5"
   },
   "outputs": [],
   "source": [
    "import sympy as smp\n",
    "from sympy import *"
   ]
  },
  {
   "cell_type": "code",
   "execution_count": 3,
   "metadata": {
    "id": "05c761df"
   },
   "outputs": [],
   "source": [
    "x, t, w, n, L = smp.symbols('x t w n L', real = True)"
   ]
  },
  {
   "cell_type": "code",
   "execution_count": 4,
   "metadata": {
    "colab": {
     "base_uri": "https://localhost:8080/",
     "height": 0
    },
    "id": "055b091a",
    "outputId": "9c6930af-b736-46c0-d3d9-239b6cfaad8f"
   },
   "outputs": [
    {
     "data": {
      "text/latex": [
       "$\\displaystyle e^{- t^{2} w} \\cos{\\left(\\frac{\\pi n x}{L} \\right)}$"
      ],
      "text/plain": [
       "exp(-t**2*w)*cos(pi*n*x/L)"
      ]
     },
     "execution_count": 4,
     "metadata": {},
     "output_type": "execute_result"
    }
   ],
   "source": [
    "f = smp.exp(-w*(t)**2) * (smp.cos((n*x*pi)/L))\n",
    "f"
   ]
  },
  {
   "cell_type": "code",
   "execution_count": 5,
   "metadata": {
    "id": "b1f6c97b"
   },
   "outputs": [],
   "source": [
    "dif_x = diff(f, x)\n",
    "dif_t = diff(f, t)"
   ]
  },
  {
   "cell_type": "code",
   "execution_count": 6,
   "metadata": {
    "colab": {
     "base_uri": "https://localhost:8080/",
     "height": 0
    },
    "id": "c23f6787",
    "outputId": "e311ebe3-ff4d-4482-c189-e593f3102998"
   },
   "outputs": [
    {
     "data": {
      "text/latex": [
       "$\\displaystyle - \\frac{\\pi n e^{- t^{2} w} \\sin{\\left(\\frac{\\pi n x}{L} \\right)}}{L}$"
      ],
      "text/plain": [
       "-pi*n*exp(-t**2*w)*sin(pi*n*x/L)/L"
      ]
     },
     "execution_count": 6,
     "metadata": {},
     "output_type": "execute_result"
    }
   ],
   "source": [
    "dif_x"
   ]
  },
  {
   "cell_type": "code",
   "execution_count": 7,
   "metadata": {
    "colab": {
     "base_uri": "https://localhost:8080/",
     "height": 0
    },
    "id": "46364f8d",
    "outputId": "8d4e2b0a-88df-4e33-d69c-9d2e1440dcf9"
   },
   "outputs": [
    {
     "data": {
      "text/latex": [
       "$\\displaystyle - 2 t w e^{- t^{2} w} \\cos{\\left(\\frac{\\pi n x}{L} \\right)}$"
      ],
      "text/plain": [
       "-2*t*w*exp(-t**2*w)*cos(pi*n*x/L)"
      ]
     },
     "execution_count": 7,
     "metadata": {},
     "output_type": "execute_result"
    }
   ],
   "source": [
    "dif_t"
   ]
  },
  {
   "cell_type": "markdown",
   "metadata": {
    "id": "d09b01a5"
   },
   "source": [
    "## 2. Give an example of a linear vector space (with a basis)"
   ]
  },
  {
   "cell_type": "code",
   "execution_count": 8,
   "metadata": {
    "id": "41d1d087"
   },
   "outputs": [],
   "source": [
    "import numpy as np\n",
    "import sympy as smp\n",
    "from sympy import *"
   ]
  },
  {
   "cell_type": "markdown",
   "metadata": {
    "id": "iBloE58xBy2w"
   },
   "source": [
    "I'd like to first define the axioms of linear vector spaces. For having a vector space these two operations must satisfy the eight axioms, which are listed in below, where the equations must be satisfied for every u, v and w in V, and a and b in K generical field. For the example I'll use the field of real numbers R.\n",
    "\n",
    "1. Associativity of vector addition: u + (v + w) = (u + v) + w\n",
    "\n",
    "2. Commutativity of vector addition: u + v = v + u\n",
    "\n",
    "3. Identity element of vector addition: There exists an element 0 ∈ V, called the zero vector, such that v + 0 = v for all v ∈ V.\n",
    "\n",
    "4. Inverse elements of vector addition: For every v ∈ V, there exists an element −v ∈ V, called the additive inverse of v, such that v + (−v) = 0.\n",
    "\n",
    "5. Compatibility of scalar multiplication with field multiplication: a(bv) = (ab)v\n",
    "\n",
    "6. Identity element of scalar multiplication: 1v = v, where 1 denotes the multiplicative identity in R.\n",
    "\n",
    "7. Distributivity of scalar multiplication with respect to vector addition: a(u + v) = au + av\n",
    "\n",
    "8. Distributivity of scalar multiplication with respect to field addition: (a + b)v = av + bv"
   ]
  },
  {
   "cell_type": "markdown",
   "metadata": {
    "id": "ZDEGgrhjB_AY"
   },
   "source": [
    "Now, I'll demonstrate those axioms for the linear space vector composed of matrices 2x2 over the R field."
   ]
  },
  {
   "cell_type": "code",
   "execution_count": 9,
   "metadata": {
    "id": "623d933f"
   },
   "outputs": [],
   "source": [
    "a11, a12, a21, a22, b11, b12, b21, b22, c11, c12, c21, c22, e11, e12, e21, e22, x, y = symbols('a11, a12, a21, a22, b11, b12, b21, b22, c11, c12, c21, c22, e11, e12, e21, e22, x, y')\n",
    "\n",
    "A = Matrix([[a11, a12], [a21, a22]])\n",
    "B = Matrix([[b11, b12], [b21, b22]])\n",
    "C = Matrix([[c11, c12], [c21, c22]])\n",
    "E = Matrix([[e11, e12], [e21, e22]])"
   ]
  },
  {
   "cell_type": "code",
   "execution_count": 10,
   "metadata": {
    "colab": {
     "base_uri": "https://localhost:8080/",
     "height": 0
    },
    "id": "34657e37",
    "outputId": "c092d249-f26d-4778-b6c7-ec4a9e10b2a7"
   },
   "outputs": [
    {
     "data": {
      "text/latex": [
       "$\\displaystyle \\left[\\begin{matrix}a_{11} + b_{11} & a_{12} + b_{12}\\\\a_{21} + b_{21} & a_{22} + b_{22}\\end{matrix}\\right]$"
      ],
      "text/plain": [
       "Matrix([\n",
       "[a11 + b11, a12 + b12],\n",
       "[a21 + b21, a22 + b22]])"
      ]
     },
     "execution_count": 10,
     "metadata": {},
     "output_type": "execute_result"
    }
   ],
   "source": [
    "A + B"
   ]
  },
  {
   "cell_type": "code",
   "execution_count": 11,
   "metadata": {
    "colab": {
     "base_uri": "https://localhost:8080/",
     "height": 0
    },
    "id": "8464fdb7",
    "outputId": "21348955-6645-4d81-bda7-247d3de5cd5c"
   },
   "outputs": [
    {
     "data": {
      "text/latex": [
       "$\\displaystyle \\left[\\begin{matrix}a_{11} + b_{11} & a_{12} + b_{12}\\\\a_{21} + b_{21} & a_{22} + b_{22}\\end{matrix}\\right]$"
      ],
      "text/plain": [
       "Matrix([\n",
       "[a11 + b11, a12 + b12],\n",
       "[a21 + b21, a22 + b22]])"
      ]
     },
     "execution_count": 11,
     "metadata": {},
     "output_type": "execute_result"
    }
   ],
   "source": [
    "B + A"
   ]
  },
  {
   "cell_type": "markdown",
   "metadata": {
    "id": "kc-8ZvoSCX1g"
   },
   "source": [
    "Here we can see that A + B = B + A"
   ]
  },
  {
   "cell_type": "code",
   "execution_count": 12,
   "metadata": {
    "colab": {
     "base_uri": "https://localhost:8080/",
     "height": 0
    },
    "id": "42f18e16",
    "outputId": "0c162142-67c7-4786-ace0-af33e8c6aad3"
   },
   "outputs": [
    {
     "data": {
      "text/latex": [
       "$\\displaystyle \\left[\\begin{matrix}a_{11} + b_{11} + c_{11} & a_{12} + b_{12} + c_{12}\\\\a_{21} + b_{21} + c_{21} & a_{22} + b_{22} + c_{22}\\end{matrix}\\right]$"
      ],
      "text/plain": [
       "Matrix([\n",
       "[a11 + b11 + c11, a12 + b12 + c12],\n",
       "[a21 + b21 + c21, a22 + b22 + c22]])"
      ]
     },
     "execution_count": 12,
     "metadata": {},
     "output_type": "execute_result"
    }
   ],
   "source": [
    "(A + B) + C"
   ]
  },
  {
   "cell_type": "code",
   "execution_count": 13,
   "metadata": {
    "colab": {
     "base_uri": "https://localhost:8080/",
     "height": 0
    },
    "id": "10379749",
    "outputId": "12aaf956-2ab8-4308-abb9-598cdca20fdb"
   },
   "outputs": [
    {
     "data": {
      "text/latex": [
       "$\\displaystyle \\left[\\begin{matrix}a_{11} + b_{11} + c_{11} & a_{12} + b_{12} + c_{12}\\\\a_{21} + b_{21} + c_{21} & a_{22} + b_{22} + c_{22}\\end{matrix}\\right]$"
      ],
      "text/plain": [
       "Matrix([\n",
       "[a11 + b11 + c11, a12 + b12 + c12],\n",
       "[a21 + b21 + c21, a22 + b22 + c22]])"
      ]
     },
     "execution_count": 13,
     "metadata": {},
     "output_type": "execute_result"
    }
   ],
   "source": [
    "A + (B + C)"
   ]
  },
  {
   "cell_type": "markdown",
   "metadata": {
    "id": "g1K9eb1bCcwQ"
   },
   "source": [
    "The associativity has been proven as well. (A + B) + C = A + (B + C)"
   ]
  },
  {
   "cell_type": "markdown",
   "metadata": {
    "id": "-UvBARRYCgEz"
   },
   "source": [
    "There is a neutral element in this vector space called identity and here will be represented by E. For each matrix A, we shall have the equation A + E = A satisfied, our matrix E will be defined with the neutral element of the field (in this case, 0), for each entry of it."
   ]
  },
  {
   "cell_type": "code",
   "execution_count": 14,
   "metadata": {
    "colab": {
     "base_uri": "https://localhost:8080/",
     "height": 0
    },
    "id": "73aeda69",
    "outputId": "aba366e6-8255-4f79-bde9-6c23fff91606"
   },
   "outputs": [
    {
     "data": {
      "text/latex": [
       "$\\displaystyle \\left[\\begin{matrix}e_{11} & e_{12}\\\\e_{21} & e_{22}\\end{matrix}\\right]$"
      ],
      "text/plain": [
       "Matrix([\n",
       "[e11, e12],\n",
       "[e21, e22]])"
      ]
     },
     "execution_count": 14,
     "metadata": {},
     "output_type": "execute_result"
    }
   ],
   "source": [
    "E"
   ]
  },
  {
   "cell_type": "code",
   "execution_count": 15,
   "metadata": {
    "id": "b0ae0ff7"
   },
   "outputs": [],
   "source": [
    "e11 = 0\n",
    "e12 = 0 \n",
    "e21 = 0 \n",
    "e22 = 0"
   ]
  },
  {
   "cell_type": "markdown",
   "metadata": {
    "id": "ktBKSZITCnLx"
   },
   "source": [
    "As we defined the neutral element, we need to verify if A has an additive inverse -A. The sum of these two elemente should result in the Identitiy matrix."
   ]
  },
  {
   "cell_type": "code",
   "execution_count": 16,
   "metadata": {
    "colab": {
     "base_uri": "https://localhost:8080/",
     "height": 0
    },
    "id": "f95d1cc0",
    "outputId": "24d9137f-e9ce-4df4-fb85-afa900496a46"
   },
   "outputs": [
    {
     "data": {
      "text/latex": [
       "$\\displaystyle \\left[\\begin{matrix}0 & 0\\\\0 & 0\\end{matrix}\\right]$"
      ],
      "text/plain": [
       "Matrix([\n",
       "[0, 0],\n",
       "[0, 0]])"
      ]
     },
     "execution_count": 16,
     "metadata": {},
     "output_type": "execute_result"
    }
   ],
   "source": [
    "A + (-A)"
   ]
  },
  {
   "cell_type": "markdown",
   "metadata": {
    "id": "tvOJueaXi6Ep"
   },
   "source": [
    "It is possible to multiply the matrices with an element from the F field, because in this particular case, we are multiplying real numbers."
   ]
  },
  {
   "cell_type": "code",
   "execution_count": 17,
   "metadata": {
    "colab": {
     "base_uri": "https://localhost:8080/",
     "height": 0
    },
    "id": "d130617d",
    "outputId": "8be0e491-92dd-470f-da0e-86b27e18e1d0"
   },
   "outputs": [
    {
     "data": {
      "text/latex": [
       "$\\displaystyle \\left[\\begin{matrix}a_{11} x & a_{12} x\\\\a_{21} x & a_{22} x\\end{matrix}\\right]$"
      ],
      "text/plain": [
       "Matrix([\n",
       "[a11*x, a12*x],\n",
       "[a21*x, a22*x]])"
      ]
     },
     "execution_count": 17,
     "metadata": {},
     "output_type": "execute_result"
    }
   ],
   "source": [
    "x*A"
   ]
  },
  {
   "cell_type": "markdown",
   "metadata": {
    "id": "cj63ufkOjTg5"
   },
   "source": [
    "It is possible to multiply the matrices with two elements from the K field as well because the bodies are closed over this operation and in this particular case, we are multiplying real numbers."
   ]
  },
  {
   "cell_type": "code",
   "execution_count": 18,
   "metadata": {
    "colab": {
     "base_uri": "https://localhost:8080/",
     "height": 0
    },
    "id": "ff988fb2",
    "outputId": "dfc79f1e-e27d-42d9-927f-a51e017f6636"
   },
   "outputs": [
    {
     "data": {
      "text/latex": [
       "$\\displaystyle \\left[\\begin{matrix}a_{11} x y & a_{12} x y\\\\a_{21} x y & a_{22} x y\\end{matrix}\\right]$"
      ],
      "text/plain": [
       "Matrix([\n",
       "[a11*x*y, a12*x*y],\n",
       "[a21*x*y, a22*x*y]])"
      ]
     },
     "execution_count": 18,
     "metadata": {},
     "output_type": "execute_result"
    }
   ],
   "source": [
    "x*y*A"
   ]
  },
  {
   "cell_type": "markdown",
   "metadata": {
    "id": "Gmg-sgmYji-K"
   },
   "source": [
    "The next axioms are demonstrated assuming that the elements x, y, a11, a12, a21 and a22 fomes from the R field."
   ]
  },
  {
   "cell_type": "code",
   "execution_count": 19,
   "metadata": {
    "colab": {
     "base_uri": "https://localhost:8080/",
     "height": 0
    },
    "id": "363eb5a1",
    "outputId": "ea795e8a-734a-4947-8a5e-50fc7f52a909"
   },
   "outputs": [
    {
     "data": {
      "text/latex": [
       "$\\displaystyle \\left[\\begin{matrix}a_{11} \\left(x + y\\right) & a_{12} \\left(x + y\\right)\\\\a_{21} \\left(x + y\\right) & a_{22} \\left(x + y\\right)\\end{matrix}\\right]$"
      ],
      "text/plain": [
       "Matrix([\n",
       "[a11*(x + y), a12*(x + y)],\n",
       "[a21*(x + y), a22*(x + y)]])"
      ]
     },
     "execution_count": 19,
     "metadata": {},
     "output_type": "execute_result"
    }
   ],
   "source": [
    "(x + y)*A"
   ]
  },
  {
   "cell_type": "code",
   "execution_count": 20,
   "metadata": {
    "colab": {
     "base_uri": "https://localhost:8080/",
     "height": 0
    },
    "id": "bf36fa74",
    "outputId": "db88a0f7-9269-4865-db75-889a8ae25778"
   },
   "outputs": [
    {
     "data": {
      "text/latex": [
       "$\\displaystyle \\left[\\begin{matrix}a_{11} x + a_{11} y & a_{12} x + a_{12} y\\\\a_{21} x + a_{21} y & a_{22} x + a_{22} y\\end{matrix}\\right]$"
      ],
      "text/plain": [
       "Matrix([\n",
       "[a11*x + a11*y, a12*x + a12*y],\n",
       "[a21*x + a21*y, a22*x + a22*y]])"
      ]
     },
     "execution_count": 20,
     "metadata": {},
     "output_type": "execute_result"
    }
   ],
   "source": [
    "x*A + y*A"
   ]
  },
  {
   "cell_type": "code",
   "execution_count": 21,
   "metadata": {
    "colab": {
     "base_uri": "https://localhost:8080/",
     "height": 0
    },
    "id": "c07dc074",
    "outputId": "0a0a2d31-d6a7-4524-a532-292eb47e92da"
   },
   "outputs": [
    {
     "data": {
      "text/latex": [
       "$\\displaystyle \\left[\\begin{matrix}a_{11} & a_{12}\\\\a_{21} & a_{22}\\end{matrix}\\right]$"
      ],
      "text/plain": [
       "Matrix([\n",
       "[a11, a12],\n",
       "[a21, a22]])"
      ]
     },
     "execution_count": 21,
     "metadata": {},
     "output_type": "execute_result"
    }
   ],
   "source": [
    "1*A"
   ]
  },
  {
   "cell_type": "code",
   "execution_count": 22,
   "metadata": {
    "colab": {
     "base_uri": "https://localhost:8080/",
     "height": 0
    },
    "id": "c9df2c61",
    "outputId": "5d027bee-83b5-49ce-a4ee-75726101c0c3"
   },
   "outputs": [
    {
     "data": {
      "text/latex": [
       "$\\displaystyle \\left[\\begin{matrix}a_{11} & a_{12}\\\\a_{21} & a_{22}\\end{matrix}\\right]$"
      ],
      "text/plain": [
       "Matrix([\n",
       "[a11, a12],\n",
       "[a21, a22]])"
      ]
     },
     "execution_count": 22,
     "metadata": {},
     "output_type": "execute_result"
    }
   ],
   "source": [
    "A"
   ]
  },
  {
   "cell_type": "markdown",
   "metadata": {
    "id": "ig8i1n-ajw2K"
   },
   "source": [
    "A set M of vectors in a vector space M2x2 is called a basis if every element of M2X2 can be written in a unique way as a finite linear combination of elements of M. The coefficients of this linear combination are referred to as components or coordinates of the vector with respect to B. To exemplify a basis in M2x2, we may use the standard basis below:"
   ]
  },
  {
   "cell_type": "code",
   "execution_count": 23,
   "metadata": {
    "id": "d2c4b01a"
   },
   "outputs": [],
   "source": [
    "M1 = Matrix([[1, 0], [0, 0]])\n",
    "M2 = Matrix([[0, 1], [0, 0]])\n",
    "M3 = Matrix([[0, 0], [1, 0]])\n",
    "M4 = Matrix([[0, 0], [0, 1]])"
   ]
  },
  {
   "cell_type": "code",
   "execution_count": 24,
   "metadata": {
    "colab": {
     "base_uri": "https://localhost:8080/",
     "height": 0
    },
    "id": "ef824bad",
    "outputId": "118331c9-a48e-4163-e8db-868291a5074c"
   },
   "outputs": [
    {
     "data": {
      "text/latex": [
       "$\\displaystyle \\left[\\begin{matrix}1 & 0\\\\0 & 0\\end{matrix}\\right]$"
      ],
      "text/plain": [
       "Matrix([\n",
       "[1, 0],\n",
       "[0, 0]])"
      ]
     },
     "execution_count": 24,
     "metadata": {},
     "output_type": "execute_result"
    }
   ],
   "source": [
    "M1"
   ]
  },
  {
   "cell_type": "code",
   "execution_count": 25,
   "metadata": {
    "colab": {
     "base_uri": "https://localhost:8080/",
     "height": 0
    },
    "id": "8e4a93e4",
    "outputId": "5ee37d71-f971-4bb0-f1a6-bdb1b75be75e"
   },
   "outputs": [
    {
     "data": {
      "text/latex": [
       "$\\displaystyle \\left[\\begin{matrix}0 & 1\\\\0 & 0\\end{matrix}\\right]$"
      ],
      "text/plain": [
       "Matrix([\n",
       "[0, 1],\n",
       "[0, 0]])"
      ]
     },
     "execution_count": 25,
     "metadata": {},
     "output_type": "execute_result"
    }
   ],
   "source": [
    "M2"
   ]
  },
  {
   "cell_type": "code",
   "execution_count": 26,
   "metadata": {
    "colab": {
     "base_uri": "https://localhost:8080/",
     "height": 0
    },
    "id": "9a7447cd",
    "outputId": "37522e9a-1608-47b2-9a27-9907ecf3c9ab"
   },
   "outputs": [
    {
     "data": {
      "text/latex": [
       "$\\displaystyle \\left[\\begin{matrix}0 & 0\\\\1 & 0\\end{matrix}\\right]$"
      ],
      "text/plain": [
       "Matrix([\n",
       "[0, 0],\n",
       "[1, 0]])"
      ]
     },
     "execution_count": 26,
     "metadata": {},
     "output_type": "execute_result"
    }
   ],
   "source": [
    "M3"
   ]
  },
  {
   "cell_type": "code",
   "execution_count": 27,
   "metadata": {
    "colab": {
     "base_uri": "https://localhost:8080/",
     "height": 0
    },
    "id": "0eb3ae06",
    "outputId": "f1bde469-9950-42b5-9c15-7b9767563d27"
   },
   "outputs": [
    {
     "data": {
      "text/latex": [
       "$\\displaystyle \\left[\\begin{matrix}0 & 0\\\\0 & 1\\end{matrix}\\right]$"
      ],
      "text/plain": [
       "Matrix([\n",
       "[0, 0],\n",
       "[0, 1]])"
      ]
     },
     "execution_count": 27,
     "metadata": {},
     "output_type": "execute_result"
    }
   ],
   "source": [
    "M4"
   ]
  },
  {
   "cell_type": "markdown",
   "metadata": {
    "id": "883598af"
   },
   "source": [
    "## 3. Find the inverse for the matrix"
   ]
  },
  {
   "cell_type": "code",
   "execution_count": 28,
   "metadata": {
    "id": "402713c5"
   },
   "outputs": [],
   "source": [
    "from sympy import *"
   ]
  },
  {
   "cell_type": "code",
   "execution_count": 29,
   "metadata": {
    "id": "7edde0cf"
   },
   "outputs": [],
   "source": [
    "a, b, c, d = symbols('a b c d')"
   ]
  },
  {
   "cell_type": "code",
   "execution_count": 30,
   "metadata": {
    "id": "a4c56ceb"
   },
   "outputs": [],
   "source": [
    "A = Matrix([[a, b], [c, d]])"
   ]
  },
  {
   "cell_type": "code",
   "execution_count": 31,
   "metadata": {
    "colab": {
     "base_uri": "https://localhost:8080/",
     "height": 0
    },
    "id": "2eecf7b3",
    "outputId": "e0f9e31a-df25-4305-e6dc-68a5064d9343"
   },
   "outputs": [
    {
     "data": {
      "text/latex": [
       "$\\displaystyle a d - b c$"
      ],
      "text/plain": [
       "a*d - b*c"
      ]
     },
     "execution_count": 31,
     "metadata": {},
     "output_type": "execute_result"
    }
   ],
   "source": [
    "A.det()"
   ]
  },
  {
   "cell_type": "code",
   "execution_count": 32,
   "metadata": {
    "colab": {
     "base_uri": "https://localhost:8080/",
     "height": 0
    },
    "id": "7848ee5d",
    "outputId": "bf9122c2-0150-4051-f5fa-0e78e0ec0f77"
   },
   "outputs": [
    {
     "data": {
      "text/latex": [
       "$\\displaystyle \\left[\\begin{matrix}\\frac{d}{a d - b c} & - \\frac{b}{a d - b c}\\\\- \\frac{c}{a d - b c} & \\frac{a}{a d - b c}\\end{matrix}\\right]$"
      ],
      "text/plain": [
       "Matrix([\n",
       "[ d/(a*d - b*c), -b/(a*d - b*c)],\n",
       "[-c/(a*d - b*c),  a/(a*d - b*c)]])"
      ]
     },
     "execution_count": 32,
     "metadata": {},
     "output_type": "execute_result"
    }
   ],
   "source": [
    "A.inv()"
   ]
  },
  {
   "cell_type": "markdown",
   "metadata": {
    "id": "5d1wBo97lG8y"
   },
   "source": [
    "It's important to understand that we cannot find the inverse for the matrix if det = 0."
   ]
  },
  {
   "cell_type": "markdown",
   "metadata": {
    "id": "6eaffa5a"
   },
   "source": [
    "## 4. Give a definition and an example of a supervised learning algorithm"
   ]
  },
  {
   "cell_type": "markdown",
   "metadata": {
    "id": "Y7J8oTbYleG7"
   },
   "source": [
    "In supervised learning, the training set fed to the algorithm includes the desired solutions, called labels. In machine learning and artificial intelligence, supervised learning refers to systems and algorithms that determine a predictive model using data points with known outcomes. The main task is to predict a target numeric value (a float value more specifically), such as the price of a product or the height of people, given a set of features (mileage, age, brand, etc.) called predictors.\n",
    "\n",
    "Some of the most important supervised algorithms are:\n",
    "\n",
    "\n",
    "*   K-Nearest Neighbors\n",
    "*   Linear Regression\n",
    "*   Support Vector Machines (SVMs)\n",
    "*   Decision Trees and Random Forests\n",
    "*   XGBoost\n",
    "\n",
    "\n",
    "As an example of supervised learning, I'll show how to use sklearn (a python library) to predict the price of diamonds base on the dataset's features. For this task I'll use linear regression.\n",
    "\n",
    "Linear regression is a linear approach for modelling the relationship between a scalar response and one or more variables (also known as dependent and independent variables). The case of one explanatory variable is called simple linear regression, we're going to model our diamond prices using multiple linear regression as follows."
   ]
  },
  {
   "cell_type": "code",
   "execution_count": 33,
   "metadata": {
    "id": "1ca2a1d9"
   },
   "outputs": [],
   "source": [
    "import seaborn as sns\n",
    "from sklearn.model_selection import train_test_split\n",
    "from sklearn.linear_model import LinearRegression"
   ]
  },
  {
   "cell_type": "code",
   "execution_count": 34,
   "metadata": {
    "colab": {
     "base_uri": "https://localhost:8080/",
     "height": 206
    },
    "id": "547a8f88",
    "outputId": "c9c6003c-18ad-4a27-90aa-ee7f3be6e7f7"
   },
   "outputs": [
    {
     "data": {
      "text/html": [
       "\n",
       "  <div id=\"df-b98b82ad-c967-4f37-a65c-c8b499578c66\">\n",
       "    <div class=\"colab-df-container\">\n",
       "      <div>\n",
       "<style scoped>\n",
       "    .dataframe tbody tr th:only-of-type {\n",
       "        vertical-align: middle;\n",
       "    }\n",
       "\n",
       "    .dataframe tbody tr th {\n",
       "        vertical-align: top;\n",
       "    }\n",
       "\n",
       "    .dataframe thead th {\n",
       "        text-align: right;\n",
       "    }\n",
       "</style>\n",
       "<table border=\"1\" class=\"dataframe\">\n",
       "  <thead>\n",
       "    <tr style=\"text-align: right;\">\n",
       "      <th></th>\n",
       "      <th>carat</th>\n",
       "      <th>cut</th>\n",
       "      <th>color</th>\n",
       "      <th>clarity</th>\n",
       "      <th>depth</th>\n",
       "      <th>table</th>\n",
       "      <th>price</th>\n",
       "      <th>x</th>\n",
       "      <th>y</th>\n",
       "      <th>z</th>\n",
       "    </tr>\n",
       "  </thead>\n",
       "  <tbody>\n",
       "    <tr>\n",
       "      <th>0</th>\n",
       "      <td>0.23</td>\n",
       "      <td>Ideal</td>\n",
       "      <td>E</td>\n",
       "      <td>SI2</td>\n",
       "      <td>61.5</td>\n",
       "      <td>55.0</td>\n",
       "      <td>326</td>\n",
       "      <td>3.95</td>\n",
       "      <td>3.98</td>\n",
       "      <td>2.43</td>\n",
       "    </tr>\n",
       "    <tr>\n",
       "      <th>1</th>\n",
       "      <td>0.21</td>\n",
       "      <td>Premium</td>\n",
       "      <td>E</td>\n",
       "      <td>SI1</td>\n",
       "      <td>59.8</td>\n",
       "      <td>61.0</td>\n",
       "      <td>326</td>\n",
       "      <td>3.89</td>\n",
       "      <td>3.84</td>\n",
       "      <td>2.31</td>\n",
       "    </tr>\n",
       "    <tr>\n",
       "      <th>2</th>\n",
       "      <td>0.23</td>\n",
       "      <td>Good</td>\n",
       "      <td>E</td>\n",
       "      <td>VS1</td>\n",
       "      <td>56.9</td>\n",
       "      <td>65.0</td>\n",
       "      <td>327</td>\n",
       "      <td>4.05</td>\n",
       "      <td>4.07</td>\n",
       "      <td>2.31</td>\n",
       "    </tr>\n",
       "    <tr>\n",
       "      <th>3</th>\n",
       "      <td>0.29</td>\n",
       "      <td>Premium</td>\n",
       "      <td>I</td>\n",
       "      <td>VS2</td>\n",
       "      <td>62.4</td>\n",
       "      <td>58.0</td>\n",
       "      <td>334</td>\n",
       "      <td>4.20</td>\n",
       "      <td>4.23</td>\n",
       "      <td>2.63</td>\n",
       "    </tr>\n",
       "    <tr>\n",
       "      <th>4</th>\n",
       "      <td>0.31</td>\n",
       "      <td>Good</td>\n",
       "      <td>J</td>\n",
       "      <td>SI2</td>\n",
       "      <td>63.3</td>\n",
       "      <td>58.0</td>\n",
       "      <td>335</td>\n",
       "      <td>4.34</td>\n",
       "      <td>4.35</td>\n",
       "      <td>2.75</td>\n",
       "    </tr>\n",
       "  </tbody>\n",
       "</table>\n",
       "</div>\n",
       "      <button class=\"colab-df-convert\" onclick=\"convertToInteractive('df-b98b82ad-c967-4f37-a65c-c8b499578c66')\"\n",
       "              title=\"Convert this dataframe to an interactive table.\"\n",
       "              style=\"display:none;\">\n",
       "        \n",
       "  <svg xmlns=\"http://www.w3.org/2000/svg\" height=\"24px\"viewBox=\"0 0 24 24\"\n",
       "       width=\"24px\">\n",
       "    <path d=\"M0 0h24v24H0V0z\" fill=\"none\"/>\n",
       "    <path d=\"M18.56 5.44l.94 2.06.94-2.06 2.06-.94-2.06-.94-.94-2.06-.94 2.06-2.06.94zm-11 1L8.5 8.5l.94-2.06 2.06-.94-2.06-.94L8.5 2.5l-.94 2.06-2.06.94zm10 10l.94 2.06.94-2.06 2.06-.94-2.06-.94-.94-2.06-.94 2.06-2.06.94z\"/><path d=\"M17.41 7.96l-1.37-1.37c-.4-.4-.92-.59-1.43-.59-.52 0-1.04.2-1.43.59L10.3 9.45l-7.72 7.72c-.78.78-.78 2.05 0 2.83L4 21.41c.39.39.9.59 1.41.59.51 0 1.02-.2 1.41-.59l7.78-7.78 2.81-2.81c.8-.78.8-2.07 0-2.86zM5.41 20L4 18.59l7.72-7.72 1.47 1.35L5.41 20z\"/>\n",
       "  </svg>\n",
       "      </button>\n",
       "      \n",
       "  <style>\n",
       "    .colab-df-container {\n",
       "      display:flex;\n",
       "      flex-wrap:wrap;\n",
       "      gap: 12px;\n",
       "    }\n",
       "\n",
       "    .colab-df-convert {\n",
       "      background-color: #E8F0FE;\n",
       "      border: none;\n",
       "      border-radius: 50%;\n",
       "      cursor: pointer;\n",
       "      display: none;\n",
       "      fill: #1967D2;\n",
       "      height: 32px;\n",
       "      padding: 0 0 0 0;\n",
       "      width: 32px;\n",
       "    }\n",
       "\n",
       "    .colab-df-convert:hover {\n",
       "      background-color: #E2EBFA;\n",
       "      box-shadow: 0px 1px 2px rgba(60, 64, 67, 0.3), 0px 1px 3px 1px rgba(60, 64, 67, 0.15);\n",
       "      fill: #174EA6;\n",
       "    }\n",
       "\n",
       "    [theme=dark] .colab-df-convert {\n",
       "      background-color: #3B4455;\n",
       "      fill: #D2E3FC;\n",
       "    }\n",
       "\n",
       "    [theme=dark] .colab-df-convert:hover {\n",
       "      background-color: #434B5C;\n",
       "      box-shadow: 0px 1px 3px 1px rgba(0, 0, 0, 0.15);\n",
       "      filter: drop-shadow(0px 1px 2px rgba(0, 0, 0, 0.3));\n",
       "      fill: #FFFFFF;\n",
       "    }\n",
       "  </style>\n",
       "\n",
       "      <script>\n",
       "        const buttonEl =\n",
       "          document.querySelector('#df-b98b82ad-c967-4f37-a65c-c8b499578c66 button.colab-df-convert');\n",
       "        buttonEl.style.display =\n",
       "          google.colab.kernel.accessAllowed ? 'block' : 'none';\n",
       "\n",
       "        async function convertToInteractive(key) {\n",
       "          const element = document.querySelector('#df-b98b82ad-c967-4f37-a65c-c8b499578c66');\n",
       "          const dataTable =\n",
       "            await google.colab.kernel.invokeFunction('convertToInteractive',\n",
       "                                                     [key], {});\n",
       "          if (!dataTable) return;\n",
       "\n",
       "          const docLinkHtml = 'Like what you see? Visit the ' +\n",
       "            '<a target=\"_blank\" href=https://colab.research.google.com/notebooks/data_table.ipynb>data table notebook</a>'\n",
       "            + ' to learn more about interactive tables.';\n",
       "          element.innerHTML = '';\n",
       "          dataTable['output_type'] = 'display_data';\n",
       "          await google.colab.output.renderOutput(dataTable, element);\n",
       "          const docLink = document.createElement('div');\n",
       "          docLink.innerHTML = docLinkHtml;\n",
       "          element.appendChild(docLink);\n",
       "        }\n",
       "      </script>\n",
       "    </div>\n",
       "  </div>\n",
       "  "
      ],
      "text/plain": [
       "   carat      cut color clarity  depth  table  price     x     y     z\n",
       "0   0.23    Ideal     E     SI2   61.5   55.0    326  3.95  3.98  2.43\n",
       "1   0.21  Premium     E     SI1   59.8   61.0    326  3.89  3.84  2.31\n",
       "2   0.23     Good     E     VS1   56.9   65.0    327  4.05  4.07  2.31\n",
       "3   0.29  Premium     I     VS2   62.4   58.0    334  4.20  4.23  2.63\n",
       "4   0.31     Good     J     SI2   63.3   58.0    335  4.34  4.35  2.75"
      ]
     },
     "execution_count": 34,
     "metadata": {},
     "output_type": "execute_result"
    }
   ],
   "source": [
    "diamond = sns.load_dataset('diamonds')\n",
    "diamond.head()"
   ]
  },
  {
   "cell_type": "code",
   "execution_count": 35,
   "metadata": {
    "colab": {
     "base_uri": "https://localhost:8080/",
     "height": 269
    },
    "id": "6dc884d8",
    "outputId": "288d5c08-c3a5-4dcc-941c-1bf1967b6d4f"
   },
   "outputs": [
    {
     "data": {
      "text/html": [
       "\n",
       "  <div id=\"df-de85ed9c-ee80-4706-bf0f-8616f30a85b4\">\n",
       "    <div class=\"colab-df-container\">\n",
       "      <div>\n",
       "<style scoped>\n",
       "    .dataframe tbody tr th:only-of-type {\n",
       "        vertical-align: middle;\n",
       "    }\n",
       "\n",
       "    .dataframe tbody tr th {\n",
       "        vertical-align: top;\n",
       "    }\n",
       "\n",
       "    .dataframe thead th {\n",
       "        text-align: right;\n",
       "    }\n",
       "</style>\n",
       "<table border=\"1\" class=\"dataframe\">\n",
       "  <thead>\n",
       "    <tr style=\"text-align: right;\">\n",
       "      <th></th>\n",
       "      <th>carat</th>\n",
       "      <th>depth</th>\n",
       "      <th>table</th>\n",
       "      <th>price</th>\n",
       "      <th>x</th>\n",
       "      <th>y</th>\n",
       "      <th>z</th>\n",
       "    </tr>\n",
       "  </thead>\n",
       "  <tbody>\n",
       "    <tr>\n",
       "      <th>carat</th>\n",
       "      <td>1.000000</td>\n",
       "      <td>0.028224</td>\n",
       "      <td>0.181618</td>\n",
       "      <td>0.921591</td>\n",
       "      <td>0.975094</td>\n",
       "      <td>0.951722</td>\n",
       "      <td>0.953387</td>\n",
       "    </tr>\n",
       "    <tr>\n",
       "      <th>depth</th>\n",
       "      <td>0.028224</td>\n",
       "      <td>1.000000</td>\n",
       "      <td>-0.295779</td>\n",
       "      <td>-0.010647</td>\n",
       "      <td>-0.025289</td>\n",
       "      <td>-0.029341</td>\n",
       "      <td>0.094924</td>\n",
       "    </tr>\n",
       "    <tr>\n",
       "      <th>table</th>\n",
       "      <td>0.181618</td>\n",
       "      <td>-0.295779</td>\n",
       "      <td>1.000000</td>\n",
       "      <td>0.127134</td>\n",
       "      <td>0.195344</td>\n",
       "      <td>0.183760</td>\n",
       "      <td>0.150929</td>\n",
       "    </tr>\n",
       "    <tr>\n",
       "      <th>price</th>\n",
       "      <td>0.921591</td>\n",
       "      <td>-0.010647</td>\n",
       "      <td>0.127134</td>\n",
       "      <td>1.000000</td>\n",
       "      <td>0.884435</td>\n",
       "      <td>0.865421</td>\n",
       "      <td>0.861249</td>\n",
       "    </tr>\n",
       "    <tr>\n",
       "      <th>x</th>\n",
       "      <td>0.975094</td>\n",
       "      <td>-0.025289</td>\n",
       "      <td>0.195344</td>\n",
       "      <td>0.884435</td>\n",
       "      <td>1.000000</td>\n",
       "      <td>0.974701</td>\n",
       "      <td>0.970772</td>\n",
       "    </tr>\n",
       "    <tr>\n",
       "      <th>y</th>\n",
       "      <td>0.951722</td>\n",
       "      <td>-0.029341</td>\n",
       "      <td>0.183760</td>\n",
       "      <td>0.865421</td>\n",
       "      <td>0.974701</td>\n",
       "      <td>1.000000</td>\n",
       "      <td>0.952006</td>\n",
       "    </tr>\n",
       "    <tr>\n",
       "      <th>z</th>\n",
       "      <td>0.953387</td>\n",
       "      <td>0.094924</td>\n",
       "      <td>0.150929</td>\n",
       "      <td>0.861249</td>\n",
       "      <td>0.970772</td>\n",
       "      <td>0.952006</td>\n",
       "      <td>1.000000</td>\n",
       "    </tr>\n",
       "  </tbody>\n",
       "</table>\n",
       "</div>\n",
       "      <button class=\"colab-df-convert\" onclick=\"convertToInteractive('df-de85ed9c-ee80-4706-bf0f-8616f30a85b4')\"\n",
       "              title=\"Convert this dataframe to an interactive table.\"\n",
       "              style=\"display:none;\">\n",
       "        \n",
       "  <svg xmlns=\"http://www.w3.org/2000/svg\" height=\"24px\"viewBox=\"0 0 24 24\"\n",
       "       width=\"24px\">\n",
       "    <path d=\"M0 0h24v24H0V0z\" fill=\"none\"/>\n",
       "    <path d=\"M18.56 5.44l.94 2.06.94-2.06 2.06-.94-2.06-.94-.94-2.06-.94 2.06-2.06.94zm-11 1L8.5 8.5l.94-2.06 2.06-.94-2.06-.94L8.5 2.5l-.94 2.06-2.06.94zm10 10l.94 2.06.94-2.06 2.06-.94-2.06-.94-.94-2.06-.94 2.06-2.06.94z\"/><path d=\"M17.41 7.96l-1.37-1.37c-.4-.4-.92-.59-1.43-.59-.52 0-1.04.2-1.43.59L10.3 9.45l-7.72 7.72c-.78.78-.78 2.05 0 2.83L4 21.41c.39.39.9.59 1.41.59.51 0 1.02-.2 1.41-.59l7.78-7.78 2.81-2.81c.8-.78.8-2.07 0-2.86zM5.41 20L4 18.59l7.72-7.72 1.47 1.35L5.41 20z\"/>\n",
       "  </svg>\n",
       "      </button>\n",
       "      \n",
       "  <style>\n",
       "    .colab-df-container {\n",
       "      display:flex;\n",
       "      flex-wrap:wrap;\n",
       "      gap: 12px;\n",
       "    }\n",
       "\n",
       "    .colab-df-convert {\n",
       "      background-color: #E8F0FE;\n",
       "      border: none;\n",
       "      border-radius: 50%;\n",
       "      cursor: pointer;\n",
       "      display: none;\n",
       "      fill: #1967D2;\n",
       "      height: 32px;\n",
       "      padding: 0 0 0 0;\n",
       "      width: 32px;\n",
       "    }\n",
       "\n",
       "    .colab-df-convert:hover {\n",
       "      background-color: #E2EBFA;\n",
       "      box-shadow: 0px 1px 2px rgba(60, 64, 67, 0.3), 0px 1px 3px 1px rgba(60, 64, 67, 0.15);\n",
       "      fill: #174EA6;\n",
       "    }\n",
       "\n",
       "    [theme=dark] .colab-df-convert {\n",
       "      background-color: #3B4455;\n",
       "      fill: #D2E3FC;\n",
       "    }\n",
       "\n",
       "    [theme=dark] .colab-df-convert:hover {\n",
       "      background-color: #434B5C;\n",
       "      box-shadow: 0px 1px 3px 1px rgba(0, 0, 0, 0.15);\n",
       "      filter: drop-shadow(0px 1px 2px rgba(0, 0, 0, 0.3));\n",
       "      fill: #FFFFFF;\n",
       "    }\n",
       "  </style>\n",
       "\n",
       "      <script>\n",
       "        const buttonEl =\n",
       "          document.querySelector('#df-de85ed9c-ee80-4706-bf0f-8616f30a85b4 button.colab-df-convert');\n",
       "        buttonEl.style.display =\n",
       "          google.colab.kernel.accessAllowed ? 'block' : 'none';\n",
       "\n",
       "        async function convertToInteractive(key) {\n",
       "          const element = document.querySelector('#df-de85ed9c-ee80-4706-bf0f-8616f30a85b4');\n",
       "          const dataTable =\n",
       "            await google.colab.kernel.invokeFunction('convertToInteractive',\n",
       "                                                     [key], {});\n",
       "          if (!dataTable) return;\n",
       "\n",
       "          const docLinkHtml = 'Like what you see? Visit the ' +\n",
       "            '<a target=\"_blank\" href=https://colab.research.google.com/notebooks/data_table.ipynb>data table notebook</a>'\n",
       "            + ' to learn more about interactive tables.';\n",
       "          element.innerHTML = '';\n",
       "          dataTable['output_type'] = 'display_data';\n",
       "          await google.colab.output.renderOutput(dataTable, element);\n",
       "          const docLink = document.createElement('div');\n",
       "          docLink.innerHTML = docLinkHtml;\n",
       "          element.appendChild(docLink);\n",
       "        }\n",
       "      </script>\n",
       "    </div>\n",
       "  </div>\n",
       "  "
      ],
      "text/plain": [
       "          carat     depth     table     price         x         y         z\n",
       "carat  1.000000  0.028224  0.181618  0.921591  0.975094  0.951722  0.953387\n",
       "depth  0.028224  1.000000 -0.295779 -0.010647 -0.025289 -0.029341  0.094924\n",
       "table  0.181618 -0.295779  1.000000  0.127134  0.195344  0.183760  0.150929\n",
       "price  0.921591 -0.010647  0.127134  1.000000  0.884435  0.865421  0.861249\n",
       "x      0.975094 -0.025289  0.195344  0.884435  1.000000  0.974701  0.970772\n",
       "y      0.951722 -0.029341  0.183760  0.865421  0.974701  1.000000  0.952006\n",
       "z      0.953387  0.094924  0.150929  0.861249  0.970772  0.952006  1.000000"
      ]
     },
     "execution_count": 35,
     "metadata": {},
     "output_type": "execute_result"
    }
   ],
   "source": [
    "correlation = diamond.corr()\n",
    "correlation"
   ]
  },
  {
   "cell_type": "code",
   "execution_count": 36,
   "metadata": {
    "colab": {
     "base_uri": "https://localhost:8080/",
     "height": 414
    },
    "id": "9671865e",
    "outputId": "7d5f8767-04c7-4c24-f543-504c44a56625"
   },
   "outputs": [
    {
     "data": {
      "text/plain": [
       "Text(0.5, 1.0, 'Features Heatmap')"
      ]
     },
     "execution_count": 36,
     "metadata": {},
     "output_type": "execute_result"
    },
    {
     "data": {
      "image/png": "[encoded data removed]",
      "text/plain": [
       "<Figure size 720x432 with 2 Axes>"
      ]
     },
     "metadata": {},
     "output_type": "display_data"
    }
   ],
   "source": [
    "ax = sns.set(rc = {'figure.figsize': (10, 6)})\n",
    "ax = sns.heatmap(data = correlation, annot = True)\n",
    "ax.set_title('Features Heatmap', fontsize = 18)"
   ]
  },
  {
   "cell_type": "markdown",
   "metadata": {
    "id": "-gws11AgpjVN"
   },
   "source": [
    "The high correlation between the price and the set of features 'carat', 'x', 'y' and 'z' is a good indicative for using the linear regression model."
   ]
  },
  {
   "cell_type": "code",
   "execution_count": 37,
   "metadata": {
    "id": "38d3b0b9"
   },
   "outputs": [],
   "source": [
    "X = diamond[['carat', 'x', 'y', 'z']]\n",
    "y = diamond[['price']]"
   ]
  },
  {
   "cell_type": "code",
   "execution_count": 38,
   "metadata": {
    "id": "1696c453"
   },
   "outputs": [],
   "source": [
    "X_train, X_test, y_train, y_test = train_test_split(X, y, test_size = 0.2, random_state = 2811)"
   ]
  },
  {
   "cell_type": "code",
   "execution_count": 39,
   "metadata": {
    "id": "c582d4ac"
   },
   "outputs": [],
   "source": [
    "model = LinearRegression()"
   ]
  },
  {
   "cell_type": "code",
   "execution_count": 40,
   "metadata": {
    "colab": {
     "base_uri": "https://localhost:8080/"
    },
    "id": "8f3a6c5b",
    "outputId": "e2cbddaf-b23b-45a3-a75f-f59e0f820d20"
   },
   "outputs": [
    {
     "data": {
      "text/plain": [
       "LinearRegression()"
      ]
     },
     "execution_count": 40,
     "metadata": {},
     "output_type": "execute_result"
    }
   ],
   "source": [
    "model.fit(X_train, y_train)"
   ]
  },
  {
   "cell_type": "code",
   "execution_count": 41,
   "metadata": {
    "id": "Q5m5Tb8Dzgky"
   },
   "outputs": [],
   "source": [
    "train_LR_accuracy = model.score(X_train, y_train)"
   ]
  },
  {
   "cell_type": "code",
   "execution_count": 42,
   "metadata": {
    "id": "f1aa34e6"
   },
   "outputs": [],
   "source": [
    "test_LR_accuracy = model.score(X_test, y_test)"
   ]
  },
  {
   "cell_type": "code",
   "execution_count": 43,
   "metadata": {
    "colab": {
     "base_uri": "https://localhost:8080/"
    },
    "id": "mW-rXN7TzfEX",
    "outputId": "841bec7a-0d08-4e0d-ebb2-c905e053aa88"
   },
   "outputs": [
    {
     "name": "stdout",
     "output_type": "stream",
     "text": [
      "Training Accuracy: 85.35%\n",
      "Test Accuracy: 85.64%\n"
     ]
    }
   ],
   "source": [
    "print('Training Accuracy: {:.2f}%'.format((train_LR_accuracy) * 100))\n",
    "print('Test Accuracy: {:.2f}%'.format((test_LR_accuracy) * 100))"
   ]
  },
  {
   "cell_type": "markdown",
   "metadata": {
    "id": "849da552"
   },
   "source": [
    "## 5. Give a definition and an example of a unsupervised learning algorithm"
   ]
  },
  {
   "cell_type": "markdown",
   "metadata": {
    "id": "Hn_Qvpf8qxJj"
   },
   "source": [
    "In unsupervised learning, the training data is not labeled as supervised learning. These algorithms discover hidden patterns or data groupings without the need for human intervention. Its ability to discover similarities and differences in information make it the ideal solution for exploratory data analysis. The system tries to learn without a teacher. Some of the most important unsupervised learning algorithms are:\n",
    "\n",
    "\n",
    "\n",
    "*   KMeans\n",
    "*   DBSCAN\n",
    "*   Hierarchical Cluster Analysis (HCA)"
   ]
  },
  {
   "cell_type": "markdown",
   "metadata": {
    "id": "XbeuwW_a6p-t"
   },
   "source": [
    "To exemplify the unsupervised learning, I've chosen the K-Means algorithm."
   ]
  },
  {
   "cell_type": "markdown",
   "metadata": {
    "id": "x-Q173m35SuO"
   },
   "source": [
    "K-Means algorithm is a simple algorithm capable of clustering this a dataset very quickly and efficiently, often in just a few iterations. It particionates a given dataset into k mutually exclusive clusters such that the sum of the distances (this one measured by an specific metric) between data and the corresponding cluster centroid is minimized. The KMeans work based on a weighed mean of the location of its centroids. The algorithm starts by placing the centroids randomly picking k instances (defined by us) randomly and using their locations as centroids. Then label the instances, update the centroids, and repeat this process of updating and labeling until the centroids stop moving. The algorithm will converge in a finite number of steps."
   ]
  },
  {
   "cell_type": "markdown",
   "metadata": {
    "id": "ahBzDWAk7Eht"
   },
   "source": [
    "I've chosen the Titanic dataset to exemplify the KMeans algorithm. First it's going to be necessary to perform some features' selection and prepare the dataset tranforming some cathegorical variable in numeric."
   ]
  },
  {
   "cell_type": "code",
   "execution_count": 44,
   "metadata": {
    "id": "929c24cc"
   },
   "outputs": [],
   "source": [
    "import pandas as pd\n",
    "import numpy as np\n",
    "from sklearn.cluster import KMeans\n",
    "from sklearn.preprocessing import LabelEncoder\n",
    "from sklearn.preprocessing import MinMaxScaler\n",
    "import seaborn as sns"
   ]
  },
  {
   "cell_type": "code",
   "execution_count": 45,
   "metadata": {
    "id": "190dc616"
   },
   "outputs": [],
   "source": [
    "train_url = \"http://s3.amazonaws.com/assets.datacamp.com/course/Kaggle/train.csv\"\n",
    "train = pd.read_csv(train_url)\n",
    "test_url = \"http://s3.amazonaws.com/assets.datacamp.com/course/Kaggle/test.csv\"\n",
    "test = pd.read_csv(test_url)"
   ]
  },
  {
   "cell_type": "code",
   "execution_count": 46,
   "metadata": {
    "colab": {
     "base_uri": "https://localhost:8080/",
     "height": 206
    },
    "id": "f4c5e00b",
    "outputId": "7bc8880b-7162-4e13-d02f-9cc94bbb73d6"
   },
   "outputs": [
    {
     "data": {
      "text/html": [
       "\n",
       "  <div id=\"df-ed048cbe-b05d-4651-a191-d8aecdc99388\">\n",
       "    <div class=\"colab-df-container\">\n",
       "      <div>\n",
       "<style scoped>\n",
       "    .dataframe tbody tr th:only-of-type {\n",
       "        vertical-align: middle;\n",
       "    }\n",
       "\n",
       "    .dataframe tbody tr th {\n",
       "        vertical-align: top;\n",
       "    }\n",
       "\n",
       "    .dataframe thead th {\n",
       "        text-align: right;\n",
       "    }\n",
       "</style>\n",
       "<table border=\"1\" class=\"dataframe\">\n",
       "  <thead>\n",
       "    <tr style=\"text-align: right;\">\n",
       "      <th></th>\n",
       "      <th>PassengerId</th>\n",
       "      <th>Survived</th>\n",
       "      <th>Pclass</th>\n",
       "      <th>Name</th>\n",
       "      <th>Sex</th>\n",
       "      <th>Age</th>\n",
       "      <th>SibSp</th>\n",
       "      <th>Parch</th>\n",
       "      <th>Ticket</th>\n",
       "      <th>Fare</th>\n",
       "      <th>Cabin</th>\n",
       "      <th>Embarked</th>\n",
       "    </tr>\n",
       "  </thead>\n",
       "  <tbody>\n",
       "    <tr>\n",
       "      <th>0</th>\n",
       "      <td>1</td>\n",
       "      <td>0</td>\n",
       "      <td>3</td>\n",
       "      <td>Braund, Mr. Owen Harris</td>\n",
       "      <td>male</td>\n",
       "      <td>22.0</td>\n",
       "      <td>1</td>\n",
       "      <td>0</td>\n",
       "      <td>A/5 21171</td>\n",
       "      <td>7.2500</td>\n",
       "      <td>NaN</td>\n",
       "      <td>S</td>\n",
       "    </tr>\n",
       "    <tr>\n",
       "      <th>1</th>\n",
       "      <td>2</td>\n",
       "      <td>1</td>\n",
       "      <td>1</td>\n",
       "      <td>Cumings, Mrs. John Bradley (Florence Briggs Th...</td>\n",
       "      <td>female</td>\n",
       "      <td>38.0</td>\n",
       "      <td>1</td>\n",
       "      <td>0</td>\n",
       "      <td>PC 17599</td>\n",
       "      <td>71.2833</td>\n",
       "      <td>C85</td>\n",
       "      <td>C</td>\n",
       "    </tr>\n",
       "    <tr>\n",
       "      <th>2</th>\n",
       "      <td>3</td>\n",
       "      <td>1</td>\n",
       "      <td>3</td>\n",
       "      <td>Heikkinen, Miss. Laina</td>\n",
       "      <td>female</td>\n",
       "      <td>26.0</td>\n",
       "      <td>0</td>\n",
       "      <td>0</td>\n",
       "      <td>STON/O2. 3101282</td>\n",
       "      <td>7.9250</td>\n",
       "      <td>NaN</td>\n",
       "      <td>S</td>\n",
       "    </tr>\n",
       "    <tr>\n",
       "      <th>3</th>\n",
       "      <td>4</td>\n",
       "      <td>1</td>\n",
       "      <td>1</td>\n",
       "      <td>Futrelle, Mrs. Jacques Heath (Lily May Peel)</td>\n",
       "      <td>female</td>\n",
       "      <td>35.0</td>\n",
       "      <td>1</td>\n",
       "      <td>0</td>\n",
       "      <td>113803</td>\n",
       "      <td>53.1000</td>\n",
       "      <td>C123</td>\n",
       "      <td>S</td>\n",
       "    </tr>\n",
       "    <tr>\n",
       "      <th>4</th>\n",
       "      <td>5</td>\n",
       "      <td>0</td>\n",
       "      <td>3</td>\n",
       "      <td>Allen, Mr. William Henry</td>\n",
       "      <td>male</td>\n",
       "      <td>35.0</td>\n",
       "      <td>0</td>\n",
       "      <td>0</td>\n",
       "      <td>373450</td>\n",
       "      <td>8.0500</td>\n",
       "      <td>NaN</td>\n",
       "      <td>S</td>\n",
       "    </tr>\n",
       "  </tbody>\n",
       "</table>\n",
       "</div>\n",
       "      <button class=\"colab-df-convert\" onclick=\"convertToInteractive('df-ed048cbe-b05d-4651-a191-d8aecdc99388')\"\n",
       "              title=\"Convert this dataframe to an interactive table.\"\n",
       "              style=\"display:none;\">\n",
       "        \n",
       "  <svg xmlns=\"http://www.w3.org/2000/svg\" height=\"24px\"viewBox=\"0 0 24 24\"\n",
       "       width=\"24px\">\n",
       "    <path d=\"M0 0h24v24H0V0z\" fill=\"none\"/>\n",
       "    <path d=\"M18.56 5.44l.94 2.06.94-2.06 2.06-.94-2.06-.94-.94-2.06-.94 2.06-2.06.94zm-11 1L8.5 8.5l.94-2.06 2.06-.94-2.06-.94L8.5 2.5l-.94 2.06-2.06.94zm10 10l.94 2.06.94-2.06 2.06-.94-2.06-.94-.94-2.06-.94 2.06-2.06.94z\"/><path d=\"M17.41 7.96l-1.37-1.37c-.4-.4-.92-.59-1.43-.59-.52 0-1.04.2-1.43.59L10.3 9.45l-7.72 7.72c-.78.78-.78 2.05 0 2.83L4 21.41c.39.39.9.59 1.41.59.51 0 1.02-.2 1.41-.59l7.78-7.78 2.81-2.81c.8-.78.8-2.07 0-2.86zM5.41 20L4 18.59l7.72-7.72 1.47 1.35L5.41 20z\"/>\n",
       "  </svg>\n",
       "      </button>\n",
       "      \n",
       "  <style>\n",
       "    .colab-df-container {\n",
       "      display:flex;\n",
       "      flex-wrap:wrap;\n",
       "      gap: 12px;\n",
       "    }\n",
       "\n",
       "    .colab-df-convert {\n",
       "      background-color: #E8F0FE;\n",
       "      border: none;\n",
       "      border-radius: 50%;\n",
       "      cursor: pointer;\n",
       "      display: none;\n",
       "      fill: #1967D2;\n",
       "      height: 32px;\n",
       "      padding: 0 0 0 0;\n",
       "      width: 32px;\n",
       "    }\n",
       "\n",
       "    .colab-df-convert:hover {\n",
       "      background-color: #E2EBFA;\n",
       "      box-shadow: 0px 1px 2px rgba(60, 64, 67, 0.3), 0px 1px 3px 1px rgba(60, 64, 67, 0.15);\n",
       "      fill: #174EA6;\n",
       "    }\n",
       "\n",
       "    [theme=dark] .colab-df-convert {\n",
       "      background-color: #3B4455;\n",
       "      fill: #D2E3FC;\n",
       "    }\n",
       "\n",
       "    [theme=dark] .colab-df-convert:hover {\n",
       "      background-color: #434B5C;\n",
       "      box-shadow: 0px 1px 3px 1px rgba(0, 0, 0, 0.15);\n",
       "      filter: drop-shadow(0px 1px 2px rgba(0, 0, 0, 0.3));\n",
       "      fill: #FFFFFF;\n",
       "    }\n",
       "  </style>\n",
       "\n",
       "      <script>\n",
       "        const buttonEl =\n",
       "          document.querySelector('#df-ed048cbe-b05d-4651-a191-d8aecdc99388 button.colab-df-convert');\n",
       "        buttonEl.style.display =\n",
       "          google.colab.kernel.accessAllowed ? 'block' : 'none';\n",
       "\n",
       "        async function convertToInteractive(key) {\n",
       "          const element = document.querySelector('#df-ed048cbe-b05d-4651-a191-d8aecdc99388');\n",
       "          const dataTable =\n",
       "            await google.colab.kernel.invokeFunction('convertToInteractive',\n",
       "                                                     [key], {});\n",
       "          if (!dataTable) return;\n",
       "\n",
       "          const docLinkHtml = 'Like what you see? Visit the ' +\n",
       "            '<a target=\"_blank\" href=https://colab.research.google.com/notebooks/data_table.ipynb>data table notebook</a>'\n",
       "            + ' to learn more about interactive tables.';\n",
       "          element.innerHTML = '';\n",
       "          dataTable['output_type'] = 'display_data';\n",
       "          await google.colab.output.renderOutput(dataTable, element);\n",
       "          const docLink = document.createElement('div');\n",
       "          docLink.innerHTML = docLinkHtml;\n",
       "          element.appendChild(docLink);\n",
       "        }\n",
       "      </script>\n",
       "    </div>\n",
       "  </div>\n",
       "  "
      ],
      "text/plain": [
       "   PassengerId  Survived  Pclass  \\\n",
       "0            1         0       3   \n",
       "1            2         1       1   \n",
       "2            3         1       3   \n",
       "3            4         1       1   \n",
       "4            5         0       3   \n",
       "\n",
       "                                                Name     Sex   Age  SibSp  \\\n",
       "0                            Braund, Mr. Owen Harris    male  22.0      1   \n",
       "1  Cumings, Mrs. John Bradley (Florence Briggs Th...  female  38.0      1   \n",
       "2                             Heikkinen, Miss. Laina  female  26.0      0   \n",
       "3       Futrelle, Mrs. Jacques Heath (Lily May Peel)  female  35.0      1   \n",
       "4                           Allen, Mr. William Henry    male  35.0      0   \n",
       "\n",
       "   Parch            Ticket     Fare Cabin Embarked  \n",
       "0      0         A/5 21171   7.2500   NaN        S  \n",
       "1      0          PC 17599  71.2833   C85        C  \n",
       "2      0  STON/O2. 3101282   7.9250   NaN        S  \n",
       "3      0            113803  53.1000  C123        S  \n",
       "4      0            373450   8.0500   NaN        S  "
      ]
     },
     "execution_count": 46,
     "metadata": {},
     "output_type": "execute_result"
    }
   ],
   "source": [
    "train.head()"
   ]
  },
  {
   "cell_type": "code",
   "execution_count": 47,
   "metadata": {
    "colab": {
     "base_uri": "https://localhost:8080/",
     "height": 206
    },
    "id": "440de8f3",
    "outputId": "0f92018f-da88-4b49-ed63-85cc3c976937"
   },
   "outputs": [
    {
     "data": {
      "text/html": [
       "\n",
       "  <div id=\"df-ac2188d4-78ed-46c8-8f4f-f2dc4be660ba\">\n",
       "    <div class=\"colab-df-container\">\n",
       "      <div>\n",
       "<style scoped>\n",
       "    .dataframe tbody tr th:only-of-type {\n",
       "        vertical-align: middle;\n",
       "    }\n",
       "\n",
       "    .dataframe tbody tr th {\n",
       "        vertical-align: top;\n",
       "    }\n",
       "\n",
       "    .dataframe thead th {\n",
       "        text-align: right;\n",
       "    }\n",
       "</style>\n",
       "<table border=\"1\" class=\"dataframe\">\n",
       "  <thead>\n",
       "    <tr style=\"text-align: right;\">\n",
       "      <th></th>\n",
       "      <th>PassengerId</th>\n",
       "      <th>Pclass</th>\n",
       "      <th>Name</th>\n",
       "      <th>Sex</th>\n",
       "      <th>Age</th>\n",
       "      <th>SibSp</th>\n",
       "      <th>Parch</th>\n",
       "      <th>Ticket</th>\n",
       "      <th>Fare</th>\n",
       "      <th>Cabin</th>\n",
       "      <th>Embarked</th>\n",
       "    </tr>\n",
       "  </thead>\n",
       "  <tbody>\n",
       "    <tr>\n",
       "      <th>0</th>\n",
       "      <td>892</td>\n",
       "      <td>3</td>\n",
       "      <td>Kelly, Mr. James</td>\n",
       "      <td>male</td>\n",
       "      <td>34.5</td>\n",
       "      <td>0</td>\n",
       "      <td>0</td>\n",
       "      <td>330911</td>\n",
       "      <td>7.8292</td>\n",
       "      <td>NaN</td>\n",
       "      <td>Q</td>\n",
       "    </tr>\n",
       "    <tr>\n",
       "      <th>1</th>\n",
       "      <td>893</td>\n",
       "      <td>3</td>\n",
       "      <td>Wilkes, Mrs. James (Ellen Needs)</td>\n",
       "      <td>female</td>\n",
       "      <td>47.0</td>\n",
       "      <td>1</td>\n",
       "      <td>0</td>\n",
       "      <td>363272</td>\n",
       "      <td>7.0000</td>\n",
       "      <td>NaN</td>\n",
       "      <td>S</td>\n",
       "    </tr>\n",
       "    <tr>\n",
       "      <th>2</th>\n",
       "      <td>894</td>\n",
       "      <td>2</td>\n",
       "      <td>Myles, Mr. Thomas Francis</td>\n",
       "      <td>male</td>\n",
       "      <td>62.0</td>\n",
       "      <td>0</td>\n",
       "      <td>0</td>\n",
       "      <td>240276</td>\n",
       "      <td>9.6875</td>\n",
       "      <td>NaN</td>\n",
       "      <td>Q</td>\n",
       "    </tr>\n",
       "    <tr>\n",
       "      <th>3</th>\n",
       "      <td>895</td>\n",
       "      <td>3</td>\n",
       "      <td>Wirz, Mr. Albert</td>\n",
       "      <td>male</td>\n",
       "      <td>27.0</td>\n",
       "      <td>0</td>\n",
       "      <td>0</td>\n",
       "      <td>315154</td>\n",
       "      <td>8.6625</td>\n",
       "      <td>NaN</td>\n",
       "      <td>S</td>\n",
       "    </tr>\n",
       "    <tr>\n",
       "      <th>4</th>\n",
       "      <td>896</td>\n",
       "      <td>3</td>\n",
       "      <td>Hirvonen, Mrs. Alexander (Helga E Lindqvist)</td>\n",
       "      <td>female</td>\n",
       "      <td>22.0</td>\n",
       "      <td>1</td>\n",
       "      <td>1</td>\n",
       "      <td>3101298</td>\n",
       "      <td>12.2875</td>\n",
       "      <td>NaN</td>\n",
       "      <td>S</td>\n",
       "    </tr>\n",
       "  </tbody>\n",
       "</table>\n",
       "</div>\n",
       "      <button class=\"colab-df-convert\" onclick=\"convertToInteractive('df-ac2188d4-78ed-46c8-8f4f-f2dc4be660ba')\"\n",
       "              title=\"Convert this dataframe to an interactive table.\"\n",
       "              style=\"display:none;\">\n",
       "        \n",
       "  <svg xmlns=\"http://www.w3.org/2000/svg\" height=\"24px\"viewBox=\"0 0 24 24\"\n",
       "       width=\"24px\">\n",
       "    <path d=\"M0 0h24v24H0V0z\" fill=\"none\"/>\n",
       "    <path d=\"M18.56 5.44l.94 2.06.94-2.06 2.06-.94-2.06-.94-.94-2.06-.94 2.06-2.06.94zm-11 1L8.5 8.5l.94-2.06 2.06-.94-2.06-.94L8.5 2.5l-.94 2.06-2.06.94zm10 10l.94 2.06.94-2.06 2.06-.94-2.06-.94-.94-2.06-.94 2.06-2.06.94z\"/><path d=\"M17.41 7.96l-1.37-1.37c-.4-.4-.92-.59-1.43-.59-.52 0-1.04.2-1.43.59L10.3 9.45l-7.72 7.72c-.78.78-.78 2.05 0 2.83L4 21.41c.39.39.9.59 1.41.59.51 0 1.02-.2 1.41-.59l7.78-7.78 2.81-2.81c.8-.78.8-2.07 0-2.86zM5.41 20L4 18.59l7.72-7.72 1.47 1.35L5.41 20z\"/>\n",
       "  </svg>\n",
       "      </button>\n",
       "      \n",
       "  <style>\n",
       "    .colab-df-container {\n",
       "      display:flex;\n",
       "      flex-wrap:wrap;\n",
       "      gap: 12px;\n",
       "    }\n",
       "\n",
       "    .colab-df-convert {\n",
       "      background-color: #E8F0FE;\n",
       "      border: none;\n",
       "      border-radius: 50%;\n",
       "      cursor: pointer;\n",
       "      display: none;\n",
       "      fill: #1967D2;\n",
       "      height: 32px;\n",
       "      padding: 0 0 0 0;\n",
       "      width: 32px;\n",
       "    }\n",
       "\n",
       "    .colab-df-convert:hover {\n",
       "      background-color: #E2EBFA;\n",
       "      box-shadow: 0px 1px 2px rgba(60, 64, 67, 0.3), 0px 1px 3px 1px rgba(60, 64, 67, 0.15);\n",
       "      fill: #174EA6;\n",
       "    }\n",
       "\n",
       "    [theme=dark] .colab-df-convert {\n",
       "      background-color: #3B4455;\n",
       "      fill: #D2E3FC;\n",
       "    }\n",
       "\n",
       "    [theme=dark] .colab-df-convert:hover {\n",
       "      background-color: #434B5C;\n",
       "      box-shadow: 0px 1px 3px 1px rgba(0, 0, 0, 0.15);\n",
       "      filter: drop-shadow(0px 1px 2px rgba(0, 0, 0, 0.3));\n",
       "      fill: #FFFFFF;\n",
       "    }\n",
       "  </style>\n",
       "\n",
       "      <script>\n",
       "        const buttonEl =\n",
       "          document.querySelector('#df-ac2188d4-78ed-46c8-8f4f-f2dc4be660ba button.colab-df-convert');\n",
       "        buttonEl.style.display =\n",
       "          google.colab.kernel.accessAllowed ? 'block' : 'none';\n",
       "\n",
       "        async function convertToInteractive(key) {\n",
       "          const element = document.querySelector('#df-ac2188d4-78ed-46c8-8f4f-f2dc4be660ba');\n",
       "          const dataTable =\n",
       "            await google.colab.kernel.invokeFunction('convertToInteractive',\n",
       "                                                     [key], {});\n",
       "          if (!dataTable) return;\n",
       "\n",
       "          const docLinkHtml = 'Like what you see? Visit the ' +\n",
       "            '<a target=\"_blank\" href=https://colab.research.google.com/notebooks/data_table.ipynb>data table notebook</a>'\n",
       "            + ' to learn more about interactive tables.';\n",
       "          element.innerHTML = '';\n",
       "          dataTable['output_type'] = 'display_data';\n",
       "          await google.colab.output.renderOutput(dataTable, element);\n",
       "          const docLink = document.createElement('div');\n",
       "          docLink.innerHTML = docLinkHtml;\n",
       "          element.appendChild(docLink);\n",
       "        }\n",
       "      </script>\n",
       "    </div>\n",
       "  </div>\n",
       "  "
      ],
      "text/plain": [
       "   PassengerId  Pclass                                          Name     Sex  \\\n",
       "0          892       3                              Kelly, Mr. James    male   \n",
       "1          893       3              Wilkes, Mrs. James (Ellen Needs)  female   \n",
       "2          894       2                     Myles, Mr. Thomas Francis    male   \n",
       "3          895       3                              Wirz, Mr. Albert    male   \n",
       "4          896       3  Hirvonen, Mrs. Alexander (Helga E Lindqvist)  female   \n",
       "\n",
       "    Age  SibSp  Parch   Ticket     Fare Cabin Embarked  \n",
       "0  34.5      0      0   330911   7.8292   NaN        Q  \n",
       "1  47.0      1      0   363272   7.0000   NaN        S  \n",
       "2  62.0      0      0   240276   9.6875   NaN        Q  \n",
       "3  27.0      0      0   315154   8.6625   NaN        S  \n",
       "4  22.0      1      1  3101298  12.2875   NaN        S  "
      ]
     },
     "execution_count": 47,
     "metadata": {},
     "output_type": "execute_result"
    }
   ],
   "source": [
    "test.head()"
   ]
  },
  {
   "cell_type": "code",
   "execution_count": 48,
   "metadata": {
    "colab": {
     "base_uri": "https://localhost:8080/"
    },
    "id": "b940dbb5",
    "outputId": "f9cf8a1a-7acc-4044-c8fe-32bf2f142591"
   },
   "outputs": [
    {
     "data": {
      "text/plain": [
       "PassengerId      0\n",
       "Survived         0\n",
       "Pclass           0\n",
       "Name             0\n",
       "Sex              0\n",
       "Age            177\n",
       "SibSp            0\n",
       "Parch            0\n",
       "Ticket           0\n",
       "Fare             0\n",
       "Cabin          687\n",
       "Embarked         2\n",
       "dtype: int64"
      ]
     },
     "execution_count": 48,
     "metadata": {},
     "output_type": "execute_result"
    }
   ],
   "source": [
    "train.isna().sum()"
   ]
  },
  {
   "cell_type": "code",
   "execution_count": 49,
   "metadata": {
    "colab": {
     "base_uri": "https://localhost:8080/"
    },
    "id": "913a2e2b",
    "outputId": "40607dff-ac95-4a79-9f82-1d9837b69934"
   },
   "outputs": [
    {
     "data": {
      "text/plain": [
       "PassengerId      0\n",
       "Pclass           0\n",
       "Name             0\n",
       "Sex              0\n",
       "Age             86\n",
       "SibSp            0\n",
       "Parch            0\n",
       "Ticket           0\n",
       "Fare             1\n",
       "Cabin          327\n",
       "Embarked         0\n",
       "dtype: int64"
      ]
     },
     "execution_count": 49,
     "metadata": {},
     "output_type": "execute_result"
    }
   ],
   "source": [
    "test.isna().sum()"
   ]
  },
  {
   "cell_type": "markdown",
   "metadata": {
    "id": "Egvzr1UL7Kj2"
   },
   "source": [
    "As we can see, there are some null values in the features 'Age' and 'Cabin'. Considering how small our dataset is, if we simply eliminate the null values, we could lose relevant information. Instead, we're going to fill them with the mean."
   ]
  },
  {
   "cell_type": "code",
   "execution_count": 50,
   "metadata": {
    "id": "c1ad443b"
   },
   "outputs": [],
   "source": [
    "train.fillna(train.mean(), inplace = True)"
   ]
  },
  {
   "cell_type": "code",
   "execution_count": 51,
   "metadata": {
    "id": "24bce503"
   },
   "outputs": [],
   "source": [
    "test.fillna(test.mean(), inplace = True)"
   ]
  },
  {
   "cell_type": "code",
   "execution_count": 52,
   "metadata": {
    "colab": {
     "base_uri": "https://localhost:8080/"
    },
    "id": "ca653bc8",
    "outputId": "87498340-3272-43e0-8b51-9197d93c3c6d"
   },
   "outputs": [
    {
     "data": {
      "text/plain": [
       "PassengerId      0\n",
       "Survived         0\n",
       "Pclass           0\n",
       "Name             0\n",
       "Sex              0\n",
       "Age              0\n",
       "SibSp            0\n",
       "Parch            0\n",
       "Ticket           0\n",
       "Fare             0\n",
       "Cabin          687\n",
       "Embarked         2\n",
       "dtype: int64"
      ]
     },
     "execution_count": 52,
     "metadata": {},
     "output_type": "execute_result"
    }
   ],
   "source": [
    "train.isna().sum()"
   ]
  },
  {
   "cell_type": "code",
   "execution_count": 53,
   "metadata": {
    "colab": {
     "base_uri": "https://localhost:8080/"
    },
    "id": "59425593",
    "outputId": "393a601c-8ace-473b-bee0-7ca96c4645ec"
   },
   "outputs": [
    {
     "data": {
      "text/plain": [
       "PassengerId      0\n",
       "Pclass           0\n",
       "Name             0\n",
       "Sex              0\n",
       "Age              0\n",
       "SibSp            0\n",
       "Parch            0\n",
       "Ticket           0\n",
       "Fare             0\n",
       "Cabin          327\n",
       "Embarked         0\n",
       "dtype: int64"
      ]
     },
     "execution_count": 53,
     "metadata": {},
     "output_type": "execute_result"
    }
   ],
   "source": [
    "test.isna().sum()"
   ]
  },
  {
   "cell_type": "code",
   "execution_count": 54,
   "metadata": {
    "colab": {
     "base_uri": "https://localhost:8080/"
    },
    "id": "86183694",
    "outputId": "cb0e5bf4-af26-4215-ba3c-2c97566c4a49"
   },
   "outputs": [
    {
     "name": "stdout",
     "output_type": "stream",
     "text": [
      "<class 'pandas.core.frame.DataFrame'>\n",
      "RangeIndex: 418 entries, 0 to 417\n",
      "Data columns (total 11 columns):\n",
      " #   Column       Non-Null Count  Dtype  \n",
      "---  ------       --------------  -----  \n",
      " 0   PassengerId  418 non-null    int64  \n",
      " 1   Pclass       418 non-null    int64  \n",
      " 2   Name         418 non-null    object \n",
      " 3   Sex          418 non-null    object \n",
      " 4   Age          418 non-null    float64\n",
      " 5   SibSp        418 non-null    int64  \n",
      " 6   Parch        418 non-null    int64  \n",
      " 7   Ticket       418 non-null    object \n",
      " 8   Fare         418 non-null    float64\n",
      " 9   Cabin        91 non-null     object \n",
      " 10  Embarked     418 non-null    object \n",
      "dtypes: float64(2), int64(4), object(5)\n",
      "memory usage: 36.0+ KB\n"
     ]
    }
   ],
   "source": [
    "test.info()"
   ]
  },
  {
   "cell_type": "markdown",
   "metadata": {
    "id": "qEVn8GVB7NVP"
   },
   "source": [
    "Cabin and Embarked are objects, so they aren't necessary or have any impact to decide if the person survived or not."
   ]
  },
  {
   "cell_type": "code",
   "execution_count": 55,
   "metadata": {
    "colab": {
     "base_uri": "https://localhost:8080/"
    },
    "id": "df9c05fa",
    "outputId": "a0bb228c-4649-4d2f-a5fe-28977c4d9a19"
   },
   "outputs": [
    {
     "data": {
      "text/plain": [
       "0           A/5 21171\n",
       "1            PC 17599\n",
       "2    STON/O2. 3101282\n",
       "3              113803\n",
       "4              373450\n",
       "Name: Ticket, dtype: object"
      ]
     },
     "execution_count": 55,
     "metadata": {},
     "output_type": "execute_result"
    }
   ],
   "source": [
    "train['Ticket'].head()"
   ]
  },
  {
   "cell_type": "code",
   "execution_count": 56,
   "metadata": {
    "colab": {
     "base_uri": "https://localhost:8080/"
    },
    "id": "02a734d0",
    "outputId": "7c954c20-362d-4470-9849-d0c094734caf"
   },
   "outputs": [
    {
     "data": {
      "text/plain": [
       "0     NaN\n",
       "1     C85\n",
       "2     NaN\n",
       "3    C123\n",
       "4     NaN\n",
       "Name: Cabin, dtype: object"
      ]
     },
     "execution_count": 56,
     "metadata": {},
     "output_type": "execute_result"
    }
   ],
   "source": [
    "train['Cabin'].head()"
   ]
  },
  {
   "cell_type": "code",
   "execution_count": 57,
   "metadata": {
    "id": "f719f2f3"
   },
   "outputs": [],
   "source": [
    "train = train.drop(['Name','Ticket', 'Cabin','Embarked'], axis = 1)\n",
    "test = test.drop(['Name','Ticket', 'Cabin','Embarked'], axis = 1)"
   ]
  },
  {
   "cell_type": "markdown",
   "metadata": {
    "id": "uBwwU4dhEpIV"
   },
   "source": [
    "Now it's necessary to transform Sex in a numerical variable."
   ]
  },
  {
   "cell_type": "code",
   "execution_count": 58,
   "metadata": {
    "id": "3ccef43b"
   },
   "outputs": [],
   "source": [
    "labelEncoder = LabelEncoder()\n",
    "labelEncoder.fit(train['Sex'])\n",
    "labelEncoder.fit(test['Sex'])\n",
    "train['Sex'] = labelEncoder.transform(train['Sex'])\n",
    "test['Sex'] = labelEncoder.transform(test['Sex'])"
   ]
  },
  {
   "cell_type": "code",
   "execution_count": 59,
   "metadata": {
    "id": "d7085dbb"
   },
   "outputs": [],
   "source": [
    "import numpy as np\n",
    "train['Sex'] = train['Sex'].astype(np.int64)\n",
    "test['Sex'] = test['Sex'].astype(np.int64)"
   ]
  },
  {
   "cell_type": "code",
   "execution_count": 60,
   "metadata": {
    "colab": {
     "base_uri": "https://localhost:8080/"
    },
    "id": "dc463ba2",
    "outputId": "7c8b470a-59ec-4b9f-a955-a3a456eae60b"
   },
   "outputs": [
    {
     "name": "stdout",
     "output_type": "stream",
     "text": [
      "<class 'pandas.core.frame.DataFrame'>\n",
      "RangeIndex: 891 entries, 0 to 890\n",
      "Data columns (total 8 columns):\n",
      " #   Column       Non-Null Count  Dtype  \n",
      "---  ------       --------------  -----  \n",
      " 0   PassengerId  891 non-null    int64  \n",
      " 1   Survived     891 non-null    int64  \n",
      " 2   Pclass       891 non-null    int64  \n",
      " 3   Sex          891 non-null    int64  \n",
      " 4   Age          891 non-null    float64\n",
      " 5   SibSp        891 non-null    int64  \n",
      " 6   Parch        891 non-null    int64  \n",
      " 7   Fare         891 non-null    float64\n",
      "dtypes: float64(2), int64(6)\n",
      "memory usage: 55.8 KB\n"
     ]
    }
   ],
   "source": [
    "train.info()"
   ]
  },
  {
   "cell_type": "code",
   "execution_count": 61,
   "metadata": {
    "colab": {
     "base_uri": "https://localhost:8080/"
    },
    "id": "15002031",
    "outputId": "0da07603-6787-412f-98f1-114bf8e8cd12"
   },
   "outputs": [
    {
     "name": "stdout",
     "output_type": "stream",
     "text": [
      "<class 'pandas.core.frame.DataFrame'>\n",
      "RangeIndex: 418 entries, 0 to 417\n",
      "Data columns (total 7 columns):\n",
      " #   Column       Non-Null Count  Dtype  \n",
      "---  ------       --------------  -----  \n",
      " 0   PassengerId  418 non-null    int64  \n",
      " 1   Pclass       418 non-null    int64  \n",
      " 2   Sex          418 non-null    int64  \n",
      " 3   Age          418 non-null    float64\n",
      " 4   SibSp        418 non-null    int64  \n",
      " 5   Parch        418 non-null    int64  \n",
      " 6   Fare         418 non-null    float64\n",
      "dtypes: float64(2), int64(5)\n",
      "memory usage: 23.0 KB\n"
     ]
    }
   ],
   "source": [
    "test.info()"
   ]
  },
  {
   "cell_type": "code",
   "execution_count": 62,
   "metadata": {
    "id": "833785c2"
   },
   "outputs": [],
   "source": [
    "X = np.array(train.drop(['Survived'], 1).astype(float))"
   ]
  },
  {
   "cell_type": "code",
   "execution_count": 63,
   "metadata": {
    "id": "d38bd2ec"
   },
   "outputs": [],
   "source": [
    "y = np.array(train['Survived'])"
   ]
  },
  {
   "cell_type": "code",
   "execution_count": 64,
   "metadata": {
    "colab": {
     "base_uri": "https://localhost:8080/"
    },
    "id": "9b3a7233",
    "outputId": "c24869d4-2502-40a0-d7e8-274482ff6c17"
   },
   "outputs": [
    {
     "name": "stdout",
     "output_type": "stream",
     "text": [
      "<class 'pandas.core.frame.DataFrame'>\n",
      "RangeIndex: 891 entries, 0 to 890\n",
      "Data columns (total 8 columns):\n",
      " #   Column       Non-Null Count  Dtype  \n",
      "---  ------       --------------  -----  \n",
      " 0   PassengerId  891 non-null    int64  \n",
      " 1   Survived     891 non-null    int64  \n",
      " 2   Pclass       891 non-null    int64  \n",
      " 3   Sex          891 non-null    int64  \n",
      " 4   Age          891 non-null    float64\n",
      " 5   SibSp        891 non-null    int64  \n",
      " 6   Parch        891 non-null    int64  \n",
      " 7   Fare         891 non-null    float64\n",
      "dtypes: float64(2), int64(6)\n",
      "memory usage: 55.8 KB\n"
     ]
    }
   ],
   "source": [
    "train.info()"
   ]
  },
  {
   "cell_type": "markdown",
   "metadata": {
    "id": "Cj6yZ2kT7kMJ"
   },
   "source": [
    "We did some pre processing so it's possible to apply the KMeans algorithm."
   ]
  },
  {
   "cell_type": "code",
   "execution_count": 65,
   "metadata": {
    "id": "1ddff7db"
   },
   "outputs": [],
   "source": [
    "kmeans = KMeans(n_clusters = 2)"
   ]
  },
  {
   "cell_type": "code",
   "execution_count": 66,
   "metadata": {
    "colab": {
     "base_uri": "https://localhost:8080/"
    },
    "id": "55268f93",
    "outputId": "d494f5ad-1aa9-430f-f861-e74a33234a50"
   },
   "outputs": [
    {
     "data": {
      "text/plain": [
       "KMeans(n_clusters=2)"
      ]
     },
     "execution_count": 66,
     "metadata": {},
     "output_type": "execute_result"
    }
   ],
   "source": [
    "kmeans.fit(X)"
   ]
  },
  {
   "cell_type": "code",
   "execution_count": 67,
   "metadata": {
    "colab": {
     "base_uri": "https://localhost:8080/"
    },
    "id": "600783f9",
    "outputId": "3362b7e9-0aa8-4f3e-ff40-1df4bfb4e8dd"
   },
   "outputs": [
    {
     "data": {
      "text/plain": [
       "KMeans(n_clusters=2, random_state=2811)"
      ]
     },
     "execution_count": 67,
     "metadata": {},
     "output_type": "execute_result"
    }
   ],
   "source": [
    "KMeans(algorithm = 'auto', copy_x = True, init = 'k-means++', max_iter = 300,\n",
    "    n_clusters = 2, n_init = 10,\n",
    "    random_state = 2811, tol = 0.0001, verbose = 0)"
   ]
  },
  {
   "cell_type": "markdown",
   "metadata": {
    "id": "4DcjXyrcxgbu"
   },
   "source": [
    "We'll avaliate how well the model is doing by looking at the percentage of passenger records that were clustered correctly."
   ]
  },
  {
   "cell_type": "code",
   "execution_count": 68,
   "metadata": {
    "colab": {
     "base_uri": "https://localhost:8080/"
    },
    "id": "dbbaa8c1",
    "outputId": "6c6e02ea-0b27-40da-d9fa-45551803d0c7"
   },
   "outputs": [
    {
     "name": "stdout",
     "output_type": "stream",
     "text": [
      "0.49158249158249157\n"
     ]
    }
   ],
   "source": [
    "correct = 0\n",
    "for i in range(len(X)):\n",
    "    predict_me = np.array(X[i].astype(float))\n",
    "    predict_me = predict_me.reshape(-1, len(predict_me))\n",
    "    prediction = kmeans.predict(predict_me)\n",
    "    if prediction[0] == y[i]:\n",
    "        correct += 1\n",
    "\n",
    "print(correct/len(X))"
   ]
  },
  {
   "cell_type": "code",
   "execution_count": 69,
   "metadata": {
    "id": "5bdf55ce"
   },
   "outputs": [],
   "source": [
    "accuracy_KMeans_model = ((correct/len(X) * 100))"
   ]
  },
  {
   "cell_type": "code",
   "execution_count": 70,
   "metadata": {
    "colab": {
     "base_uri": "https://localhost:8080/"
    },
    "id": "fe2f7766",
    "outputId": "392256ae-ed0f-4571-8f6b-4e58f4c3ed6b"
   },
   "outputs": [
    {
     "name": "stdout",
     "output_type": "stream",
     "text": [
      "This model is able to cluster correctly the passangers by 49.16%.\n"
     ]
    }
   ],
   "source": [
    "print('This model is able to cluster correctly the passangers by {:.2f}%.'.format(accuracy_KMeans_model))"
   ]
  },
  {
   "cell_type": "markdown",
   "metadata": {
    "id": "3rmZ3JxAx1PL"
   },
   "source": [
    "That would be interesting if we could visualize our two clusters, divided by who survive and who doesn't."
   ]
  },
  {
   "cell_type": "code",
   "execution_count": 71,
   "metadata": {
    "id": "BQ_y6VsQyKub"
   },
   "outputs": [],
   "source": [
    "scaler = MinMaxScaler()\n",
    "X_scaled = scaler.fit_transform(X)"
   ]
  },
  {
   "cell_type": "code",
   "execution_count": 72,
   "metadata": {
    "colab": {
     "base_uri": "https://localhost:8080/"
    },
    "id": "vgceBrfNyKrU",
    "outputId": "32e9efbe-b85e-4905-eebd-96ea09758b34"
   },
   "outputs": [
    {
     "data": {
      "text/plain": [
       "KMeans(n_clusters=2)"
      ]
     },
     "execution_count": 72,
     "metadata": {},
     "output_type": "execute_result"
    }
   ],
   "source": [
    "kmeans.fit(X_scaled)"
   ]
  },
  {
   "cell_type": "code",
   "execution_count": 73,
   "metadata": {
    "colab": {
     "base_uri": "https://localhost:8080/"
    },
    "id": "_kw2tUH1yVKy",
    "outputId": "0e4d21c9-f984-4f63-da74-c8bc23bc4cfd"
   },
   "outputs": [
    {
     "data": {
      "text/plain": [
       "KMeans(max_iter=10000, n_clusters=2, random_state=2811)"
      ]
     },
     "execution_count": 73,
     "metadata": {},
     "output_type": "execute_result"
    }
   ],
   "source": [
    "KMeans(algorithm = 'auto', copy_x = True, init = 'k-means++', max_iter = 10000,\n",
    "    n_clusters = 2, n_init = 10,\n",
    "    random_state = 2811, tol = 0.0001, verbose = 0)"
   ]
  },
  {
   "cell_type": "markdown",
   "metadata": {
    "id": "csRJFWDu7nc-"
   },
   "source": [
    "That would be interesting if we could visualize our two clusters, divided by who survive and who doesn't."
   ]
  },
  {
   "cell_type": "code",
   "execution_count": 74,
   "metadata": {
    "colab": {
     "base_uri": "https://localhost:8080/"
    },
    "id": "pd5lwggeug6U",
    "outputId": "0eb2ba53-0140-496b-823a-536efc0da6f4"
   },
   "outputs": [
    {
     "name": "stdout",
     "output_type": "stream",
     "text": [
      "Requirement already satisfied: plotly in /usr/local/lib/python3.7/dist-packages (5.5.0)\n",
      "Requirement already satisfied: tenacity>=6.2.0 in /usr/local/lib/python3.7/dist-packages (from plotly) (8.0.1)\n",
      "Requirement already satisfied: six in /usr/local/lib/python3.7/dist-packages (from plotly) (1.15.0)\n"
     ]
    }
   ],
   "source": [
    "pip install plotly"
   ]
  },
  {
   "cell_type": "code",
   "execution_count": 75,
   "metadata": {
    "id": "UWE8kEbPuj5G"
   },
   "outputs": [],
   "source": [
    "import plotly.graph_objects as go"
   ]
  },
  {
   "cell_type": "code",
   "execution_count": 76,
   "metadata": {
    "id": "YfHNRFQUut3b"
   },
   "outputs": [],
   "source": [
    "from sklearn import preprocessing"
   ]
  },
  {
   "cell_type": "code",
   "execution_count": 77,
   "metadata": {
    "id": "OBHxR23CuyJr"
   },
   "outputs": [],
   "source": [
    "min_max_scaler = preprocessing.MinMaxScaler()"
   ]
  },
  {
   "cell_type": "code",
   "execution_count": 78,
   "metadata": {
    "id": "Db5KIJ2AuzU3"
   },
   "outputs": [],
   "source": [
    "np_train = min_max_scaler.fit_transform(train)\n",
    "np_test = min_max_scaler.fit_transform(test)"
   ]
  },
  {
   "cell_type": "code",
   "execution_count": 79,
   "metadata": {
    "id": "7TTevs0KuzP9"
   },
   "outputs": [],
   "source": [
    "df1 = pd.DataFrame(np_train, columns = train.columns)\n",
    "df2 = pd.DataFrame(np_test, columns = test.columns)"
   ]
  },
  {
   "cell_type": "code",
   "execution_count": 80,
   "metadata": {
    "id": "8CO0t-YJuzKz"
   },
   "outputs": [],
   "source": [
    "bundler = KMeans(n_clusters = 2)"
   ]
  },
  {
   "cell_type": "code",
   "execution_count": 81,
   "metadata": {
    "colab": {
     "base_uri": "https://localhost:8080/"
    },
    "id": "Lm1OwlvSuzIh",
    "outputId": "96c75a8b-6d34-41f0-fea5-c9fd81705fc1"
   },
   "outputs": [
    {
     "data": {
      "text/plain": [
       "KMeans(n_clusters=2)"
      ]
     },
     "execution_count": 81,
     "metadata": {},
     "output_type": "execute_result"
    }
   ],
   "source": [
    "bundler.fit(df1)"
   ]
  },
  {
   "cell_type": "code",
   "execution_count": 82,
   "metadata": {
    "id": "qGB84mWPwC5g"
   },
   "outputs": [],
   "source": [
    "labels = bundler.labels_"
   ]
  },
  {
   "cell_type": "code",
   "execution_count": 83,
   "metadata": {
    "colab": {
     "base_uri": "https://localhost:8080/",
     "height": 0
    },
    "id": "nVnk4cAKuzCa",
    "outputId": "243b81b6-d56c-4242-99a4-3c1eb2cc68a1"
   },
   "outputs": [
    {
     "data": {
      "text/html": [
       "<html>\n",
       "<head><meta charset=\"utf-8\" /></head>\n",
       "<body>\n",
       "    <div>            <script src=\"https://cdnjs.cloudflare.com/ajax/libs/mathjax/2.7.5/MathJax.js?config=TeX-AMS-MML_SVG\"></script><script type=\"text/javascript\">if (window.MathJax) {MathJax.Hub.Config({SVG: {font: \"STIX-Web\"}});}</script>                <script type=\"text/javascript\">window.PlotlyConfig = {MathJaxConfig: 'local'};</script>\n",
       "        <script src=\"https://cdn.plot.ly/plotly-2.8.3.min.js\"></script>                <div id=\"19dff8fa-cdd9-4c45-a5e7-e71105033edb\" class=\"plotly-graph-div\" style=\"height:525px; width:100%;\"></div>            <script type=\"text/javascript\">                                    window.PLOTLYENV=window.PLOTLYENV || {};                                    if (document.getElementById(\"19dff8fa-cdd9-4c45-a5e7-e71105033edb\")) {                    Plotly.newPlot(                        \"19dff8fa-cdd9-4c45-a5e7-e71105033edb\",                        [{\"marker\":{\"color\":[1.0,0.0,0.0,0.0,1.0,1.0,1.0,1.0,0.0,0.0,0.0,0.0,1.0,1.0,1.0,0.0,1.0,0.0,1.0,0.0,1.0,0.0,0.0,0.0,1.0,0.0,1.0,1.0,0.0,1.0,1.0,0.0,0.0,1.0,1.0,1.0,0.0,1.0,1.0,0.0,1.0,1.0,1.0,0.0,0.0,1.0,1.0,0.0,1.0,1.0,1.0,1.0,0.0,0.0,1.0,0.0,0.0,1.0,0.0,1.0,1.0,0.0,1.0,1.0,1.0,0.0,0.0,1.0,0.0,1.0,1.0,1.0,1.0,1.0,0.0,1.0,1.0,1.0,0.0,0.0,1.0,0.0,0.0,1.0,0.0,0.0,1.0,1.0,0.0,1.0,1.0,1.0,1.0,1.0,1.0,1.0,1.0,0.0,0.0,1.0,1.0,1.0,1.0,1.0,1.0,1.0,0.0,0.0,1.0,0.0,1.0,1.0,1.0,1.0,1.0,1.0,1.0,1.0,1.0,1.0,1.0,1.0,1.0,0.0,1.0,0.0,1.0,0.0,0.0,1.0,1.0,1.0,1.0,0.0,1.0,1.0,0.0,1.0,1.0,1.0,1.0,0.0,0.0,1.0,1.0,1.0,0.0,1.0,1.0,1.0,1.0,0.0,1.0,1.0,1.0,1.0,0.0,1.0,1.0,1.0,1.0,0.0,1.0,1.0,1.0,0.0,0.0,1.0,1.0,1.0,1.0,1.0,0.0,1.0,1.0,1.0,1.0,0.0,1.0,1.0,1.0,1.0,1.0,0.0,0.0,1.0,0.0,0.0,1.0,1.0,0.0,1.0,0.0,0.0,0.0,0.0,1.0,1.0,0.0,1.0,1.0,1.0,1.0,1.0,0.0,1.0,1.0,0.0,0.0,0.0,1.0,0.0,1.0,1.0,1.0,0.0,0.0,1.0,0.0,1.0,0.0,1.0,1.0,1.0,0.0,1.0,0.0,1.0,1.0,1.0,0.0,1.0,1.0,0.0,1.0,1.0,1.0,0.0,1.0,1.0,1.0,0.0,1.0,1.0,1.0,1.0,1.0,0.0,0.0,1.0,1.0,1.0,1.0,1.0,1.0,0.0,0.0,0.0,0.0,0.0,1.0,0.0,1.0,1.0,1.0,1.0,1.0,0.0,0.0,0.0,1.0,0.0,0.0,1.0,0.0,0.0,1.0,1.0,1.0,0.0,1.0,1.0,1.0,0.0,1.0,1.0,0.0,1.0,0.0,0.0,0.0,0.0,1.0,1.0,1.0,1.0,1.0,0.0,0.0,0.0,0.0,0.0,1.0,0.0,1.0,0.0,0.0,0.0,1.0,0.0,0.0,0.0,1.0,1.0,1.0,0.0,0.0,1.0,0.0,0.0,1.0,1.0,0.0,0.0,1.0,0.0,1.0,0.0,0.0,0.0,0.0,1.0,1.0,1.0,0.0,1.0,1.0,0.0,0.0,1.0,0.0,0.0,1.0,1.0,1.0,0.0,0.0,0.0,0.0,1.0,1.0,1.0,1.0,1.0,1.0,1.0,0.0,1.0,0.0,0.0,1.0,1.0,1.0,1.0,1.0,1.0,0.0,0.0,0.0,0.0,0.0,1.0,1.0,1.0,1.0,0.0,0.0,1.0,1.0,1.0,0.0,0.0,1.0,0.0,1.0,1.0,1.0,0.0,1.0,0.0,0.0,0.0,1.0,0.0,0.0,1.0,1.0,1.0,1.0,0.0,0.0,1.0,1.0,1.0,1.0,1.0,1.0,0.0,1.0,1.0,1.0,1.0,0.0,1.0,0.0,1.0,0.0,0.0,1.0,1.0,1.0,1.0,1.0,1.0,1.0,1.0,0.0,0.0,1.0,0.0,0.0,0.0,0.0,1.0,1.0,0.0,1.0,0.0,1.0,1.0,0.0,1.0,1.0,0.0,0.0,0.0,0.0,0.0,0.0,0.0,1.0,1.0,1.0,0.0,1.0,0.0,1.0,0.0,0.0,1.0,0.0,1.0,1.0,1.0,1.0,1.0,1.0,1.0,1.0,0.0,1.0,1.0,0.0,0.0,1.0,1.0,1.0,1.0,1.0,0.0,1.0,1.0,1.0,0.0,0.0,1.0,0.0,1.0,1.0,0.0,1.0,1.0,1.0,1.0,1.0,1.0,0.0,1.0,0.0,1.0,1.0,1.0,1.0,1.0,0.0,1.0,0.0,0.0,1.0,0.0,0.0,1.0,0.0,0.0,1.0,1.0,0.0,1.0,0.0,1.0,0.0,1.0,1.0,0.0,1.0,1.0,0.0,1.0,1.0,1.0,0.0,1.0,1.0,0.0,1.0,0.0,1.0,0.0,1.0,0.0,0.0,1.0,1.0,0.0,1.0,1.0,0.0,0.0,1.0,0.0,0.0,1.0,1.0,0.0,0.0,1.0,0.0,1.0,0.0,0.0,1.0,1.0,1.0,1.0,1.0,1.0,1.0,1.0,1.0,0.0,0.0,0.0,0.0,0.0,1.0,1.0,0.0,0.0,1.0,0.0,0.0,0.0,1.0,1.0,1.0,0.0,1.0,0.0,1.0,1.0,1.0,0.0,1.0,1.0,1.0,1.0,0.0,1.0,1.0,0.0,0.0,1.0,1.0,1.0,0.0,1.0,1.0,0.0,0.0,0.0,1.0,1.0,0.0,1.0,1.0,0.0,1.0,1.0,0.0,1.0,1.0,0.0,0.0,1.0,1.0,1.0,1.0,0.0,1.0,1.0,0.0,1.0,0.0,1.0,1.0,0.0,1.0,1.0,1.0,1.0,1.0,0.0,1.0,0.0,0.0,0.0,1.0,0.0,1.0,0.0,1.0,0.0,1.0,0.0,1.0,1.0,1.0,1.0,1.0,1.0,0.0,1.0,1.0,1.0,0.0,1.0,1.0,1.0,1.0,0.0,0.0,1.0,1.0,0.0,1.0,1.0,1.0,0.0,1.0,0.0,1.0,0.0,1.0,1.0,1.0,1.0,1.0,1.0,1.0,0.0,0.0,0.0,0.0,1.0,1.0,1.0,1.0,0.0,1.0,1.0,0.0,0.0,1.0,1.0,1.0,1.0,0.0,0.0,0.0,0.0,0.0,1.0,0.0,1.0,1.0,1.0,0.0,0.0,1.0,1.0,0.0,1.0,1.0,1.0,0.0,1.0,0.0,0.0,1.0,1.0,0.0,1.0,1.0,1.0,1.0,1.0,1.0,0.0,1.0,1.0,0.0,1.0,0.0,1.0,0.0,1.0,1.0,0.0,1.0,1.0,0.0,0.0,1.0,1.0,0.0,0.0,1.0,1.0,1.0,0.0,1.0,1.0,0.0,0.0,1.0,0.0,1.0,1.0,1.0,1.0,1.0,1.0,1.0,1.0,0.0,1.0,1.0,0.0,1.0,0.0,0.0,0.0,1.0,1.0,1.0,1.0,0.0,1.0,0.0,1.0,1.0,1.0,1.0,1.0,1.0,1.0,0.0,0.0,1.0,1.0,1.0,0.0,0.0,0.0,0.0,1.0,1.0,1.0,1.0,0.0,1.0,1.0,1.0,1.0,1.0,1.0,1.0,1.0,1.0,1.0,0.0,0.0,1.0,0.0,1.0,1.0,1.0,0.0,0.0,0.0,0.0,0.0,1.0,1.0,1.0,0.0,1.0,1.0,0.0,0.0,1.0,1.0,0.0,1.0,1.0,1.0,1.0,1.0,1.0,0.0,1.0,1.0,1.0,0.0,1.0,0.0,0.0,0.0,0.0,1.0,1.0,1.0,0.0,1.0,1.0,0.0,0.0,1.0,1.0,0.0,1.0,0.0,1.0,1.0,0.0,0.0,1.0,1.0,1.0,0.0,0.0,1.0,1.0,1.0,1.0,1.0,1.0,0.0,1.0,0.0,1.0]},\"mode\":\"markers\",\"text\":[1.0,0.0,0.0,0.0,1.0,1.0,1.0,1.0,0.0,0.0,0.0,0.0,1.0,1.0,1.0,0.0,1.0,0.0,1.0,0.0,1.0,0.0,0.0,0.0,1.0,0.0,1.0,1.0,0.0,1.0,1.0,0.0,0.0,1.0,1.0,1.0,0.0,1.0,1.0,0.0,1.0,1.0,1.0,0.0,0.0,1.0,1.0,0.0,1.0,1.0,1.0,1.0,0.0,0.0,1.0,0.0,0.0,1.0,0.0,1.0,1.0,0.0,1.0,1.0,1.0,0.0,0.0,1.0,0.0,1.0,1.0,1.0,1.0,1.0,0.0,1.0,1.0,1.0,0.0,0.0,1.0,0.0,0.0,1.0,0.0,0.0,1.0,1.0,0.0,1.0,1.0,1.0,1.0,1.0,1.0,1.0,1.0,0.0,0.0,1.0,1.0,1.0,1.0,1.0,1.0,1.0,0.0,0.0,1.0,0.0,1.0,1.0,1.0,1.0,1.0,1.0,1.0,1.0,1.0,1.0,1.0,1.0,1.0,0.0,1.0,0.0,1.0,0.0,0.0,1.0,1.0,1.0,1.0,0.0,1.0,1.0,0.0,1.0,1.0,1.0,1.0,0.0,0.0,1.0,1.0,1.0,0.0,1.0,1.0,1.0,1.0,0.0,1.0,1.0,1.0,1.0,0.0,1.0,1.0,1.0,1.0,0.0,1.0,1.0,1.0,0.0,0.0,1.0,1.0,1.0,1.0,1.0,0.0,1.0,1.0,1.0,1.0,0.0,1.0,1.0,1.0,1.0,1.0,0.0,0.0,1.0,0.0,0.0,1.0,1.0,0.0,1.0,0.0,0.0,0.0,0.0,1.0,1.0,0.0,1.0,1.0,1.0,1.0,1.0,0.0,1.0,1.0,0.0,0.0,0.0,1.0,0.0,1.0,1.0,1.0,0.0,0.0,1.0,0.0,1.0,0.0,1.0,1.0,1.0,0.0,1.0,0.0,1.0,1.0,1.0,0.0,1.0,1.0,0.0,1.0,1.0,1.0,0.0,1.0,1.0,1.0,0.0,1.0,1.0,1.0,1.0,1.0,0.0,0.0,1.0,1.0,1.0,1.0,1.0,1.0,0.0,0.0,0.0,0.0,0.0,1.0,0.0,1.0,1.0,1.0,1.0,1.0,0.0,0.0,0.0,1.0,0.0,0.0,1.0,0.0,0.0,1.0,1.0,1.0,0.0,1.0,1.0,1.0,0.0,1.0,1.0,0.0,1.0,0.0,0.0,0.0,0.0,1.0,1.0,1.0,1.0,1.0,0.0,0.0,0.0,0.0,0.0,1.0,0.0,1.0,0.0,0.0,0.0,1.0,0.0,0.0,0.0,1.0,1.0,1.0,0.0,0.0,1.0,0.0,0.0,1.0,1.0,0.0,0.0,1.0,0.0,1.0,0.0,0.0,0.0,0.0,1.0,1.0,1.0,0.0,1.0,1.0,0.0,0.0,1.0,0.0,0.0,1.0,1.0,1.0,0.0,0.0,0.0,0.0,1.0,1.0,1.0,1.0,1.0,1.0,1.0,0.0,1.0,0.0,0.0,1.0,1.0,1.0,1.0,1.0,1.0,0.0,0.0,0.0,0.0,0.0,1.0,1.0,1.0,1.0,0.0,0.0,1.0,1.0,1.0,0.0,0.0,1.0,0.0,1.0,1.0,1.0,0.0,1.0,0.0,0.0,0.0,1.0,0.0,0.0,1.0,1.0,1.0,1.0,0.0,0.0,1.0,1.0,1.0,1.0,1.0,1.0,0.0,1.0,1.0,1.0,1.0,0.0,1.0,0.0,1.0,0.0,0.0,1.0,1.0,1.0,1.0,1.0,1.0,1.0,1.0,0.0,0.0,1.0,0.0,0.0,0.0,0.0,1.0,1.0,0.0,1.0,0.0,1.0,1.0,0.0,1.0,1.0,0.0,0.0,0.0,0.0,0.0,0.0,0.0,1.0,1.0,1.0,0.0,1.0,0.0,1.0,0.0,0.0,1.0,0.0,1.0,1.0,1.0,1.0,1.0,1.0,1.0,1.0,0.0,1.0,1.0,0.0,0.0,1.0,1.0,1.0,1.0,1.0,0.0,1.0,1.0,1.0,0.0,0.0,1.0,0.0,1.0,1.0,0.0,1.0,1.0,1.0,1.0,1.0,1.0,0.0,1.0,0.0,1.0,1.0,1.0,1.0,1.0,0.0,1.0,0.0,0.0,1.0,0.0,0.0,1.0,0.0,0.0,1.0,1.0,0.0,1.0,0.0,1.0,0.0,1.0,1.0,0.0,1.0,1.0,0.0,1.0,1.0,1.0,0.0,1.0,1.0,0.0,1.0,0.0,1.0,0.0,1.0,0.0,0.0,1.0,1.0,0.0,1.0,1.0,0.0,0.0,1.0,0.0,0.0,1.0,1.0,0.0,0.0,1.0,0.0,1.0,0.0,0.0,1.0,1.0,1.0,1.0,1.0,1.0,1.0,1.0,1.0,0.0,0.0,0.0,0.0,0.0,1.0,1.0,0.0,0.0,1.0,0.0,0.0,0.0,1.0,1.0,1.0,0.0,1.0,0.0,1.0,1.0,1.0,0.0,1.0,1.0,1.0,1.0,0.0,1.0,1.0,0.0,0.0,1.0,1.0,1.0,0.0,1.0,1.0,0.0,0.0,0.0,1.0,1.0,0.0,1.0,1.0,0.0,1.0,1.0,0.0,1.0,1.0,0.0,0.0,1.0,1.0,1.0,1.0,0.0,1.0,1.0,0.0,1.0,0.0,1.0,1.0,0.0,1.0,1.0,1.0,1.0,1.0,0.0,1.0,0.0,0.0,0.0,1.0,0.0,1.0,0.0,1.0,0.0,1.0,0.0,1.0,1.0,1.0,1.0,1.0,1.0,0.0,1.0,1.0,1.0,0.0,1.0,1.0,1.0,1.0,0.0,0.0,1.0,1.0,0.0,1.0,1.0,1.0,0.0,1.0,0.0,1.0,0.0,1.0,1.0,1.0,1.0,1.0,1.0,1.0,0.0,0.0,0.0,0.0,1.0,1.0,1.0,1.0,0.0,1.0,1.0,0.0,0.0,1.0,1.0,1.0,1.0,0.0,0.0,0.0,0.0,0.0,1.0,0.0,1.0,1.0,1.0,0.0,0.0,1.0,1.0,0.0,1.0,1.0,1.0,0.0,1.0,0.0,0.0,1.0,1.0,0.0,1.0,1.0,1.0,1.0,1.0,1.0,0.0,1.0,1.0,0.0,1.0,0.0,1.0,0.0,1.0,1.0,0.0,1.0,1.0,0.0,0.0,1.0,1.0,0.0,0.0,1.0,1.0,1.0,0.0,1.0,1.0,0.0,0.0,1.0,0.0,1.0,1.0,1.0,1.0,1.0,1.0,1.0,1.0,0.0,1.0,1.0,0.0,1.0,0.0,0.0,0.0,1.0,1.0,1.0,1.0,0.0,1.0,0.0,1.0,1.0,1.0,1.0,1.0,1.0,1.0,0.0,0.0,1.0,1.0,1.0,0.0,0.0,0.0,0.0,1.0,1.0,1.0,1.0,0.0,1.0,1.0,1.0,1.0,1.0,1.0,1.0,1.0,1.0,1.0,0.0,0.0,1.0,0.0,1.0,1.0,1.0,0.0,0.0,0.0,0.0,0.0,1.0,1.0,1.0,0.0,1.0,1.0,0.0,0.0,1.0,1.0,0.0,1.0,1.0,1.0,1.0,1.0,1.0,0.0,1.0,1.0,1.0,0.0,1.0,0.0,0.0,0.0,0.0,1.0,1.0,1.0,0.0,1.0,1.0,0.0,0.0,1.0,1.0,0.0,1.0,0.0,1.0,1.0,0.0,0.0,1.0,1.0,1.0,0.0,0.0,1.0,1.0,1.0,1.0,1.0,1.0,0.0,1.0,0.0,1.0],\"x\":[[0.0,1.0,1.0,0.2711736617240512,0.125,0.0,0.014151057562208049],[0.0011235955056179776,0.0,0.0,0.4722292033174164,0.125,0.0,0.13913573538264068],[0.002247191011235955,1.0,0.0,0.32143754712239253,0.0,0.0,0.015468569817999833],[0.0033707865168539327,0.0,0.0,0.4345312892686604,0.125,0.0,0.10364429745562033],[0.0044943820224719105,1.0,1.0,0.4345312892686604,0.0,0.0,0.015712553569072387],[0.0056179775280898875,1.0,1.0,0.36792055349407915,0.0,0.0,0.01650950209357577],[0.006741573033707865,0.0,1.0,0.6732847449107816,0.0,0.0,0.10122885832000206],[0.007865168539325843,1.0,1.0,0.01985423473234481,0.375,0.16666666666666666,0.04113566043083236],[0.008988764044943821,1.0,0.0,0.33400351847197784,0.0,0.3333333333333333,0.021730754366528396],[0.010112359550561799,0.5,0.0,0.17064589092736868,0.125,0.0,0.058694292654020104],[0.011235955056179777,1.0,0.0,0.04498617743151546,0.125,0.16666666666666666,0.03259622914329302],[0.012359550561797753,0.0,0.0,0.723548630309123,0.0,0.0,0.051822148727810165],[0.01348314606741573,1.0,1.0,0.24604171902488062,0.0,0.0,0.015712553569072387],[0.014606741573033709,1.0,1.0,0.4847951746670017,0.125,0.8333333333333333,0.06104473451835265],[0.01573033707865169,1.0,0.0,0.17064589092736868,0.0,0.0,0.015330377421392339],[0.016853932584269666,0.5,0.0,0.685850716260367,0.0,0.0,0.03122992013728673],[0.017977528089887642,1.0,1.0,0.01985423473234481,0.5,0.16666666666666666,0.05684821399990475],[0.01910112359550562,0.5,1.0,0.36792055349407915,0.0,0.0,0.025374310111545468],[0.020224719101123598,1.0,0.0,0.38426740387031916,0.125,0.0,0.03513366015444757],[0.021348314606741577,1.0,0.0,0.36792055349407915,0.0,0.0,0.014102260811993537],[0.022471910112359553,0.5,1.0,0.4345312892686604,0.0,0.0,0.050748620223090936],[0.023595505617977533,0.5,1.0,0.4219653179190751,0.0,0.0,0.025374310111545468],[0.02471910112359551,1.0,0.0,0.18321186227695402,0.0,0.0,0.015671954672893913],[0.025842696629213485,0.0,1.0,0.34656948982156316,0.0,0.0,0.06929138530460494],[0.026966292134831465,1.0,0.0,0.09525006282985675,0.375,0.16666666666666666,0.04113566043083236],[0.02808988764044944,1.0,0.0,0.4722292033174164,0.125,0.8333333333333333,0.06126431989431795],[0.02921348314606742,1.0,1.0,0.36792055349407915,0.0,0.0,0.014102260811993537],[0.030337078651685397,0.0,1.0,0.2334757476752953,0.375,0.3333333333333333,0.5133418122566507],[0.03146067415730337,1.0,0.0,0.36792055349407915,0.0,0.0,0.01537917417160685],[0.032584269662921356,1.0,1.0,0.36792055349407915,0.0,0.0,0.015411575213749286],[0.03370786516853933,0.0,1.0,0.49736114601658704,0.0,0.0,0.05410739813385612],[0.03483146067415731,0.0,0.0,0.36792055349407915,0.125,0.0,0.2859895551532101],[0.035955056179775284,1.0,0.0,0.36792055349407915,0.0,0.0,0.015126992566498259],[0.03707865168539326,0.5,1.0,0.8240764011058055,0.0,0.0,0.020494635090094415],[0.03820224719101124,0.0,1.0,0.34656948982156316,0.125,0.0,0.16038672010106003],[0.03932584269662922,0.0,1.0,0.5224930887157577,0.125,0.0,0.10149724044618187],[0.040449438202247195,1.0,1.0,0.36792055349407915,0.0,0.0,0.014110458666029575],[0.04157303370786517,1.0,1.0,0.2586076903744659,0.0,0.0,0.015712553569072387],[0.042696629213483155,1.0,0.0,0.22090977632571,0.25,0.0,0.03513366015444757],[0.04382022471910113,1.0,0.0,0.17064589092736868,0.125,0.0,0.021942337075458514],[0.04494382022471911,1.0,0.0,0.49736114601658704,0.125,0.0,0.018493968331299484],[0.04606741573033708,0.5,0.0,0.33400351847197784,0.125,0.0,0.04098927018018883],[0.04719101123595506,1.0,1.0,0.36792055349407915,0.0,0.0,0.015411575213749286],[0.04831460674157304,0.5,0.0,0.032420206081930136,0.125,0.3333333333333333,0.08115719346076702],[0.04943820224719102,1.0,0.0,0.2334757476752953,0.0,0.0,0.01537917417160685],[0.050561797752808994,1.0,1.0,0.36792055349407915,0.0,0.0,0.015712553569072387],[0.05168539325842697,1.0,1.0,0.36792055349407915,0.125,0.0,0.030253985132996517],[0.052808988764044947,1.0,0.0,0.36792055349407915,0.0,0.0,0.015126992566498259],[0.05393258426966293,1.0,1.0,0.36792055349407915,0.25,0.0,0.04231498029001666],[0.055056179775280906,1.0,0.0,0.22090977632571,0.125,0.0,0.034743286152731485],[0.05617977528089888,1.0,1.0,0.08268409148027142,0.5,0.16666666666666666,0.07746484096553544],[0.05730337078651686,1.0,1.0,0.2586076903744659,0.0,0.0,0.01522458606692728],[0.05842696629213484,0.0,0.0,0.610454888162855,0.125,0.0,0.1497654242623688],[0.05955056179775282,0.5,0.0,0.35913546117114853,0.125,0.0,0.050748620223090936],[0.06067415730337079,0.0,1.0,0.8115104297562202,0.0,0.16666666666666666,0.1209753416358076],[0.06179775280898877,0.0,1.0,0.36792055349407915,0.0,0.0,0.06929138530460494],[0.06292134831460675,0.5,0.0,0.2586076903744659,0.0,0.0,0.020494635090094415],[0.06404494382022471,1.0,1.0,0.35285247549635584,0.0,0.0,0.014110458666029575],[0.0651685393258427,0.5,0.0,0.05755214878110078,0.125,0.3333333333333333,0.05416439273810667],[0.06629213483146068,1.0,1.0,0.1329479768786127,0.625,0.3333333333333333,0.09154270340242172],[0.06741573033707865,1.0,1.0,0.2711736617240512,0.0,0.0,0.014110458666029575],[0.06853932584269663,0.0,0.0,0.4722292033174164,0.0,0.0,0.15614960068643363],[0.0696629213483146,0.0,1.0,0.5601910027645137,0.125,0.0,0.16293234896625058],[0.07078651685393259,1.0,1.0,0.04498617743151546,0.375,0.3333333333333333,0.05445717323939373],[0.07191011235955057,0.0,1.0,0.36792055349407915,0.0,0.0,0.05410739813385612],[0.07303370786516854,1.0,1.0,0.36792055349407915,0.125,0.16666666666666666,0.029757819776815374],[0.07415730337078652,0.5,0.0,0.35913546117114853,0.0,0.0,0.020494635090094415],[0.07528089887640449,1.0,1.0,0.2334757476752953,0.0,0.0,0.015923941091001644],[0.07640449438202247,1.0,0.0,0.20834380497612465,0.5,0.3333333333333333,0.015468569817999833],[0.07752808988764046,1.0,1.0,0.32143754712239253,0.25,0.0,0.016908073949327893],[0.07865168539325842,0.5,1.0,0.39683337521990447,0.0,0.0,0.020494635090094415],[0.07977528089887641,1.0,0.0,0.19577783362653933,0.625,0.3333333333333333,0.09154270340242172],[0.08089887640449438,0.5,1.0,0.2586076903744659,0.0,0.0,0.1434624456306609],[0.08202247191011236,1.0,1.0,0.32143754712239253,0.125,0.0,0.028212719478023115],[0.08314606741573034,1.0,1.0,0.39683337521990447,0.0,0.0,0.11027245763075773],[0.08426966292134831,1.0,1.0,0.3088715757728072,0.0,0.0,0.014931805565640218],[0.0853932584269663,1.0,1.0,0.36792055349407915,0.0,0.0,0.015411575213749286],[0.08651685393258428,1.0,1.0,0.36792055349407915,0.0,0.0,0.015712553569072387],[0.08764044943820225,0.5,1.0,0.005152048253329982,0.0,0.3333333333333333,0.056604230248832196],[0.08876404494382023,1.0,0.0,0.37170143252073384,0.0,0.0,0.024349578357040744],[0.0898876404494382,1.0,1.0,0.2711736617240512,0.0,0.0,0.017566830077223785],[0.09101123595505618,1.0,1.0,0.35913546117114853,0.0,0.0,0.018542765081513996],[0.09213483146067417,1.0,0.0,0.36792055349407915,0.0,0.0,0.015200187691820024],[0.09325842696629214,0.0,1.0,0.34656948982156316,0.0,0.0,0.09193307740413781],[0.09438202247191012,0.5,0.0,0.20834380497612465,0.0,0.0,0.020494635090094415],[0.09550561797752809,1.0,0.0,0.4093993465694898,0.375,0.0,0.030937139635999665],[0.09662921348314607,1.0,1.0,0.19577783362653933,0.125,0.5,0.06709553154495196],[0.09775280898876405,1.0,1.0,0.36792055349407915,0.0,0.0,0.015712553569072387],[0.09887640449438202,0.0,0.0,0.2837396330736366,0.375,0.3333333333333333,0.5133418122566507],[0.1,1.0,1.0,0.2963056044232219,0.0,0.0,0.015712553569072387],[0.10112359550561797,1.0,1.0,0.35913546117114853,0.0,0.0,0.015712553569072387],[0.10224719101123596,1.0,1.0,0.24604171902488062,0.0,0.0,0.015330377421392339],[0.10337078651685394,0.0,1.0,0.5727569741140991,0.125,0.0,0.11940564777490723],[0.10449438202247191,1.0,1.0,0.32143754712239253,0.125,0.3333333333333333,0.04015972542654215],[0.10561797752808989,1.0,1.0,0.7361146016587082,0.0,0.0,0.014151057562208049],[0.10674157303370786,1.0,1.0,0.36792055349407915,0.0,0.0,0.015712553569072387],[0.10786516853932585,0.0,1.0,0.8869062578537321,0.0,0.0,0.06764049365134761],[0.10898876404494383,0.0,1.0,0.2837396330736366,0.0,0.16666666666666666,0.12366716556464086],[0.1101123595505618,0.5,0.0,0.4219653179190751,0.0,0.16666666666666666,0.044893010197349675],[0.11123595505617978,0.5,1.0,0.4219653179190751,0.125,0.0,0.050748620223090936],[0.11235955056179776,1.0,0.0,0.34656948982156316,0.0,0.0,0.015411575213749286],[0.11348314606741573,1.0,1.0,0.36792055349407915,0.0,0.0,0.015411575213749286],[0.11460674157303372,0.0,1.0,0.2586076903744659,0.0,0.16666666666666666,0.15085515328815924],[0.11573033707865168,1.0,1.0,0.4093993465694898,0.0,0.0,0.016891873428256675],[0.11685393258426967,1.0,1.0,0.4596632319678311,0.25,0.0,0.015468569817999833],[0.11797752808988765,1.0,1.0,0.34656948982156316,0.0,0.0,0.015411575213749286],[0.11910112359550562,1.0,0.0,0.2586076903744659,0.0,0.0,0.014931805565640218],[0.1202247191011236,1.0,1.0,0.36792055349407915,0.0,0.0,0.015175789316712771],[0.12134831460674157,1.0,1.0,0.4722292033174164,0.0,0.0,0.015411575213749286],[0.12247191011235956,1.0,0.0,0.36792055349407915,0.125,0.0,0.04713766070721715],[0.12359550561797754,0.0,1.0,0.5853229454636844,0.0,0.0,0.10149724044618187],[0.12471910112359551,1.0,0.0,0.17692887660216136,0.125,0.0,0.028212719478023115],[0.1258426966292135,1.0,1.0,0.2711736617240512,0.0,0.0,0.015712553569072387],[0.1269662921348315,1.0,0.0,0.24604171902488062,0.125,0.0,0.019177122834302632],[0.12808988764044946,1.0,0.0,0.20834380497612465,0.0,0.0,0.028220722145058292],[0.12921348314606743,1.0,1.0,0.2586076903744659,0.0,0.0,0.015468569817999833],[0.13033707865168542,1.0,1.0,0.8806232721789394,0.0,0.0,0.015126992566498259],[0.1314606741573034,0.5,1.0,0.35913546117114853,0.125,0.0,0.04098927018018883],[0.13258426966292136,0.0,1.0,0.2963056044232219,0.0,0.16666666666666666,0.4831284260198326],[0.13370786516853936,1.0,0.0,0.01985423473234481,0.5,0.3333333333333333,0.06104473451835265],[0.13483146067415733,0.5,1.0,0.2586076903744659,0.25,0.0,0.1434624456306609],[0.1359550561797753,1.0,1.0,0.36792055349407915,0.0,0.0,0.015712553569072387],[0.13707865168539327,0.5,1.0,0.40311636089469716,0.125,0.0,0.058694292654020104],[0.13820224719101126,0.5,0.0,0.40311636089469716,0.0,0.0,0.025374310111545468],[0.13932584269662923,0.0,1.0,0.6732847449107816,0.0,0.16666666666666666,0.15085515328815924],[0.1404494382022472,1.0,1.0,0.14551394822819805,0.125,0.0,0.021942337075458514],[0.1415730337078652,1.0,1.0,0.36792055349407915,0.0,0.0,0.015126992566498259],[0.14269662921348317,1.0,1.0,0.2963056044232219,0.0,0.0,0.01393967004027879],[0.14382022471910114,1.0,0.0,0.36792055349407915,0.125,0.16666666666666666,0.04364049521284362],[0.14494382022471913,1.0,1.0,0.5601910027645137,0.0,0.0,0.013614293309848433],[0.1460674157303371,1.0,1.0,0.4093993465694898,0.0,0.0,0.015411575213749286],[0.14719101123595507,1.0,1.0,0.24604171902488062,0.0,0.0,0.013760683560491965],[0.14831460674157307,1.0,0.0,0.5853229454636844,0.125,0.0,0.028302115124416098],[0.14943820224719104,0.5,0.0,0.35913546117114853,0.125,0.0,0.050748620223090936],[0.150561797752809,0.5,1.0,0.3088715757728072,0.0,0.0,0.025374310111545468],[0.15168539325842698,0.5,1.0,0.2837396330736366,0.0,0.0,0.02936744577509929],[0.15280898876404497,0.0,0.0,0.2334757476752953,0.0,0.3333333333333333,0.051301584996521765],[0.15393258426966294,0.0,1.0,0.4596632319678311,0.125,0.0,0.10364429745562033],[0.1550561797752809,1.0,1.0,0.19577783362653933,0.0,0.0,0.01798980030808316],[0.1561797752808989,0.0,1.0,0.2963056044232219,0.0,0.0,0.15458810467956932],[0.15730337078651688,1.0,0.0,0.36792055349407915,0.0,0.3333333333333333,0.029757819776815374],[0.15842696629213485,1.0,0.0,0.2711736617240512,0.0,0.0,0.015126992566498259],[0.15955056179775284,1.0,0.0,0.2963056044232219,0.125,0.0,0.030937139635999665],[0.1606741573033708,1.0,1.0,0.2334757476752953,0.0,0.0,0.013175122557917838],[0.16179775280898878,0.5,1.0,0.22090977632571,0.0,0.0,0.022446505098674838],[0.16292134831460675,0.5,1.0,0.2334757476752953,0.125,0.16666666666666666,0.07173122281533045],[0.16404494382022475,1.0,1.0,0.33400351847197784,0.0,0.0,0.015216388212891242],[0.16516853932584272,1.0,0.0,0.10781603417944208,0.25,0.3333333333333333,0.06709553154495196],[0.1662921348314607,0.5,1.0,0.4533802462930384,0.0,0.3333333333333333,0.050748620223090936],[0.16741573033707868,0.5,1.0,0.5224930887157577,0.0,0.0,0.025374310111545468],[0.16853932584269665,0.5,1.0,0.6355868308620256,0.0,0.0,0.02444717185746977],[0.16966292134831462,0.0,0.0,0.2711736617240512,0.125,0.0,0.12999454257145598],[0.17078651685393262,1.0,1.0,0.6921337019351597,0.0,0.0,0.015712553569072387],[0.1719101123595506,1.0,1.0,0.5036441316913798,0.0,0.3333333333333333,0.028302115124416098],[0.17303370786516856,1.0,1.0,0.36792055349407915,0.0,0.0,0.014273049437744325],[0.17415730337078655,0.0,1.0,0.6355868308620256,0.0,0.16666666666666666,0.11980421963065935],[0.17528089887640452,1.0,0.0,0.19577783362653933,0.0,0.0,0.015094396337354966],[0.1764044943820225,1.0,1.0,0.37170143252073384,0.0,0.0,0.015712553569072387],[0.17752808988764046,1.0,1.0,0.36792055349407915,0.0,0.0,0.016908073949327893],[0.17865168539325846,1.0,1.0,0.36792055349407915,1.0,0.3333333333333333,0.13575255909676825],[0.17977528089887643,1.0,1.0,0.5476250314149284,0.0,0.16666666666666666,0.031425107138144774],[0.1808988764044944,0.5,0.0,0.49736114601658704,0.0,0.0,0.030741952635141623],[0.1820224719101124,1.0,1.0,0.32143754712239253,0.0,0.0,0.015175789316712771],[0.18314606741573036,1.0,1.0,0.20834380497612465,0.0,0.0,0.016908073949327893],[0.18426966292134833,1.0,1.0,0.007288263382759488,0.5,0.16666666666666666,0.07746484096553544],[0.18539325842696633,1.0,1.0,0.10781603417944208,0.0,0.3333333333333333,0.04006213192611313],[0.1865168539325843,0.0,0.0,0.36792055349407915,0.0,0.16666666666666666,0.10735285047192313],[0.18764044943820227,1.0,0.0,0.5601910027645137,0.125,0.6666666666666666,0.05445717323939373],[0.18876404494382024,0.0,1.0,0.36792055349407915,0.0,0.0,0.050602229972447406],[0.18988764044943823,1.0,1.0,0.34656948982156316,0.0,0.0,0.11027245763075773],[0.1910112359550562,0.0,1.0,0.7612465443578789,0.0,0.0,0.06538764528744409],[0.19213483146067417,1.0,1.0,0.04498617743151546,0.5,0.16666666666666666,0.05684821399990475],[0.19325842696629217,1.0,0.0,0.007288263382759488,0.125,0.16666666666666666,0.021730754366528396],[0.19438202247191014,1.0,1.0,0.2586076903744659,0.0,0.0,0.015468569817999833],[0.1955056179775281,0.0,1.0,0.6984166876099522,0.0,0.0,0.05991421140938287],[0.1966292134831461,1.0,1.0,0.22090977632571,0.125,0.16666666666666666,0.015330377421392339],[0.19775280898876407,1.0,1.0,0.36792055349407915,0.375,0.16666666666666666,0.049707687947515],[0.19887640449438204,0.0,0.0,0.6230208595124404,0.0,0.0,0.05604306762136532],[0.20000000000000004,0.5,1.0,0.37170143252073384,0.0,0.0,0.025374310111545468],[0.201123595505618,1.0,1.0,0.4470972606182458,0.0,0.0,0.0],[0.20224719101123598,1.0,0.0,0.36792055349407915,1.0,0.3333333333333333,0.13575255909676825],[0.20337078651685395,0.5,1.0,0.36792055349407915,0.0,0.0,0.02937564362913533],[0.20449438202247194,1.0,1.0,0.10781603417944208,0.5,0.3333333333333333,0.06126431989431795],[0.2056179775280899,0.5,1.0,0.007288263382759488,0.25,0.16666666666666666,0.07612293033463641],[0.20674157303370788,1.0,0.0,0.04498617743151546,0.0,0.3333333333333333,0.04298993693898376],[0.20786516853932588,0.0,1.0,0.36792055349407915,0.0,0.0,0.09759350042902103],[0.20898876404494385,1.0,0.0,0.36792055349407915,0.125,0.0,0.030253985132996517],[0.21011235955056182,0.0,1.0,0.5601910027645137,0.0,0.0,0.051822148727810165],[0.2112359550561798,1.0,1.0,0.49736114601658704,0.125,0.16666666666666666,0.030253985132996517],[0.21235955056179778,1.0,1.0,0.4470972606182458,0.0,0.0,0.015411575213749286],[0.21348314606741575,0.5,0.0,0.39683337521990447,0.0,0.0,0.025374310111545468],[0.21460674157303372,0.5,1.0,0.2334757476752953,0.0,0.0,0.025374310111545468],[0.21573033707865172,1.0,0.0,0.2334757476752953,0.125,0.0,0.015330377421392339],[0.2168539325842697,0.5,1.0,0.032420206081930136,0.125,0.16666666666666666,0.050748620223090936],[0.21797752808988766,0.0,0.0,0.5476250314149284,0.0,0.0,0.05410739813385612],[0.21910112359550565,0.0,0.0,0.723548630309123,0.0,0.0,0.2859895551532101],[0.22022471910112362,1.0,1.0,0.36792055349407915,0.0,0.0,0.015126992566498259],[0.2213483146067416,1.0,1.0,0.5224930887157577,0.0,0.16666666666666666,0.01640390592611157],[0.2224719101123596,1.0,0.0,0.36792055349407915,0.0,0.0,0.015126992566498259],[0.22359550561797756,0.5,0.0,0.2963056044232219,0.0,0.0,0.025374310111545468],[0.22471910112359553,1.0,1.0,0.34656948982156316,0.0,0.0,0.018542765081513996],[0.22584269662921352,1.0,1.0,0.36792055349407915,1.0,0.3333333333333333,0.13575255909676825],[0.2269662921348315,1.0,1.0,0.4219653179190751,0.0,0.0,0.012678957201736696],[0.22808988764044946,1.0,1.0,0.5664739884393064,0.0,0.0,0.014102260811993537],[0.22921348314606743,1.0,1.0,0.22090977632571,0.0,0.0,0.015712553569072387],[0.23033707865168543,1.0,0.0,0.01985423473234481,0.0,0.16666666666666666,0.02042143996477265],[0.2314606741573034,1.0,1.0,0.39683337521990447,0.125,0.0,0.030937139635999665],[0.23258426966292137,1.0,1.0,0.32143754712239253,0.0,0.0,0.036670757786204655],[0.23370786516853936,1.0,0.0,0.19577783362653933,0.0,0.0,0.015126992566498259],[0.23483146067415733,0.0,1.0,0.49736114601658704,0.0,0.0,0.060507970265993034],[0.2359550561797753,1.0,1.0,0.2963056044232219,0.0,0.0,0.013760683560491965],[0.2370786516853933,0.5,0.0,0.4345312892686604,0.0,0.0,0.04098927018018883],[0.23820224719101127,1.0,1.0,0.2711736617240512,0.0,0.0,0.014151057562208049],[0.23932584269662924,0.5,1.0,0.37170143252073384,0.0,0.0,0.025374310111545468],[0.24044943820224723,1.0,1.0,0.36792055349407915,0.125,0.0,0.015126992566498259],[0.2415730337078652,0.0,0.0,0.38426740387031916,0.125,0.0,0.22109807522194713],[0.24269662921348317,1.0,0.0,0.33400351847197784,0.0,0.0,0.015468569817999833],[0.24382022471910114,0.5,1.0,0.5224930887157577,0.125,0.0,0.05270049023167135],[0.24494382022471914,0.0,0.0,0.39683337521990447,0.0,0.0,0.14891148113361488],[0.2460674157303371,0.5,1.0,0.37170143252073384,0.0,0.0,0.020494635090094415],[0.24719101123595508,1.0,1.0,0.19577783362653933,0.0,0.0,0.015712553569072387],[0.24831460674157307,0.5,1.0,0.33400351847197784,0.0,0.0,0.025374310111545468],[0.24943820224719104,1.0,1.0,0.6355868308620256,0.0,0.0,0.015712553569072387],[0.250561797752809,1.0,1.0,0.36792055349407915,0.0,0.0,0.015411575213749286],[0.251685393258427,0.0,1.0,0.4722292033174164,0.125,0.0,0.17566830077223786],[0.25280898876404495,1.0,1.0,0.2711736617240512,0.0,0.0,0.018249984580226933],[0.253932584269663,0.5,1.0,0.2334757476752953,0.0,0.0,0.020494635090094415],[0.25505617977528094,1.0,1.0,0.2523247046996733,0.0,0.0,0.014151057562208049],[0.2561797752808989,0.5,1.0,0.22090977632571,0.0,0.0,0.025374310111545468],[0.2573033707865169,1.0,0.0,0.36792055349407915,0.375,0.16666666666666666,0.049707687947515],[0.25842696629213485,0.0,0.0,0.4345312892686604,0.125,0.0,0.16293234896625058],[0.2595505617977528,1.0,1.0,0.35913546117114853,0.0,0.0,0.015175789316712771],[0.2606741573033708,0.5,1.0,0.7361146016587082,0.0,0.0,0.026350245115835676],[0.2617977528089888,1.0,0.0,0.05755214878110078,0.5,0.3333333333333333,0.06126431989431795],[0.2629213483146068,0.5,1.0,0.2963056044232219,0.0,0.0,0.020494635090094415],[0.26404494382022475,1.0,0.0,0.36792055349407915,0.0,0.0,0.014736618564782174],[0.2651685393258427,0.5,1.0,0.5476250314149284,0.125,0.0,0.050748620223090936],[0.2662921348314607,0.5,0.0,0.09525006282985675,0.0,0.3333333333333333,0.05123658772523604],[0.26741573033707866,0.5,1.0,0.2334757476752953,0.0,0.0,0.020494635090094415],[0.2685393258426967,0.5,1.0,0.4093993465694898,0.0,0.0,0.023959204355324663],[0.26966292134831465,1.0,0.0,0.36792055349407915,0.125,0.0,0.028212719478023115],[0.2707865168539326,1.0,0.0,0.36792055349407915,0.125,0.0,0.030253985132996517],[0.2719101123595506,0.5,1.0,0.35913546117114853,0.0,0.0,0.020494635090094415],[0.27303370786516856,1.0,1.0,0.2711736617240512,0.0,0.0,0.013907073811135496],[0.27415730337078653,1.0,1.0,0.37170143252073384,0.0,0.0,0.014102260811993537],[0.2752808988764045,0.0,1.0,0.5476250314149284,0.25,0.0,0.17566830077223786],[0.2764044943820225,1.0,0.0,0.3088715757728072,0.0,0.0,0.015175789316712771],[0.2775280898876405,0.5,0.0,0.2963056044232219,0.0,0.3333333333333333,0.028302115124416098],[0.27865168539325846,0.0,1.0,0.4596632319678311,0.125,0.16666666666666666,0.10257896680493714],[0.27977528089887643,0.5,1.0,0.6732847449107816,0.125,0.0,0.050748620223090936],[0.2808988764044944,1.0,1.0,0.36792055349407915,0.0,0.0,0.014151057562208049],[0.28202247191011237,1.0,0.0,0.35913546117114853,0.125,0.16666666666666666,0.02042143996477265],[0.2831460674157304,0.0,1.0,0.7738125157074642,0.0,0.0,0.051822148727810165],[0.28426966292134837,1.0,1.0,0.37170143252073384,0.125,0.0,0.031425107138144774],[0.28539325842696633,1.0,0.0,0.5099271173661725,0.0,0.3333333333333333,0.039452172548431745],[0.2865168539325843,1.0,0.0,0.35913546117114853,0.0,0.3333333333333333,0.029757819776815374],[0.2876404494382023,0.0,0.0,0.36792055349407915,0.0,0.0,0.15458810467956932],[0.28876404494382024,0.0,0.0,0.37170143252073384,0.0,0.0,0.16883675574220638],[0.2898876404494382,0.0,0.0,0.4345312892686604,0.0,0.0,1.0],[0.29101123595505624,0.5,0.0,0.6230208595124404,0.0,0.16666666666666666,0.050748620223090936],[0.2921348314606742,1.0,1.0,0.36792055349407915,0.0,0.0,0.015126992566498259],[0.2932584269662922,1.0,1.0,0.032420206081930136,0.5,0.3333333333333333,0.06126431989431795],[0.29438202247191014,0.0,1.0,0.648152802211611,0.125,0.16666666666666666,0.1554664461834305],[0.2955056179775281,0.0,1.0,0.49736114601658704,0.0,0.0,0.0],[0.2966292134831461,1.0,0.0,0.36792055349407915,0.0,0.0,0.015126992566498259],[0.2977528089887641,0.5,1.0,0.4470972606182458,0.0,0.0,0.020494635090094415],[0.2988764044943821,1.0,1.0,0.19577783362653933,0.5,0.16666666666666666,0.07746484096553544],[0.30000000000000004,1.0,1.0,0.3088715757728072,0.125,0.0,0.015175789316712771],[0.301123595505618,0.0,0.0,0.723548630309123,0.0,0.16666666666666666,0.2995388511917728],[0.302247191011236,0.0,0.0,0.4345312892686604,0.0,0.0,0.2647385704347907],[0.30337078651685395,0.0,1.0,0.36792055349407915,0.0,0.0,0.060507970265993034],[0.3044943820224719,1.0,1.0,0.3088715757728072,0.0,0.0,0.0],[0.30561797752808995,0.5,0.0,0.5099271173661725,0.0,0.16666666666666666,0.038061465167318204],[0.3067415730337079,0.0,1.0,0.4596632319678311,0.0,0.16666666666666666,0.057970539254838485],[0.3078651685393259,1.0,0.0,0.36792055349407915,0.0,0.0,0.015126992566498259],[0.30898876404494385,0.0,0.0,0.7863784870570495,0.125,0.0,0.15216446768991498],[0.3101123595505618,1.0,0.0,0.5601910027645137,0.0,0.0,0.015126992566498259],[0.3112359550561798,0.5,1.0,0.36792055349407915,0.0,0.0,0.0],[0.3123595505617978,1.0,1.0,0.08268409148027142,0.5,0.16666666666666666,0.05684821399990475],[0.3134831460674158,1.0,0.0,0.4345312892686604,0.125,0.16666666666666666,0.03952536767375352],[0.31460674157303375,1.0,1.0,0.8115104297562202,0.0,0.0,0.015126992566498259],[0.3157303370786517,1.0,1.0,0.34656948982156316,0.0,0.0,0.015330377421392339],[0.3168539325842697,1.0,1.0,0.19577783362653933,0.0,0.0,0.018542765081513996],[0.31797752808988766,1.0,1.0,0.2334757476752953,0.0,0.0,0.015712553569072387],[0.31910112359550563,0.0,1.0,0.36792055349407915,0.0,0.0,0.050748620223090936],[0.32022471910112366,1.0,1.0,0.4093993465694898,0.0,0.0,0.016908073949327893],[0.3213483146067416,1.0,1.0,0.37170143252073384,0.0,0.0,0.018542765081513996],[0.3224719101123596,1.0,1.0,0.2711736617240512,0.0,0.0,0.015411575213749286],[0.32359550561797756,0.5,1.0,0.5224930887157577,0.0,0.0,0.025374310111545468],[0.32471910112359553,1.0,0.0,0.2711736617240512,0.0,0.0,0.015126992566498259],[0.3258426966292135,0.0,0.0,0.32143754712239253,0.0,0.0,0.15390495017656614],[0.32696629213483147,0.0,0.0,0.2334757476752953,0.125,0.0,0.17777475888549785],[0.3280898876404495,0.5,1.0,0.4470972606182458,0.0,0.0,0.025130326360472913],[0.32921348314606746,1.0,0.0,0.2963056044232219,0.0,0.0,0.01727404957593672],[0.33033707865168543,1.0,1.0,0.2963056044232219,0.0,0.0,0.015411575213749286],[0.3314606741573034,0.0,1.0,0.36792055349407915,0.0,0.0,0.05410739813385612],[0.3325842696629214,1.0,1.0,0.2900226187484292,0.0,0.0,0.014110458666029575],[0.33370786516853934,0.0,0.0,0.01985423473234481,0.125,0.3333333333333333,0.29580589980036276],[0.33483146067415737,0.0,1.0,0.36792055349407915,0.0,0.0,0.05953203526170282],[0.33595505617977534,0.0,0.0,0.6230208595124404,0.0,0.16666666666666666,0.4831284260198326],[0.3370786516853933,1.0,0.0,0.36792055349407915,0.0,0.0,0.015126992566498259],[0.3382022471910113,1.0,1.0,0.36792055349407915,0.25,0.0,0.04538097769949478],[0.33932584269662924,1.0,1.0,0.2334757476752953,0.0,0.0,0.0],[0.3404494382022472,0.5,0.0,0.36792055349407915,0.0,0.0,0.024105594605968193],[0.3415730337078652,1.0,1.0,0.36792055349407915,0.0,0.0,0.015712553569072387],[0.3426966292134832,0.0,1.0,0.006282985674792663,0.125,0.3333333333333333,0.29580589980036276],[0.3438202247191012,0.0,0.0,0.36792055349407915,0.0,0.0,0.21642978772242535],[0.34494382022471914,0.0,0.0,0.20834380497612465,0.125,0.0,0.2125586439344078],[0.3460674157303371,0.5,1.0,0.37170143252073384,0.125,0.0,0.04684488020593009],[0.3471910112359551,0.0,0.0,0.37170143252073384,0.0,0.0,0.11111839809247648],[0.34831460674157305,0.0,0.0,0.2963056044232219,0.0,0.0,0.16231419173453318],[0.3494382022471911,0.0,0.0,0.22090977632571,0.25,0.3333333333333333,0.5121218935012878],[0.35056179775280905,0.5,0.0,0.32143754712239253,0.125,0.16666666666666666,0.050748620223090936],[0.351685393258427,1.0,1.0,0.34656948982156316,0.0,0.0,0.015411575213749286],[0.352808988764045,0.5,1.0,0.5350590600653431,0.125,0.16666666666666666,0.05123658772523604],[0.35393258426966295,1.0,0.0,0.32143754712239253,0.0,0.0,0.015330377421392339],[0.3550561797752809,0.5,0.0,0.2963056044232219,0.125,0.0,0.050748620223090936],[0.3561797752808989,0.5,1.0,0.6732847449107816,0.0,0.0,0.027326180120125887],[0.3573033707865169,0.0,0.0,0.38426740387031916,0.0,0.3333333333333333,0.32179836714362564],[0.3584269662921349,0.0,0.0,0.49736114601658704,0.125,0.16666666666666666,0.2625265161540666],[0.35955056179775285,1.0,1.0,0.2711736617240512,0.0,0.0,0.014151057562208049],[0.3606741573033708,1.0,1.0,0.33400351847197784,0.0,0.0,0.015411575213749286],[0.3617977528089888,0.5,0.0,0.37170143252073384,0.0,0.0,0.024105594605968193],[0.36292134831460676,0.5,0.0,0.2711736617240512,0.125,0.16666666666666666,0.056604230248832196],[0.3640449438202248,1.0,1.0,0.36792055349407915,1.0,0.3333333333333333,0.13575255909676825],[0.36516853932584276,0.0,0.0,0.4470972606182458,0.0,0.0,0.2647385704347907],[0.3662921348314607,1.0,1.0,0.7612465443578789,0.0,0.0,0.012174789178520372],[0.3674157303370787,0.5,0.0,0.4470972606182458,0.0,0.0,0.025374310111545468],[0.36853932584269666,1.0,0.0,0.38426740387031916,0.125,0.16666666666666666,0.04006213192611313],[0.36966292134831463,0.0,0.0,0.19577783362653933,0.0,0.16666666666666666,0.11316786160148591],[0.3707865168539326,1.0,0.0,0.36792055349407915,0.25,0.0,0.04538097769949478],[0.3719101123595506,0.0,1.0,0.5664739884393064,0.0,0.0,0.055628295244541985],[0.3730337078651686,0.0,1.0,0.4722292033174164,0.0,0.16666666666666666,0.2995388511917728],[0.37415730337078656,1.0,1.0,0.19577783362653933,0.25,0.0,0.03513366015444757],[0.37528089887640453,0.0,0.0,0.36792055349407915,0.125,0.0,0.2608674266467732],[0.3764044943820225,1.0,1.0,0.36792055349407915,0.0,0.0,0.015411575213749286],[0.3775280898876405,0.0,1.0,0.35913546117114853,0.125,0.0,0.12999454257145598],[0.37865168539325844,0.0,0.0,0.5099271173661725,0.0,0.0,0.2625265161540666],[0.37977528089887647,1.0,1.0,0.5601910027645137,0.0,0.0,0.015712553569072387],[0.38089887640449444,0.0,1.0,0.5601910027645137,0.0,0.0,0.06929138530460494],[0.3820224719101124,0.5,1.0,0.01985423473234481,0.125,0.16666666666666666,0.050748620223090936],[0.3831460674157304,0.0,0.0,0.2963056044232219,0.375,0.3333333333333333,0.5133418122566507],[0.38426966292134834,0.5,1.0,0.34656948982156316,0.0,0.0,0.025374310111545468],[0.3853932584269663,0.5,1.0,0.3088715757728072,0.0,0.0,0.025374310111545468],[0.38651685393258434,0.5,1.0,0.4470972606182458,0.0,0.0,0.025374310111545468],[0.3876404494382023,0.5,0.0,0.2963056044232219,0.0,0.0,0.025374310111545468],[0.3887640449438203,0.5,0.0,0.49736114601658704,0.0,0.0,0.025374310111545468],[0.38988764044943824,1.0,0.0,0.36792055349407915,0.125,0.0,0.031425107138144774],[0.3910112359550562,1.0,1.0,0.032420206081930136,0.125,0.16666666666666666,0.031034733136428686],[0.3921348314606742,1.0,1.0,0.5224930887157577,0.0,0.0,0.016908073949327893],[0.39325842696629215,1.0,1.0,0.2837396330736366,0.0,0.0,0.01800600082915438],[0.3943820224719102,0.0,1.0,0.36792055349407915,0.0,0.0,0.06831545030031472],[0.39550561797752815,1.0,1.0,0.18321186227695402,0.125,0.16666666666666666,0.014110458666029575],[0.3966292134831461,1.0,1.0,0.3088715757728072,0.125,0.0,0.034743286152731485],[0.3977528089887641,1.0,1.0,0.36792055349407915,0.0,0.0,0.014102260811993537],[0.39887640449438205,1.0,1.0,0.34656948982156316,0.0,0.0,0.018542765081513996],[0.4,0.0,0.0,0.2711736617240512,0.0,0.16666666666666666,0.10735285047192313],[0.40112359550561805,0.5,0.0,0.4722292033174164,0.0,0.0,0.025374310111545468],[0.402247191011236,1.0,0.0,0.36792055349407915,0.0,0.0,0.01537917417160685],[0.403370786516854,1.0,0.0,0.36792055349407915,0.0,0.0,0.01537917417160685],[0.40449438202247195,1.0,1.0,0.49736114601658704,0.125,0.6666666666666666,0.05445717323939373],[0.4056179775280899,0.5,1.0,0.35913546117114853,0.125,0.0,0.05410739813385612],[0.4067415730337079,1.0,0.0,0.5601910027645137,0.0,0.16666666666666666,0.028212719478023115],[0.40786516853932586,1.0,1.0,0.4345312892686604,0.0,0.0,0.013760683560491965],[0.4089887640449439,1.0,1.0,0.36792055349407915,0.125,0.0,0.030253985132996517],[0.41011235955056186,1.0,1.0,0.37170143252073384,0.0,0.0,0.014151057562208049],[0.4112359550561798,0.0,0.0,0.7486805730082936,0.125,0.0,0.14687821814567664],[0.4123595505617978,1.0,0.0,0.36792055349407915,0.0,0.0,0.014110458666029575],[0.41348314606741576,1.0,0.0,0.36792055349407915,0.0,0.0,0.015126992566498259],[0.41460674157303373,0.0,0.0,0.2963056044232219,0.0,0.0,0.13526459159462315],[0.41573033707865176,0.0,1.0,0.3088715757728072,0.125,0.0,0.1082149914547131],[0.4168539325842697,1.0,1.0,0.22090977632571,0.125,0.0,0.012678957201736696],[0.4179775280898877,1.0,1.0,0.2334757476752953,0.0,0.0,0.015712553569072387],[0.41910112359550566,0.0,1.0,0.2711736617240512,0.0,0.0,0.2647385704347907],[0.42022471910112363,1.0,0.0,0.032420206081930136,0.375,0.16666666666666666,0.04113566043083236],[0.4213483146067416,0.0,0.0,0.36792055349407915,0.125,0.0,0.16038672010106003],[0.42247191011235957,1.0,0.0,0.2711736617240512,0.0,0.0,0.014151057562208049],[0.4235955056179776,0.0,1.0,0.33400351847197784,0.0,0.3333333333333333,0.41282050681475896],[0.42471910112359557,1.0,1.0,0.24604171902488062,0.0,0.0,0.007831878409428937],[0.42584269662921354,1.0,1.0,0.2334757476752953,0.0,0.0,0.015175789316712771],[0.4269662921348315,0.0,0.0,0.5224930887157577,0.0,0.0,0.4440992237022602],[0.4280898876404495,1.0,0.0,0.007288263382759488,0.0,0.3333333333333333,0.030725752114070404],[0.42921348314606744,1.0,1.0,0.39683337521990447,0.0,0.0,0.015468569817999833],[0.4303370786516854,0.0,0.0,0.4345312892686604,0.125,0.0,0.10149724044618187],[0.43146067415730344,1.0,1.0,0.36792055349407915,0.0,0.0,0.015411575213749286],[0.4325842696629214,0.5,1.0,0.22090977632571,0.0,0.0,0.1434624456306609],[0.4337078651685394,1.0,1.0,0.007288263382759488,0.625,0.3333333333333333,0.09154270340242172],[0.43483146067415734,0.5,0.0,0.4470972606182458,0.0,0.0,0.025374310111545468],[0.4359550561797753,1.0,1.0,0.36792055349407915,0.0,0.0,0.015086393670319786],[0.4370786516853933,0.5,0.0,0.20834380497612465,0.0,0.0,0.023422440102965045],[0.4382022471910113,0.0,1.0,0.4470972606182458,0.125,0.3333333333333333,0.23422440102965048],[0.4393258426966293,1.0,1.0,0.2586076903744659,0.0,0.0,0.015216388212891242],[0.44044943820224725,1.0,1.0,0.34656948982156316,0.25,0.0,0.015468569817999833],[0.4415730337078652,0.0,0.0,0.2837396330736366,0.125,0.0,0.22109807522194713],[0.4426966292134832,1.0,0.0,0.2963056044232219,0.0,0.3333333333333333,0.03259622914329302],[0.44382022471910115,1.0,1.0,0.2711736617240512,0.0,0.0,0.015216388212891242],[0.4449438202247191,1.0,0.0,0.38426740387031916,0.0,0.0,0.015330377421392339],[0.44606741573033715,0.5,1.0,0.5727569741140991,0.0,0.0,0.050748620223090936],[0.4471910112359551,0.5,1.0,0.2837396330736366,0.0,0.0,0.020494635090094415],[0.4483146067415731,0.5,0.0,0.34656948982156316,0.0,0.0,0.02469115560854232],[0.44943820224719105,1.0,1.0,0.4847951746670017,0.0,0.0,0.015468569817999833],[0.450561797752809,1.0,1.0,0.32143754712239253,0.0,0.0,0.015712553569072387],[0.451685393258427,1.0,0.0,0.2586076903744659,0.125,0.0,0.019177122834302632],[0.452808988764045,1.0,1.0,0.34656948982156316,0.125,0.0,0.030937139635999665],[0.453932584269663,1.0,0.0,0.24604171902488062,0.0,0.0,0.016908073949327893],[0.45505617977528096,0.5,1.0,0.4219653179190751,0.125,0.0,0.04098927018018883],[0.4561797752808989,1.0,1.0,0.6355868308620256,0.0,0.0,0.015126992566498259],[0.4573033707865169,0.5,1.0,0.032420206081930136,0.125,0.16666666666666666,0.03659756266088288],[0.45842696629213486,1.0,1.0,0.2586076903744659,0.0,0.0,0.015175789316712771],[0.45955056179775283,1.0,0.0,0.36792055349407915,0.375,0.16666666666666666,0.049707687947515],[0.46067415730337086,1.0,1.0,0.36792055349407915,0.0,0.0,0.015411575213749286],[0.4617977528089888,1.0,1.0,0.36792055349407915,0.0,0.0,0.013386510079847098],[0.4629213483146068,0.0,0.0,0.4093993465694898,0.125,0.0,0.17566830077223786],[0.46404494382022476,0.5,1.0,0.36792055349407915,0.0,0.0,0.0],[0.46516853932584273,1.0,1.0,0.5476250314149284,0.0,0.0,0.015468569817999833],[0.4662921348314607,1.0,0.0,0.36792055349407915,0.0,0.0,0.015712553569072387],[0.4674157303370787,0.5,0.0,0.4219653179190751,0.125,0.16666666666666666,0.06343577527886367],[0.4685393258426967,0.5,0.0,0.22090977632571,0.0,0.3333333333333333,0.025374310111545468],[0.46966292134831467,0.5,1.0,0.37170143252073384,0.0,0.0,0.025374310111545468],[0.47078651685393264,1.0,0.0,0.12038200552902739,0.0,0.3333333333333333,0.04713766070721715],[0.4719101123595506,1.0,1.0,0.36792055349407915,0.0,0.0,0.015411575213749286],[0.4730337078651686,1.0,1.0,0.2586076903744659,0.0,0.0,0.015094396337354966],[0.47415730337078654,1.0,1.0,0.35913546117114853,0.0,0.0,0.015370976317570811],[0.47528089887640457,1.0,0.0,0.34656948982156316,0.125,0.16666666666666666,0.028106928123558056],[0.47640449438202254,1.0,1.0,0.22090977632571,0.125,0.16666666666666666,0.039452172548431745],[0.4775280898876405,1.0,1.0,0.36792055349407915,0.0,0.0,0.014151057562208049],[0.4786516853932585,0.5,0.0,0.34656948982156316,0.125,0.0,0.050748620223090936],[0.47977528089887644,0.5,0.0,0.2334757476752953,0.0,0.0,0.050748620223090936],[0.4808988764044944,1.0,1.0,0.36792055349407915,0.0,0.0,0.015126992566498259],[0.48202247191011244,1.0,1.0,0.39683337521990447,0.0,0.0,0.015712553569072387],[0.4831460674157304,0.0,1.0,0.34656948982156316,0.0,0.0,0.051822148727810165],[0.4842696629213484,1.0,0.0,0.36792055349407915,0.125,0.0,0.031425107138144774],[0.48539325842696635,0.5,0.0,0.5224930887157577,0.125,0.0,0.050748620223090936],[0.4865168539325843,1.0,1.0,0.20834380497612465,0.0,0.0,0.013907073811135496],[0.4876404494382023,0.0,1.0,0.6230208595124404,0.125,0.0,0.1091095334796455],[0.48876404494382025,0.0,0.0,0.17064589092736868,0.125,0.3333333333333333,0.23422440102965048],[0.4898876404494383,1.0,0.0,0.2586076903744659,0.25,0.3333333333333333,0.06709553154495196],[0.49101123595505625,0.5,0.0,0.2963056044232219,0.25,0.5,0.03659756266088288],[0.4921348314606742,0.0,1.0,0.7989444584066349,0.125,0.6666666666666666,0.5133418122566507],[0.4932584269662922,0.5,1.0,0.38426740387031916,0.0,0.0,0.020494635090094415],[0.49438202247191015,0.5,0.0,0.5601910027645137,0.125,0.16666666666666666,0.05123658772523604],[0.4955056179775281,1.0,1.0,0.24604171902488062,0.0,0.0,0.018542765081513996],[0.4966292134831461,1.0,1.0,0.3088715757728072,0.125,0.0,0.015175789316712771],[0.4977528089887641,0.5,0.0,0.34656948982156316,0.0,0.0,0.025374310111545468],[0.49887640449438203,1.0,1.0,0.36792055349407915,0.0,0.0,0.015834545444608664],[0.5,0.0,1.0,0.04498617743151546,0.0,0.3333333333333333,0.15977676072337862],[0.501123595505618,0.5,0.0,0.15807991957778336,0.0,0.16666666666666666,0.038061465167318204],[0.5022471910112359,0.0,1.0,0.4219653179190751,0.0,0.0,0.051822148727810165],[0.503370786516854,1.0,0.0,0.05755214878110078,0.25,0.16666666666666666,0.03758969818624431],[0.5044943820224719,0.0,1.0,0.648152802211611,0.0,0.0,0.05953203526170282],[0.5056179775280899,0.5,1.0,0.4470972606182458,0.125,0.3333333333333333,0.05416439273810667],[0.5067415730337078,1.0,1.0,0.36792055349407915,0.125,0.0,0.03897240290032268],[0.5078651685393258,0.0,1.0,0.37170143252073384,0.0,0.0,0.05416439273810667],[0.5089887640449439,0.0,1.0,0.610454888162855,0.125,0.0,0.17391981561855152],[0.5101123595505618,1.0,1.0,0.36792055349407915,0.0,0.0,0.015712553569072387],[0.5112359550561798,1.0,1.0,0.35913546117114853,0.0,0.0,0.015411575213749286],[0.5123595505617977,0.0,1.0,0.8115104297562202,0.0,0.0,0.051822148727810165],[0.5134831460674157,0.0,0.0,0.36792055349407915,0.125,0.0,0.10122885832000206],[0.5146067415730337,0.5,0.0,0.6230208595124404,0.0,0.0,0.020494635090094415],[0.5157303370786517,1.0,1.0,0.36792055349407915,0.0,0.0,0.015126992566498259],[0.5168539325842697,0.0,1.0,0.5978889168132697,0.0,0.0,0.051822148727810165],[0.5179775280898876,1.0,1.0,0.4219653179190751,0.0,0.0,0.015712553569072387],[0.5191011235955056,0.0,1.0,0.5853229454636844,0.0,0.0,0.07514699533034619],[0.5202247191011236,0.5,1.0,0.5978889168132697,0.0,0.0,0.025374310111545468],[0.5213483146067416,1.0,1.0,0.36792055349407915,0.0,0.0,0.015712553569072387],[0.5224719101123595,1.0,1.0,0.4722292033174164,0.0,0.0,0.013760683560491965],[0.5235955056179775,0.5,1.0,0.36792055349407915,0.0,0.0,0.0],[0.5247191011235955,0.0,1.0,0.6984166876099522,0.0,0.0,0.051822148727810165],[0.5258426966292135,1.0,1.0,0.36792055349407915,0.0,0.0,0.015078195816283748],[0.5269662921348315,1.0,0.0,0.0041467705453631576,0.25,0.16666666666666666,0.03758969818624431],[0.5280898876404494,1.0,1.0,0.36792055349407915,0.0,0.0,0.014151057562208049],[0.5292134831460674,1.0,1.0,0.4722292033174164,0.0,0.0,0.016908073949327893],[0.5303370786516854,0.5,0.0,0.4093993465694898,0.125,0.3333333333333333,0.05416439273810667],[0.5314606741573034,0.5,0.0,0.2837396330736366,0.0,0.0,0.026919605597338588],[0.5325842696629214,1.0,0.0,0.2711736617240512,0.0,0.0,0.019201521209409888],[0.5337078651685393,0.0,1.0,0.36792055349407915,0.0,0.0,0.10149724044618187],[0.5348314606741573,0.5,1.0,0.4219653179190751,0.125,0.0,0.04098927018018883],[0.5359550561797752,1.0,1.0,0.35913546117114853,0.125,0.0,0.013752485706455927],[0.5370786516853933,1.0,1.0,0.2711736617240512,0.0,0.0,0.014679623960531627],[0.5382022471910113,1.0,0.0,0.01985423473234481,0.0,0.16666666666666666,0.023983602730431916],[0.5393258426966292,1.0,1.0,0.10781603417944208,0.625,0.3333333333333333,0.09154270340242172],[0.5404494382022472,0.5,1.0,0.36792055349407915,0.0,0.0,0.0],[0.5415730337078651,1.0,1.0,0.6230208595124404,0.0,0.0,0.015712553569072387],[0.5426966292134832,1.0,0.0,0.7863784870570495,0.0,0.0,0.018713553707264782],[0.5438202247191011,0.0,1.0,0.3088715757728072,0.125,0.0,0.17777475888549785],[0.5449438202247191,1.0,0.0,0.36792055349407915,0.375,0.16666666666666666,0.049707687947515],[0.5460674157303371,0.0,0.0,0.4345312892686604,0.125,0.0,0.17566830077223786],[0.547191011235955,0.0,1.0,0.723548630309123,0.0,0.0,0.057970539254838485],[0.5483146067415731,1.0,1.0,0.37170143252073384,0.0,0.0,0.015712553569072387],[0.549438202247191,1.0,1.0,0.10781603417944208,0.125,0.16666666666666666,0.031034733136428686],[0.550561797752809,1.0,1.0,0.36792055349407915,0.125,0.0,0.03897240290032268],[0.5516853932584269,1.0,1.0,0.2586076903744659,0.0,0.0,0.014151057562208049],[0.5528089887640449,0.0,1.0,0.685850716260367,0.0,0.0,0.05953203526170282],[0.553932584269663,0.0,1.0,0.8869062578537321,0.0,0.0,0.09662576327876685],[0.5550561797752809,1.0,1.0,0.2586076903744659,0.0,0.0,0.015712553569072387],[0.5561797752808989,1.0,1.0,0.36792055349407915,0.0,0.0,0.028220722145058292],[0.5573033707865168,0.0,0.0,0.6732847449107816,0.125,0.0,0.1527664244005612],[0.5584269662921348,1.0,1.0,0.36792055349407915,0.0,0.0,0.029473237129564348],[0.5595505617977529,0.0,0.0,0.3088715757728072,0.125,0.3333333333333333,0.29580589980036276],[0.5606741573033708,1.0,1.0,0.2963056044232219,0.0,0.0,0.015216388212891242],[0.5617977528089888,1.0,1.0,0.20834380497612465,0.0,0.0,0.016908073949327893],[0.5629213483146067,1.0,0.0,0.2586076903744659,0.0,0.0,0.015126992566498259],[0.5640449438202247,1.0,0.0,0.36792055349407915,0.0,0.0,0.014891206669461744],[0.5651685393258427,1.0,0.0,0.4596632319678311,0.0,0.0,0.018713553707264782],[0.5662921348314607,0.0,0.0,0.19577783362653933,0.0,0.0,0.16883675574220638],[0.5674157303370787,0.0,1.0,0.22090977632571,0.125,0.0,0.2125586439344078],[0.5685393258426966,0.5,0.0,0.4093993465694898,0.0,0.3333333333333333,0.050748620223090936],[0.5696629213483146,0.0,1.0,0.36792055349407915,0.0,0.0,0.051822148727810165],[0.5707865168539326,1.0,1.0,0.34656948982156316,0.0,0.0,0.04396587194327397],[0.5719101123595506,1.0,1.0,0.32143754712239253,0.0,0.0,0.11027245763075773],[0.5730337078651685,1.0,1.0,0.35913546117114853,0.0,0.0,0.015126992566498259],[0.5741573033707865,1.0,1.0,0.36792055349407915,0.0,0.0,0.015712553569072387],[0.5752808988764045,0.0,1.0,0.4470972606182458,0.0,0.0,0.05130978285055781],[0.5764044943820225,0.0,0.0,0.6732847449107816,0.125,0.0,0.11594107850967697],[0.5775280898876405,1.0,1.0,0.2963056044232219,0.0,0.0,0.014630827210317117],[0.5786516853932584,0.0,1.0,0.5853229454636844,0.0,0.0,0.06640417918791278],[0.5797752808988764,0.5,0.0,0.4219653179190751,0.0,0.0,0.020494635090094415],[0.5808988764044943,1.0,1.0,0.36792055349407915,0.0,0.0,0.04713766070721715],[0.5820224719101124,0.5,0.0,0.4470972606182458,0.125,0.0,0.050748620223090936],[0.5831460674157304,1.0,1.0,0.39683337521990447,0.0,0.0,0.015411575213749286],[0.5842696629213483,0.0,0.0,0.37170143252073384,0.0,0.0,0.18249984580226933],[0.5853932584269663,1.0,1.0,0.2711736617240512,0.0,0.0,0.015411575213749286],[0.5865168539325842,1.0,1.0,0.36792055349407915,0.0,0.0,0.014102260811993537],[0.5876404494382023,0.0,0.0,0.5476250314149284,0.0,0.16666666666666666,0.11316786160148591],[0.5887640449438202,1.0,1.0,0.36792055349407915,0.0,0.0,0.014110458666029575],[0.5898876404494382,1.0,1.0,0.5036441316913798,0.0,0.0,0.015126992566498259],[0.5910112359550562,0.5,0.0,0.6230208595124404,0.0,0.0,0.020494635090094415],[0.5921348314606741,0.0,1.0,0.36792055349407915,0.0,0.0,0.4328841690069588],[0.5932584269662922,1.0,1.0,0.4847951746670017,0.0,0.0,0.015468569817999833],[0.5943820224719101,0.5,1.0,0.2837396330736366,0.25,0.16666666666666666,0.022446505098674838],[0.5955056179775281,0.5,0.0,0.01985423473234481,0.125,0.16666666666666666,0.050748620223090936],[0.5966292134831461,1.0,1.0,0.36792055349407915,0.0,0.0,0.014110458666029575],[0.597752808988764,1.0,1.0,0.20834380497612465,0.125,0.16666666666666666,0.014110458666029575],[0.5988764044943821,1.0,0.0,0.36792055349407915,0.0,0.3333333333333333,0.04364049521284362],[0.6,1.0,0.0,0.37170143252073384,0.0,0.0,0.016908073949327893],[0.601123595505618,0.5,0.0,0.08268409148027142,0.0,0.3333333333333333,0.05123658772523604],[0.6022471910112359,0.0,1.0,0.5601910027645137,0.0,0.0,0.051822148727810165],[0.6033707865168539,0.0,0.0,0.37170143252073384,0.0,0.0,0.20772776566317125],[0.604494382022472,1.0,1.0,0.36792055349407915,0.0,0.0,0.028302115124416098],[0.6056179775280899,0.0,0.0,0.2711736617240512,0.0,0.3333333333333333,0.09661756542473082],[0.6067415730337079,0.0,0.0,0.4470972606182458,0.0,0.3333333333333333,0.13858277060920987],[0.6078651685393258,1.0,0.0,0.10781603417944208,0.5,0.3333333333333333,0.06104473451835265],[0.6089887640449438,1.0,0.0,0.1329479768786127,0.5,0.3333333333333333,0.06104473451835265],[0.6101123595505618,0.5,1.0,0.39683337521990447,0.125,0.0,0.050748620223090936],[0.6112359550561798,0.0,1.0,0.6230208595124404,0.125,0.0,0.20772776566317125],[0.6123595505617978,0.0,1.0,0.7989444584066349,0.0,0.0,0.050748620223090936],[0.6134831460674157,0.5,0.0,0.2334757476752953,0.125,0.0,0.050748620223090936],[0.6146067415730337,0.5,1.0,0.36792055349407915,0.0,0.0,0.02705779799394608],[0.6157303370786517,1.0,1.0,0.4093993465694898,0.125,0.16666666666666666,0.04006213192611313],[0.6168539325842697,0.5,1.0,0.09525006282985675,0.125,0.16666666666666666,0.07173122281533045],[0.6179775280898876,0.0,1.0,0.20834380497612465,0.0,0.3333333333333333,0.21642978772242535],[0.6191011235955056,0.5,1.0,0.33400351847197784,0.0,0.0,0.050748620223090936],[0.6202247191011236,1.0,1.0,0.36792055349407915,0.0,0.0,0.015281580671177828],[0.6213483146067416,1.0,1.0,0.2711736617240512,0.0,0.0,0.014102260811993537],[0.6224719101123596,1.0,0.0,0.2711736617240512,0.0,0.0,0.015175789316712771],[0.6235955056179775,0.0,1.0,0.7738125157074642,0.0,0.0,0.051822148727810165],[0.6247191011235955,0.0,0.0,0.5978889168132697,0.125,0.0,0.07729405233978466],[0.6258426966292135,0.0,1.0,0.36792055349407915,0.0,0.0,0.4440992237022602],[0.6269662921348315,0.0,0.0,0.4847951746670017,0.125,0.16666666666666666,0.1554664461834305],[0.6280898876404495,1.0,0.0,0.4470972606182458,0.125,0.0,0.033962538149299316],[0.6292134831460674,1.0,1.0,0.36792055349407915,0.0,0.0,0.015126992566498259],[0.6303370786516854,1.0,1.0,0.49736114601658704,0.0,0.0,0.015411575213749286],[0.6314606741573033,0.5,1.0,0.34656948982156316,0.0,0.0,0.026350245115835676],[0.6325842696629214,1.0,1.0,0.36792055349407915,0.0,0.0,0.015712553569072387],[0.6337078651685394,1.0,0.0,0.36792055349407915,0.0,0.0,0.015712553569072387],[0.6348314606741573,1.0,1.0,0.2963056044232219,0.25,0.0,0.04713766070721715],[0.6359550561797753,1.0,1.0,0.2334757476752953,0.0,0.0,0.015411575213749286],[0.6370786516853932,1.0,0.0,0.35913546117114853,0.0,0.6666666666666666,0.04113566043083236],[0.6382022471910113,1.0,1.0,0.36792055349407915,0.0,0.0,0.014110458666029575],[0.6393258426966292,1.0,1.0,0.39683337521990447,0.0,0.0,0.015330377421392339],[0.6404494382022472,0.5,1.0,0.7738125157074642,0.0,0.0,0.020494635090094415],[0.6415730337078652,0.0,0.0,0.6607187735611963,0.25,0.0,0.10048070654571319],[0.6426966292134831,0.0,1.0,0.4470972606182458,0.0,0.0,0.051504969851415845],[0.6438202247191012,1.0,0.0,0.36792055349407915,0.0,0.0,0.015126992566498259],[0.6449438202247191,1.0,1.0,0.19577783362653933,0.0,0.0,0.015712553569072387],[0.6460674157303371,1.0,1.0,0.2334757476752953,0.0,0.0,0.028302115124416098],[0.647191011235955,0.5,0.0,0.4219653179190751,0.0,0.0,0.025374310111545468],[0.648314606741573,0.0,0.0,0.4847951746670017,0.125,0.0,0.1091095334796455],[0.6494382022471911,1.0,0.0,0.36792055349407915,0.125,0.0,0.028220722145058292],[0.650561797752809,1.0,1.0,0.39683337521990447,0.0,0.0,0.015468569817999833],[0.651685393258427,0.5,0.0,0.3088715757728072,0.125,0.16666666666666666,0.05855610025741262],[0.6528089887640449,0.0,0.0,0.4847951746670017,0.125,0.16666666666666666,0.21642978772242535],[0.6539325842696629,0.5,1.0,0.6732847449107816,0.0,0.0,0.050748620223090936],[0.6550561797752809,0.0,1.0,0.4470972606182458,0.0,0.0,0.07831878409428937],[0.6561797752808989,1.0,1.0,0.36792055349407915,0.0,0.0,0.017005667449756914],[0.6573033707865169,0.0,0.0,0.22090977632571,0.0,0.3333333333333333,0.1554664461834305],[0.6584269662921348,0.5,1.0,0.5853229454636844,0.0,0.0,0.02927805012870631],[0.6595505617977528,0.0,1.0,0.7486805730082936,0.125,0.16666666666666666,0.15458810467956932],[0.6606741573033708,1.0,1.0,0.2711736617240512,0.0,0.0,0.015712553569072387],[0.6617977528089888,1.0,1.0,0.36792055349407915,0.0,0.0,0.015712553569072387],[0.6629213483146068,1.0,1.0,0.4345312892686604,0.0,0.0,0.013907073811135496],[0.6640449438202247,0.0,0.0,0.648152802211611,0.125,0.0,0.1527664244005612],[0.6651685393258427,1.0,1.0,0.5853229454636844,0.0,0.0,0.014151057562208049],[0.6662921348314607,1.0,0.0,0.36792055349407915,0.0,0.3333333333333333,0.015126992566498259],[0.6674157303370787,0.5,1.0,0.4596632319678311,0.125,0.0,0.050748620223090936],[0.6685393258426966,1.0,1.0,0.4470972606182458,0.125,0.16666666666666666,0.04713766070721715],[0.6696629213483146,0.5,0.0,0.36792055349407915,0.0,0.0,0.06441171028315387],[0.6707865168539326,1.0,1.0,0.610454888162855,0.0,0.0,0.0],[0.6719101123595506,1.0,1.0,0.36792055349407915,0.0,0.0,0.014102260811993537],[0.6730337078651686,0.0,1.0,0.610454888162855,0.125,0.0,0.11111839809247648],[0.6741573033707865,0.5,0.0,0.2963056044232219,0.25,0.16666666666666666,0.05270049023167135],[0.6752808988764045,1.0,1.0,0.36792055349407915,0.0,0.0,0.015411575213749286],[0.6764044943820224,0.0,1.0,0.36792055349407915,0.0,0.0,0.08275928836380983],[0.6775280898876405,1.0,1.0,0.5476250314149284,0.0,0.0,0.015712553569072387],[0.6786516853932585,0.0,1.0,0.4345312892686604,0.0,0.0,0.051822148727810165],[0.6797752808988764,1.0,1.0,0.4470972606182458,0.125,0.0,0.030351578633425542],[0.6808988764044944,1.0,1.0,0.37170143252073384,0.0,0.0,0.015411575213749286],[0.6820224719101123,0.0,1.0,0.33400351847197784,0.0,0.0,0.05953203526170282],[0.6831460674157304,0.5,0.0,0.2711736617240512,0.125,0.3333333333333333,0.08115719346076702],[0.6842696629213483,0.0,0.0,0.49736114601658704,0.0,0.0,0.2995388511917728],[0.6853932584269663,1.0,0.0,0.4847951746670017,0.125,0.8333333333333333,0.06104473451835265],[0.6865168539325843,1.0,1.0,0.36792055349407915,0.0,0.0,0.013760683560491965],[0.6876404494382022,1.0,0.0,0.36792055349407915,0.125,0.0,0.030253985132996517],[0.6887640449438203,1.0,1.0,0.36792055349407915,0.0,0.0,0.015126992566498259],[0.6898876404494382,1.0,1.0,0.4345312892686604,0.0,0.0,0.015712553569072387],[0.6910112359550562,0.5,0.0,0.2963056044232219,0.125,0.3333333333333333,0.12687155055772734],[0.6921348314606741,1.0,1.0,0.4219653179190751,0.125,0.16666666666666666,0.028106928123558056],[0.6932584269662921,1.0,0.0,0.32143754712239253,0.125,0.0,0.031425107138144774],[0.6943820224719102,0.5,0.0,0.04498617743151546,0.25,0.16666666666666666,0.07612293033463641],[0.6955056179775281,0.5,1.0,0.32143754712239253,0.0,0.0,0.020494635090094415],[0.6966292134831461,1.0,1.0,0.33400351847197784,0.125,0.0,0.028212719478023115],[0.697752808988764,0.0,1.0,0.5224930887157577,0.125,0.0,0.10257896680493714],[0.698876404494382,1.0,1.0,0.24604171902488062,0.125,0.16666666666666666,0.030725752114070404],[0.7000000000000001,1.0,1.0,0.2586076903744659,0.0,0.0,0.015330377421392339],[0.701123595505618,1.0,1.0,0.2586076903744659,0.0,0.0,0.031425107138144774],[0.702247191011236,0.0,1.0,0.7612465443578789,0.0,0.0,0.06308600017332605],[0.7033707865168539,0.5,1.0,0.7109826589595376,0.0,0.0,0.024105594605968193],[0.7044943820224719,0.0,0.0,0.2586076903744659,0.0,0.0,0.15216446768991498],[0.7056179775280899,1.0,1.0,0.32143754712239253,0.0,0.0,0.015411575213749286],[0.7067415730337079,1.0,1.0,0.36792055349407915,0.0,0.0,0.015094396337354966],[0.7078651685393259,0.0,1.0,1.0,0.0,0.0,0.05855610025741262],[0.7089887640449438,1.0,1.0,0.6355868308620256,0.0,0.0,0.013768881414528002],[0.7101123595505618,0.0,1.0,0.39683337521990447,0.0,0.0,0.05953203526170282],[0.7112359550561798,0.0,1.0,0.36792055349407915,0.0,0.0,0.0],[0.7123595505617978,1.0,0.0,0.10781603417944208,0.375,0.3333333333333333,0.05445717323939373],[0.7134831460674157,0.5,0.0,0.34656948982156316,0.0,0.0,0.025374310111545468],[0.7146067415730337,1.0,1.0,0.39683337521990447,0.0,0.0,0.015468569817999833],[0.7157303370786517,0.5,1.0,0.38426740387031916,0.125,0.16666666666666666,0.05123658772523604],[0.7168539325842697,1.0,0.0,0.5099271173661725,0.0,0.8333333333333333,0.07746484096553544],[0.7179775280898877,1.0,1.0,0.36792055349407915,0.125,0.0,0.031425107138144774],[0.7191011235955056,1.0,1.0,0.24604171902488062,0.0,0.0,0.015330377421392339],[0.7202247191011236,0.0,0.0,0.2963056044232219,0.0,0.0,0.13526459159462315],[0.7213483146067415,1.0,0.0,0.01985423473234481,0.375,0.3333333333333333,0.05445717323939373],[0.7224719101123596,1.0,1.0,0.36792055349407915,0.0,0.0,0.11027245763075773],[0.7235955056179776,1.0,0.0,0.0041467705453631576,0.25,0.16666666666666666,0.03758969818624431],[0.7247191011235955,0.0,1.0,0.5978889168132697,0.125,0.0,0.1497654242623688],[0.7258426966292135,1.0,1.0,0.2334757476752953,0.0,0.0,0.015411575213749286],[0.7269662921348314,0.0,1.0,0.6984166876099522,0.0,0.0,0.06929138530460494],[0.7280898876404495,1.0,1.0,0.36792055349407915,0.0,0.0,0.014736618564782174],[0.7292134831460675,1.0,0.0,0.2837396330736366,0.0,0.0,0.014736618564782174],[0.7303370786516854,1.0,1.0,0.36792055349407915,0.0,0.0,0.015411575213749286],[0.7314606741573034,0.5,0.0,0.22090977632571,0.0,0.16666666666666666,0.044893010197349675],[0.7325842696629213,1.0,1.0,0.2586076903744659,0.0,0.0,0.01646070534336126],[0.7337078651685394,1.0,0.0,0.36792055349407915,0.0,0.0,0.015281580671177828],[0.7348314606741573,1.0,0.0,0.22090977632571,0.0,0.0,0.013175122557917838],[0.7359550561797753,0.5,1.0,0.2963056044232219,0.25,0.0,0.1434624456306609],[0.7370786516853933,1.0,1.0,0.36792055349407915,0.0,0.0,0.015411575213749286],[0.7382022471910112,1.0,0.0,0.39683337521990447,0.125,0.16666666666666666,0.030253985132996517],[0.7393258426966293,0.5,1.0,0.2837396330736366,0.0,0.0,0.025374310111545468],[0.7404494382022472,0.0,1.0,0.723548630309123,0.0,0.3333333333333333,0.22109807522194713],[0.7415730337078652,0.0,1.0,0.6230208595124404,0.25,0.0,0.2608674266467732],[0.7426966292134831,1.0,1.0,0.49736114601658704,0.0,0.0,0.014102260811993537],[0.7438202247191011,0.0,1.0,0.5853229454636844,0.0,0.0,0.04994347384455151],[0.7449438202247192,1.0,1.0,0.4470972606182458,0.0,0.0,0.014630827210317117],[0.7460674157303371,1.0,1.0,0.24604171902488062,0.125,0.0,0.015468569817999833],[0.7471910112359551,0.5,1.0,0.39683337521990447,0.25,0.0,0.1434624456306609],[0.748314606741573,0.5,1.0,0.3088715757728072,0.0,0.0,0.025374310111545468],[0.749438202247191,1.0,1.0,0.36792055349407915,0.0,0.0,0.015175789316712771],[0.750561797752809,1.0,1.0,0.5350590600653431,0.0,0.0,0.015712553569072387],[0.751685393258427,0.0,0.0,0.36792055349407915,0.125,0.0,0.10149724044618187],[0.752808988764045,0.5,0.0,0.49736114601658704,0.125,0.16666666666666666,0.07612293033463641],[0.7539325842696629,0.0,1.0,0.38426740387031916,0.125,0.0,0.10149724044618187],[0.755056179775281,0.5,1.0,0.8743402865041467,0.0,0.0,0.020494635090094415],[0.7561797752808989,0.5,1.0,0.38426740387031916,0.0,0.0,0.025374310111545468],[0.7573033707865169,0.5,1.0,0.36792055349407915,0.0,0.0,0.0],[0.7584269662921348,1.0,1.0,0.22090977632571,0.0,0.0,0.015175789316712771],[0.7595505617977528,1.0,1.0,0.30258859009801453,0.0,0.0,0.015712553569072387],[0.7606741573033708,1.0,0.0,0.22090977632571,0.0,0.0,0.019209719063445922],[0.7617977528089888,1.0,0.0,0.5350590600653431,0.125,1.0,0.09154270340242172],[0.7629213483146068,0.0,1.0,0.4470972606182458,0.0,0.16666666666666666,1.0],[0.7640449438202247,1.0,0.0,0.36792055349407915,0.0,0.0,0.01588334219482317],[0.7651685393258427,0.0,1.0,0.33400351847197784,0.0,0.0,0.1497654242623688],[0.7662921348314607,1.0,1.0,0.24604171902488062,0.0,0.0,0.01800600082915438],[0.7674157303370787,1.0,1.0,0.17064589092736868,0.625,0.3333333333333333,0.09154270340242172],[0.7685393258426967,0.5,1.0,0.7486805730082936,0.125,0.16666666666666666,0.07612293033463641],[0.7696629213483146,0.5,1.0,0.3088715757728072,0.125,0.3333333333333333,0.08115719346076702],[0.7707865168539326,1.0,1.0,0.17064589092736868,0.5,0.16666666666666666,0.07746484096553544],[0.7719101123595505,1.0,1.0,0.2334757476752953,0.0,0.0,0.019852079483269742],[0.7730337078651686,1.0,1.0,0.22090977632571,0.0,0.0,0.015216388212891242],[0.7741573033707866,0.0,0.0,0.18321186227695402,0.0,0.16666666666666666,0.41250332793836464],[0.7752808988764045,0.0,1.0,0.38426740387031916,0.125,0.0,0.11125659048908397],[0.7764044943820225,1.0,0.0,0.04498617743151546,0.0,0.16666666666666666,0.026187654344120927],[0.7775280898876404,1.0,1.0,0.36792055349407915,0.0,0.0,0.11027245763075773],[0.7786516853932585,1.0,1.0,0.3088715757728072,0.0,0.0,0.014102260811993537],[0.7797752808988764,0.0,1.0,0.7486805730082936,0.0,0.0,0.051822148727810165],[0.7808988764044944,0.5,1.0,0.648152802211611,0.0,0.0,0.026350245115835676],[0.7820224719101124,1.0,1.0,0.5476250314149284,0.0,0.0,0.015712553569072387],[0.7831460674157303,1.0,0.0,0.36792055349407915,0.0,0.0,0.015094396337354966],[0.7842696629213484,0.0,1.0,0.610454888162855,0.125,0.16666666666666666,0.21642978772242535],[0.7853932584269663,1.0,1.0,0.5224930887157577,0.0,0.0,0.014931805565640218],[0.7865168539325843,0.0,0.0,0.22090977632571,0.125,0.0,0.4440992237022602],[0.7876404494382022,0.0,1.0,0.4345312892686604,0.0,0.0,0.05130978285055781],[0.7887640449438202,1.0,0.0,0.22090977632571,0.0,0.16666666666666666,0.028212719478023115],[0.7898876404494383,1.0,1.0,0.3088715757728072,0.0,0.0,0.015110792045427042],[0.7910112359550562,1.0,1.0,0.32143754712239253,0.125,0.0,0.015330377421392339],[0.7921348314606742,0.5,1.0,0.4847951746670017,0.0,0.0,0.050748620223090936],[0.7932584269662921,0.5,0.0,0.5601910027645137,0.0,0.0,0.026350245115835676],[0.7943820224719101,0.0,1.0,0.5224930887157577,0.0,0.0,0.05130978285055781],[0.7955056179775282,0.0,0.0,0.2711736617240512,0.0,0.0,0.29580589980036276],[0.7966292134831461,1.0,1.0,0.36792055349407915,0.125,0.16666666666666666,0.029757819776815374],[0.7977528089887641,0.0,0.0,0.2963056044232219,0.0,0.0,0.09662576327876685],[0.798876404494382,0.0,1.0,0.36792055349407915,0.0,0.0,0.051822148727810165],[0.8,0.0,1.0,0.5978889168132697,0.125,0.0,0.10149724044618187],[0.801123595505618,1.0,1.0,0.35913546117114853,0.0,0.0,0.018510168852370702],[0.802247191011236,0.5,1.0,0.648152802211611,0.0,0.0,0.025374310111545468],[0.803370786516854,1.0,1.0,0.2334757476752953,0.0,0.0,0.014931805565640218],[0.8044943820224719,0.0,0.0,0.4722292033174164,0.0,0.0,0.4440992237022602],[0.80561797752809,0.5,0.0,0.33400351847197784,0.0,0.0,0.020494635090094415],[0.8067415730337079,1.0,1.0,0.36792055349407915,0.0,0.0,0.030253985132996517],[0.8078651685393259,1.0,1.0,0.4093993465694898,0.0,0.0,0.015175789316712771],[0.8089887640449438,0.5,0.0,0.0701181201306861,0.0,0.16666666666666666,0.06441171028315387],[0.8101123595505618,1.0,1.0,0.20834380497612465,0.125,0.0,0.013768881414528002],[0.8112359550561798,0.5,1.0,0.4219653179190751,0.0,0.0,0.025374310111545468],[0.8123595505617978,0.5,1.0,0.6230208595124404,0.0,0.0,0.025374310111545468],[0.8134831460674158,0.0,1.0,0.33400351847197784,0.125,0.0,0.10364429745562033],[0.8146067415730337,1.0,1.0,0.24604171902488062,0.0,0.0,0.016908073949327893],[0.8157303370786517,0.5,0.0,0.37170143252073384,0.375,0.0,0.04098927018018883],[0.8168539325842696,1.0,0.0,0.36792055349407915,0.0,0.0,0.015102594191391004],[0.8179775280898877,0.5,1.0,0.3088715757728072,0.125,0.0,0.050748620223090936],[0.8191011235955057,1.0,0.0,0.3088715757728072,0.125,0.0,0.015468569817999833],[0.8202247191011236,0.0,0.0,0.35913546117114853,0.0,0.0,0.41250332793836464],[0.8213483146067416,1.0,1.0,0.1329479768786127,0.0,0.0,0.036670757786204655],[0.8224719101123595,0.5,1.0,0.36792055349407915,0.0,0.0,0.0],[0.8235955056179776,0.5,1.0,0.2837396330736366,0.0,0.0,0.025374310111545468],[0.8247191011235955,0.5,1.0,0.2837396330736366,0.0,0.0,0.025374310111545468],[0.8258426966292135,1.0,1.0,0.35285247549635584,0.0,0.0,0.031425107138144774],[0.8269662921348315,1.0,0.0,0.5978889168132697,0.125,0.5,0.06709553154495196],[0.8280898876404494,0.0,1.0,0.4345312892686604,0.0,0.0,1.0],[0.8292134831460675,1.0,1.0,0.36792055349407915,0.0,0.0,0.015411575213749286],[0.8303370786516854,1.0,1.0,0.36792055349407915,0.0,0.0,0.015411575213749286],[0.8314606741573034,0.0,1.0,0.36792055349407915,0.0,0.0,0.05855610025741262],[0.8325842696629214,0.0,1.0,0.4470972606182458,0.125,0.0,0.15390495017656614],[0.8337078651685393,0.0,0.0,0.2586076903744659,0.25,0.3333333333333333,0.5121218935012878],[0.8348314606741574,1.0,1.0,0.2963056044232219,0.125,0.0,0.031425107138144774],[0.8359550561797753,1.0,1.0,0.38426740387031916,0.0,0.0,0.015468569817999833],[0.8370786516853933,0.0,1.0,0.8743402865041467,0.125,0.16666666666666666,0.13858277060920987],[0.8382022471910112,1.0,1.0,0.19577783362653933,0.125,0.16666666666666666,0.03952536767375352],[0.8393258426966292,0.5,0.0,0.37170143252073384,0.0,0.0,0.025374310111545468],[0.8404494382022473,0.0,1.0,0.2334757476752953,0.125,0.0,0.10364429745562033],[0.8415730337078652,1.0,1.0,0.38426740387031916,0.0,0.0,0.015126992566498259],[0.8426966292134832,0.5,0.0,0.04498617743151546,0.125,0.16666666666666666,0.044893010197349675],[0.8438202247191011,1.0,1.0,0.0701181201306861,0.0,0.16666666666666666,0.024349578357040744],[0.8449438202247191,1.0,1.0,0.4093993465694898,0.0,0.0,0.018542765081513996],[0.8460674157303371,1.0,1.0,0.2837396330736366,0.0,0.0,0.015411575213749286],[0.8471910112359551,0.5,0.0,0.5978889168132697,0.125,0.3333333333333333,0.12687155055772734],[0.8483146067415731,0.5,1.0,0.003141492837396331,0.125,0.16666666666666666,0.028302115124416098],[0.849438202247191,1.0,1.0,0.34656948982156316,0.0,0.0,0.015216388212891242],[0.850561797752809,0.5,1.0,0.22090977632571,0.0,0.0,0.022446505098674838],[0.851685393258427,1.0,1.0,0.4219653179190751,0.0,0.0,0.015712553569072387],[0.852808988764045,0.0,0.0,0.4093993465694898,0.0,0.0,0.16883675574220638],[0.8539325842696629,1.0,1.0,0.36792055349407915,0.0,0.0,0.028302115124416098],[0.8550561797752809,1.0,1.0,0.5099271173661725,0.0,0.0,0.013907073811135496],[0.856179775280899,1.0,1.0,0.24604171902488062,0.0,0.0,0.014110458666029575],[0.8573033707865169,0.0,0.0,0.4470972606182458,0.125,0.3333333333333333,0.23422440102965048],[0.8584269662921349,1.0,1.0,0.19577783362653933,0.0,0.0,0.015175789316712771],[0.8595505617977528,0.0,0.0,0.6355868308620256,0.125,0.0,0.15216446768991498],[0.8606741573033708,0.0,1.0,0.36792055349407915,0.0,0.0,0.07729405233978466],[0.8617977528089887,1.0,0.0,0.3779844181955265,0.0,0.0,0.015126992566498259],[0.8629213483146068,1.0,1.0,0.36792055349407915,0.125,0.0,0.04713766070721715],[0.8640449438202248,1.0,1.0,0.39683337521990447,0.0,0.0,0.016322512946753766],[0.8651685393258427,1.0,1.0,0.2963056044232219,0.0,0.0,0.018542765081513996],[0.8662921348314607,1.0,1.0,0.5978889168132697,0.0,0.0,0.015330377421392339],[0.8674157303370786,0.5,0.0,0.7109826589595376,0.0,0.0,0.020494635090094415],[0.8685393258426967,1.0,1.0,0.36792055349407915,0.0,0.0,0.014102260811993537],[0.8696629213483147,0.5,0.0,0.6732847449107816,0.125,0.5,0.044893010197349675],[0.8707865168539326,1.0,1.0,0.22090977632571,0.0,0.0,0.015126992566498259],[0.8719101123595506,1.0,1.0,0.36792055349407915,0.0,0.0,0.015126992566498259],[0.8730337078651685,1.0,0.0,0.05755214878110078,0.0,0.0,0.024349578357040744],[0.8741573033707866,1.0,1.0,0.36792055349407915,0.0,0.0,0.015102594191391004],[0.8752808988764045,0.0,0.0,0.5350590600653431,0.0,0.16666666666666666,0.41250332793836464],[0.8764044943820225,1.0,0.0,0.15807991957778336,0.0,0.0,0.014110458666029575],[0.8775280898876405,0.0,0.0,0.20834380497612465,0.125,0.0,0.11125659048908397],[0.8786516853932584,0.0,1.0,0.35913546117114853,0.0,0.0,0.05855610025741262],[0.8797752808988765,1.0,1.0,0.36792055349407915,0.125,0.3333333333333333,0.04577135170121086],[0.8808988764044944,1.0,1.0,0.3088715757728072,0.0,0.0,0.013760683560491965],[0.8820224719101124,1.0,1.0,0.3088715757728072,0.0,0.0,0.014151057562208049],[0.8831460674157303,1.0,0.0,0.22090977632571,0.0,0.0,0.014630827210317117],[0.8842696629213483,1.0,1.0,0.09525006282985675,0.5,0.16666666666666666,0.05684821399990475],[0.8853932584269664,1.0,1.0,0.007288263382759488,0.125,0.3333333333333333,0.04015972542654215],[0.8865168539325843,0.0,1.0,0.5727569741140991,0.0,0.0,0.15458810467956932],[0.8876404494382023,1.0,1.0,0.36792055349407915,0.0,0.0,0.015126992566498259],[0.8887640449438202,0.5,1.0,0.19577783362653933,0.0,0.0,0.050748620223090936],[0.8898876404494382,1.0,0.0,0.36792055349407915,1.0,0.3333333333333333,0.13575255909676825],[0.8910112359550562,0.0,1.0,0.36792055349407915,0.0,0.0,0.05991421140938287],[0.8921348314606742,1.0,1.0,0.3088715757728072,0.0,0.0,0.015411575213749286],[0.8932584269662922,0.5,1.0,0.4847951746670017,0.0,0.0,0.025374310111545468],[0.8943820224719101,0.0,0.0,0.610454888162855,0.0,0.0,0.050610427826483444],[0.8955056179775281,1.0,0.0,0.38426740387031916,0.0,0.0,0.016948672845506364],[0.8966292134831461,1.0,1.0,0.37170143252073384,0.0,0.0,0.014110458666029575],[0.8977528089887641,1.0,0.0,0.37170143252073384,0.125,0.16666666666666666,0.04713766070721715],[0.8988764044943821,0.5,1.0,0.4219653179190751,0.0,0.0,0.025374310111545468],[0.9,0.5,0.0,0.38426740387031916,0.125,0.16666666666666666,0.05123658772523604],[0.901123595505618,0.0,1.0,0.1329479768786127,0.125,0.3333333333333333,0.23422440102965048],[0.902247191011236,1.0,1.0,0.0,0.0,0.16666666666666666,0.016623491302076868],[0.903370786516854,1.0,1.0,0.33400351847197784,0.0,0.0,0.013614293309848433],[0.9044943820224719,1.0,1.0,0.38426740387031916,0.0,0.0,0.015175789316712771],[0.9056179775280899,0.0,1.0,0.4847951746670017,0.0,0.0,0.0],[0.906741573033708,1.0,0.0,0.22090977632571,0.0,0.0,0.015175789316712771],[0.9078651685393259,0.5,1.0,0.4847951746670017,0.0,0.0,0.025374310111545468],[0.9089887640449439,0.0,0.0,0.4093993465694898,0.125,0.0,0.10364429745562033],[0.9101123595505618,1.0,1.0,0.32143754712239253,0.0,0.0,0.015395374692678068],[0.9112359550561798,1.0,1.0,0.4847951746670017,0.0,0.0,0.04713766070721715],[0.9123595505617977,0.5,1.0,0.4345312892686604,0.0,0.0,0.020494635090094415],[0.9134831460674158,1.0,0.0,0.0701181201306861,0.5,0.3333333333333333,0.06104473451835265],[0.9146067415730338,1.0,1.0,0.3779844181955265,0.0,0.0,0.015712553569072387],[0.9157303370786517,0.0,1.0,0.36792055349407915,0.0,0.0,0.0],[0.9168539325842697,1.0,0.0,0.2837396330736366,0.0,0.0,0.015468569817999833],[0.9179775280898876,0.5,1.0,0.38426740387031916,0.125,0.16666666666666666,0.07222738817151159],[0.9191011235955057,1.0,1.0,0.5350590600653431,0.0,0.0,0.012589561555343713],[0.9202247191011236,1.0,1.0,0.12038200552902739,0.375,0.3333333333333333,0.05445717323939373],[0.9213483146067416,0.0,0.0,0.648152802211611,0.125,0.16666666666666666,0.18249984580226933],[0.9224719101123596,1.0,1.0,0.33400351847197784,0.0,0.0,0.016908073949327893],[0.9235955056179775,0.0,1.0,0.4722292033174164,0.0,0.0,0.0],[0.9247191011235956,1.0,0.0,0.33400351847197784,0.0,0.16666666666666666,0.024349578357040744],[0.9258426966292135,1.0,1.0,0.01985423473234481,0.5,0.16666666666666666,0.07746484096553544],[0.9269662921348315,1.0,1.0,0.36792055349407915,0.0,0.0,0.013565496559633922],[0.9280898876404494,1.0,1.0,0.36792055349407915,0.0,0.0,0.11027245763075773],[0.9292134831460674,0.5,1.0,0.007288263382759488,0.0,0.3333333333333333,0.07222738817151159],[0.9303370786516855,1.0,1.0,0.36792055349407915,0.0,0.0,0.015126992566498259],[0.9314606741573034,0.0,0.0,0.7738125157074642,0.0,0.0,0.15614960068643363],[0.9325842696629214,1.0,0.0,0.18321186227695402,0.125,0.0,0.028212719478023115],[0.9337078651685393,0.5,1.0,0.005152048253329982,0.125,0.16666666666666666,0.03659756266088288],[0.9348314606741573,1.0,1.0,0.36792055349407915,0.0,0.0,0.014110458666029575],[0.9359550561797754,1.0,1.0,0.2837396330736366,0.0,0.0,0.015330377421392339],[0.9370786516853933,1.0,1.0,0.22090977632571,0.0,0.0,0.016200521071217493],[0.9382022471910113,0.0,0.0,0.4847951746670017,0.125,0.16666666666666666,0.16231419173453318],[0.9393258426966292,1.0,1.0,0.2586076903744659,0.0,0.0,0.016908073949327893],[0.9404494382022472,1.0,1.0,0.36792055349407915,0.0,0.0,0.015712553569072387],[0.9415730337078652,1.0,1.0,0.39683337521990447,0.0,0.0,0.11027245763075773],[0.9426966292134832,0.0,1.0,0.36792055349407915,0.0,0.0,0.057970539254838485],[0.9438202247191012,1.0,1.0,0.24604171902488062,0.0,0.0,0.015468569817999833],[0.9449438202247191,0.5,1.0,0.19577783362653933,0.0,0.0,0.020494635090094415],[0.9460674157303371,0.0,0.0,0.37170143252073384,0.0,0.0,0.060507970265993034],[0.9471910112359551,1.0,1.0,0.4282483035938678,0.0,0.0,0.012565163180236457],[0.9483146067415731,1.0,1.0,0.20834380497612465,0.0,0.0,0.016908073949327893],[0.949438202247191,1.0,1.0,0.5224930887157577,0.0,0.0,0.014736618564782174],[0.950561797752809,1.0,1.0,0.36792055349407915,1.0,0.3333333333333333,0.13575255909676825],[0.951685393258427,1.0,1.0,0.4345312892686604,0.0,0.0,0.015411575213749286],[0.952808988764045,0.5,1.0,0.34656948982156316,0.0,0.16666666666666666,0.06441171028315387],[0.953932584269663,0.0,0.0,0.36792055349407915,0.125,0.0,0.17391981561855152],[0.9550561797752809,1.0,1.0,0.04498617743151546,0.5,0.3333333333333333,0.06104473451835265],[0.9561797752808989,1.0,1.0,0.9246041719024881,0.0,0.0,0.015175789316712771],[0.9573033707865168,1.0,0.0,0.10781603417944208,0.125,0.16666666666666666,0.029757819776815374],[0.9584269662921349,0.0,0.0,0.19577783362653933,0.0,0.16666666666666666,0.07690367833806856],[0.9595505617977529,0.5,0.0,0.5476250314149284,0.125,0.0,0.050748620223090936],[0.9606741573033708,1.0,0.0,0.22090977632571,0.0,0.16666666666666666,0.018249984580226933],[0.9617977528089888,0.0,0.0,0.5601910027645137,0.125,0.16666666666666666,0.32179836714362564],[0.9629213483146067,0.0,1.0,0.6355868308620256,0.0,0.0,0.051822148727810165],[0.9640449438202248,1.0,0.0,0.2963056044232219,0.0,0.5,0.03758969818624431],[0.9651685393258428,1.0,1.0,0.36792055349407915,0.0,0.0,0.014110458666029575],[0.9662921348314607,1.0,1.0,0.5099271173661725,0.25,0.0,0.027537567642055148],[0.9674157303370787,0.5,1.0,0.2586076903744659,0.125,0.0,0.022446505098674838],[0.9685393258426966,0.0,0.0,0.5978889168132697,0.0,0.0,0.050610427826483444],[0.9696629213483147,1.0,0.0,0.36792055349407915,1.0,0.3333333333333333,0.13575255909676825],[0.9707865168539326,0.5,1.0,0.2963056044232219,0.0,0.0,0.025374310111545468],[0.9719101123595506,0.5,0.0,0.5224930887157577,0.0,0.0,0.025374310111545468],[0.9730337078651686,0.5,0.0,0.33400351847197784,0.125,0.0,0.027049600139910042],[0.9741573033707865,0.0,1.0,0.38426740387031916,0.0,0.0,0.09856123757927521],[0.9752808988764046,1.0,1.0,0.36792055349407915,0.0,0.0,0.018542765081513996],[0.9764044943820225,1.0,1.0,0.04498617743151546,0.125,0.16666666666666666,0.021730754366528396],[0.9775280898876405,1.0,1.0,0.32143754712239253,0.0,0.0,0.015411575213749286],[0.9786516853932584,0.0,0.0,0.5853229454636844,0.125,0.16666666666666666,0.10257896680493714],[0.9797752808988764,0.0,1.0,0.4093993465694898,0.0,0.0,0.009759350042902102],[0.9808988764044945,1.0,1.0,0.5853229454636844,0.0,0.0,0.017566830077223785],[0.9820224719101124,0.5,0.0,0.34656948982156316,0.125,0.0,0.04684488020593009],[0.9831460674157304,1.0,0.0,0.18321186227695402,0.0,0.0,0.014102260811993537],[0.9842696629213483,1.0,1.0,0.24604171902488062,0.0,0.0,0.019217721730481106],[0.9853932584269663,1.0,1.0,0.2334757476752953,0.0,0.0,0.015411575213749286],[0.9865168539325843,1.0,1.0,0.36792055349407915,0.0,0.0,0.015411575213749286],[0.9876404494382023,0.0,0.0,0.6984166876099522,0.0,0.16666666666666666,0.16231419173453318],[0.9887640449438203,0.5,0.0,0.3088715757728072,0.0,0.16666666666666666,0.050748620223090936],[0.9898876404494382,1.0,1.0,0.4093993465694898,0.0,0.0,0.015411575213749286],[0.9910112359550562,1.0,0.0,0.2711736617240512,0.0,0.0,0.02052723131923771],[0.9921348314606742,0.5,1.0,0.34656948982156316,0.0,0.0,0.020494635090094415],[0.9932584269662922,1.0,1.0,0.3088715757728072,0.0,0.0,0.013760683560491965],[0.9943820224719101,1.0,0.0,0.4847951746670017,0.0,0.8333333333333333,0.05684821399990475],[0.9955056179775281,0.5,1.0,0.33400351847197784,0.0,0.0,0.025374310111545468],[0.9966292134831461,0.0,0.0,0.2334757476752953,0.0,0.0,0.05855610025741262],[0.9977528089887641,1.0,0.0,0.36792055349407915,0.125,0.3333333333333333,0.04577135170121086],[0.998876404494382,0.0,1.0,0.32143754712239253,0.0,0.0,0.05855610025741262],[1.0000000000000002,1.0,1.0,0.39683337521990447,0.0,0.0,0.015126992566498259]],\"y\":[0.0,1.0,1.0,1.0,0.0,0.0,0.0,0.0,1.0,1.0,1.0,1.0,0.0,0.0,0.0,1.0,0.0,1.0,0.0,1.0,0.0,1.0,1.0,1.0,0.0,1.0,0.0,0.0,1.0,0.0,0.0,1.0,1.0,0.0,0.0,0.0,1.0,0.0,0.0,1.0,0.0,0.0,0.0,1.0,1.0,0.0,0.0,1.0,0.0,0.0,0.0,0.0,1.0,1.0,0.0,1.0,1.0,0.0,1.0,0.0,0.0,1.0,0.0,0.0,0.0,1.0,1.0,0.0,1.0,0.0,0.0,0.0,0.0,0.0,1.0,0.0,0.0,0.0,1.0,1.0,0.0,1.0,1.0,0.0,1.0,1.0,0.0,0.0,1.0,0.0,0.0,0.0,0.0,0.0,0.0,0.0,0.0,1.0,1.0,0.0,0.0,0.0,0.0,0.0,0.0,0.0,1.0,1.0,0.0,1.0,0.0,0.0,0.0,0.0,0.0,0.0,0.0,0.0,0.0,0.0,0.0,0.0,0.0,1.0,0.0,1.0,0.0,1.0,1.0,0.0,0.0,0.0,0.0,1.0,0.0,0.0,1.0,0.0,0.0,0.0,0.0,1.0,1.0,0.0,0.0,0.0,1.0,0.0,0.0,0.0,0.0,1.0,0.0,0.0,0.0,0.0,1.0,0.0,0.0,0.0,0.0,1.0,0.0,0.0,0.0,1.0,1.0,0.0,0.0,0.0,0.0,0.0,1.0,0.0,0.0,0.0,0.0,0.0,0.0,0.0,0.0,0.0,0.0,1.0,1.0,0.0,1.0,1.0,0.0,0.0,1.0,0.0,1.0,1.0,1.0,1.0,0.0,0.0,1.0,0.0,0.0,0.0,0.0,0.0,1.0,0.0,0.0,1.0,1.0,1.0,0.0,1.0,0.0,0.0,0.0,1.0,1.0,0.0,1.0,0.0,1.0,0.0,0.0,0.0,1.0,0.0,1.0,0.0,0.0,0.0,1.0,0.0,0.0,1.0,0.0,0.0,0.0,1.0,0.0,0.0,0.0,1.0,0.0,0.0,0.0,0.0,0.0,1.0,1.0,0.0,0.0,0.0,0.0,0.0,0.0,1.0,1.0,1.0,1.0,1.0,0.0,1.0,0.0,0.0,0.0,0.0,0.0,1.0,1.0,1.0,0.0,1.0,1.0,0.0,1.0,1.0,0.0,0.0,0.0,1.0,0.0,0.0,0.0,1.0,0.0,0.0,1.0,0.0,1.0,1.0,1.0,1.0,0.0,0.0,0.0,0.0,0.0,0.0,1.0,1.0,1.0,1.0,0.0,1.0,0.0,1.0,1.0,1.0,0.0,1.0,1.0,1.0,0.0,0.0,0.0,1.0,1.0,0.0,1.0,1.0,0.0,0.0,1.0,1.0,0.0,1.0,0.0,1.0,1.0,1.0,1.0,0.0,0.0,0.0,1.0,0.0,0.0,1.0,1.0,0.0,1.0,1.0,0.0,0.0,0.0,1.0,1.0,1.0,1.0,0.0,0.0,0.0,0.0,0.0,0.0,0.0,1.0,0.0,1.0,1.0,0.0,0.0,0.0,0.0,0.0,0.0,1.0,1.0,1.0,1.0,1.0,0.0,0.0,0.0,0.0,1.0,1.0,0.0,0.0,0.0,1.0,1.0,0.0,1.0,0.0,0.0,0.0,1.0,0.0,1.0,1.0,1.0,0.0,1.0,1.0,0.0,0.0,0.0,0.0,1.0,1.0,0.0,0.0,0.0,0.0,0.0,0.0,1.0,0.0,0.0,0.0,0.0,1.0,0.0,1.0,0.0,1.0,1.0,0.0,0.0,0.0,0.0,0.0,0.0,0.0,0.0,1.0,1.0,0.0,1.0,1.0,1.0,1.0,0.0,0.0,1.0,0.0,1.0,0.0,0.0,1.0,0.0,0.0,1.0,1.0,1.0,1.0,1.0,1.0,1.0,0.0,0.0,0.0,1.0,0.0,1.0,0.0,1.0,1.0,0.0,1.0,0.0,0.0,0.0,0.0,0.0,0.0,0.0,0.0,1.0,0.0,0.0,1.0,1.0,0.0,0.0,0.0,0.0,0.0,1.0,0.0,0.0,0.0,1.0,1.0,0.0,1.0,0.0,0.0,1.0,0.0,0.0,0.0,0.0,0.0,0.0,1.0,0.0,0.0,0.0,0.0,0.0,0.0,0.0,1.0,0.0,1.0,1.0,0.0,1.0,1.0,0.0,1.0,1.0,0.0,0.0,1.0,0.0,1.0,0.0,1.0,0.0,0.0,1.0,0.0,0.0,1.0,0.0,0.0,0.0,1.0,0.0,0.0,1.0,0.0,1.0,0.0,1.0,0.0,1.0,1.0,0.0,0.0,1.0,0.0,0.0,1.0,1.0,0.0,1.0,1.0,0.0,0.0,1.0,1.0,0.0,1.0,0.0,1.0,1.0,0.0,0.0,0.0,0.0,0.0,0.0,0.0,0.0,0.0,1.0,1.0,1.0,1.0,1.0,0.0,0.0,1.0,1.0,0.0,1.0,1.0,1.0,0.0,0.0,0.0,1.0,0.0,1.0,0.0,0.0,0.0,1.0,0.0,0.0,0.0,0.0,1.0,0.0,0.0,1.0,1.0,0.0,0.0,0.0,1.0,0.0,0.0,1.0,1.0,1.0,0.0,0.0,1.0,0.0,0.0,1.0,0.0,0.0,1.0,0.0,0.0,1.0,1.0,0.0,0.0,0.0,0.0,1.0,0.0,0.0,1.0,0.0,1.0,0.0,0.0,1.0,0.0,0.0,0.0,0.0,0.0,1.0,0.0,1.0,1.0,1.0,0.0,1.0,0.0,1.0,0.0,1.0,0.0,1.0,0.0,0.0,0.0,0.0,0.0,0.0,1.0,0.0,0.0,0.0,1.0,0.0,0.0,0.0,0.0,1.0,1.0,0.0,0.0,1.0,0.0,0.0,0.0,1.0,0.0,1.0,0.0,1.0,0.0,0.0,0.0,0.0,0.0,0.0,0.0,1.0,1.0,1.0,1.0,0.0,0.0,0.0,0.0,1.0,0.0,0.0,1.0,1.0,0.0,0.0,0.0,0.0,1.0,1.0,1.0,1.0,1.0,0.0,1.0,0.0,0.0,0.0,1.0,1.0,0.0,0.0,1.0,0.0,0.0,0.0,1.0,0.0,1.0,1.0,0.0,0.0,1.0,0.0,0.0,0.0,0.0,0.0,0.0,1.0,0.0,0.0,1.0,0.0,1.0,0.0,1.0,0.0,0.0,1.0,0.0,0.0,1.0,1.0,0.0,0.0,1.0,1.0,0.0,0.0,0.0,1.0,0.0,0.0,1.0,1.0,0.0,1.0,0.0,0.0,0.0,0.0,0.0,0.0,0.0,0.0,1.0,0.0,0.0,1.0,0.0,1.0,1.0,1.0,0.0,0.0,0.0,0.0,1.0,0.0,1.0,0.0,0.0,0.0,0.0,0.0,0.0,0.0,1.0,1.0,0.0,0.0,0.0,1.0,1.0,1.0,1.0,0.0,0.0,0.0,0.0,1.0,0.0,0.0,0.0,0.0,0.0,0.0,0.0,0.0,0.0,0.0,1.0,1.0,0.0,1.0,0.0,0.0,0.0,1.0,1.0,1.0,1.0,1.0,0.0,0.0,0.0,1.0,0.0,0.0,1.0,1.0,0.0,0.0,1.0,0.0,0.0,0.0,0.0,0.0,0.0,1.0,0.0,0.0,0.0,1.0,0.0,1.0,1.0,1.0,1.0,0.0,0.0,0.0,1.0,0.0,0.0,1.0,1.0,0.0,0.0,1.0,0.0,1.0,0.0,0.0,1.0,1.0,0.0,0.0,0.0,1.0,1.0,0.0,0.0,0.0,0.0,0.0,0.0,1.0,0.0,1.0,0.0],\"type\":\"scatter\"}],                        {\"template\":{\"data\":{\"bar\":[{\"error_x\":{\"color\":\"#2a3f5f\"},\"error_y\":{\"color\":\"#2a3f5f\"},\"marker\":{\"line\":{\"color\":\"#E5ECF6\",\"width\":0.5},\"pattern\":{\"fillmode\":\"overlay\",\"size\":10,\"solidity\":0.2}},\"type\":\"bar\"}],\"barpolar\":[{\"marker\":{\"line\":{\"color\":\"#E5ECF6\",\"width\":0.5},\"pattern\":{\"fillmode\":\"overlay\",\"size\":10,\"solidity\":0.2}},\"type\":\"barpolar\"}],\"carpet\":[{\"aaxis\":{\"endlinecolor\":\"#2a3f5f\",\"gridcolor\":\"white\",\"linecolor\":\"white\",\"minorgridcolor\":\"white\",\"startlinecolor\":\"#2a3f5f\"},\"baxis\":{\"endlinecolor\":\"#2a3f5f\",\"gridcolor\":\"white\",\"linecolor\":\"white\",\"minorgridcolor\":\"white\",\"startlinecolor\":\"#2a3f5f\"},\"type\":\"carpet\"}],\"choropleth\":[{\"colorbar\":{\"outlinewidth\":0,\"ticks\":\"\"},\"type\":\"choropleth\"}],\"contour\":[{\"colorbar\":{\"outlinewidth\":0,\"ticks\":\"\"},\"colorscale\":[[0.0,\"#0d0887\"],[0.1111111111111111,\"#46039f\"],[0.2222222222222222,\"#7201a8\"],[0.3333333333333333,\"#9c179e\"],[0.4444444444444444,\"#bd3786\"],[0.5555555555555556,\"#d8576b\"],[0.6666666666666666,\"#ed7953\"],[0.7777777777777778,\"#fb9f3a\"],[0.8888888888888888,\"#fdca26\"],[1.0,\"#f0f921\"]],\"type\":\"contour\"}],\"contourcarpet\":[{\"colorbar\":{\"outlinewidth\":0,\"ticks\":\"\"},\"type\":\"contourcarpet\"}],\"heatmap\":[{\"colorbar\":{\"outlinewidth\":0,\"ticks\":\"\"},\"colorscale\":[[0.0,\"#0d0887\"],[0.1111111111111111,\"#46039f\"],[0.2222222222222222,\"#7201a8\"],[0.3333333333333333,\"#9c179e\"],[0.4444444444444444,\"#bd3786\"],[0.5555555555555556,\"#d8576b\"],[0.6666666666666666,\"#ed7953\"],[0.7777777777777778,\"#fb9f3a\"],[0.8888888888888888,\"#fdca26\"],[1.0,\"#f0f921\"]],\"type\":\"heatmap\"}],\"heatmapgl\":[{\"colorbar\":{\"outlinewidth\":0,\"ticks\":\"\"},\"colorscale\":[[0.0,\"#0d0887\"],[0.1111111111111111,\"#46039f\"],[0.2222222222222222,\"#7201a8\"],[0.3333333333333333,\"#9c179e\"],[0.4444444444444444,\"#bd3786\"],[0.5555555555555556,\"#d8576b\"],[0.6666666666666666,\"#ed7953\"],[0.7777777777777778,\"#fb9f3a\"],[0.8888888888888888,\"#fdca26\"],[1.0,\"#f0f921\"]],\"type\":\"heatmapgl\"}],\"histogram\":[{\"marker\":{\"pattern\":{\"fillmode\":\"overlay\",\"size\":10,\"solidity\":0.2}},\"type\":\"histogram\"}],\"histogram2d\":[{\"colorbar\":{\"outlinewidth\":0,\"ticks\":\"\"},\"colorscale\":[[0.0,\"#0d0887\"],[0.1111111111111111,\"#46039f\"],[0.2222222222222222,\"#7201a8\"],[0.3333333333333333,\"#9c179e\"],[0.4444444444444444,\"#bd3786\"],[0.5555555555555556,\"#d8576b\"],[0.6666666666666666,\"#ed7953\"],[0.7777777777777778,\"#fb9f3a\"],[0.8888888888888888,\"#fdca26\"],[1.0,\"#f0f921\"]],\"type\":\"histogram2d\"}],\"histogram2dcontour\":[{\"colorbar\":{\"outlinewidth\":0,\"ticks\":\"\"},\"colorscale\":[[0.0,\"#0d0887\"],[0.1111111111111111,\"#46039f\"],[0.2222222222222222,\"#7201a8\"],[0.3333333333333333,\"#9c179e\"],[0.4444444444444444,\"#bd3786\"],[0.5555555555555556,\"#d8576b\"],[0.6666666666666666,\"#ed7953\"],[0.7777777777777778,\"#fb9f3a\"],[0.8888888888888888,\"#fdca26\"],[1.0,\"#f0f921\"]],\"type\":\"histogram2dcontour\"}],\"mesh3d\":[{\"colorbar\":{\"outlinewidth\":0,\"ticks\":\"\"},\"type\":\"mesh3d\"}],\"parcoords\":[{\"line\":{\"colorbar\":{\"outlinewidth\":0,\"ticks\":\"\"}},\"type\":\"parcoords\"}],\"pie\":[{\"automargin\":true,\"type\":\"pie\"}],\"scatter\":[{\"marker\":{\"colorbar\":{\"outlinewidth\":0,\"ticks\":\"\"}},\"type\":\"scatter\"}],\"scatter3d\":[{\"line\":{\"colorbar\":{\"outlinewidth\":0,\"ticks\":\"\"}},\"marker\":{\"colorbar\":{\"outlinewidth\":0,\"ticks\":\"\"}},\"type\":\"scatter3d\"}],\"scattercarpet\":[{\"marker\":{\"colorbar\":{\"outlinewidth\":0,\"ticks\":\"\"}},\"type\":\"scattercarpet\"}],\"scattergeo\":[{\"marker\":{\"colorbar\":{\"outlinewidth\":0,\"ticks\":\"\"}},\"type\":\"scattergeo\"}],\"scattergl\":[{\"marker\":{\"colorbar\":{\"outlinewidth\":0,\"ticks\":\"\"}},\"type\":\"scattergl\"}],\"scattermapbox\":[{\"marker\":{\"colorbar\":{\"outlinewidth\":0,\"ticks\":\"\"}},\"type\":\"scattermapbox\"}],\"scatterpolar\":[{\"marker\":{\"colorbar\":{\"outlinewidth\":0,\"ticks\":\"\"}},\"type\":\"scatterpolar\"}],\"scatterpolargl\":[{\"marker\":{\"colorbar\":{\"outlinewidth\":0,\"ticks\":\"\"}},\"type\":\"scatterpolargl\"}],\"scatterternary\":[{\"marker\":{\"colorbar\":{\"outlinewidth\":0,\"ticks\":\"\"}},\"type\":\"scatterternary\"}],\"surface\":[{\"colorbar\":{\"outlinewidth\":0,\"ticks\":\"\"},\"colorscale\":[[0.0,\"#0d0887\"],[0.1111111111111111,\"#46039f\"],[0.2222222222222222,\"#7201a8\"],[0.3333333333333333,\"#9c179e\"],[0.4444444444444444,\"#bd3786\"],[0.5555555555555556,\"#d8576b\"],[0.6666666666666666,\"#ed7953\"],[0.7777777777777778,\"#fb9f3a\"],[0.8888888888888888,\"#fdca26\"],[1.0,\"#f0f921\"]],\"type\":\"surface\"}],\"table\":[{\"cells\":{\"fill\":{\"color\":\"#EBF0F8\"},\"line\":{\"color\":\"white\"}},\"header\":{\"fill\":{\"color\":\"#C8D4E3\"},\"line\":{\"color\":\"white\"}},\"type\":\"table\"}]},\"layout\":{\"annotationdefaults\":{\"arrowcolor\":\"#2a3f5f\",\"arrowhead\":0,\"arrowwidth\":1},\"autotypenumbers\":\"strict\",\"coloraxis\":{\"colorbar\":{\"outlinewidth\":0,\"ticks\":\"\"}},\"colorscale\":{\"diverging\":[[0,\"#8e0152\"],[0.1,\"#c51b7d\"],[0.2,\"#de77ae\"],[0.3,\"#f1b6da\"],[0.4,\"#fde0ef\"],[0.5,\"#f7f7f7\"],[0.6,\"#e6f5d0\"],[0.7,\"#b8e186\"],[0.8,\"#7fbc41\"],[0.9,\"#4d9221\"],[1,\"#276419\"]],\"sequential\":[[0.0,\"#0d0887\"],[0.1111111111111111,\"#46039f\"],[0.2222222222222222,\"#7201a8\"],[0.3333333333333333,\"#9c179e\"],[0.4444444444444444,\"#bd3786\"],[0.5555555555555556,\"#d8576b\"],[0.6666666666666666,\"#ed7953\"],[0.7777777777777778,\"#fb9f3a\"],[0.8888888888888888,\"#fdca26\"],[1.0,\"#f0f921\"]],\"sequentialminus\":[[0.0,\"#0d0887\"],[0.1111111111111111,\"#46039f\"],[0.2222222222222222,\"#7201a8\"],[0.3333333333333333,\"#9c179e\"],[0.4444444444444444,\"#bd3786\"],[0.5555555555555556,\"#d8576b\"],[0.6666666666666666,\"#ed7953\"],[0.7777777777777778,\"#fb9f3a\"],[0.8888888888888888,\"#fdca26\"],[1.0,\"#f0f921\"]]},\"colorway\":[\"#636efa\",\"#EF553B\",\"#00cc96\",\"#ab63fa\",\"#FFA15A\",\"#19d3f3\",\"#FF6692\",\"#B6E880\",\"#FF97FF\",\"#FECB52\"],\"font\":{\"color\":\"#2a3f5f\"},\"geo\":{\"bgcolor\":\"white\",\"lakecolor\":\"white\",\"landcolor\":\"#E5ECF6\",\"showlakes\":true,\"showland\":true,\"subunitcolor\":\"white\"},\"hoverlabel\":{\"align\":\"left\"},\"hovermode\":\"closest\",\"mapbox\":{\"style\":\"light\"},\"paper_bgcolor\":\"white\",\"plot_bgcolor\":\"#E5ECF6\",\"polar\":{\"angularaxis\":{\"gridcolor\":\"white\",\"linecolor\":\"white\",\"ticks\":\"\"},\"bgcolor\":\"#E5ECF6\",\"radialaxis\":{\"gridcolor\":\"white\",\"linecolor\":\"white\",\"ticks\":\"\"}},\"scene\":{\"xaxis\":{\"backgroundcolor\":\"#E5ECF6\",\"gridcolor\":\"white\",\"gridwidth\":2,\"linecolor\":\"white\",\"showbackground\":true,\"ticks\":\"\",\"zerolinecolor\":\"white\"},\"yaxis\":{\"backgroundcolor\":\"#E5ECF6\",\"gridcolor\":\"white\",\"gridwidth\":2,\"linecolor\":\"white\",\"showbackground\":true,\"ticks\":\"\",\"zerolinecolor\":\"white\"},\"zaxis\":{\"backgroundcolor\":\"#E5ECF6\",\"gridcolor\":\"white\",\"gridwidth\":2,\"linecolor\":\"white\",\"showbackground\":true,\"ticks\":\"\",\"zerolinecolor\":\"white\"}},\"shapedefaults\":{\"line\":{\"color\":\"#2a3f5f\"}},\"ternary\":{\"aaxis\":{\"gridcolor\":\"white\",\"linecolor\":\"white\",\"ticks\":\"\"},\"baxis\":{\"gridcolor\":\"white\",\"linecolor\":\"white\",\"ticks\":\"\"},\"bgcolor\":\"#E5ECF6\",\"caxis\":{\"gridcolor\":\"white\",\"linecolor\":\"white\",\"ticks\":\"\"}},\"title\":{\"x\":0.05},\"xaxis\":{\"automargin\":true,\"gridcolor\":\"white\",\"linecolor\":\"white\",\"ticks\":\"\",\"title\":{\"standoff\":15},\"zerolinecolor\":\"white\",\"zerolinewidth\":2},\"yaxis\":{\"automargin\":true,\"gridcolor\":\"white\",\"linecolor\":\"white\",\"ticks\":\"\",\"title\":{\"standoff\":15},\"zerolinecolor\":\"white\",\"zerolinewidth\":2}}}},                        {\"responsive\": true}                    ).then(function(){\n",
       "                            \n",
       "var gd = document.getElementById('19dff8fa-cdd9-4c45-a5e7-e71105033edb');\n",
       "var x = new MutationObserver(function (mutations, observer) {{\n",
       "        var display = window.getComputedStyle(gd).display;\n",
       "        if (!display || display === 'none') {{\n",
       "            console.log([gd, 'removed!']);\n",
       "            Plotly.purge(gd);\n",
       "            observer.disconnect();\n",
       "        }}\n",
       "}});\n",
       "\n",
       "// Listen for the removal of the full notebook cells\n",
       "var notebookContainer = gd.closest('#notebook-container');\n",
       "if (notebookContainer) {{\n",
       "    x.observe(notebookContainer, {childList: true});\n",
       "}}\n",
       "\n",
       "// Listen for the clearing of the current output cell\n",
       "var outputEl = gd.closest('.output');\n",
       "if (outputEl) {{\n",
       "    x.observe(outputEl, {childList: true});\n",
       "}}\n",
       "\n",
       "                        })                };                            </script>        </div>\n",
       "</body>\n",
       "</html>"
      ]
     },
     "metadata": {},
     "output_type": "display_data"
    }
   ],
   "source": [
    "fig = go.Figure()\n",
    "fig.add_trace(go.Scatter(x = df1[['PassengerId', 'Pclass', 'Sex', 'Age', 'SibSp', 'Parch',\n",
    "       'Fare']],\n",
    "                     y = df1['Survived'],\n",
    "                     mode = 'markers',\n",
    "                     marker = dict(color = labels.astype(float)),\n",
    "                     text = labels))\n",
    "fig.show()"
   ]
  },
  {
   "cell_type": "markdown",
   "metadata": {
    "id": "UBo2Zhwm7xpk"
   },
   "source": [
    "As we can see, we have two values to distinguish between people who survived and who doesn't."
   ]
  },
  {
   "cell_type": "markdown",
   "metadata": {
    "id": "RPQXrcjw9HPN"
   },
   "source": [
    "We could even use the Principal Component Analysis or PCA to visualize clusters, but first it's necessary to normalize the train features."
   ]
  },
  {
   "cell_type": "code",
   "execution_count": 84,
   "metadata": {
    "id": "u9MNqpdQ70zG"
   },
   "outputs": [],
   "source": [
    "from sklearn.preprocessing import StandardScaler"
   ]
  },
  {
   "cell_type": "code",
   "execution_count": 85,
   "metadata": {
    "id": "ZRSTzOTE8XHw"
   },
   "outputs": [],
   "source": [
    "scaler = StandardScaler()"
   ]
  },
  {
   "cell_type": "code",
   "execution_count": 86,
   "metadata": {
    "colab": {
     "base_uri": "https://localhost:8080/"
    },
    "id": "4HwZ2XBT8bx9",
    "outputId": "0be88d61-5b18-4e23-9239-aa1ebea8cff9"
   },
   "outputs": [
    {
     "data": {
      "text/plain": [
       "StandardScaler()"
      ]
     },
     "execution_count": 86,
     "metadata": {},
     "output_type": "execute_result"
    }
   ],
   "source": [
    "scaler.fit(X)"
   ]
  },
  {
   "cell_type": "code",
   "execution_count": 87,
   "metadata": {
    "id": "ioimEwN14f1N"
   },
   "outputs": [],
   "source": [
    "from sklearn.decomposition import PCA"
   ]
  },
  {
   "cell_type": "code",
   "execution_count": 88,
   "metadata": {
    "id": "9P8XWSMB4pBh"
   },
   "outputs": [],
   "source": [
    "pca = PCA(n_components = 2)"
   ]
  },
  {
   "cell_type": "code",
   "execution_count": 89,
   "metadata": {
    "id": "AgLmE0PK4o7S"
   },
   "outputs": [],
   "source": [
    "X = pca.fit_transform(X)"
   ]
  },
  {
   "cell_type": "code",
   "execution_count": 90,
   "metadata": {
    "colab": {
     "base_uri": "https://localhost:8080/",
     "height": 0
    },
    "id": "fXvYUbfn4-Ao",
    "outputId": "8f22b3ee-e6c6-4385-d659-c22e673cd4c6"
   },
   "outputs": [
    {
     "data": {
      "text/html": [
       "\n",
       "  <div id=\"df-8ee68374-f3aa-45d4-b0d6-d4304c868bb2\">\n",
       "    <div class=\"colab-df-container\">\n",
       "      <div>\n",
       "<style scoped>\n",
       "    .dataframe tbody tr th:only-of-type {\n",
       "        vertical-align: middle;\n",
       "    }\n",
       "\n",
       "    .dataframe tbody tr th {\n",
       "        vertical-align: top;\n",
       "    }\n",
       "\n",
       "    .dataframe thead th {\n",
       "        text-align: right;\n",
       "    }\n",
       "</style>\n",
       "<table border=\"1\" class=\"dataframe\">\n",
       "  <thead>\n",
       "    <tr style=\"text-align: right;\">\n",
       "      <th></th>\n",
       "      <th>p1</th>\n",
       "      <th>p2</th>\n",
       "    </tr>\n",
       "  </thead>\n",
       "  <tbody>\n",
       "    <tr>\n",
       "      <th>0</th>\n",
       "      <td>445.074443</td>\n",
       "      <td>-23.998883</td>\n",
       "    </tr>\n",
       "    <tr>\n",
       "      <th>1</th>\n",
       "      <td>443.884679</td>\n",
       "      <td>40.436522</td>\n",
       "    </tr>\n",
       "    <tr>\n",
       "      <th>2</th>\n",
       "      <td>443.065834</td>\n",
       "      <td>-23.228782</td>\n",
       "    </tr>\n",
       "    <tr>\n",
       "      <th>3</th>\n",
       "      <td>441.935934</td>\n",
       "      <td>22.178374</td>\n",
       "    </tr>\n",
       "    <tr>\n",
       "      <th>4</th>\n",
       "      <td>441.050289</td>\n",
       "      <td>-22.880578</td>\n",
       "    </tr>\n",
       "  </tbody>\n",
       "</table>\n",
       "</div>\n",
       "      <button class=\"colab-df-convert\" onclick=\"convertToInteractive('df-8ee68374-f3aa-45d4-b0d6-d4304c868bb2')\"\n",
       "              title=\"Convert this dataframe to an interactive table.\"\n",
       "              style=\"display:none;\">\n",
       "        \n",
       "  <svg xmlns=\"http://www.w3.org/2000/svg\" height=\"24px\"viewBox=\"0 0 24 24\"\n",
       "       width=\"24px\">\n",
       "    <path d=\"M0 0h24v24H0V0z\" fill=\"none\"/>\n",
       "    <path d=\"M18.56 5.44l.94 2.06.94-2.06 2.06-.94-2.06-.94-.94-2.06-.94 2.06-2.06.94zm-11 1L8.5 8.5l.94-2.06 2.06-.94-2.06-.94L8.5 2.5l-.94 2.06-2.06.94zm10 10l.94 2.06.94-2.06 2.06-.94-2.06-.94-.94-2.06-.94 2.06-2.06.94z\"/><path d=\"M17.41 7.96l-1.37-1.37c-.4-.4-.92-.59-1.43-.59-.52 0-1.04.2-1.43.59L10.3 9.45l-7.72 7.72c-.78.78-.78 2.05 0 2.83L4 21.41c.39.39.9.59 1.41.59.51 0 1.02-.2 1.41-.59l7.78-7.78 2.81-2.81c.8-.78.8-2.07 0-2.86zM5.41 20L4 18.59l7.72-7.72 1.47 1.35L5.41 20z\"/>\n",
       "  </svg>\n",
       "      </button>\n",
       "      \n",
       "  <style>\n",
       "    .colab-df-container {\n",
       "      display:flex;\n",
       "      flex-wrap:wrap;\n",
       "      gap: 12px;\n",
       "    }\n",
       "\n",
       "    .colab-df-convert {\n",
       "      background-color: #E8F0FE;\n",
       "      border: none;\n",
       "      border-radius: 50%;\n",
       "      cursor: pointer;\n",
       "      display: none;\n",
       "      fill: #1967D2;\n",
       "      height: 32px;\n",
       "      padding: 0 0 0 0;\n",
       "      width: 32px;\n",
       "    }\n",
       "\n",
       "    .colab-df-convert:hover {\n",
       "      background-color: #E2EBFA;\n",
       "      box-shadow: 0px 1px 2px rgba(60, 64, 67, 0.3), 0px 1px 3px 1px rgba(60, 64, 67, 0.15);\n",
       "      fill: #174EA6;\n",
       "    }\n",
       "\n",
       "    [theme=dark] .colab-df-convert {\n",
       "      background-color: #3B4455;\n",
       "      fill: #D2E3FC;\n",
       "    }\n",
       "\n",
       "    [theme=dark] .colab-df-convert:hover {\n",
       "      background-color: #434B5C;\n",
       "      box-shadow: 0px 1px 3px 1px rgba(0, 0, 0, 0.15);\n",
       "      filter: drop-shadow(0px 1px 2px rgba(0, 0, 0, 0.3));\n",
       "      fill: #FFFFFF;\n",
       "    }\n",
       "  </style>\n",
       "\n",
       "      <script>\n",
       "        const buttonEl =\n",
       "          document.querySelector('#df-8ee68374-f3aa-45d4-b0d6-d4304c868bb2 button.colab-df-convert');\n",
       "        buttonEl.style.display =\n",
       "          google.colab.kernel.accessAllowed ? 'block' : 'none';\n",
       "\n",
       "        async function convertToInteractive(key) {\n",
       "          const element = document.querySelector('#df-8ee68374-f3aa-45d4-b0d6-d4304c868bb2');\n",
       "          const dataTable =\n",
       "            await google.colab.kernel.invokeFunction('convertToInteractive',\n",
       "                                                     [key], {});\n",
       "          if (!dataTable) return;\n",
       "\n",
       "          const docLinkHtml = 'Like what you see? Visit the ' +\n",
       "            '<a target=\"_blank\" href=https://colab.research.google.com/notebooks/data_table.ipynb>data table notebook</a>'\n",
       "            + ' to learn more about interactive tables.';\n",
       "          element.innerHTML = '';\n",
       "          dataTable['output_type'] = 'display_data';\n",
       "          await google.colab.output.renderOutput(dataTable, element);\n",
       "          const docLink = document.createElement('div');\n",
       "          docLink.innerHTML = docLinkHtml;\n",
       "          element.appendChild(docLink);\n",
       "        }\n",
       "      </script>\n",
       "    </div>\n",
       "  </div>\n",
       "  "
      ],
      "text/plain": [
       "           p1         p2\n",
       "0  445.074443 -23.998883\n",
       "1  443.884679  40.436522\n",
       "2  443.065834 -23.228782\n",
       "3  441.935934  22.178374\n",
       "4  441.050289 -22.880578"
      ]
     },
     "execution_count": 90,
     "metadata": {},
     "output_type": "execute_result"
    }
   ],
   "source": [
    "df = pd.DataFrame(X, columns = ['p1', 'p2'])\n",
    "df.head()"
   ]
  },
  {
   "cell_type": "code",
   "execution_count": 91,
   "metadata": {
    "colab": {
     "base_uri": "https://localhost:8080/",
     "height": 0
    },
    "id": "ajRldu6n5Yat",
    "outputId": "6f3bc2d6-4da6-4b65-e599-047485c4893d"
   },
   "outputs": [
    {
     "data": {
      "image/png": "[encoded data removed]",
      "text/plain": [
       "<Figure size 406.6x360 with 1 Axes>"
      ]
     },
     "metadata": {},
     "output_type": "display_data"
    }
   ],
   "source": [
    "ax = sns.set(rc = {'figure.figsize': (10, 6)})\n",
    "ax = sns.relplot(data = df, x = 'p1', y = 'p2', kind = 'scatter', hue = y)\n",
    "ax = ax"
   ]
  },
  {
   "cell_type": "markdown",
   "metadata": {
    "id": "1f85c6f4"
   },
   "source": [
    "## 6. Name 3 types of metrics, and their formulas, used in K-Means clustering algorithm"
   ]
  },
  {
   "cell_type": "markdown",
   "metadata": {
    "id": "cHslTZ5T8qv2"
   },
   "source": [
    "A metric or distance function is a function that gives a distance between each pair of point elements of a set and we call a set with a metric space. Some metrics examples are the Euclidian used to measure the distance on a straight line and Minkowski used on general relativity and Machine Learning models."
   ]
  },
  {
   "cell_type": "markdown",
   "metadata": {
    "id": "5OIxPbS79ui3"
   },
   "source": [
    "Euclidean Distance"
   ]
  },
  {
   "cell_type": "markdown",
   "metadata": {
    "id": "59XfbEKN9xR2"
   },
   "source": [
    "Euclidean distance is defined as the direct straight line geometrical distance between the two points in a flat space."
   ]
  },
  {
   "cell_type": "markdown",
   "metadata": {
    "id": "Em0xtqeFizrh"
   },
   "source": [
    "![Euclidian Distance.jpeg](data:image/jpeg;base64,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)"
   ]
  },
  {
   "cell_type": "markdown",
   "metadata": {
    "id": "4JV2geD7995l"
   },
   "source": [
    "Manhattan Distance"
   ]
  },
  {
   "cell_type": "markdown",
   "metadata": {
    "id": "e71LrCRa-ClW"
   },
   "source": [
    "Manhattan distance is the city block distance between two points. The also called taxicab distance, between two vectors, in an n-dimensional real vector space with fixed cartesian coordinate system. It is the sum of the lengths of the projections of the line segment between the points onto the coordinate axes. "
   ]
  },
  {
   "cell_type": "markdown",
   "metadata": {
    "id": "C4kfy801i-UC"
   },
   "source": [
    "![Manhattan Distance.jpeg](data:image/jpeg;base64,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)"
   ]
  },
  {
   "cell_type": "markdown",
   "metadata": {
    "id": "5yRpusXt-Wqo"
   },
   "source": [
    "Canberra Distance"
   ]
  },
  {
   "cell_type": "markdown",
   "metadata": {
    "id": "w5K_ZeE--dDG"
   },
   "source": [
    "Canberra distance examines the sum of series of a fraction differences between coordinates of a pair of objects. This distance is very sensitive to a small change when both coordinates are nearest to zero or distinguish between two similar cathegories and it's pretty similar to the Manhattan distance, but its weighed by the vectors lenghts."
   ]
  },
  {
   "cell_type": "markdown",
   "metadata": {
    "id": "pO3CDZ2FjEP5"
   },
   "source": [
    "![Canberra Distance.jpeg](data:image/jpeg;base64,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)"
   ]
  },
  {
   "cell_type": "markdown",
   "metadata": {
    "id": "1859f4aa"
   },
   "source": [
    "## 7. Name and describe any algorithm to inverte a Matrix"
   ]
  },
  {
   "cell_type": "markdown",
   "metadata": {
    "id": "FFpFkuYUw8ZT"
   },
   "source": [
    "Gauss-Jordan Elimination is an algorithm that can be used to solve systems of linear equations and to find the inverse of any invertible matrix. Here, we shall use it to find the inverse matrix. It relies upon three elementary row operations one can use on a matrix:\n",
    "\n",
    "\n",
    "\n",
    "1.   Swap the positions of two of the rows.\n",
    "2.   Multiply one of the rows by a nonzero scalar.\n",
    "3.   Add or subtract the scalar multiple of one row to another row.\n",
    "\n",
    "The following algorithm use this method to find the inverse matrix."
   ]
  },
  {
   "cell_type": "markdown",
   "metadata": {
    "id": "PhzL_CY2xgQh"
   },
   "source": [
    "Its necessary to make a 0 numpy array of n x 2n to store our matrix."
   ]
  },
  {
   "cell_type": "markdown",
   "metadata": {
    "id": "TJzoM6TJxtpc"
   },
   "source": [
    "Now we're going to receive the matrix coefficients:"
   ]
  },
  {
   "cell_type": "markdown",
   "metadata": {
    "id": "xrFt07l2x89c"
   },
   "source": [
    "It's also necessary to augument the identity matrix of order n"
   ]
  },
  {
   "cell_type": "markdown",
   "metadata": {
    "id": "1twkYhBhyGYz"
   },
   "source": [
    "Then we apply the Guass Jordan Elimination"
   ]
  },
  {
   "cell_type": "markdown",
   "metadata": {
    "id": "0BShS8nxyPrc"
   },
   "source": [
    "The matrix won't be invertible if the principal diagonal is filled with zeros (called the null diagonal)."
   ]
  },
  {
   "cell_type": "markdown",
   "metadata": {
    "id": "JcrAAa2lzYw0"
   },
   "source": [
    "We can make the principal diagonal = 1."
   ]
  },
  {
   "cell_type": "markdown",
   "metadata": {
    "id": "VpEnVfqZ2KVF"
   },
   "source": [
    "the full code:"
   ]
  },
  {
   "cell_type": "code",
   "execution_count": 92,
   "metadata": {
    "colab": {
     "base_uri": "https://localhost:8080/"
    },
    "id": "hF_9L0zs2Jr1",
    "outputId": "d2f43ba2-f6e8-4b5c-b979-89051bbd27c0"
   },
   "outputs": [
    {
     "name": "stdout",
     "output_type": "stream",
     "text": [
      "Matrix Order: 2\n",
      "Matrix Coefficients: \n",
      "a[0][0]=1\n",
      "a[0][1]=0\n",
      "a[1][0]=0\n",
      "a[1][1]=1\n",
      "\n",
      " The inverse matrix is given as:\n",
      "1.0\t0.0\t\n",
      "0.0\t1.0\t\n"
     ]
    }
   ],
   "source": [
    "import numpy as np\n",
    "import sys\n",
    "\n",
    "n = int(input('Matrix Order: '))\n",
    "\n",
    "a = np.zeros((n, 2*n))\n",
    "\n",
    "\n",
    "print('Matrix Coefficients: ')\n",
    "\n",
    "for i in range(n):\n",
    "    for j in range(n):\n",
    "        a[i][j] = float(input( 'a['+str(i)+']['+ str(j)+']='))\n",
    "\n",
    "for i in range(n):        \n",
    "    for j in range(n):\n",
    "        if i == j:\n",
    "            a[i][j+n] = 1\n",
    "\n",
    "\n",
    "for i in range(n):\n",
    "    if a[i][i] == 0.0:\n",
    "        sys.exit('Divide by zero detected!')\n",
    "        \n",
    "        \n",
    "    for j in range(n):\n",
    "        if i != j:\n",
    "            ratio = a[j][i] / a[i][i]\n",
    "\n",
    "            for k in range(2*n):\n",
    "                a[j][k] = a[j][k] - ratio * a[i][k]\n",
    "\n",
    "\n",
    "for i in range(n):\n",
    "    divisor = a[i][i]\n",
    "    for j in range(2*n):\n",
    "        a[i][j] = a[i][j] / divisor\n",
    "\n",
    "\n",
    "print('\\n The inverse matrix is given as:')\n",
    "for i in range(n):\n",
    "    for j in range(n, 2*n):\n",
    "        print(a[i][j], end = '\\t')\n",
    "    print()"
   ]
  },
  {
   "cell_type": "markdown",
   "metadata": {
    "id": "923524fd"
   },
   "source": [
    "## 8. Explain what is a logistic regression and give an example of application (describe it as best as you can)."
   ]
  },
  {
   "cell_type": "markdown",
   "metadata": {
    "id": "TleUUHpF_uZe"
   },
   "source": [
    "Logistic regression is a classification algorithm much similar to the linear regression but instead it gives us a binary output. It's possile to apply it on diseases diagnosis, fraud detection or weather forecast.\n",
    "\n",
    "A logistic regression model computes a weighted sum of the input features and\n",
    "a bias term, instead of outputting the result like the linear regression model, it outputs the logistic of this result. The logistic is a sigmoid function that outputs a float number between 0 and 1. It's shown below the sigmoid function and its graph."
   ]
  },
  {
   "cell_type": "code",
   "execution_count": 93,
   "metadata": {
    "colab": {
     "base_uri": "https://localhost:8080/",
     "height": 53
    },
    "id": "AGaN30m53_uT",
    "outputId": "f254b8ef-e02c-4be0-8445-539ad446b67e"
   },
   "outputs": [
    {
     "data": {
      "text/latex": [
       "$\\displaystyle \\frac{1}{1 + e^{- x}}$"
      ],
      "text/plain": [
       "1/(1 + exp(-x))"
      ]
     },
     "execution_count": 93,
     "metadata": {},
     "output_type": "execute_result"
    }
   ],
   "source": [
    "x = smp.symbols('x', real = True)\n",
    "\n",
    "f = 1/(1 + smp.exp(-x))\n",
    "f"
   ]
  },
  {
   "cell_type": "markdown",
   "metadata": {
    "id": "jCUYOPLvAYX2"
   },
   "source": [
    "This is the algebraic definition of the sigmoid function."
   ]
  },
  {
   "cell_type": "markdown",
   "metadata": {
    "id": "PUd0n2w7Ay6y"
   },
   "source": [
    "Now we're going to see the sigmoid function plotted."
   ]
  },
  {
   "cell_type": "code",
   "execution_count": 94,
   "metadata": {
    "id": "2eVkNU3uAlge"
   },
   "outputs": [],
   "source": [
    "import math\n",
    "\n",
    "def sigmoid(x):\n",
    "    a = []\n",
    "    for item in x:\n",
    "        a.append(1/(1+math.exp(-item)))\n",
    "    return a"
   ]
  },
  {
   "cell_type": "code",
   "execution_count": 95,
   "metadata": {
    "id": "BIofvbN1Amsf"
   },
   "outputs": [],
   "source": [
    "x = np.arange(-10., 10., 0.2)\n",
    "sig = sigmoid(x)"
   ]
  },
  {
   "cell_type": "code",
   "execution_count": 96,
   "metadata": {
    "colab": {
     "base_uri": "https://localhost:8080/",
     "height": 377
    },
    "id": "oK78rfKdAqr-",
    "outputId": "b0dff6dc-9740-4872-8c92-dc8d5477cf1a"
   },
   "outputs": [
    {
     "data": {
      "image/png": "[encoded data removed]",
      "text/plain": [
       "<Figure size 720x432 with 1 Axes>"
      ]
     },
     "metadata": {},
     "output_type": "display_data"
    }
   ],
   "source": [
    "import matplotlib.pyplot as plt\n",
    "plt.plot(x,sig)\n",
    "plt.show()"
   ]
  },
  {
   "cell_type": "markdown",
   "metadata": {
    "id": "FFNyctGEBBWV"
   },
   "source": [
    "The sigmoid works once the logistic regression model has estimated the probability p that an instance x belongs to the positive class, it can make its prediction y easily. The y is predicted based on the number of probability p, calculated by the algorithm. If p >= 0.5, then y = 1, else y = 0."
   ]
  },
  {
   "cell_type": "markdown",
   "metadata": {
    "id": "LrQlbhT0BIaB"
   },
   "source": [
    "As an example of logistic regression model applied on a real dataset, I've chosen the famous wine dataset to predict its quality."
   ]
  },
  {
   "cell_type": "markdown",
   "metadata": {
    "id": "04To4QbOBYHe"
   },
   "source": [
    "First, we'll perform a basic EDA to understand the features."
   ]
  },
  {
   "cell_type": "code",
   "execution_count": 97,
   "metadata": {
    "id": "Wq4a7oGT_KAn"
   },
   "outputs": [],
   "source": [
    "wines = pd.read_csv('https://raw.githubusercontent.com/aniruddhachoudhury/Red-Wine-Quality/master/winequality-red.csv')"
   ]
  },
  {
   "cell_type": "code",
   "execution_count": 98,
   "metadata": {
    "colab": {
     "base_uri": "https://localhost:8080/",
     "height": 206
    },
    "id": "v2vVWkdU_J7e",
    "outputId": "c88be4e8-1531-4288-fc84-9068e7658ea8"
   },
   "outputs": [
    {
     "data": {
      "text/html": [
       "\n",
       "  <div id=\"df-23bc6b32-a82b-46ce-b297-195cbe3962cf\">\n",
       "    <div class=\"colab-df-container\">\n",
       "      <div>\n",
       "<style scoped>\n",
       "    .dataframe tbody tr th:only-of-type {\n",
       "        vertical-align: middle;\n",
       "    }\n",
       "\n",
       "    .dataframe tbody tr th {\n",
       "        vertical-align: top;\n",
       "    }\n",
       "\n",
       "    .dataframe thead th {\n",
       "        text-align: right;\n",
       "    }\n",
       "</style>\n",
       "<table border=\"1\" class=\"dataframe\">\n",
       "  <thead>\n",
       "    <tr style=\"text-align: right;\">\n",
       "      <th></th>\n",
       "      <th>fixed acidity</th>\n",
       "      <th>volatile acidity</th>\n",
       "      <th>citric acid</th>\n",
       "      <th>residual sugar</th>\n",
       "      <th>chlorides</th>\n",
       "      <th>free sulfur dioxide</th>\n",
       "      <th>total sulfur dioxide</th>\n",
       "      <th>density</th>\n",
       "      <th>pH</th>\n",
       "      <th>sulphates</th>\n",
       "      <th>alcohol</th>\n",
       "      <th>quality</th>\n",
       "    </tr>\n",
       "  </thead>\n",
       "  <tbody>\n",
       "    <tr>\n",
       "      <th>0</th>\n",
       "      <td>7.4</td>\n",
       "      <td>0.70</td>\n",
       "      <td>0.00</td>\n",
       "      <td>1.9</td>\n",
       "      <td>0.076</td>\n",
       "      <td>11.0</td>\n",
       "      <td>34.0</td>\n",
       "      <td>0.9978</td>\n",
       "      <td>3.51</td>\n",
       "      <td>0.56</td>\n",
       "      <td>9.4</td>\n",
       "      <td>5</td>\n",
       "    </tr>\n",
       "    <tr>\n",
       "      <th>1</th>\n",
       "      <td>7.8</td>\n",
       "      <td>0.88</td>\n",
       "      <td>0.00</td>\n",
       "      <td>2.6</td>\n",
       "      <td>0.098</td>\n",
       "      <td>25.0</td>\n",
       "      <td>67.0</td>\n",
       "      <td>0.9968</td>\n",
       "      <td>3.20</td>\n",
       "      <td>0.68</td>\n",
       "      <td>9.8</td>\n",
       "      <td>5</td>\n",
       "    </tr>\n",
       "    <tr>\n",
       "      <th>2</th>\n",
       "      <td>7.8</td>\n",
       "      <td>0.76</td>\n",
       "      <td>0.04</td>\n",
       "      <td>2.3</td>\n",
       "      <td>0.092</td>\n",
       "      <td>15.0</td>\n",
       "      <td>54.0</td>\n",
       "      <td>0.9970</td>\n",
       "      <td>3.26</td>\n",
       "      <td>0.65</td>\n",
       "      <td>9.8</td>\n",
       "      <td>5</td>\n",
       "    </tr>\n",
       "    <tr>\n",
       "      <th>3</th>\n",
       "      <td>11.2</td>\n",
       "      <td>0.28</td>\n",
       "      <td>0.56</td>\n",
       "      <td>1.9</td>\n",
       "      <td>0.075</td>\n",
       "      <td>17.0</td>\n",
       "      <td>60.0</td>\n",
       "      <td>0.9980</td>\n",
       "      <td>3.16</td>\n",
       "      <td>0.58</td>\n",
       "      <td>9.8</td>\n",
       "      <td>6</td>\n",
       "    </tr>\n",
       "    <tr>\n",
       "      <th>4</th>\n",
       "      <td>7.4</td>\n",
       "      <td>0.70</td>\n",
       "      <td>0.00</td>\n",
       "      <td>1.9</td>\n",
       "      <td>0.076</td>\n",
       "      <td>11.0</td>\n",
       "      <td>34.0</td>\n",
       "      <td>0.9978</td>\n",
       "      <td>3.51</td>\n",
       "      <td>0.56</td>\n",
       "      <td>9.4</td>\n",
       "      <td>5</td>\n",
       "    </tr>\n",
       "  </tbody>\n",
       "</table>\n",
       "</div>\n",
       "      <button class=\"colab-df-convert\" onclick=\"convertToInteractive('df-23bc6b32-a82b-46ce-b297-195cbe3962cf')\"\n",
       "              title=\"Convert this dataframe to an interactive table.\"\n",
       "              style=\"display:none;\">\n",
       "        \n",
       "  <svg xmlns=\"http://www.w3.org/2000/svg\" height=\"24px\"viewBox=\"0 0 24 24\"\n",
       "       width=\"24px\">\n",
       "    <path d=\"M0 0h24v24H0V0z\" fill=\"none\"/>\n",
       "    <path d=\"M18.56 5.44l.94 2.06.94-2.06 2.06-.94-2.06-.94-.94-2.06-.94 2.06-2.06.94zm-11 1L8.5 8.5l.94-2.06 2.06-.94-2.06-.94L8.5 2.5l-.94 2.06-2.06.94zm10 10l.94 2.06.94-2.06 2.06-.94-2.06-.94-.94-2.06-.94 2.06-2.06.94z\"/><path d=\"M17.41 7.96l-1.37-1.37c-.4-.4-.92-.59-1.43-.59-.52 0-1.04.2-1.43.59L10.3 9.45l-7.72 7.72c-.78.78-.78 2.05 0 2.83L4 21.41c.39.39.9.59 1.41.59.51 0 1.02-.2 1.41-.59l7.78-7.78 2.81-2.81c.8-.78.8-2.07 0-2.86zM5.41 20L4 18.59l7.72-7.72 1.47 1.35L5.41 20z\"/>\n",
       "  </svg>\n",
       "      </button>\n",
       "      \n",
       "  <style>\n",
       "    .colab-df-container {\n",
       "      display:flex;\n",
       "      flex-wrap:wrap;\n",
       "      gap: 12px;\n",
       "    }\n",
       "\n",
       "    .colab-df-convert {\n",
       "      background-color: #E8F0FE;\n",
       "      border: none;\n",
       "      border-radius: 50%;\n",
       "      cursor: pointer;\n",
       "      display: none;\n",
       "      fill: #1967D2;\n",
       "      height: 32px;\n",
       "      padding: 0 0 0 0;\n",
       "      width: 32px;\n",
       "    }\n",
       "\n",
       "    .colab-df-convert:hover {\n",
       "      background-color: #E2EBFA;\n",
       "      box-shadow: 0px 1px 2px rgba(60, 64, 67, 0.3), 0px 1px 3px 1px rgba(60, 64, 67, 0.15);\n",
       "      fill: #174EA6;\n",
       "    }\n",
       "\n",
       "    [theme=dark] .colab-df-convert {\n",
       "      background-color: #3B4455;\n",
       "      fill: #D2E3FC;\n",
       "    }\n",
       "\n",
       "    [theme=dark] .colab-df-convert:hover {\n",
       "      background-color: #434B5C;\n",
       "      box-shadow: 0px 1px 3px 1px rgba(0, 0, 0, 0.15);\n",
       "      filter: drop-shadow(0px 1px 2px rgba(0, 0, 0, 0.3));\n",
       "      fill: #FFFFFF;\n",
       "    }\n",
       "  </style>\n",
       "\n",
       "      <script>\n",
       "        const buttonEl =\n",
       "          document.querySelector('#df-23bc6b32-a82b-46ce-b297-195cbe3962cf button.colab-df-convert');\n",
       "        buttonEl.style.display =\n",
       "          google.colab.kernel.accessAllowed ? 'block' : 'none';\n",
       "\n",
       "        async function convertToInteractive(key) {\n",
       "          const element = document.querySelector('#df-23bc6b32-a82b-46ce-b297-195cbe3962cf');\n",
       "          const dataTable =\n",
       "            await google.colab.kernel.invokeFunction('convertToInteractive',\n",
       "                                                     [key], {});\n",
       "          if (!dataTable) return;\n",
       "\n",
       "          const docLinkHtml = 'Like what you see? Visit the ' +\n",
       "            '<a target=\"_blank\" href=https://colab.research.google.com/notebooks/data_table.ipynb>data table notebook</a>'\n",
       "            + ' to learn more about interactive tables.';\n",
       "          element.innerHTML = '';\n",
       "          dataTable['output_type'] = 'display_data';\n",
       "          await google.colab.output.renderOutput(dataTable, element);\n",
       "          const docLink = document.createElement('div');\n",
       "          docLink.innerHTML = docLinkHtml;\n",
       "          element.appendChild(docLink);\n",
       "        }\n",
       "      </script>\n",
       "    </div>\n",
       "  </div>\n",
       "  "
      ],
      "text/plain": [
       "   fixed acidity  volatile acidity  citric acid  residual sugar  chlorides  \\\n",
       "0            7.4              0.70         0.00             1.9      0.076   \n",
       "1            7.8              0.88         0.00             2.6      0.098   \n",
       "2            7.8              0.76         0.04             2.3      0.092   \n",
       "3           11.2              0.28         0.56             1.9      0.075   \n",
       "4            7.4              0.70         0.00             1.9      0.076   \n",
       "\n",
       "   free sulfur dioxide  total sulfur dioxide  density    pH  sulphates  \\\n",
       "0                 11.0                  34.0   0.9978  3.51       0.56   \n",
       "1                 25.0                  67.0   0.9968  3.20       0.68   \n",
       "2                 15.0                  54.0   0.9970  3.26       0.65   \n",
       "3                 17.0                  60.0   0.9980  3.16       0.58   \n",
       "4                 11.0                  34.0   0.9978  3.51       0.56   \n",
       "\n",
       "   alcohol  quality  \n",
       "0      9.4        5  \n",
       "1      9.8        5  \n",
       "2      9.8        5  \n",
       "3      9.8        6  \n",
       "4      9.4        5  "
      ]
     },
     "execution_count": 98,
     "metadata": {},
     "output_type": "execute_result"
    }
   ],
   "source": [
    "wines.head()"
   ]
  },
  {
   "cell_type": "code",
   "execution_count": 99,
   "metadata": {
    "colab": {
     "base_uri": "https://localhost:8080/",
     "height": 362
    },
    "id": "txbKfyetBnV4",
    "outputId": "61185a18-f4f1-4ad4-eebb-33ef32639a29"
   },
   "outputs": [
    {
     "data": {
      "text/html": [
       "\n",
       "  <div id=\"df-0312af50-6833-4c0c-842b-33ec32a1ceb2\">\n",
       "    <div class=\"colab-df-container\">\n",
       "      <div>\n",
       "<style scoped>\n",
       "    .dataframe tbody tr th:only-of-type {\n",
       "        vertical-align: middle;\n",
       "    }\n",
       "\n",
       "    .dataframe tbody tr th {\n",
       "        vertical-align: top;\n",
       "    }\n",
       "\n",
       "    .dataframe thead th {\n",
       "        text-align: right;\n",
       "    }\n",
       "</style>\n",
       "<table border=\"1\" class=\"dataframe\">\n",
       "  <thead>\n",
       "    <tr style=\"text-align: right;\">\n",
       "      <th></th>\n",
       "      <th>fixed acidity</th>\n",
       "      <th>volatile acidity</th>\n",
       "      <th>citric acid</th>\n",
       "      <th>residual sugar</th>\n",
       "      <th>chlorides</th>\n",
       "      <th>free sulfur dioxide</th>\n",
       "      <th>total sulfur dioxide</th>\n",
       "      <th>density</th>\n",
       "      <th>pH</th>\n",
       "      <th>sulphates</th>\n",
       "      <th>alcohol</th>\n",
       "      <th>quality</th>\n",
       "    </tr>\n",
       "  </thead>\n",
       "  <tbody>\n",
       "    <tr>\n",
       "      <th>count</th>\n",
       "      <td>1599.000000</td>\n",
       "      <td>1599.000000</td>\n",
       "      <td>1599.000000</td>\n",
       "      <td>1599.000000</td>\n",
       "      <td>1599.000000</td>\n",
       "      <td>1599.000000</td>\n",
       "      <td>1599.000000</td>\n",
       "      <td>1599.000000</td>\n",
       "      <td>1599.000000</td>\n",
       "      <td>1599.000000</td>\n",
       "      <td>1599.000000</td>\n",
       "      <td>1599.000000</td>\n",
       "    </tr>\n",
       "    <tr>\n",
       "      <th>mean</th>\n",
       "      <td>8.319637</td>\n",
       "      <td>0.527821</td>\n",
       "      <td>0.270976</td>\n",
       "      <td>2.538806</td>\n",
       "      <td>0.087467</td>\n",
       "      <td>15.874922</td>\n",
       "      <td>46.467792</td>\n",
       "      <td>0.996747</td>\n",
       "      <td>3.311113</td>\n",
       "      <td>0.658149</td>\n",
       "      <td>10.422983</td>\n",
       "      <td>5.636023</td>\n",
       "    </tr>\n",
       "    <tr>\n",
       "      <th>std</th>\n",
       "      <td>1.741096</td>\n",
       "      <td>0.179060</td>\n",
       "      <td>0.194801</td>\n",
       "      <td>1.409928</td>\n",
       "      <td>0.047065</td>\n",
       "      <td>10.460157</td>\n",
       "      <td>32.895324</td>\n",
       "      <td>0.001887</td>\n",
       "      <td>0.154386</td>\n",
       "      <td>0.169507</td>\n",
       "      <td>1.065668</td>\n",
       "      <td>0.807569</td>\n",
       "    </tr>\n",
       "    <tr>\n",
       "      <th>min</th>\n",
       "      <td>4.600000</td>\n",
       "      <td>0.120000</td>\n",
       "      <td>0.000000</td>\n",
       "      <td>0.900000</td>\n",
       "      <td>0.012000</td>\n",
       "      <td>1.000000</td>\n",
       "      <td>6.000000</td>\n",
       "      <td>0.990070</td>\n",
       "      <td>2.740000</td>\n",
       "      <td>0.330000</td>\n",
       "      <td>8.400000</td>\n",
       "      <td>3.000000</td>\n",
       "    </tr>\n",
       "    <tr>\n",
       "      <th>25%</th>\n",
       "      <td>7.100000</td>\n",
       "      <td>0.390000</td>\n",
       "      <td>0.090000</td>\n",
       "      <td>1.900000</td>\n",
       "      <td>0.070000</td>\n",
       "      <td>7.000000</td>\n",
       "      <td>22.000000</td>\n",
       "      <td>0.995600</td>\n",
       "      <td>3.210000</td>\n",
       "      <td>0.550000</td>\n",
       "      <td>9.500000</td>\n",
       "      <td>5.000000</td>\n",
       "    </tr>\n",
       "    <tr>\n",
       "      <th>50%</th>\n",
       "      <td>7.900000</td>\n",
       "      <td>0.520000</td>\n",
       "      <td>0.260000</td>\n",
       "      <td>2.200000</td>\n",
       "      <td>0.079000</td>\n",
       "      <td>14.000000</td>\n",
       "      <td>38.000000</td>\n",
       "      <td>0.996750</td>\n",
       "      <td>3.310000</td>\n",
       "      <td>0.620000</td>\n",
       "      <td>10.200000</td>\n",
       "      <td>6.000000</td>\n",
       "    </tr>\n",
       "    <tr>\n",
       "      <th>75%</th>\n",
       "      <td>9.200000</td>\n",
       "      <td>0.640000</td>\n",
       "      <td>0.420000</td>\n",
       "      <td>2.600000</td>\n",
       "      <td>0.090000</td>\n",
       "      <td>21.000000</td>\n",
       "      <td>62.000000</td>\n",
       "      <td>0.997835</td>\n",
       "      <td>3.400000</td>\n",
       "      <td>0.730000</td>\n",
       "      <td>11.100000</td>\n",
       "      <td>6.000000</td>\n",
       "    </tr>\n",
       "    <tr>\n",
       "      <th>max</th>\n",
       "      <td>15.900000</td>\n",
       "      <td>1.580000</td>\n",
       "      <td>1.000000</td>\n",
       "      <td>15.500000</td>\n",
       "      <td>0.611000</td>\n",
       "      <td>72.000000</td>\n",
       "      <td>289.000000</td>\n",
       "      <td>1.003690</td>\n",
       "      <td>4.010000</td>\n",
       "      <td>2.000000</td>\n",
       "      <td>14.900000</td>\n",
       "      <td>8.000000</td>\n",
       "    </tr>\n",
       "  </tbody>\n",
       "</table>\n",
       "</div>\n",
       "      <button class=\"colab-df-convert\" onclick=\"convertToInteractive('df-0312af50-6833-4c0c-842b-33ec32a1ceb2')\"\n",
       "              title=\"Convert this dataframe to an interactive table.\"\n",
       "              style=\"display:none;\">\n",
       "        \n",
       "  <svg xmlns=\"http://www.w3.org/2000/svg\" height=\"24px\"viewBox=\"0 0 24 24\"\n",
       "       width=\"24px\">\n",
       "    <path d=\"M0 0h24v24H0V0z\" fill=\"none\"/>\n",
       "    <path d=\"M18.56 5.44l.94 2.06.94-2.06 2.06-.94-2.06-.94-.94-2.06-.94 2.06-2.06.94zm-11 1L8.5 8.5l.94-2.06 2.06-.94-2.06-.94L8.5 2.5l-.94 2.06-2.06.94zm10 10l.94 2.06.94-2.06 2.06-.94-2.06-.94-.94-2.06-.94 2.06-2.06.94z\"/><path d=\"M17.41 7.96l-1.37-1.37c-.4-.4-.92-.59-1.43-.59-.52 0-1.04.2-1.43.59L10.3 9.45l-7.72 7.72c-.78.78-.78 2.05 0 2.83L4 21.41c.39.39.9.59 1.41.59.51 0 1.02-.2 1.41-.59l7.78-7.78 2.81-2.81c.8-.78.8-2.07 0-2.86zM5.41 20L4 18.59l7.72-7.72 1.47 1.35L5.41 20z\"/>\n",
       "  </svg>\n",
       "      </button>\n",
       "      \n",
       "  <style>\n",
       "    .colab-df-container {\n",
       "      display:flex;\n",
       "      flex-wrap:wrap;\n",
       "      gap: 12px;\n",
       "    }\n",
       "\n",
       "    .colab-df-convert {\n",
       "      background-color: #E8F0FE;\n",
       "      border: none;\n",
       "      border-radius: 50%;\n",
       "      cursor: pointer;\n",
       "      display: none;\n",
       "      fill: #1967D2;\n",
       "      height: 32px;\n",
       "      padding: 0 0 0 0;\n",
       "      width: 32px;\n",
       "    }\n",
       "\n",
       "    .colab-df-convert:hover {\n",
       "      background-color: #E2EBFA;\n",
       "      box-shadow: 0px 1px 2px rgba(60, 64, 67, 0.3), 0px 1px 3px 1px rgba(60, 64, 67, 0.15);\n",
       "      fill: #174EA6;\n",
       "    }\n",
       "\n",
       "    [theme=dark] .colab-df-convert {\n",
       "      background-color: #3B4455;\n",
       "      fill: #D2E3FC;\n",
       "    }\n",
       "\n",
       "    [theme=dark] .colab-df-convert:hover {\n",
       "      background-color: #434B5C;\n",
       "      box-shadow: 0px 1px 3px 1px rgba(0, 0, 0, 0.15);\n",
       "      filter: drop-shadow(0px 1px 2px rgba(0, 0, 0, 0.3));\n",
       "      fill: #FFFFFF;\n",
       "    }\n",
       "  </style>\n",
       "\n",
       "      <script>\n",
       "        const buttonEl =\n",
       "          document.querySelector('#df-0312af50-6833-4c0c-842b-33ec32a1ceb2 button.colab-df-convert');\n",
       "        buttonEl.style.display =\n",
       "          google.colab.kernel.accessAllowed ? 'block' : 'none';\n",
       "\n",
       "        async function convertToInteractive(key) {\n",
       "          const element = document.querySelector('#df-0312af50-6833-4c0c-842b-33ec32a1ceb2');\n",
       "          const dataTable =\n",
       "            await google.colab.kernel.invokeFunction('convertToInteractive',\n",
       "                                                     [key], {});\n",
       "          if (!dataTable) return;\n",
       "\n",
       "          const docLinkHtml = 'Like what you see? Visit the ' +\n",
       "            '<a target=\"_blank\" href=https://colab.research.google.com/notebooks/data_table.ipynb>data table notebook</a>'\n",
       "            + ' to learn more about interactive tables.';\n",
       "          element.innerHTML = '';\n",
       "          dataTable['output_type'] = 'display_data';\n",
       "          await google.colab.output.renderOutput(dataTable, element);\n",
       "          const docLink = document.createElement('div');\n",
       "          docLink.innerHTML = docLinkHtml;\n",
       "          element.appendChild(docLink);\n",
       "        }\n",
       "      </script>\n",
       "    </div>\n",
       "  </div>\n",
       "  "
      ],
      "text/plain": [
       "       fixed acidity  volatile acidity  citric acid  residual sugar  \\\n",
       "count    1599.000000       1599.000000  1599.000000     1599.000000   \n",
       "mean        8.319637          0.527821     0.270976        2.538806   \n",
       "std         1.741096          0.179060     0.194801        1.409928   \n",
       "min         4.600000          0.120000     0.000000        0.900000   \n",
       "25%         7.100000          0.390000     0.090000        1.900000   \n",
       "50%         7.900000          0.520000     0.260000        2.200000   \n",
       "75%         9.200000          0.640000     0.420000        2.600000   \n",
       "max        15.900000          1.580000     1.000000       15.500000   \n",
       "\n",
       "         chlorides  free sulfur dioxide  total sulfur dioxide      density  \\\n",
       "count  1599.000000          1599.000000           1599.000000  1599.000000   \n",
       "mean      0.087467            15.874922             46.467792     0.996747   \n",
       "std       0.047065            10.460157             32.895324     0.001887   \n",
       "min       0.012000             1.000000              6.000000     0.990070   \n",
       "25%       0.070000             7.000000             22.000000     0.995600   \n",
       "50%       0.079000            14.000000             38.000000     0.996750   \n",
       "75%       0.090000            21.000000             62.000000     0.997835   \n",
       "max       0.611000            72.000000            289.000000     1.003690   \n",
       "\n",
       "                pH    sulphates      alcohol      quality  \n",
       "count  1599.000000  1599.000000  1599.000000  1599.000000  \n",
       "mean      3.311113     0.658149    10.422983     5.636023  \n",
       "std       0.154386     0.169507     1.065668     0.807569  \n",
       "min       2.740000     0.330000     8.400000     3.000000  \n",
       "25%       3.210000     0.550000     9.500000     5.000000  \n",
       "50%       3.310000     0.620000    10.200000     6.000000  \n",
       "75%       3.400000     0.730000    11.100000     6.000000  \n",
       "max       4.010000     2.000000    14.900000     8.000000  "
      ]
     },
     "execution_count": 99,
     "metadata": {},
     "output_type": "execute_result"
    }
   ],
   "source": [
    "wines.describe()"
   ]
  },
  {
   "cell_type": "code",
   "execution_count": 100,
   "metadata": {
    "colab": {
     "base_uri": "https://localhost:8080/"
    },
    "id": "MW_OQkJfBpUn",
    "outputId": "aff84fd6-ae84-4053-f9f6-864ff4c6bee0"
   },
   "outputs": [
    {
     "name": "stdout",
     "output_type": "stream",
     "text": [
      "<class 'pandas.core.frame.DataFrame'>\n",
      "RangeIndex: 1599 entries, 0 to 1598\n",
      "Data columns (total 12 columns):\n",
      " #   Column                Non-Null Count  Dtype  \n",
      "---  ------                --------------  -----  \n",
      " 0   fixed acidity         1599 non-null   float64\n",
      " 1   volatile acidity      1599 non-null   float64\n",
      " 2   citric acid           1599 non-null   float64\n",
      " 3   residual sugar        1599 non-null   float64\n",
      " 4   chlorides             1599 non-null   float64\n",
      " 5   free sulfur dioxide   1599 non-null   float64\n",
      " 6   total sulfur dioxide  1599 non-null   float64\n",
      " 7   density               1599 non-null   float64\n",
      " 8   pH                    1599 non-null   float64\n",
      " 9   sulphates             1599 non-null   float64\n",
      " 10  alcohol               1599 non-null   float64\n",
      " 11  quality               1599 non-null   int64  \n",
      "dtypes: float64(11), int64(1)\n",
      "memory usage: 150.0 KB\n"
     ]
    }
   ],
   "source": [
    "wines.info()"
   ]
  },
  {
   "cell_type": "code",
   "execution_count": 101,
   "metadata": {
    "colab": {
     "base_uri": "https://localhost:8080/"
    },
    "id": "-XpTRSGmDSJw",
    "outputId": "e871363b-4c70-4992-f141-e123149fc388"
   },
   "outputs": [
    {
     "data": {
      "text/plain": [
       "Index(['fixed acidity', 'volatile acidity', 'citric acid', 'residual sugar',\n",
       "       'chlorides', 'free sulfur dioxide', 'total sulfur dioxide', 'density',\n",
       "       'pH', 'sulphates', 'alcohol', 'quality'],\n",
       "      dtype='object')"
      ]
     },
     "execution_count": 101,
     "metadata": {},
     "output_type": "execute_result"
    }
   ],
   "source": [
    "wines.columns"
   ]
  },
  {
   "cell_type": "markdown",
   "metadata": {
    "id": "2S190Nf4Bj3j"
   },
   "source": [
    "Now that we've seen the columns and how the features varies, we can apply the logistic regression algorithm. I'll use the sklearn library for this task."
   ]
  },
  {
   "cell_type": "code",
   "execution_count": 102,
   "metadata": {
    "id": "cX16m4O0EBmG"
   },
   "outputs": [],
   "source": [
    "X = wines[['fixed acidity', 'volatile acidity', 'citric acid', 'residual sugar',\n",
    "       'chlorides', 'free sulfur dioxide', 'total sulfur dioxide', 'density',\n",
    "       'pH', 'sulphates', 'alcohol']]\n",
    "\n",
    "y = wines[['quality']]"
   ]
  },
  {
   "cell_type": "code",
   "execution_count": 103,
   "metadata": {
    "id": "FGGehXIfC93d"
   },
   "outputs": [],
   "source": [
    "X_train, X_test, y_train, y_test = train_test_split(X, y, test_size = 0.2, random_state = 1234)"
   ]
  },
  {
   "cell_type": "code",
   "execution_count": 104,
   "metadata": {
    "id": "kyc5aMqHC7sO"
   },
   "outputs": [],
   "source": [
    "from sklearn.linear_model import LogisticRegression"
   ]
  },
  {
   "cell_type": "code",
   "execution_count": 105,
   "metadata": {
    "id": "C8uUL39imJqa"
   },
   "outputs": [],
   "source": [
    "model = LogisticRegression()"
   ]
  },
  {
   "cell_type": "code",
   "execution_count": 106,
   "metadata": {
    "colab": {
     "base_uri": "https://localhost:8080/"
    },
    "id": "W2QJPTc8mMJy",
    "outputId": "bed24efc-2eed-4b96-ac44-407c5cb09265"
   },
   "outputs": [
    {
     "data": {
      "text/plain": [
       "LogisticRegression()"
      ]
     },
     "execution_count": 106,
     "metadata": {},
     "output_type": "execute_result"
    }
   ],
   "source": [
    "model.fit(X_train, y_train)"
   ]
  },
  {
   "cell_type": "code",
   "execution_count": 107,
   "metadata": {
    "id": "_o5Ss1L5mPsx"
   },
   "outputs": [],
   "source": [
    "training_accuracy = model.score(X_train, y_train)"
   ]
  },
  {
   "cell_type": "code",
   "execution_count": 108,
   "metadata": {
    "id": "x8MlGK0dyUlx"
   },
   "outputs": [],
   "source": [
    "test_accuracy = model.score(X_test, y_test)"
   ]
  },
  {
   "cell_type": "code",
   "execution_count": 109,
   "metadata": {
    "colab": {
     "base_uri": "https://localhost:8080/"
    },
    "id": "goOiKxuaylgn",
    "outputId": "3cba1ab0-a869-4706-d5a3-7dcaf2c24733"
   },
   "outputs": [
    {
     "name": "stdout",
     "output_type": "stream",
     "text": [
      "Train Accuracy: 57.23%\n",
      "Test Accuracy: 61.56%\n"
     ]
    }
   ],
   "source": [
    "print('Train Accuracy: {:.2f}%'.format((training_accuracy) * 100))\n",
    "print('Test Accuracy: {:.2f}%'.format((test_accuracy) * 100))"
   ]
  },
  {
   "cell_type": "markdown",
   "metadata": {
    "id": "24ca98bf"
   },
   "source": [
    "## 9. Describe in steps how would you perform preliminary analysis on a dataset"
   ]
  },
  {
   "cell_type": "markdown",
   "metadata": {
    "id": "MYG85G08CbN3"
   },
   "source": [
    "I'd perform these steps to analyze preliminary a dataset:\n",
    "\n",
    "0. Try to read about the problem and understand the main questions I'd be able to answer with this analysis.\n",
    "\n",
    "1. Import relevant libraries (Pandas, Seaborn, Matplotlib, NumPy, SciPy, etc.)\n",
    "\n",
    "2. Load the dataset using Pandas.\n",
    "\n",
    "3. Print its head.\n",
    "\n",
    "4. Print its tail.\n",
    "\n",
    "5. Find the number of lines and columns of this dataset.\n",
    "\n",
    "6. Describe the columns.\n",
    "\n",
    "7. Find out what each column means.\n",
    "\n",
    "8. Use the function info to analyse the object types, if any of them isn't in the type we need (data isn't in datetime or timestamp or ints haven't the same bytes).\n",
    "\n",
    "9. Apply the describe function to analyze the main statistics and if it hasn't any outliers (seeing if the standard deviation is larger than the mean) and analyze the minimum and maximum values.\n",
    "\n",
    "10. Look for missing values into the lines and columns. If there are missing values, I'd choose the best method to fill them (mean or median most of the times)or simply remove them from this dataset.\n",
    "\n",
    "11. Use seaborn to plot a heatmap of the correlation matrix to see if any variables are highly correlated. Using the same library, I'd plot the pairplot to see if there's anything interesting in reg and scatter mode to visualize how the variables are related.\n",
    "\n",
    "12. We can use the heat map to see multicollinearity. If the value is bigger than 0.4, then you have serious multicollinearity and we might want to think about dropping some features.\n",
    "\n",
    "13. Select the main features I want to analyze and realize some statistical tests on them.\n",
    "\n",
    "14. Analyze the values of these features (if features are numerical values).\n",
    "\n",
    "15. Use Matplotlib to plot them to have the first visualization of how these features vary using barplots.\n",
    "\n",
    "16. Plot boxplots, timeseries and histograms if necessary to analyze the main features.\n",
    "\n",
    "17. After that, I'd analyze if it is necessary to apply a machine learning model or a deeper analysis would solve the main problems."
   ]
  },
  {
   "cell_type": "markdown",
   "metadata": {
    "id": "FFSX5kigUoso"
   },
   "source": [
    "An example of these steps being followed can be find here where I've followed these steps to perform an EDA and some Machine Learning.\n",
    "\n",
    "[Project](https://colab.research.google.com/drive/141gxvW9DjSAkthK8UH3GnmeAMUv4e6Na?usp=sharing)"
   ]
  },
  {
   "cell_type": "markdown",
   "metadata": {
    "id": "b8ddde1a"
   },
   "source": [
    "## 10. Given the two tables A and B, give the result for the query below, SELECT A.ID, A.Name, A.Born_in, B.Instrument, B.Football_Club From A LEFT JOIN B ON A.ID = B.ID;"
   ]
  },
  {
   "cell_type": "markdown",
   "metadata": {
    "id": "bSFstqHJ3W-w"
   },
   "source": [
    "![imagem_2022-04-08_080935581.png](data:image/png;base64,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)"
   ]
  },
  {
   "cell_type": "markdown",
   "metadata": {
    "id": "D8iwCAAgCMLn"
   },
   "source": [
    "Considering we're using tables, I decided to import them to Pandas and perform the query as it follows:"
   ]
  },
  {
   "cell_type": "code",
   "execution_count": 110,
   "metadata": {
    "id": "6f8a2349"
   },
   "outputs": [],
   "source": [
    "import pandas as pd\n",
    "\n",
    "A = {'ID': ['9991', '9992', '9993', '9994'],\n",
    "        'Name': ['Paul', 'John', 'Ringo', 'George'],\n",
    "         'Born_in': ['Liverpool', 'Liverpool', 'Liverpool', 'Liverpool']\n",
    "        }\n",
    "\n",
    "A = pd.DataFrame(A)\n",
    "\n",
    "B = {'ID': ['9991', '9992', '9993', '9995', '9992'],\n",
    "        'Instrument': ['Vocal', 'Base', 'Drums', 'Guitar', 'Piano'],\n",
    "         'Football_club': ['Liverpool', 'Liverpool', 'Liverpool', 'Arsenal', 'Liverpool']\n",
    "        }\n",
    "\n",
    "B = pd.DataFrame(B)"
   ]
  },
  {
   "cell_type": "code",
   "execution_count": 111,
   "metadata": {
    "colab": {
     "base_uri": "https://localhost:8080/",
     "height": 174
    },
    "id": "J_NP-NjZ4W0G",
    "outputId": "0bb80f07-2023-4953-91d0-44a0b02ad1ca"
   },
   "outputs": [
    {
     "data": {
      "text/html": [
       "\n",
       "  <div id=\"df-740dcee8-da11-472b-87d8-e3a57cb4d08b\">\n",
       "    <div class=\"colab-df-container\">\n",
       "      <div>\n",
       "<style scoped>\n",
       "    .dataframe tbody tr th:only-of-type {\n",
       "        vertical-align: middle;\n",
       "    }\n",
       "\n",
       "    .dataframe tbody tr th {\n",
       "        vertical-align: top;\n",
       "    }\n",
       "\n",
       "    .dataframe thead th {\n",
       "        text-align: right;\n",
       "    }\n",
       "</style>\n",
       "<table border=\"1\" class=\"dataframe\">\n",
       "  <thead>\n",
       "    <tr style=\"text-align: right;\">\n",
       "      <th></th>\n",
       "      <th>ID</th>\n",
       "      <th>Name</th>\n",
       "      <th>Born_in</th>\n",
       "    </tr>\n",
       "  </thead>\n",
       "  <tbody>\n",
       "    <tr>\n",
       "      <th>0</th>\n",
       "      <td>9991</td>\n",
       "      <td>Paul</td>\n",
       "      <td>Liverpool</td>\n",
       "    </tr>\n",
       "    <tr>\n",
       "      <th>1</th>\n",
       "      <td>9992</td>\n",
       "      <td>John</td>\n",
       "      <td>Liverpool</td>\n",
       "    </tr>\n",
       "    <tr>\n",
       "      <th>2</th>\n",
       "      <td>9993</td>\n",
       "      <td>Ringo</td>\n",
       "      <td>Liverpool</td>\n",
       "    </tr>\n",
       "    <tr>\n",
       "      <th>3</th>\n",
       "      <td>9994</td>\n",
       "      <td>George</td>\n",
       "      <td>Liverpool</td>\n",
       "    </tr>\n",
       "  </tbody>\n",
       "</table>\n",
       "</div>\n",
       "      <button class=\"colab-df-convert\" onclick=\"convertToInteractive('df-740dcee8-da11-472b-87d8-e3a57cb4d08b')\"\n",
       "              title=\"Convert this dataframe to an interactive table.\"\n",
       "              style=\"display:none;\">\n",
       "        \n",
       "  <svg xmlns=\"http://www.w3.org/2000/svg\" height=\"24px\"viewBox=\"0 0 24 24\"\n",
       "       width=\"24px\">\n",
       "    <path d=\"M0 0h24v24H0V0z\" fill=\"none\"/>\n",
       "    <path d=\"M18.56 5.44l.94 2.06.94-2.06 2.06-.94-2.06-.94-.94-2.06-.94 2.06-2.06.94zm-11 1L8.5 8.5l.94-2.06 2.06-.94-2.06-.94L8.5 2.5l-.94 2.06-2.06.94zm10 10l.94 2.06.94-2.06 2.06-.94-2.06-.94-.94-2.06-.94 2.06-2.06.94z\"/><path d=\"M17.41 7.96l-1.37-1.37c-.4-.4-.92-.59-1.43-.59-.52 0-1.04.2-1.43.59L10.3 9.45l-7.72 7.72c-.78.78-.78 2.05 0 2.83L4 21.41c.39.39.9.59 1.41.59.51 0 1.02-.2 1.41-.59l7.78-7.78 2.81-2.81c.8-.78.8-2.07 0-2.86zM5.41 20L4 18.59l7.72-7.72 1.47 1.35L5.41 20z\"/>\n",
       "  </svg>\n",
       "      </button>\n",
       "      \n",
       "  <style>\n",
       "    .colab-df-container {\n",
       "      display:flex;\n",
       "      flex-wrap:wrap;\n",
       "      gap: 12px;\n",
       "    }\n",
       "\n",
       "    .colab-df-convert {\n",
       "      background-color: #E8F0FE;\n",
       "      border: none;\n",
       "      border-radius: 50%;\n",
       "      cursor: pointer;\n",
       "      display: none;\n",
       "      fill: #1967D2;\n",
       "      height: 32px;\n",
       "      padding: 0 0 0 0;\n",
       "      width: 32px;\n",
       "    }\n",
       "\n",
       "    .colab-df-convert:hover {\n",
       "      background-color: #E2EBFA;\n",
       "      box-shadow: 0px 1px 2px rgba(60, 64, 67, 0.3), 0px 1px 3px 1px rgba(60, 64, 67, 0.15);\n",
       "      fill: #174EA6;\n",
       "    }\n",
       "\n",
       "    [theme=dark] .colab-df-convert {\n",
       "      background-color: #3B4455;\n",
       "      fill: #D2E3FC;\n",
       "    }\n",
       "\n",
       "    [theme=dark] .colab-df-convert:hover {\n",
       "      background-color: #434B5C;\n",
       "      box-shadow: 0px 1px 3px 1px rgba(0, 0, 0, 0.15);\n",
       "      filter: drop-shadow(0px 1px 2px rgba(0, 0, 0, 0.3));\n",
       "      fill: #FFFFFF;\n",
       "    }\n",
       "  </style>\n",
       "\n",
       "      <script>\n",
       "        const buttonEl =\n",
       "          document.querySelector('#df-740dcee8-da11-472b-87d8-e3a57cb4d08b button.colab-df-convert');\n",
       "        buttonEl.style.display =\n",
       "          google.colab.kernel.accessAllowed ? 'block' : 'none';\n",
       "\n",
       "        async function convertToInteractive(key) {\n",
       "          const element = document.querySelector('#df-740dcee8-da11-472b-87d8-e3a57cb4d08b');\n",
       "          const dataTable =\n",
       "            await google.colab.kernel.invokeFunction('convertToInteractive',\n",
       "                                                     [key], {});\n",
       "          if (!dataTable) return;\n",
       "\n",
       "          const docLinkHtml = 'Like what you see? Visit the ' +\n",
       "            '<a target=\"_blank\" href=https://colab.research.google.com/notebooks/data_table.ipynb>data table notebook</a>'\n",
       "            + ' to learn more about interactive tables.';\n",
       "          element.innerHTML = '';\n",
       "          dataTable['output_type'] = 'display_data';\n",
       "          await google.colab.output.renderOutput(dataTable, element);\n",
       "          const docLink = document.createElement('div');\n",
       "          docLink.innerHTML = docLinkHtml;\n",
       "          element.appendChild(docLink);\n",
       "        }\n",
       "      </script>\n",
       "    </div>\n",
       "  </div>\n",
       "  "
      ],
      "text/plain": [
       "     ID    Name    Born_in\n",
       "0  9991    Paul  Liverpool\n",
       "1  9992    John  Liverpool\n",
       "2  9993   Ringo  Liverpool\n",
       "3  9994  George  Liverpool"
      ]
     },
     "execution_count": 111,
     "metadata": {},
     "output_type": "execute_result"
    }
   ],
   "source": [
    "A"
   ]
  },
  {
   "cell_type": "code",
   "execution_count": 112,
   "metadata": {
    "colab": {
     "base_uri": "https://localhost:8080/",
     "height": 206
    },
    "id": "Ul3zqTle5D6A",
    "outputId": "9e55c627-425b-469f-e058-c0598d8a060d"
   },
   "outputs": [
    {
     "data": {
      "text/html": [
       "\n",
       "  <div id=\"df-40976559-f16d-4896-94eb-359493dc59a9\">\n",
       "    <div class=\"colab-df-container\">\n",
       "      <div>\n",
       "<style scoped>\n",
       "    .dataframe tbody tr th:only-of-type {\n",
       "        vertical-align: middle;\n",
       "    }\n",
       "\n",
       "    .dataframe tbody tr th {\n",
       "        vertical-align: top;\n",
       "    }\n",
       "\n",
       "    .dataframe thead th {\n",
       "        text-align: right;\n",
       "    }\n",
       "</style>\n",
       "<table border=\"1\" class=\"dataframe\">\n",
       "  <thead>\n",
       "    <tr style=\"text-align: right;\">\n",
       "      <th></th>\n",
       "      <th>ID</th>\n",
       "      <th>Instrument</th>\n",
       "      <th>Football_club</th>\n",
       "    </tr>\n",
       "  </thead>\n",
       "  <tbody>\n",
       "    <tr>\n",
       "      <th>0</th>\n",
       "      <td>9991</td>\n",
       "      <td>Vocal</td>\n",
       "      <td>Liverpool</td>\n",
       "    </tr>\n",
       "    <tr>\n",
       "      <th>1</th>\n",
       "      <td>9992</td>\n",
       "      <td>Base</td>\n",
       "      <td>Liverpool</td>\n",
       "    </tr>\n",
       "    <tr>\n",
       "      <th>2</th>\n",
       "      <td>9993</td>\n",
       "      <td>Drums</td>\n",
       "      <td>Liverpool</td>\n",
       "    </tr>\n",
       "    <tr>\n",
       "      <th>3</th>\n",
       "      <td>9995</td>\n",
       "      <td>Guitar</td>\n",
       "      <td>Arsenal</td>\n",
       "    </tr>\n",
       "    <tr>\n",
       "      <th>4</th>\n",
       "      <td>9992</td>\n",
       "      <td>Piano</td>\n",
       "      <td>Liverpool</td>\n",
       "    </tr>\n",
       "  </tbody>\n",
       "</table>\n",
       "</div>\n",
       "      <button class=\"colab-df-convert\" onclick=\"convertToInteractive('df-40976559-f16d-4896-94eb-359493dc59a9')\"\n",
       "              title=\"Convert this dataframe to an interactive table.\"\n",
       "              style=\"display:none;\">\n",
       "        \n",
       "  <svg xmlns=\"http://www.w3.org/2000/svg\" height=\"24px\"viewBox=\"0 0 24 24\"\n",
       "       width=\"24px\">\n",
       "    <path d=\"M0 0h24v24H0V0z\" fill=\"none\"/>\n",
       "    <path d=\"M18.56 5.44l.94 2.06.94-2.06 2.06-.94-2.06-.94-.94-2.06-.94 2.06-2.06.94zm-11 1L8.5 8.5l.94-2.06 2.06-.94-2.06-.94L8.5 2.5l-.94 2.06-2.06.94zm10 10l.94 2.06.94-2.06 2.06-.94-2.06-.94-.94-2.06-.94 2.06-2.06.94z\"/><path d=\"M17.41 7.96l-1.37-1.37c-.4-.4-.92-.59-1.43-.59-.52 0-1.04.2-1.43.59L10.3 9.45l-7.72 7.72c-.78.78-.78 2.05 0 2.83L4 21.41c.39.39.9.59 1.41.59.51 0 1.02-.2 1.41-.59l7.78-7.78 2.81-2.81c.8-.78.8-2.07 0-2.86zM5.41 20L4 18.59l7.72-7.72 1.47 1.35L5.41 20z\"/>\n",
       "  </svg>\n",
       "      </button>\n",
       "      \n",
       "  <style>\n",
       "    .colab-df-container {\n",
       "      display:flex;\n",
       "      flex-wrap:wrap;\n",
       "      gap: 12px;\n",
       "    }\n",
       "\n",
       "    .colab-df-convert {\n",
       "      background-color: #E8F0FE;\n",
       "      border: none;\n",
       "      border-radius: 50%;\n",
       "      cursor: pointer;\n",
       "      display: none;\n",
       "      fill: #1967D2;\n",
       "      height: 32px;\n",
       "      padding: 0 0 0 0;\n",
       "      width: 32px;\n",
       "    }\n",
       "\n",
       "    .colab-df-convert:hover {\n",
       "      background-color: #E2EBFA;\n",
       "      box-shadow: 0px 1px 2px rgba(60, 64, 67, 0.3), 0px 1px 3px 1px rgba(60, 64, 67, 0.15);\n",
       "      fill: #174EA6;\n",
       "    }\n",
       "\n",
       "    [theme=dark] .colab-df-convert {\n",
       "      background-color: #3B4455;\n",
       "      fill: #D2E3FC;\n",
       "    }\n",
       "\n",
       "    [theme=dark] .colab-df-convert:hover {\n",
       "      background-color: #434B5C;\n",
       "      box-shadow: 0px 1px 3px 1px rgba(0, 0, 0, 0.15);\n",
       "      filter: drop-shadow(0px 1px 2px rgba(0, 0, 0, 0.3));\n",
       "      fill: #FFFFFF;\n",
       "    }\n",
       "  </style>\n",
       "\n",
       "      <script>\n",
       "        const buttonEl =\n",
       "          document.querySelector('#df-40976559-f16d-4896-94eb-359493dc59a9 button.colab-df-convert');\n",
       "        buttonEl.style.display =\n",
       "          google.colab.kernel.accessAllowed ? 'block' : 'none';\n",
       "\n",
       "        async function convertToInteractive(key) {\n",
       "          const element = document.querySelector('#df-40976559-f16d-4896-94eb-359493dc59a9');\n",
       "          const dataTable =\n",
       "            await google.colab.kernel.invokeFunction('convertToInteractive',\n",
       "                                                     [key], {});\n",
       "          if (!dataTable) return;\n",
       "\n",
       "          const docLinkHtml = 'Like what you see? Visit the ' +\n",
       "            '<a target=\"_blank\" href=https://colab.research.google.com/notebooks/data_table.ipynb>data table notebook</a>'\n",
       "            + ' to learn more about interactive tables.';\n",
       "          element.innerHTML = '';\n",
       "          dataTable['output_type'] = 'display_data';\n",
       "          await google.colab.output.renderOutput(dataTable, element);\n",
       "          const docLink = document.createElement('div');\n",
       "          docLink.innerHTML = docLinkHtml;\n",
       "          element.appendChild(docLink);\n",
       "        }\n",
       "      </script>\n",
       "    </div>\n",
       "  </div>\n",
       "  "
      ],
      "text/plain": [
       "     ID Instrument Football_club\n",
       "0  9991      Vocal     Liverpool\n",
       "1  9992       Base     Liverpool\n",
       "2  9993      Drums     Liverpool\n",
       "3  9995     Guitar       Arsenal\n",
       "4  9992      Piano     Liverpool"
      ]
     },
     "execution_count": 112,
     "metadata": {},
     "output_type": "execute_result"
    }
   ],
   "source": [
    "B"
   ]
  },
  {
   "cell_type": "code",
   "execution_count": 113,
   "metadata": {
    "colab": {
     "base_uri": "https://localhost:8080/",
     "height": 174
    },
    "id": "Sdyg23GU5WGq",
    "outputId": "052bb730-2f9a-44d9-ff3d-ccf1802ee394"
   },
   "outputs": [
    {
     "data": {
      "text/html": [
       "\n",
       "  <div id=\"df-3a91de20-4b2d-4798-9776-bc242e1c8890\">\n",
       "    <div class=\"colab-df-container\">\n",
       "      <div>\n",
       "<style scoped>\n",
       "    .dataframe tbody tr th:only-of-type {\n",
       "        vertical-align: middle;\n",
       "    }\n",
       "\n",
       "    .dataframe tbody tr th {\n",
       "        vertical-align: top;\n",
       "    }\n",
       "\n",
       "    .dataframe thead th {\n",
       "        text-align: right;\n",
       "    }\n",
       "</style>\n",
       "<table border=\"1\" class=\"dataframe\">\n",
       "  <thead>\n",
       "    <tr style=\"text-align: right;\">\n",
       "      <th></th>\n",
       "      <th>ID</th>\n",
       "      <th>Name</th>\n",
       "      <th>Born_in</th>\n",
       "    </tr>\n",
       "  </thead>\n",
       "  <tbody>\n",
       "    <tr>\n",
       "      <th>0</th>\n",
       "      <td>9991</td>\n",
       "      <td>Paul</td>\n",
       "      <td>Liverpool</td>\n",
       "    </tr>\n",
       "    <tr>\n",
       "      <th>1</th>\n",
       "      <td>9992</td>\n",
       "      <td>John</td>\n",
       "      <td>Liverpool</td>\n",
       "    </tr>\n",
       "    <tr>\n",
       "      <th>2</th>\n",
       "      <td>9993</td>\n",
       "      <td>Ringo</td>\n",
       "      <td>Liverpool</td>\n",
       "    </tr>\n",
       "    <tr>\n",
       "      <th>3</th>\n",
       "      <td>9994</td>\n",
       "      <td>George</td>\n",
       "      <td>Liverpool</td>\n",
       "    </tr>\n",
       "  </tbody>\n",
       "</table>\n",
       "</div>\n",
       "      <button class=\"colab-df-convert\" onclick=\"convertToInteractive('df-3a91de20-4b2d-4798-9776-bc242e1c8890')\"\n",
       "              title=\"Convert this dataframe to an interactive table.\"\n",
       "              style=\"display:none;\">\n",
       "        \n",
       "  <svg xmlns=\"http://www.w3.org/2000/svg\" height=\"24px\"viewBox=\"0 0 24 24\"\n",
       "       width=\"24px\">\n",
       "    <path d=\"M0 0h24v24H0V0z\" fill=\"none\"/>\n",
       "    <path d=\"M18.56 5.44l.94 2.06.94-2.06 2.06-.94-2.06-.94-.94-2.06-.94 2.06-2.06.94zm-11 1L8.5 8.5l.94-2.06 2.06-.94-2.06-.94L8.5 2.5l-.94 2.06-2.06.94zm10 10l.94 2.06.94-2.06 2.06-.94-2.06-.94-.94-2.06-.94 2.06-2.06.94z\"/><path d=\"M17.41 7.96l-1.37-1.37c-.4-.4-.92-.59-1.43-.59-.52 0-1.04.2-1.43.59L10.3 9.45l-7.72 7.72c-.78.78-.78 2.05 0 2.83L4 21.41c.39.39.9.59 1.41.59.51 0 1.02-.2 1.41-.59l7.78-7.78 2.81-2.81c.8-.78.8-2.07 0-2.86zM5.41 20L4 18.59l7.72-7.72 1.47 1.35L5.41 20z\"/>\n",
       "  </svg>\n",
       "      </button>\n",
       "      \n",
       "  <style>\n",
       "    .colab-df-container {\n",
       "      display:flex;\n",
       "      flex-wrap:wrap;\n",
       "      gap: 12px;\n",
       "    }\n",
       "\n",
       "    .colab-df-convert {\n",
       "      background-color: #E8F0FE;\n",
       "      border: none;\n",
       "      border-radius: 50%;\n",
       "      cursor: pointer;\n",
       "      display: none;\n",
       "      fill: #1967D2;\n",
       "      height: 32px;\n",
       "      padding: 0 0 0 0;\n",
       "      width: 32px;\n",
       "    }\n",
       "\n",
       "    .colab-df-convert:hover {\n",
       "      background-color: #E2EBFA;\n",
       "      box-shadow: 0px 1px 2px rgba(60, 64, 67, 0.3), 0px 1px 3px 1px rgba(60, 64, 67, 0.15);\n",
       "      fill: #174EA6;\n",
       "    }\n",
       "\n",
       "    [theme=dark] .colab-df-convert {\n",
       "      background-color: #3B4455;\n",
       "      fill: #D2E3FC;\n",
       "    }\n",
       "\n",
       "    [theme=dark] .colab-df-convert:hover {\n",
       "      background-color: #434B5C;\n",
       "      box-shadow: 0px 1px 3px 1px rgba(0, 0, 0, 0.15);\n",
       "      filter: drop-shadow(0px 1px 2px rgba(0, 0, 0, 0.3));\n",
       "      fill: #FFFFFF;\n",
       "    }\n",
       "  </style>\n",
       "\n",
       "      <script>\n",
       "        const buttonEl =\n",
       "          document.querySelector('#df-3a91de20-4b2d-4798-9776-bc242e1c8890 button.colab-df-convert');\n",
       "        buttonEl.style.display =\n",
       "          google.colab.kernel.accessAllowed ? 'block' : 'none';\n",
       "\n",
       "        async function convertToInteractive(key) {\n",
       "          const element = document.querySelector('#df-3a91de20-4b2d-4798-9776-bc242e1c8890');\n",
       "          const dataTable =\n",
       "            await google.colab.kernel.invokeFunction('convertToInteractive',\n",
       "                                                     [key], {});\n",
       "          if (!dataTable) return;\n",
       "\n",
       "          const docLinkHtml = 'Like what you see? Visit the ' +\n",
       "            '<a target=\"_blank\" href=https://colab.research.google.com/notebooks/data_table.ipynb>data table notebook</a>'\n",
       "            + ' to learn more about interactive tables.';\n",
       "          element.innerHTML = '';\n",
       "          dataTable['output_type'] = 'display_data';\n",
       "          await google.colab.output.renderOutput(dataTable, element);\n",
       "          const docLink = document.createElement('div');\n",
       "          docLink.innerHTML = docLinkHtml;\n",
       "          element.appendChild(docLink);\n",
       "        }\n",
       "      </script>\n",
       "    </div>\n",
       "  </div>\n",
       "  "
      ],
      "text/plain": [
       "     ID    Name    Born_in\n",
       "0  9991    Paul  Liverpool\n",
       "1  9992    John  Liverpool\n",
       "2  9993   Ringo  Liverpool\n",
       "3  9994  George  Liverpool"
      ]
     },
     "execution_count": 113,
     "metadata": {},
     "output_type": "execute_result"
    }
   ],
   "source": [
    "A[['ID', 'Name', 'Born_in']]"
   ]
  },
  {
   "cell_type": "code",
   "execution_count": 114,
   "metadata": {
    "colab": {
     "base_uri": "https://localhost:8080/",
     "height": 206
    },
    "id": "I2xAHkBX7ksY",
    "outputId": "349b6134-3cdc-41f2-827d-6c317d76e718"
   },
   "outputs": [
    {
     "data": {
      "text/html": [
       "\n",
       "  <div id=\"df-65f6acaf-c555-4a13-8013-4701c29192ba\">\n",
       "    <div class=\"colab-df-container\">\n",
       "      <div>\n",
       "<style scoped>\n",
       "    .dataframe tbody tr th:only-of-type {\n",
       "        vertical-align: middle;\n",
       "    }\n",
       "\n",
       "    .dataframe tbody tr th {\n",
       "        vertical-align: top;\n",
       "    }\n",
       "\n",
       "    .dataframe thead th {\n",
       "        text-align: right;\n",
       "    }\n",
       "</style>\n",
       "<table border=\"1\" class=\"dataframe\">\n",
       "  <thead>\n",
       "    <tr style=\"text-align: right;\">\n",
       "      <th></th>\n",
       "      <th>Instrument</th>\n",
       "      <th>Football_club</th>\n",
       "    </tr>\n",
       "  </thead>\n",
       "  <tbody>\n",
       "    <tr>\n",
       "      <th>0</th>\n",
       "      <td>Vocal</td>\n",
       "      <td>Liverpool</td>\n",
       "    </tr>\n",
       "    <tr>\n",
       "      <th>1</th>\n",
       "      <td>Base</td>\n",
       "      <td>Liverpool</td>\n",
       "    </tr>\n",
       "    <tr>\n",
       "      <th>2</th>\n",
       "      <td>Drums</td>\n",
       "      <td>Liverpool</td>\n",
       "    </tr>\n",
       "    <tr>\n",
       "      <th>3</th>\n",
       "      <td>Guitar</td>\n",
       "      <td>Arsenal</td>\n",
       "    </tr>\n",
       "    <tr>\n",
       "      <th>4</th>\n",
       "      <td>Piano</td>\n",
       "      <td>Liverpool</td>\n",
       "    </tr>\n",
       "  </tbody>\n",
       "</table>\n",
       "</div>\n",
       "      <button class=\"colab-df-convert\" onclick=\"convertToInteractive('df-65f6acaf-c555-4a13-8013-4701c29192ba')\"\n",
       "              title=\"Convert this dataframe to an interactive table.\"\n",
       "              style=\"display:none;\">\n",
       "        \n",
       "  <svg xmlns=\"http://www.w3.org/2000/svg\" height=\"24px\"viewBox=\"0 0 24 24\"\n",
       "       width=\"24px\">\n",
       "    <path d=\"M0 0h24v24H0V0z\" fill=\"none\"/>\n",
       "    <path d=\"M18.56 5.44l.94 2.06.94-2.06 2.06-.94-2.06-.94-.94-2.06-.94 2.06-2.06.94zm-11 1L8.5 8.5l.94-2.06 2.06-.94-2.06-.94L8.5 2.5l-.94 2.06-2.06.94zm10 10l.94 2.06.94-2.06 2.06-.94-2.06-.94-.94-2.06-.94 2.06-2.06.94z\"/><path d=\"M17.41 7.96l-1.37-1.37c-.4-.4-.92-.59-1.43-.59-.52 0-1.04.2-1.43.59L10.3 9.45l-7.72 7.72c-.78.78-.78 2.05 0 2.83L4 21.41c.39.39.9.59 1.41.59.51 0 1.02-.2 1.41-.59l7.78-7.78 2.81-2.81c.8-.78.8-2.07 0-2.86zM5.41 20L4 18.59l7.72-7.72 1.47 1.35L5.41 20z\"/>\n",
       "  </svg>\n",
       "      </button>\n",
       "      \n",
       "  <style>\n",
       "    .colab-df-container {\n",
       "      display:flex;\n",
       "      flex-wrap:wrap;\n",
       "      gap: 12px;\n",
       "    }\n",
       "\n",
       "    .colab-df-convert {\n",
       "      background-color: #E8F0FE;\n",
       "      border: none;\n",
       "      border-radius: 50%;\n",
       "      cursor: pointer;\n",
       "      display: none;\n",
       "      fill: #1967D2;\n",
       "      height: 32px;\n",
       "      padding: 0 0 0 0;\n",
       "      width: 32px;\n",
       "    }\n",
       "\n",
       "    .colab-df-convert:hover {\n",
       "      background-color: #E2EBFA;\n",
       "      box-shadow: 0px 1px 2px rgba(60, 64, 67, 0.3), 0px 1px 3px 1px rgba(60, 64, 67, 0.15);\n",
       "      fill: #174EA6;\n",
       "    }\n",
       "\n",
       "    [theme=dark] .colab-df-convert {\n",
       "      background-color: #3B4455;\n",
       "      fill: #D2E3FC;\n",
       "    }\n",
       "\n",
       "    [theme=dark] .colab-df-convert:hover {\n",
       "      background-color: #434B5C;\n",
       "      box-shadow: 0px 1px 3px 1px rgba(0, 0, 0, 0.15);\n",
       "      filter: drop-shadow(0px 1px 2px rgba(0, 0, 0, 0.3));\n",
       "      fill: #FFFFFF;\n",
       "    }\n",
       "  </style>\n",
       "\n",
       "      <script>\n",
       "        const buttonEl =\n",
       "          document.querySelector('#df-65f6acaf-c555-4a13-8013-4701c29192ba button.colab-df-convert');\n",
       "        buttonEl.style.display =\n",
       "          google.colab.kernel.accessAllowed ? 'block' : 'none';\n",
       "\n",
       "        async function convertToInteractive(key) {\n",
       "          const element = document.querySelector('#df-65f6acaf-c555-4a13-8013-4701c29192ba');\n",
       "          const dataTable =\n",
       "            await google.colab.kernel.invokeFunction('convertToInteractive',\n",
       "                                                     [key], {});\n",
       "          if (!dataTable) return;\n",
       "\n",
       "          const docLinkHtml = 'Like what you see? Visit the ' +\n",
       "            '<a target=\"_blank\" href=https://colab.research.google.com/notebooks/data_table.ipynb>data table notebook</a>'\n",
       "            + ' to learn more about interactive tables.';\n",
       "          element.innerHTML = '';\n",
       "          dataTable['output_type'] = 'display_data';\n",
       "          await google.colab.output.renderOutput(dataTable, element);\n",
       "          const docLink = document.createElement('div');\n",
       "          docLink.innerHTML = docLinkHtml;\n",
       "          element.appendChild(docLink);\n",
       "        }\n",
       "      </script>\n",
       "    </div>\n",
       "  </div>\n",
       "  "
      ],
      "text/plain": [
       "  Instrument Football_club\n",
       "0      Vocal     Liverpool\n",
       "1       Base     Liverpool\n",
       "2      Drums     Liverpool\n",
       "3     Guitar       Arsenal\n",
       "4      Piano     Liverpool"
      ]
     },
     "execution_count": 114,
     "metadata": {},
     "output_type": "execute_result"
    }
   ],
   "source": [
    "B[['Instrument', 'Football_club']]"
   ]
  },
  {
   "cell_type": "code",
   "execution_count": 115,
   "metadata": {
    "id": "Vf7VmcYk6xJJ"
   },
   "outputs": [],
   "source": [
    "Merge = pd.merge(A[['ID', 'Name', 'Born_in']], B[['ID', 'Instrument', 'Football_club']], on = \"ID\", how = \"left\")"
   ]
  },
  {
   "cell_type": "code",
   "execution_count": 116,
   "metadata": {
    "colab": {
     "base_uri": "https://localhost:8080/",
     "height": 206
    },
    "id": "A4nyQb5J6_Eb",
    "outputId": "954902a3-ccf4-4704-a4d3-92f51c94f5a5"
   },
   "outputs": [
    {
     "data": {
      "text/html": [
       "\n",
       "  <div id=\"df-cad0658d-fd17-43f3-a52e-04b8fd78bd23\">\n",
       "    <div class=\"colab-df-container\">\n",
       "      <div>\n",
       "<style scoped>\n",
       "    .dataframe tbody tr th:only-of-type {\n",
       "        vertical-align: middle;\n",
       "    }\n",
       "\n",
       "    .dataframe tbody tr th {\n",
       "        vertical-align: top;\n",
       "    }\n",
       "\n",
       "    .dataframe thead th {\n",
       "        text-align: right;\n",
       "    }\n",
       "</style>\n",
       "<table border=\"1\" class=\"dataframe\">\n",
       "  <thead>\n",
       "    <tr style=\"text-align: right;\">\n",
       "      <th></th>\n",
       "      <th>ID</th>\n",
       "      <th>Name</th>\n",
       "      <th>Born_in</th>\n",
       "      <th>Instrument</th>\n",
       "      <th>Football_club</th>\n",
       "    </tr>\n",
       "  </thead>\n",
       "  <tbody>\n",
       "    <tr>\n",
       "      <th>0</th>\n",
       "      <td>9991</td>\n",
       "      <td>Paul</td>\n",
       "      <td>Liverpool</td>\n",
       "      <td>Vocal</td>\n",
       "      <td>Liverpool</td>\n",
       "    </tr>\n",
       "    <tr>\n",
       "      <th>1</th>\n",
       "      <td>9992</td>\n",
       "      <td>John</td>\n",
       "      <td>Liverpool</td>\n",
       "      <td>Base</td>\n",
       "      <td>Liverpool</td>\n",
       "    </tr>\n",
       "    <tr>\n",
       "      <th>2</th>\n",
       "      <td>9992</td>\n",
       "      <td>John</td>\n",
       "      <td>Liverpool</td>\n",
       "      <td>Piano</td>\n",
       "      <td>Liverpool</td>\n",
       "    </tr>\n",
       "    <tr>\n",
       "      <th>3</th>\n",
       "      <td>9993</td>\n",
       "      <td>Ringo</td>\n",
       "      <td>Liverpool</td>\n",
       "      <td>Drums</td>\n",
       "      <td>Liverpool</td>\n",
       "    </tr>\n",
       "    <tr>\n",
       "      <th>4</th>\n",
       "      <td>9994</td>\n",
       "      <td>George</td>\n",
       "      <td>Liverpool</td>\n",
       "      <td>NaN</td>\n",
       "      <td>NaN</td>\n",
       "    </tr>\n",
       "  </tbody>\n",
       "</table>\n",
       "</div>\n",
       "      <button class=\"colab-df-convert\" onclick=\"convertToInteractive('df-cad0658d-fd17-43f3-a52e-04b8fd78bd23')\"\n",
       "              title=\"Convert this dataframe to an interactive table.\"\n",
       "              style=\"display:none;\">\n",
       "        \n",
       "  <svg xmlns=\"http://www.w3.org/2000/svg\" height=\"24px\"viewBox=\"0 0 24 24\"\n",
       "       width=\"24px\">\n",
       "    <path d=\"M0 0h24v24H0V0z\" fill=\"none\"/>\n",
       "    <path d=\"M18.56 5.44l.94 2.06.94-2.06 2.06-.94-2.06-.94-.94-2.06-.94 2.06-2.06.94zm-11 1L8.5 8.5l.94-2.06 2.06-.94-2.06-.94L8.5 2.5l-.94 2.06-2.06.94zm10 10l.94 2.06.94-2.06 2.06-.94-2.06-.94-.94-2.06-.94 2.06-2.06.94z\"/><path d=\"M17.41 7.96l-1.37-1.37c-.4-.4-.92-.59-1.43-.59-.52 0-1.04.2-1.43.59L10.3 9.45l-7.72 7.72c-.78.78-.78 2.05 0 2.83L4 21.41c.39.39.9.59 1.41.59.51 0 1.02-.2 1.41-.59l7.78-7.78 2.81-2.81c.8-.78.8-2.07 0-2.86zM5.41 20L4 18.59l7.72-7.72 1.47 1.35L5.41 20z\"/>\n",
       "  </svg>\n",
       "      </button>\n",
       "      \n",
       "  <style>\n",
       "    .colab-df-container {\n",
       "      display:flex;\n",
       "      flex-wrap:wrap;\n",
       "      gap: 12px;\n",
       "    }\n",
       "\n",
       "    .colab-df-convert {\n",
       "      background-color: #E8F0FE;\n",
       "      border: none;\n",
       "      border-radius: 50%;\n",
       "      cursor: pointer;\n",
       "      display: none;\n",
       "      fill: #1967D2;\n",
       "      height: 32px;\n",
       "      padding: 0 0 0 0;\n",
       "      width: 32px;\n",
       "    }\n",
       "\n",
       "    .colab-df-convert:hover {\n",
       "      background-color: #E2EBFA;\n",
       "      box-shadow: 0px 1px 2px rgba(60, 64, 67, 0.3), 0px 1px 3px 1px rgba(60, 64, 67, 0.15);\n",
       "      fill: #174EA6;\n",
       "    }\n",
       "\n",
       "    [theme=dark] .colab-df-convert {\n",
       "      background-color: #3B4455;\n",
       "      fill: #D2E3FC;\n",
       "    }\n",
       "\n",
       "    [theme=dark] .colab-df-convert:hover {\n",
       "      background-color: #434B5C;\n",
       "      box-shadow: 0px 1px 3px 1px rgba(0, 0, 0, 0.15);\n",
       "      filter: drop-shadow(0px 1px 2px rgba(0, 0, 0, 0.3));\n",
       "      fill: #FFFFFF;\n",
       "    }\n",
       "  </style>\n",
       "\n",
       "      <script>\n",
       "        const buttonEl =\n",
       "          document.querySelector('#df-cad0658d-fd17-43f3-a52e-04b8fd78bd23 button.colab-df-convert');\n",
       "        buttonEl.style.display =\n",
       "          google.colab.kernel.accessAllowed ? 'block' : 'none';\n",
       "\n",
       "        async function convertToInteractive(key) {\n",
       "          const element = document.querySelector('#df-cad0658d-fd17-43f3-a52e-04b8fd78bd23');\n",
       "          const dataTable =\n",
       "            await google.colab.kernel.invokeFunction('convertToInteractive',\n",
       "                                                     [key], {});\n",
       "          if (!dataTable) return;\n",
       "\n",
       "          const docLinkHtml = 'Like what you see? Visit the ' +\n",
       "            '<a target=\"_blank\" href=https://colab.research.google.com/notebooks/data_table.ipynb>data table notebook</a>'\n",
       "            + ' to learn more about interactive tables.';\n",
       "          element.innerHTML = '';\n",
       "          dataTable['output_type'] = 'display_data';\n",
       "          await google.colab.output.renderOutput(dataTable, element);\n",
       "          const docLink = document.createElement('div');\n",
       "          docLink.innerHTML = docLinkHtml;\n",
       "          element.appendChild(docLink);\n",
       "        }\n",
       "      </script>\n",
       "    </div>\n",
       "  </div>\n",
       "  "
      ],
      "text/plain": [
       "     ID    Name    Born_in Instrument Football_club\n",
       "0  9991    Paul  Liverpool      Vocal     Liverpool\n",
       "1  9992    John  Liverpool       Base     Liverpool\n",
       "2  9992    John  Liverpool      Piano     Liverpool\n",
       "3  9993   Ringo  Liverpool      Drums     Liverpool\n",
       "4  9994  George  Liverpool        NaN           NaN"
      ]
     },
     "execution_count": 116,
     "metadata": {},
     "output_type": "execute_result"
    }
   ],
   "source": [
    "Merge"
   ]
  }
 ],
 "metadata": {
  "colab": {
   "collapsed_sections": [
    "e2d41030",
    "1f85c6f4"
   ],
   "name": "Interview Questions.ipynb",
   "provenance": []
  },
  "hide_input": false,
  "kernelspec": {
   "display_name": "Python 3",
   "language": "python",
   "name": "python3"
  },
  "language_info": {
   "codemirror_mode": {
    "name": "ipython",
    "version": 3
   },
   "file_extension": ".py",
   "mimetype": "text/x-python",
   "name": "python",
   "nbconvert_exporter": "python",
   "pygments_lexer": "ipython3",
   "version": "3.8.3"
  },
  "latex_envs": {
   "LaTeX_envs_menu_present": true,
   "autoclose": false,
   "autocomplete": true,
   "bibliofile": "biblio.bib",
   "cite_by": "apalike",
   "current_citInitial": 1,
   "eqLabelWithNumbers": true,
   "eqNumInitial": 1,
   "hotkeys": {
    "equation": "Ctrl-E",
    "itemize": "Ctrl-I"
   },
   "labels_anchors": false,
   "latex_user_defs": false,
   "report_style_numbering": false,
   "user_envs_cfg": false
  },
  "toc": {
   "base_numbering": 1,
   "nav_menu": {},
   "number_sections": true,
   "sideBar": true,
   "skip_h1_title": false,
   "title_cell": "Table of Contents",
   "title_sidebar": "Contents",
   "toc_cell": false,
   "toc_position": {},
   "toc_section_display": true,
   "toc_window_display": false
  },
  "varInspector": {
   "cols": {
    "lenName": 16,
    "lenType": 16,
    "lenVar": 40
   },
   "kernels_config": {
    "python": {
     "delete_cmd_postfix": "",
     "delete_cmd_prefix": "del ",
     "library": "var_list.py",
     "varRefreshCmd": "print(var_dic_list())"
    },
    "r": {
     "delete_cmd_postfix": ") ",
     "delete_cmd_prefix": "rm(",
     "library": "var_list.r",
     "varRefreshCmd": "cat(var_dic_list()) "
    }
   },
   "types_to_exclude": [
    "module",
    "function",
    "builtin_function_or_method",
    "instance",
    "_Feature"
   ],
   "window_display": false
  }
 },
 "nbformat": 4,
 "nbformat_minor": 5
}
